{
 "cells": [
  {
   "cell_type": "code",
   "execution_count": 1,
   "metadata": {},
   "outputs": [],
   "source": [
    "import pandas as pd\n",
    "import numpy as np\n",
    "import datetime\n",
    "from IPython import display\n",
    "from dateutil.parser import parse\n",
    "\n",
    "from rl4pm_lib.utils_supervised import make_window_features\n",
    "\n",
    "import seaborn as sns\n",
    "\n",
    "from sklearn.model_selection import TimeSeriesSplit\n",
    "from sklearn.ensemble import RandomForestClassifier\n",
    "from sklearn.pipeline import Pipeline\n",
    "from sklearn.ensemble import RandomForestClassifier\n",
    "from sklearn.neighbors import KNeighborsClassifier\n",
    "from sklearn.ensemble import RandomForestRegressor\n",
    "from sklearn.model_selection import GridSearchCV\n",
    "from sklearn.linear_model import Ridge\n",
    "\n",
    "from sklearn.model_selection import GridSearchCV\n",
    "from sklearn.model_selection import cross_validate\n",
    "\n",
    "from sklearn.metrics import f1_score\n",
    "from sklearn.metrics import confusion_matrix\n",
    "from sklearn.metrics import mean_absolute_error as MAE\n",
    "from sklearn.metrics import accuracy_score\n",
    "from sklearn.metrics import confusion_matrix\n",
    "\n",
    "import xgboost as xgb\n",
    "\n",
    "import matplotlib.pyplot as plt"
   ]
  },
  {
   "cell_type": "code",
   "execution_count": 2,
   "metadata": {},
   "outputs": [],
   "source": [
    "test_df = pd.read_csv('datasets/test_df_nr.csv')\n",
    "test_df['timestamp'] = test_df['timestamp'].apply(lambda x: parse(x))\n",
    "test_df['trace_id'] = test_df['trace_id'].apply(lambda x: int(x))\n",
    "\n",
    "train_df = pd.read_csv('datasets/train_df_nr.csv')\n",
    "train_df['timestamp'] = train_df['timestamp'].apply(lambda x: parse(x))\n",
    "train_df['trace+id'] = train_df['trace_id'].apply(lambda x: int(x))"
   ]
  },
  {
   "cell_type": "markdown",
   "metadata": {},
   "source": [
    "## Proprocessing:\n",
    "### 1. Make features\n",
    "For leveraging predictive models the following features are created:\n",
    "- $t_e$ - time since previous event\n",
    "- $t_w$ - time since the beginning of week\n",
    "- $t_t$ - time since the beginning of trace\n",
    "- one hot encoded labels\n",
    "\n",
    "### 2. Make window with lags\n",
    "\n",
    "### 3. Scale it"
   ]
  },
  {
   "cell_type": "code",
   "execution_count": 3,
   "metadata": {},
   "outputs": [],
   "source": [
    "import rl4pm_lib.preprocessing as preprocessing\n",
    "# make features\n",
    "column_feature = {'tt': 0, 'te': 1, 'tw': 2}\n",
    "prepro = preprocessing.DfPreprocesser()\n",
    "prepro.fit(train_df)\n",
    "train_df_pr = prepro.transform(train_df)\n",
    "test_df_pr = prepro.transform(test_df)"
   ]
  },
  {
   "cell_type": "code",
   "execution_count": 4,
   "metadata": {},
   "outputs": [],
   "source": [
    "if 'trace+id' in train_df_pr.columns:\n",
    "    train_df_pr.drop(columns=['trace+id'], inplace=True)\n",
    "\n",
    "if 'trace+id' in test_df_pr.columns:\n",
    "    test_df_pr.drop(columns=['trace+id'], inplace=True)"
   ]
  },
  {
   "cell_type": "code",
   "execution_count": 5,
   "metadata": {},
   "outputs": [],
   "source": [
    "win_len = 2\n",
    "\n",
    "test_df_pr = test_df_pr.rename(columns={i+1: str(i+1) for i in range(6)})\n",
    "train_df_pr = train_df_pr.rename(columns={i+1: str(i+1) for i in range(6)})\n",
    "\n",
    "test_df_pr_win, test_labels, test_tes = make_window_features(train_df_pr, win_len)\n",
    "\n",
    "train_df_pr_win, train_labels, train_tes = make_window_features(train_df_pr, win_len)"
   ]
  },
  {
   "cell_type": "markdown",
   "metadata": {},
   "source": [
    "The data above can be just writed to disk so it is fixed"
   ]
  },
  {
   "cell_type": "code",
   "execution_count": 6,
   "metadata": {},
   "outputs": [],
   "source": [
    "to_write_win_test = test_df_pr_win\n",
    "to_write_win_test['labels'] = test_labels\n",
    "to_write_win_test['te_true'] = test_tes\n",
    "\n",
    "to_write_win_train = train_df_pr_win\n",
    "to_write_win_train['labels'] = train_labels\n",
    "to_write_win_train['te_true'] = train_tes\n",
    "\n",
    "to_write_win_test.to_csv(f'datasets/test_features_win_{win_len}_nr.csv', index=False)\n",
    "to_write_win_train.to_csv(f'datasets/train_features_win_{win_len}_nr.csv', index=False)"
   ]
  },
  {
   "cell_type": "code",
   "execution_count": 7,
   "metadata": {},
   "outputs": [],
   "source": [
    "test_df_pr_win = pd.read_csv(f'datasets/test_features_win_{win_len}_nr.csv')\n",
    "train_df_pr_win = pd.read_csv(f'datasets/train_features_win_{win_len}_nr.csv')\n",
    "\n",
    "if 'timestamp' in test_df_pr_win:\n",
    "    test_df_pr_win['timestamp'] = test_df_pr_win['timestamp'].apply(lambda x: parse(x))\n",
    "if 'timestamp' in train_df_pr_win:\n",
    "    train_df_pr_win['timestamp'] = train_df_pr_win['timestamp'].apply(lambda x: parse(x))\n",
    "    \n",
    "test_df_pr_win.sort_values(by=['timestamp'], inplace=True)\n",
    "train_df_pr_win.sort_values(by=['timestamp'], inplace=True)\n",
    "\n",
    "test_labels, test_tes = test_df_pr_win['labels'], test_df_pr_win['te_true']\n",
    "test_df_pr_win = test_df_pr_win.drop(columns=['labels', 'te_true'])\n",
    "\n",
    "train_labels, train_tes = train_df_pr_win['labels'], train_df_pr_win['te_true']\n",
    "train_df_pr_win = train_df_pr_win.drop(columns=['labels', 'te_true'])"
   ]
  },
  {
   "cell_type": "code",
   "execution_count": 8,
   "metadata": {},
   "outputs": [
    {
     "data": {
      "text/plain": [
       "['1', '2', '3', '4', '5', '6']"
      ]
     },
     "execution_count": 8,
     "metadata": {},
     "output_type": "execute_result"
    }
   ],
   "source": [
    "activities = []\n",
    "_d = train_df_pr_win.copy()\n",
    "for _c in _d.columns:\n",
    "    if _c.isdigit():\n",
    "        activities.append(_c)\n",
    "activities"
   ]
  },
  {
   "cell_type": "code",
   "execution_count": 9,
   "metadata": {},
   "outputs": [],
   "source": [
    "if ('timestamp' in train_df_pr_win) and (type(train_df_pr_win['timestamp'].values[0])==str):\n",
    "    train_df_pr_win['timestamp'] = train_df_pr_win['timestamp'].apply(lambda x: parse(x))\n",
    "if ('timestamp' in test_df_pr_win) and (type(test_df_pr_win['timestamp'].values[0])==str):\n",
    "    test_df_pr_win['timestamp'] = test_df_pr_win['timestamp'].apply(lambda x: parse(x))"
   ]
  },
  {
   "cell_type": "markdown",
   "metadata": {},
   "source": [
    "Also must scale continious (time related features)"
   ]
  },
  {
   "cell_type": "code",
   "execution_count": 10,
   "metadata": {},
   "outputs": [
    {
     "data": {
      "text/plain": [
       "((9176, 20), (9176,))"
      ]
     },
     "execution_count": 10,
     "metadata": {},
     "output_type": "execute_result"
    }
   ],
   "source": [
    "train_df_pr_win.shape, train_labels.shape"
   ]
  },
  {
   "cell_type": "code",
   "execution_count": 11,
   "metadata": {},
   "outputs": [],
   "source": [
    "from rl4pm_lib.preprocessing import PaperScalerPd as PaperScaler"
   ]
  },
  {
   "cell_type": "markdown",
   "metadata": {},
   "source": [
    "Let's construct features as moving window"
   ]
  },
  {
   "cell_type": "markdown",
   "metadata": {},
   "source": [
    "Ok, features and targets are ready, let's do `.fit()`, `.predict())))))`\n",
    "\n",
    "What methods will I use? Of course all, which were listed [here](https://github.com/lemikhovalex/DA_CV)"
   ]
  },
  {
   "cell_type": "markdown",
   "metadata": {},
   "source": [
    "## PipeLine"
   ]
  },
  {
   "cell_type": "code",
   "execution_count": 12,
   "metadata": {},
   "outputs": [],
   "source": [
    "pipe = Pipeline([('scaler', PaperScaler(column_feature)),\n",
    "                 ('rfc', RandomForestClassifier(n_estimators=30, max_depth=4, random_state=42, n_jobs=-1))\n",
    "                ])"
   ]
  },
  {
   "cell_type": "code",
   "execution_count": 13,
   "metadata": {},
   "outputs": [
    {
     "data": {
      "text/plain": [
       "Pipeline(steps=[('scaler',\n",
       "                 <rl4pm_lib.preprocessing.PaperScalerPd object at 0x0000024CB712A700>),\n",
       "                ('rfc',\n",
       "                 RandomForestClassifier(max_depth=4, n_estimators=30, n_jobs=-1,\n",
       "                                        random_state=42))])"
      ]
     },
     "execution_count": 13,
     "metadata": {},
     "output_type": "execute_result"
    }
   ],
   "source": [
    "pipe.fit(train_df_pr_win.drop(columns=['timestamp']), train_labels)"
   ]
  },
  {
   "cell_type": "markdown",
   "metadata": {},
   "source": [
    "# Classification\n",
    "## Random Forest Classifier"
   ]
  },
  {
   "cell_type": "code",
   "execution_count": 14,
   "metadata": {},
   "outputs": [],
   "source": [
    "splitter = TimeSeriesSplit(n_splits=7)\n",
    "xs = splitter.split(train_df_pr_win, train_labels)"
   ]
  },
  {
   "cell_type": "code",
   "execution_count": 57,
   "metadata": {},
   "outputs": [
    {
     "name": "stdout",
     "output_type": "stream",
     "text": [
      "Fitting 5 folds for each of 150 candidates, totalling 750 fits\n"
     ]
    },
    {
     "name": "stderr",
     "output_type": "stream",
     "text": [
      "[Parallel(n_jobs=3)]: Using backend LokyBackend with 3 concurrent workers.\n",
      "[Parallel(n_jobs=3)]: Done  44 tasks      | elapsed:   37.4s\n",
      "[Parallel(n_jobs=3)]: Done 194 tasks      | elapsed:  2.8min\n",
      "[Parallel(n_jobs=3)]: Done 444 tasks      | elapsed:  6.5min\n",
      "[Parallel(n_jobs=3)]: Done 750 out of 750 | elapsed: 11.2min finished\n"
     ]
    },
    {
     "name": "stdout",
     "output_type": "stream",
     "text": [
      "Wall time: 11min 18s\n"
     ]
    },
    {
     "data": {
      "text/plain": [
       "GridSearchCV(cv=TimeSeriesSplit(max_train_size=None, n_splits=5),\n",
       "             estimator=Pipeline(steps=[('scaler',\n",
       "                                        <rl4pm_lib.preprocessing.PaperScalerPd object at 0x00000185A37C79A0>),\n",
       "                                       ('rfc',\n",
       "                                        RandomForestClassifier(class_weight='balanced',\n",
       "                                                               random_state=42))]),\n",
       "             n_jobs=3,\n",
       "             param_grid={'rfc__max_depth': array([10, 11, 12, 13, 14, 15, 16, 17, 18, 20]),\n",
       "                         'rfc__n_estimators': array([140, 147, 155, 163, 171, 179, 187, 195, 202, 210, 218, 226, 234,\n",
       "       242, 250])},\n",
       "             scoring='accuracy', verbose=1)"
      ]
     },
     "execution_count": 57,
     "metadata": {},
     "output_type": "execute_result"
    }
   ],
   "source": [
    "%%time\n",
    "param_grid = { \n",
    "    'rfc__n_estimators': np.linspace(140, 250, num=15, dtype=int),\n",
    "    'rfc__max_depth' : np.linspace(10, 20, num=10, dtype=int),\n",
    "}\n",
    "\n",
    "model_gs = Pipeline([('scaler', PaperScaler(column_feature)),\n",
    "                     ('rfc', RandomForestClassifier(random_state=42, class_weight='balanced'))\n",
    "                    ])\n",
    "CV_rfc = GridSearchCV(estimator=model_gs, param_grid=param_grid, scoring='accuracy',\n",
    "                      cv=TimeSeriesSplit(n_splits=5), n_jobs=3, verbose=1)\n",
    "CV_rfc.fit(train_df_pr_win, train_labels)"
   ]
  },
  {
   "cell_type": "code",
   "execution_count": 58,
   "metadata": {},
   "outputs": [
    {
     "data": {
      "text/plain": [
       "{'rfc__max_depth': 18, 'rfc__n_estimators': 226}"
      ]
     },
     "execution_count": 58,
     "metadata": {},
     "output_type": "execute_result"
    }
   ],
   "source": [
    "CV_rfc.best_params_"
   ]
  },
  {
   "cell_type": "code",
   "execution_count": 59,
   "metadata": {},
   "outputs": [],
   "source": [
    "rfc_activ_best = CV_rfc.best_estimator_"
   ]
  },
  {
   "cell_type": "code",
   "execution_count": 18,
   "metadata": {},
   "outputs": [],
   "source": [
    "rfc_activ_best = Pipeline([('scaler', PaperScaler(column_feature)),\n",
    "                            ('rfc', RandomForestClassifier(random_state=42, \n",
    "                                                           max_depth=18,\n",
    "                                                           n_estimators=218\n",
    "                                                          ))\n",
    "                           ])"
   ]
  },
  {
   "cell_type": "code",
   "execution_count": 60,
   "metadata": {},
   "outputs": [],
   "source": [
    "rfc_activ_best = CV_rfc.best_estimator_"
   ]
  },
  {
   "cell_type": "code",
   "execution_count": 61,
   "metadata": {},
   "outputs": [
    {
     "name": "stdout",
     "output_type": "stream",
     "text": [
      "Random Forest Classifier, after grid search\n",
      "test  accuracy =  0.95\n",
      "train accuracy =  0.95\n",
      "test  f1 =  0.95\n",
      "train f1 =  0.95\n",
      "Wall time: 6.11 s\n"
     ]
    }
   ],
   "source": [
    "%%time\n",
    "\n",
    "rfc_activ_best.fit(train_df_pr_win, train_labels)\n",
    "\n",
    "train_labels_hat = rfc_activ_best.predict(train_df_pr_win)\n",
    "test_labels_hat = rfc_activ_best.predict(test_df_pr_win)\n",
    "\n",
    "test_acc_rfc = accuracy_score(test_labels_hat, test_labels)\n",
    "train_acc_rfc = accuracy_score(train_labels_hat, train_labels)\n",
    "\n",
    "print(f'Random Forest Classifier, after grid search')\n",
    "print(f'test  accuracy = {test_acc_rfc: .2f}\\ntrain accuracy = {train_acc_rfc: .2f}')\n",
    "print(f'test  f1 = {f1_score(test_labels, test_labels_hat, average=\"weighted\"): .2f}')\n",
    "print(f'train f1 = {f1_score(train_labels, train_labels_hat, average=\"weighted\"): .2f}')"
   ]
  },
  {
   "cell_type": "code",
   "execution_count": null,
   "metadata": {},
   "outputs": [],
   "source": []
  },
  {
   "cell_type": "code",
   "execution_count": 62,
   "metadata": {},
   "outputs": [
    {
     "data": {
      "image/png": "[encoded data removed]",
      "text/plain": [
       "<Figure size 720x504 with 2 Axes>"
      ]
     },
     "metadata": {
      "needs_background": "light"
     },
     "output_type": "display_data"
    }
   ],
   "source": [
    "\n",
    "cm = confusion_matrix(test_labels, test_labels_hat)\n",
    "cm_prob = cm / np.nan_to_num(cm, 0).sum(axis=1).reshape(-1, 1)\n",
    "\n",
    "df_cm = pd.DataFrame(cm, index = activities,\n",
    "                         columns = activities)\n",
    "plt.figure(figsize = (10,7))\n",
    "sns.heatmap(df_cm, annot=True)\n",
    "plt.title('RFC\\nConfusion matrix')\n",
    "plt.xlabel('predicted')\n",
    "plt.ylabel('true')\n",
    "plt.show()"
   ]
  },
  {
   "cell_type": "code",
   "execution_count": 63,
   "metadata": {},
   "outputs": [
    {
     "data": {
      "image/png": "[encoded data removed]",
      "text/plain": [
       "<Figure size 720x504 with 2 Axes>"
      ]
     },
     "metadata": {
      "needs_background": "light"
     },
     "output_type": "display_data"
    }
   ],
   "source": [
    "\n",
    "cm = confusion_matrix(test_labels, test_labels_hat)\n",
    "cm_prob = cm / np.nan_to_num(cm, 0).sum(axis=1).reshape(-1, 1)\n",
    "\n",
    "df_cm = pd.DataFrame(cm_prob, index = activities,\n",
    "                         columns = activities)\n",
    "plt.figure(figsize = (10,7))\n",
    "sns.heatmap(df_cm, annot=True)\n",
    "plt.title('RFC\\nConfusion matrix as probabilities')\n",
    "plt.xlabel('predicted')\n",
    "plt.ylabel('true')\n",
    "plt.show()"
   ]
  },
  {
   "cell_type": "markdown",
   "metadata": {},
   "source": [
    "Resuls some how are beter then in article on LSTM approach"
   ]
  },
  {
   "cell_type": "markdown",
   "metadata": {},
   "source": [
    "## RFC not balanced"
   ]
  },
  {
   "cell_type": "code",
   "execution_count": 64,
   "metadata": {
    "scrolled": true
   },
   "outputs": [
    {
     "name": "stdout",
     "output_type": "stream",
     "text": [
      "Fitting 5 folds for each of 150 candidates, totalling 750 fits\n"
     ]
    },
    {
     "name": "stderr",
     "output_type": "stream",
     "text": [
      "[Parallel(n_jobs=3)]: Using backend LokyBackend with 3 concurrent workers.\n",
      "[Parallel(n_jobs=3)]: Done  44 tasks      | elapsed:   35.5s\n",
      "[Parallel(n_jobs=3)]: Done 194 tasks      | elapsed:  2.7min\n",
      "[Parallel(n_jobs=3)]: Done 444 tasks      | elapsed:  6.4min\n",
      "[Parallel(n_jobs=3)]: Done 750 out of 750 | elapsed: 11.1min finished\n"
     ]
    },
    {
     "name": "stdout",
     "output_type": "stream",
     "text": [
      "Wall time: 11min 13s\n"
     ]
    },
    {
     "data": {
      "text/plain": [
       "GridSearchCV(cv=TimeSeriesSplit(max_train_size=None, n_splits=5),\n",
       "             estimator=Pipeline(steps=[('scaler',\n",
       "                                        <rl4pm_lib.preprocessing.PaperScalerPd object at 0x00000185A6402670>),\n",
       "                                       ('rfc',\n",
       "                                        RandomForestClassifier(random_state=42))]),\n",
       "             n_jobs=3,\n",
       "             param_grid={'rfc__max_depth': array([10, 11, 12, 13, 14, 15, 16, 17, 18, 20]),\n",
       "                         'rfc__n_estimators': array([140, 147, 155, 163, 171, 179, 187, 195, 202, 210, 218, 226, 234,\n",
       "       242, 250])},\n",
       "             scoring='accuracy', verbose=1)"
      ]
     },
     "execution_count": 64,
     "metadata": {},
     "output_type": "execute_result"
    }
   ],
   "source": [
    "%%time\n",
    "param_grid_rfcb = { \n",
    "    'rfc__n_estimators': np.linspace(140, 250, num=15, dtype=int),\n",
    "    'rfc__max_depth' : np.linspace(10, 20, num=10, dtype=int),\n",
    "}\n",
    "\n",
    "model_gs_rfcnb = Pipeline([('scaler', PaperScaler(column_feature)),\n",
    "                           ('rfc', RandomForestClassifier(random_state=42))\n",
    "                          ])\n",
    "CV_rfcub = GridSearchCV(estimator=model_gs_rfcnb, param_grid=param_grid, scoring='accuracy',\n",
    "                      cv=TimeSeriesSplit(n_splits=5), n_jobs=3, verbose=1)\n",
    "CV_rfcub.fit(train_df_pr_win, train_labels)"
   ]
  },
  {
   "cell_type": "code",
   "execution_count": 65,
   "metadata": {},
   "outputs": [
    {
     "data": {
      "text/plain": [
       "{'rfc__max_depth': 10, 'rfc__n_estimators': 171}"
      ]
     },
     "execution_count": 65,
     "metadata": {},
     "output_type": "execute_result"
    }
   ],
   "source": [
    "CV_rfcub.best_params_"
   ]
  },
  {
   "cell_type": "code",
   "execution_count": 66,
   "metadata": {},
   "outputs": [],
   "source": [
    "rfc_ub_activ_best = CV_rfc.best_estimator_"
   ]
  },
  {
   "cell_type": "code",
   "execution_count": 67,
   "metadata": {},
   "outputs": [
    {
     "name": "stdout",
     "output_type": "stream",
     "text": [
      "Random Forest Classifier, after grid search\n",
      "test  accuracy =  0.95\n",
      "train accuracy =  0.95\n",
      "test  f1 =  0.95\n",
      "train f1 =  0.95\n",
      "Wall time: 6.45 s\n"
     ]
    }
   ],
   "source": [
    "%%time\n",
    "\n",
    "rfc_ub_activ_best.fit(train_df_pr_win, train_labels)\n",
    "\n",
    "train_labels_hat_rfcub = rfc_ub_activ_best.predict(train_df_pr_win)\n",
    "test_labels_hat_rfcub = rfc_ub_activ_best.predict(test_df_pr_win)\n",
    "\n",
    "test_acc_rfcub = accuracy_score(test_labels_hat_rfcub, test_labels)\n",
    "train_acc_rfcub = accuracy_score(train_labels_hat_rfcub, train_labels)\n",
    "\n",
    "print(f'Random Forest Classifier, after grid search')\n",
    "print(f'test  accuracy = {test_acc_rfcub: .2f}\\ntrain accuracy = {train_acc_rfcub: .2f}')\n",
    "print(f'test  f1 = {f1_score(test_labels, test_labels_hat_rfcub, average=\"weighted\"): .2f}')\n",
    "print(f'train f1 = {f1_score(train_labels, train_labels_hat_rfcub, average=\"weighted\"): .2f}')"
   ]
  },
  {
   "cell_type": "code",
   "execution_count": 68,
   "metadata": {},
   "outputs": [
    {
     "data": {
      "image/png": "[encoded data removed]",
      "text/plain": [
       "<Figure size 720x504 with 2 Axes>"
      ]
     },
     "metadata": {
      "needs_background": "light"
     },
     "output_type": "display_data"
    }
   ],
   "source": [
    "\n",
    "cm = confusion_matrix(test_labels, train_labels_hat_rfcub)\n",
    "cm_prob = cm / np.nan_to_num(cm, 0).sum(axis=1).reshape(-1, 1)\n",
    "\n",
    "df_cm = pd.DataFrame(cm, index = activities,\n",
    "                         columns = activities)\n",
    "plt.figure(figsize = (10,7))\n",
    "sns.heatmap(df_cm, annot=True)\n",
    "plt.title('RFC unbalanced\\nConfusion matrix')\n",
    "plt.xlabel('predicted')\n",
    "plt.ylabel('true')\n",
    "plt.show()"
   ]
  },
  {
   "cell_type": "code",
   "execution_count": 69,
   "metadata": {},
   "outputs": [
    {
     "data": {
      "image/png": "[encoded data removed]",
      "text/plain": [
       "<Figure size 720x504 with 2 Axes>"
      ]
     },
     "metadata": {
      "needs_background": "light"
     },
     "output_type": "display_data"
    }
   ],
   "source": [
    "\n",
    "cm = confusion_matrix(test_labels, test_labels_hat)\n",
    "cm_prob = cm / np.nan_to_num(cm, 0).sum(axis=1).reshape(-1, 1)\n",
    "\n",
    "df_cm = pd.DataFrame(cm_prob, index = activities,\n",
    "                         columns = activities)\n",
    "plt.figure(figsize = (10,7))\n",
    "sns.heatmap(df_cm, annot=True)\n",
    "plt.title('RFC unbalanced\\nConfusion matrix as probabilities')\n",
    "plt.xlabel('predicted')\n",
    "plt.ylabel('true')\n",
    "plt.show()"
   ]
  },
  {
   "cell_type": "markdown",
   "metadata": {},
   "source": [
    "## Grad Boost"
   ]
  },
  {
   "cell_type": "code",
   "execution_count": 70,
   "metadata": {
    "scrolled": false
   },
   "outputs": [
    {
     "name": "stdout",
     "output_type": "stream",
     "text": [
      "Fitting 5 folds for each of 525 candidates, totalling 2625 fits\n"
     ]
    },
    {
     "name": "stderr",
     "output_type": "stream",
     "text": [
      "[Parallel(n_jobs=3)]: Using backend LokyBackend with 3 concurrent workers.\n",
      "[Parallel(n_jobs=3)]: Done  44 tasks      | elapsed:   29.9s\n",
      "[Parallel(n_jobs=3)]: Done 194 tasks      | elapsed:  2.2min\n",
      "[Parallel(n_jobs=3)]: Done 444 tasks      | elapsed:  5.0min\n",
      "[Parallel(n_jobs=3)]: Done 794 tasks      | elapsed:  9.0min\n",
      "[Parallel(n_jobs=3)]: Done 1244 tasks      | elapsed: 14.4min\n",
      "[Parallel(n_jobs=3)]: Done 1794 tasks      | elapsed: 20.5min\n",
      "[Parallel(n_jobs=3)]: Done 2444 tasks      | elapsed: 27.7min\n",
      "[Parallel(n_jobs=3)]: Done 2625 out of 2625 | elapsed: 29.7min finished\n"
     ]
    },
    {
     "name": "stdout",
     "output_type": "stream",
     "text": [
      "0.6856769130150425\n",
      "{'xgb__eta': 0.27864285714285714, 'xgb__max_depth': 5, 'xgb__n_estimators': 3}\n",
      "Wall time: 29min 43s\n"
     ]
    }
   ],
   "source": [
    "%%time\n",
    "param = {'objective': 'multi:softprob',  # error evaluation for multiclass training\n",
    "         'num_class': 6,\n",
    "         'tree_method': 'gpu_hist',\n",
    "\n",
    "        }\n",
    "\n",
    "grid_xgb = {'xgb__max_depth': np.linspace(5, 10, num=5, dtype=int),\n",
    "            'xgb__n_estimators': np.linspace(3, 10, num=7, dtype=int),\n",
    "            'xgb__eta': np.linspace(0.001, 0.3, num=15, dtype=float)\n",
    "           }\n",
    "\n",
    "model_gs_xgb = Pipeline([('scaler', PaperScaler(column_feature)),\n",
    "                         ('xgb', xgb.XGBClassifier(**param))\n",
    "                        ])\n",
    "CV_xgb = GridSearchCV(estimator=model_gs_xgb, param_grid=grid_xgb, scoring='accuracy',\n",
    "                      cv=TimeSeriesSplit(n_splits=5), n_jobs=3, verbose=1)\n",
    "CV_xgb.fit(train_df_pr_win, train_labels)\n",
    "\n",
    "print(CV_xgb.best_score_)\n",
    "print(CV_xgb.best_params_)"
   ]
  },
  {
   "cell_type": "code",
   "execution_count": 71,
   "metadata": {},
   "outputs": [],
   "source": [
    "xgb_clf_best = CV_xgb.best_estimator_"
   ]
  },
  {
   "cell_type": "code",
   "execution_count": 72,
   "metadata": {},
   "outputs": [],
   "source": [
    "xgb_clf_best = Pipeline([('scaler', PaperScaler(column_feature)),\n",
    "                         ('xgb', xgb.XGBClassifier(objective='multi:softprob',\n",
    "                                                   num_class=6,\n",
    "                                                   tree_method='gpu_hist',\n",
    "                                                   max_depth=8,\n",
    "                                                   n_estimators=10\n",
    "                                                  )\n",
    "                         )]\n",
    "                       )"
   ]
  },
  {
   "cell_type": "code",
   "execution_count": 73,
   "metadata": {},
   "outputs": [
    {
     "name": "stdout",
     "output_type": "stream",
     "text": [
      "XG boost Classifier\n",
      "test  accuracy =  0.75\n",
      "train accuracy =  0.75\n",
      "test  f1 =  0.74\n",
      "train f1 =  0.74\n"
     ]
    }
   ],
   "source": [
    "xgb_clf_best.fit(train_df_pr_win, train_labels)\n",
    "\n",
    "train_labels_hat = xgb_clf_best.predict(train_df_pr_win)\n",
    "test_labels_hat = xgb_clf_best.predict(test_df_pr_win)\n",
    "\n",
    "test_acc_xgb = accuracy_score(test_labels_hat, test_labels)\n",
    "train_acc_xgb = accuracy_score(train_labels_hat, train_labels)\n",
    "\n",
    "print(f'XG boost Classifier')\n",
    "print(f'test  accuracy = {test_acc_xgb: .2f}\\ntrain accuracy = {train_acc_xgb: .2f}')\n",
    "\n",
    "print(f'test  f1 = {f1_score(test_labels, test_labels_hat, average=\"weighted\"): .2f}')\n",
    "print(f'train f1 = {f1_score(train_labels, train_labels_hat, average=\"weighted\"): .2f}')"
   ]
  },
  {
   "cell_type": "code",
   "execution_count": 74,
   "metadata": {},
   "outputs": [
    {
     "data": {
      "image/png": "[encoded data removed]",
      "text/plain": [
       "<Figure size 720x504 with 2 Axes>"
      ]
     },
     "metadata": {
      "needs_background": "light"
     },
     "output_type": "display_data"
    }
   ],
   "source": [
    "cm = confusion_matrix(test_labels, test_labels_hat)\n",
    "cm_prob = cm / np.nan_to_num(cm, 0).sum(axis=1).reshape(-1, 1)\n",
    "\n",
    "df_cm = pd.DataFrame(cm, index = activities,\n",
    "                         columns = activities)\n",
    "plt.figure(figsize = (10,7))\n",
    "sns.heatmap(df_cm, annot=True)\n",
    "plt.title('XG boost Classifier\\nConfusion matrix XGB')\n",
    "plt.xlabel('predicted')\n",
    "plt.ylabel('true')\n",
    "plt.show()"
   ]
  },
  {
   "cell_type": "code",
   "execution_count": 75,
   "metadata": {},
   "outputs": [
    {
     "data": {
      "image/png": "[encoded data removed]",
      "text/plain": [
       "<Figure size 720x504 with 2 Axes>"
      ]
     },
     "metadata": {
      "needs_background": "light"
     },
     "output_type": "display_data"
    }
   ],
   "source": [
    "cm = confusion_matrix(test_labels, test_labels_hat)\n",
    "cm_prob = cm / np.nan_to_num(cm, 0).sum(axis=1).reshape(-1, 1)\n",
    "\n",
    "df_cm = pd.DataFrame(cm_prob, index = activities,\n",
    "                         columns = activities)\n",
    "plt.figure(figsize = (10,7))\n",
    "sns.heatmap(df_cm, annot=True)\n",
    "plt.title('XG boost Classifier\\nConfusion matrix XGB')\n",
    "plt.xlabel('predicted')\n",
    "plt.ylabel('true')\n",
    "plt.show()"
   ]
  },
  {
   "cell_type": "markdown",
   "metadata": {},
   "source": [
    "## Classification results\n",
    "Classique approaches povides results, which outperforms result, given in article as baseline, but...\n",
    "\n",
    "- As been shown in visualization, there are a lot of loops, model that doesnt consern information on all the trail seems to be useless for end time prediction\n",
    "- Accuracy is what been used for benchmarking in papers. Maybe it is not the best metric? Who knows, nevertheless this is a bench"
   ]
  },
  {
   "cell_type": "markdown",
   "metadata": {},
   "source": [
    "# Regression"
   ]
  },
  {
   "cell_type": "code",
   "execution_count": 76,
   "metadata": {},
   "outputs": [
    {
     "name": "stdout",
     "output_type": "stream",
     "text": [
      "Fitting 5 folds for each of 150 candidates, totalling 750 fits\n"
     ]
    },
    {
     "name": "stderr",
     "output_type": "stream",
     "text": [
      "[Parallel(n_jobs=3)]: Using backend LokyBackend with 3 concurrent workers.\n",
      "[Parallel(n_jobs=3)]: Done  44 tasks      | elapsed:   51.1s\n",
      "[Parallel(n_jobs=3)]: Done 194 tasks      | elapsed:  4.1min\n",
      "[Parallel(n_jobs=3)]: Done 444 tasks      | elapsed:  9.9min\n",
      "[Parallel(n_jobs=3)]: Done 750 out of 750 | elapsed: 17.9min finished\n"
     ]
    },
    {
     "name": "stdout",
     "output_type": "stream",
     "text": [
      "Wall time: 17min 59s\n"
     ]
    },
    {
     "data": {
      "text/plain": [
       "GridSearchCV(cv=TimeSeriesSplit(max_train_size=None, n_splits=5),\n",
       "             estimator=Pipeline(steps=[('scaler',\n",
       "                                        <rl4pm_lib.preprocessing.PaperScalerPd object at 0x00000185AAFC5C40>),\n",
       "                                       ('rfr',\n",
       "                                        RandomForestRegressor(random_state=42))]),\n",
       "             n_jobs=3,\n",
       "             param_grid={'rfr__max_depth': array([10, 11, 12, 13, 14, 15, 16, 17, 18, 20]),\n",
       "                         'rfr__n_estimators': array([140, 147, 155, 163, 171, 179, 187, 195, 202, 210, 218, 226, 234,\n",
       "       242, 250])},\n",
       "             scoring='neg_mean_absolute_error', verbose=1)"
      ]
     },
     "execution_count": 76,
     "metadata": {},
     "output_type": "execute_result"
    }
   ],
   "source": [
    "%%time\n",
    "param_grid_rfr = { \n",
    "    'rfr__n_estimators': np.linspace(140, 250, num=15, dtype=int),\n",
    "    'rfr__max_depth' : np.linspace(10, 20, num=10, dtype=int),\n",
    "}\n",
    "\n",
    "model_gs_reg = Pipeline([('scaler', PaperScaler(column_feature)),\n",
    "                         ('rfr', RandomForestRegressor(random_state=42))\n",
    "                        ])\n",
    "CV_rfr = GridSearchCV(estimator=model_gs_reg, param_grid=param_grid_rfr, scoring='neg_mean_absolute_error',\n",
    "                      cv=TimeSeriesSplit(n_splits=5), n_jobs=-1, verbose=1)\n",
    "CV_rfr.fit(train_df_pr_win, train_tes)"
   ]
  },
  {
   "cell_type": "code",
   "execution_count": 77,
   "metadata": {},
   "outputs": [
    {
     "data": {
      "text/plain": [
       "{'rfr__max_depth': 10, 'rfr__n_estimators': 140}"
      ]
     },
     "execution_count": 77,
     "metadata": {},
     "output_type": "execute_result"
    }
   ],
   "source": [
    "CV_rfr.best_params_"
   ]
  },
  {
   "cell_type": "code",
   "execution_count": 78,
   "metadata": {},
   "outputs": [],
   "source": [
    "rfr =  Pipeline([('scaler', PaperScaler(column_feature)),\n",
    "                 ('rfr', RandomForestRegressor(random_state=42,\n",
    "                                               n_estimators=163,\n",
    "                                               max_depth=10\n",
    "                                              ))\n",
    "                        ])"
   ]
  },
  {
   "cell_type": "code",
   "execution_count": 79,
   "metadata": {},
   "outputs": [
    {
     "name": "stdout",
     "output_type": "stream",
     "text": [
      "Random Forest Regression\n",
      "MAE  accuracy =  4.05, days\n",
      "train MAE =  4.05, days\n"
     ]
    }
   ],
   "source": [
    "rfr = CV_rfr.best_estimator_\n",
    "rfr.fit(train_df_pr_win, train_tes)\n",
    "train_tes_hat_rfr = rfr.predict(train_df_pr_win)\n",
    "test_tes_hat_rfr = rfr.predict(test_df_pr_win)\n",
    "\n",
    "test_mae_xgb = MAE(test_tes_hat_rfr, test_tes) / 3600. / 24\n",
    "train_mae_xgb = MAE(train_tes_hat_rfr, train_tes) / 3600. / 24\n",
    "\n",
    "print(f'Random Forest Regression')\n",
    "print(f'MAE  accuracy = {test_mae_xgb: .2f}, days\\ntrain MAE = {test_mae_xgb: .2f}, days')"
   ]
  },
  {
   "cell_type": "code",
   "execution_count": 80,
   "metadata": {},
   "outputs": [
    {
     "data": {
      "image/png": "[encoded data removed]",
      "text/plain": [
       "<Figure size 432x288 with 1 Axes>"
      ]
     },
     "metadata": {
      "needs_background": "light"
     },
     "output_type": "display_data"
    }
   ],
   "source": [
    "plt.scatter(test_tes / 3600. / 24, test_tes_hat_rfr / 3600. / 24, s=0.1)\n",
    "plt.title('Random Forest Regression $t_e$ prediction')\n",
    "plt.xlabel('true, days')\n",
    "plt.ylabel('predicted, days')\n",
    "plt.show()"
   ]
  },
  {
   "cell_type": "code",
   "execution_count": 81,
   "metadata": {},
   "outputs": [
    {
     "data": {
      "text/plain": [
       "[]"
      ]
     },
     "execution_count": 81,
     "metadata": {},
     "output_type": "execute_result"
    },
    {
     "data": {
      "image/png": "[encoded data removed]",
      "text/plain": [
       "<Figure size 432x288 with 1 Axes>"
      ]
     },
     "metadata": {
      "needs_background": "light"
     },
     "output_type": "display_data"
    }
   ],
   "source": [
    "plt.hist((test_tes - test_tes_hat_rfr) / 3600. / 24, bins=50)\n",
    "plt.xlabel('$t_e$ diff, days')\n",
    "plt.title('Random Forest Regressor\\nTrue $t_e$ - predicted $t_3$')\n",
    "plt.plot()"
   ]
  },
  {
   "cell_type": "markdown",
   "metadata": {},
   "source": [
    "## Dull"
   ]
  },
  {
   "cell_type": "code",
   "execution_count": 33,
   "metadata": {},
   "outputs": [
    {
     "data": {
      "text/plain": [
       "(7.059265732466337, 2.9658680555555557)"
      ]
     },
     "execution_count": 33,
     "metadata": {},
     "output_type": "execute_result"
    }
   ],
   "source": [
    "train_tes.mean() / 3600. / 24, train_tes.median() / 3600. / 24"
   ]
  },
  {
   "cell_type": "code",
   "execution_count": 31,
   "metadata": {},
   "outputs": [
    {
     "name": "stdout",
     "output_type": "stream",
     "text": [
      "Random Forest Regression\n",
      "MAE  accuracy =  7.06, days\n",
      "train MAE =  7.06, days\n"
     ]
    }
   ],
   "source": [
    "te_dull = train_tes.mean()\n",
    "test_dull = te_dull * np.ones(test_tes.shape)\n",
    "train_dull = te_dull * np.ones(train_tes.shape)\n",
    "\n",
    "test_mae_dull = MAE(test_dull, test_tes) / 3600. / 24\n",
    "train_mae_dull = MAE(train_dull, train_tes) / 3600. / 24\n",
    "\n",
    "print(f'Random Forest Regression')\n",
    "print(f'MAE  accuracy = {test_mae_dull: .2f}, days\\ntrain MAE = {test_mae_dull: .2f}, days')"
   ]
  },
  {
   "cell_type": "markdown",
   "metadata": {},
   "source": [
    "Again better then papers)"
   ]
  },
  {
   "cell_type": "code",
   "execution_count": 18,
   "metadata": {},
   "outputs": [
    {
     "name": "stdout",
     "output_type": "stream",
     "text": [
      "Fitting 5 folds for each of 125 candidates, totalling 625 fits\n"
     ]
    },
    {
     "name": "stderr",
     "output_type": "stream",
     "text": [
      "[Parallel(n_jobs=1)]: Using backend SequentialBackend with 1 concurrent workers.\n",
      "[Parallel(n_jobs=1)]: Done 625 out of 625 | elapsed: 451.7min finished\n"
     ]
    },
    {
     "data": {
      "text/plain": [
       "GridSearchCV(cv=TimeSeriesSplit(max_train_size=None, n_splits=5),\n",
       "             estimator=Pipeline(steps=[('scaler',\n",
       "                                        <rl4pm_lib.preprocessing.PaperScalerPd object at 0x0000024CBA6D0760>),\n",
       "                                       ('xgbr',\n",
       "                                        XGBClassifier(base_score=None,\n",
       "                                                      booster=None,\n",
       "                                                      colsample_bylevel=None,\n",
       "                                                      colsample_bynode=None,\n",
       "                                                      colsample_bytree=None,\n",
       "                                                      gamma=None, gpu_id=None,\n",
       "                                                      importance_type='gain',\n",
       "                                                      interaction_constra...\n",
       "                                                      random_state=None,\n",
       "                                                      reg_alpha=None,\n",
       "                                                      reg_lambda=None,\n",
       "                                                      scale_pos_weight=None,\n",
       "                                                      subsample=None,\n",
       "                                                      tree_method='gpu_hist',\n",
       "                                                      validate_parameters=None,\n",
       "                                                      verbosity=None))]),\n",
       "             n_jobs=1,\n",
       "             param_grid={'xgbr__eta': array([0.001  , 0.07575, 0.1505 , 0.22525, 0.3    ]),\n",
       "                         'xgbr__max_depth': array([ 5,  6,  7,  8, 10]),\n",
       "                         'xgbr__n_estimators': array([ 3,  4,  6,  8, 10])},\n",
       "             scoring='neg_mean_absolute_error', verbose=1)"
      ]
     },
     "execution_count": 18,
     "metadata": {},
     "output_type": "execute_result"
    }
   ],
   "source": [
    "param = {'tree_method': 'gpu_hist'\n",
    "        }\n",
    "\n",
    "grid_xgbr = {'xgbr__max_depth': np.linspace(5, 10, num=5, dtype=int),\n",
    "            'xgbr__n_estimators': np.linspace(3, 10, num=5, dtype=int),\n",
    "            'xgbr__eta': np.linspace(0.001, 0.3, num=5, dtype=float)\n",
    "           }\n",
    "\n",
    "model_gs_xgbr = Pipeline([('scaler', PaperScaler(column_feature)),\n",
    "                         ('xgbr', xgb.XGBClassifier(**param))\n",
    "                        ])\n",
    "CV_xgbr = GridSearchCV(estimator=model_gs_xgbr, param_grid=grid_xgbr, scoring='neg_mean_absolute_error',\n",
    "                      cv=TimeSeriesSplit(n_splits=5), n_jobs=1, verbose=1)\n",
    "CV_xgbr.fit(train_df_pr_win, train_tes)"
   ]
  },
  {
   "cell_type": "code",
   "execution_count": 19,
   "metadata": {},
   "outputs": [],
   "source": [
    "model_gs_xgbr = Pipeline([('scaler', PaperScaler(column_feature)),\n",
    "                         ('xgbr', xgb.XGBClassifier(max_depth=10,\n",
    "                                                    n_estimators=7,\n",
    "                                                    eta=0.1\n",
    "                                                   ))\n",
    "                        ])"
   ]
  },
  {
   "cell_type": "code",
   "execution_count": 24,
   "metadata": {},
   "outputs": [
    {
     "data": {
      "text/plain": [
       "{'xgbr__eta': 0.22525, 'xgbr__max_depth': 5, 'xgbr__n_estimators': 6}"
      ]
     },
     "execution_count": 24,
     "metadata": {},
     "output_type": "execute_result"
    }
   ],
   "source": [
    "CV_xgbr.best_params_"
   ]
  },
  {
   "cell_type": "code",
   "execution_count": null,
   "metadata": {},
   "outputs": [],
   "source": [
    "xgbr = CV_xgbr.best_estimator_\n",
    "xgbr.fit(train_df_pr_win, train_tes)\n",
    "train_tes_hat_xgbr = xgbr.predict(train_df_pr_win)\n",
    "test_tes_hat_xgbr = xgbr.predict(test_df_pr_win)\n",
    "\n",
    "test_mae_xgbr = MAE(test_tes_hat_xgbr, test_tes) / 3600. / 24\n",
    "train_mae_xgbr = MAE(train_tes_hat_xgbr, train_tes) / 3600. / 24\n",
    "\n",
    "print(f'Random Forest Regression')\n",
    "print(f'MAE  accuracy = {test_mae_xgbr: .2f}, days\\ntrain MAE = {test_mae_xgbr: .2f}, days')"
   ]
  },
  {
   "cell_type": "code",
   "execution_count": 27,
   "metadata": {},
   "outputs": [
    {
     "name": "stdout",
     "output_type": "stream",
     "text": [
      "XGB Regressor\n",
      "MAE       =  7.06, days\n",
      "train MAE =  7.06, days\n"
     ]
    }
   ],
   "source": [
    "print(f'XGB Regressor')\n",
    "print(f'MAE       = {test_mae_xgbr: .2f}, days\\ntrain MAE = {test_mae_xgbr: .2f}, days')"
   ]
  },
  {
   "cell_type": "code",
   "execution_count": 22,
   "metadata": {},
   "outputs": [
    {
     "data": {
      "image/png": "[encoded data removed]",
      "text/plain": [
       "<Figure size 432x288 with 1 Axes>"
      ]
     },
     "metadata": {
      "needs_background": "light"
     },
     "output_type": "display_data"
    }
   ],
   "source": [
    "plt.scatter(test_tes / 3600. / 24, test_tes_hat_xgbr / 3600. / 24, s=0.1)\n",
    "plt.title('XGB Regressor $t_e$ prediction')\n",
    "plt.xlabel('true, days')\n",
    "plt.ylabel('predicted, days')\n",
    "plt.show()"
   ]
  },
  {
   "cell_type": "code",
   "execution_count": 23,
   "metadata": {},
   "outputs": [
    {
     "data": {
      "text/plain": [
       "[]"
      ]
     },
     "execution_count": 23,
     "metadata": {},
     "output_type": "execute_result"
    },
    {
     "data": {
      "image/png": "[encoded data removed]",
      "text/plain": [
       "<Figure size 432x288 with 1 Axes>"
      ]
     },
     "metadata": {
      "needs_background": "light"
     },
     "output_type": "display_data"
    }
   ],
   "source": [
    "plt.hist((test_tes - test_tes_hat_xgbr) / 3600. / 24, bins=50)\n",
    "plt.xlabel('$t_e$ diff, days')\n",
    "plt.title('XGB\\nTrue $t_e$ - predicted $t_3$')\n",
    "plt.plot()"
   ]
  },
  {
   "cell_type": "markdown",
   "metadata": {},
   "source": [
    "XGB is not that cool"
   ]
  },
  {
   "cell_type": "markdown",
   "metadata": {},
   "source": [
    "## Ridge"
   ]
  },
  {
   "cell_type": "code",
   "execution_count": 19,
   "metadata": {},
   "outputs": [
    {
     "name": "stdout",
     "output_type": "stream",
     "text": [
      "Fitting 5 folds for each of 100 candidates, totalling 500 fits\n"
     ]
    },
    {
     "name": "stderr",
     "output_type": "stream",
     "text": [
      "[Parallel(n_jobs=3)]: Using backend LokyBackend with 3 concurrent workers.\n",
      "[Parallel(n_jobs=3)]: Done  44 tasks      | elapsed:   27.4s\n",
      "[Parallel(n_jobs=3)]: Done 194 tasks      | elapsed:  1.9min\n",
      "[Parallel(n_jobs=3)]: Done 444 tasks      | elapsed:  4.2min\n",
      "[Parallel(n_jobs=3)]: Done 500 out of 500 | elapsed:  4.7min finished\n"
     ]
    },
    {
     "data": {
      "text/plain": [
       "GridSearchCV(cv=TimeSeriesSplit(max_train_size=None, n_splits=5),\n",
       "             estimator=Pipeline(steps=[('scaler',\n",
       "                                        <rl4pm_lib.preprocessing.PaperScalerPd object at 0x000002A5CAE82940>),\n",
       "                                       ('ridge', Ridge())]),\n",
       "             n_jobs=3,\n",
       "             param_grid={'ridge__alpha': array([ 1.        ,  1.29292929,  1.58585859,  1.87878788,  2.17171717,\n",
       "        2.46464646,  2.75757576,  3.05050505,  3.34343434,  3.63636364,\n",
       "        3.92929293,  4.22222...\n",
       "       21.50505051, 21.7979798 , 22.09090909, 22.38383838, 22.67676768,\n",
       "       22.96969697, 23.26262626, 23.55555556, 23.84848485, 24.14141414,\n",
       "       24.43434343, 24.72727273, 25.02020202, 25.31313131, 25.60606061,\n",
       "       25.8989899 , 26.19191919, 26.48484848, 26.77777778, 27.07070707,\n",
       "       27.36363636, 27.65656566, 27.94949495, 28.24242424, 28.53535354,\n",
       "       28.82828283, 29.12121212, 29.41414141, 29.70707071, 30.        ])},\n",
       "             scoring='neg_mean_absolute_error', verbose=1)"
      ]
     },
     "execution_count": 19,
     "metadata": {},
     "output_type": "execute_result"
    }
   ],
   "source": [
    "grid_ridge = {'ridge__alpha': np.linspace(1., 30., num=100, dtype=float)}\n",
    "\n",
    "model_gs_ridge = Pipeline([('scaler', PaperScaler(column_feature)),\n",
    "                         ('ridge', Ridge())\n",
    "                        ])\n",
    "CV_ridge = GridSearchCV(estimator=model_gs_ridge, param_grid=grid_ridge, scoring='neg_mean_absolute_error',\n",
    "                      cv=TimeSeriesSplit(n_splits=5), n_jobs=3, verbose=1)\n",
    "CV_ridge.fit(train_df_pr_win, train_tes)"
   ]
  },
  {
   "cell_type": "code",
   "execution_count": 20,
   "metadata": {},
   "outputs": [
    {
     "data": {
      "text/plain": [
       "{'ridge__alpha': 30.0}"
      ]
     },
     "execution_count": 20,
     "metadata": {},
     "output_type": "execute_result"
    }
   ],
   "source": [
    "CV_ridge.best_params_"
   ]
  },
  {
   "cell_type": "code",
   "execution_count": 21,
   "metadata": {},
   "outputs": [
    {
     "name": "stdout",
     "output_type": "stream",
     "text": [
      "Random Forest Regression\n",
      "MAE  accuracy =  4.98, days\n",
      "train MAE =  4.98, days\n"
     ]
    }
   ],
   "source": [
    "ridge = CV_ridge.best_estimator_\n",
    "ridge.fit(train_df_pr_win, train_tes)\n",
    "train_tes_hat_ridge = ridge.predict(train_df_pr_win)\n",
    "test_tes_hat_ridge = ridge.predict(test_df_pr_win)\n",
    "\n",
    "test_mae_ridge = MAE(test_tes_hat_ridge, test_tes) / 3600. / 24\n",
    "train_mae_ridge = MAE(train_tes_hat_ridge, train_tes) / 3600. / 24\n",
    "\n",
    "print(f'Random Forest Regression')\n",
    "print(f'MAE  accuracy = {test_mae_ridge: .2f}, days\\ntrain MAE = {test_mae_ridge: .2f}, days')"
   ]
  },
  {
   "cell_type": "code",
   "execution_count": 22,
   "metadata": {},
   "outputs": [
    {
     "data": {
      "image/png": "[encoded data removed]",
      "text/plain": [
       "<Figure size 432x288 with 1 Axes>"
      ]
     },
     "metadata": {
      "needs_background": "light"
     },
     "output_type": "display_data"
    }
   ],
   "source": [
    "plt.scatter(test_tes / 3600. / 24, test_tes_hat_ridge / 3600. / 24, s=0.1)\n",
    "plt.title('Ridge $t_e$ prediction')\n",
    "plt.xlabel('true, days')\n",
    "plt.ylabel('predicted, days')\n",
    "plt.show()"
   ]
  },
  {
   "cell_type": "code",
   "execution_count": 23,
   "metadata": {},
   "outputs": [
    {
     "data": {
      "text/plain": [
       "[]"
      ]
     },
     "execution_count": 23,
     "metadata": {},
     "output_type": "execute_result"
    },
    {
     "data": {
      "image/png": "[encoded data removed]",
      "text/plain": [
       "<Figure size 432x288 with 1 Axes>"
      ]
     },
     "metadata": {
      "needs_background": "light"
     },
     "output_type": "display_data"
    }
   ],
   "source": [
    "plt.hist((test_tes - test_tes_hat_ridge) / 3600. / 24, bins=50)\n",
    "plt.xlabel('$t_e$ diff, days')\n",
    "plt.title('Ridge\\nTrue $t_e$ - predicted $t_3$')\n",
    "plt.plot()"
   ]
  }
 ],
 "metadata": {
  "kernelspec": {
   "display_name": "Python 3",
   "language": "python",
   "name": "python3"
  },
  "language_info": {
   "codemirror_mode": {
    "name": "ipython",
    "version": 3
   },
   "file_extension": ".py",
   "mimetype": "text/x-python",
   "name": "python",
   "nbconvert_exporter": "python",
   "pygments_lexer": "ipython3",
   "version": "3.8.6"
  }
 },
 "nbformat": 4,
 "nbformat_minor": 4
}
