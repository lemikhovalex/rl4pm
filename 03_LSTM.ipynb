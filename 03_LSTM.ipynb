{
 "cells": [
  {
   "cell_type": "code",
   "execution_count": 62,
   "metadata": {},
   "outputs": [],
   "source": [
    "import pandas as pd\n",
    "import datetime\n",
    "from math import ceil\n",
    "import matplotlib.pyplot as plt\n",
    "import torch\n",
    "import numpy as np\n",
    "from importlib import reload\n",
    "import random\n",
    "from random import shuffle\n",
    "\n",
    "import rl4pm_lib.preprocessing as preprocessing\n",
    "reload(preprocessing)\n",
    "from IPython import display"
   ]
  },
  {
   "cell_type": "code",
   "execution_count": 63,
   "metadata": {},
   "outputs": [],
   "source": [
    "test_df = pd.read_csv('datasets/test_df.csv').drop(columns='Unnamed: 0')\n",
    "test_df['timestamp'] = test_df['timestamp'].apply(lambda x: datetime.datetime.fromisoformat(x))\n",
    "\n",
    "train_df = pd.read_csv('datasets/train_df.csv').drop(columns='Unnamed: 0')\n",
    "train_df['timestamp'] = train_df['timestamp'].apply(lambda x: datetime.datetime.fromisoformat(x))"
   ]
  },
  {
   "cell_type": "markdown",
   "metadata": {},
   "source": [
    "### Propro like for SklEarn"
   ]
  },
  {
   "cell_type": "code",
   "execution_count": 64,
   "metadata": {},
   "outputs": [],
   "source": [
    "import rl4pm_lib.preprocessing as preprocessing\n",
    "\n",
    "column_feature = {'tt': 0, 'te': 1, 'tw': 2}\n",
    "prepro = preprocessing.DfPreprocesser()\n",
    "prepro.fit(train_df)\n",
    "train_df_pr = prepro.transform(train_df)\n",
    "test_df_pr = prepro.transform(test_df)"
   ]
  },
  {
   "cell_type": "code",
   "execution_count": 65,
   "metadata": {},
   "outputs": [],
   "source": [
    "scaler = preprocessing.PaperScaler(column_feature)\n",
    "scaler.fit(train_df_pr)\n",
    "train_df_pr_sc = scaler.transform(train_df_pr)\n",
    "test_df_pr_sc = scaler.transform(test_df_pr)"
   ]
  },
  {
   "cell_type": "code",
   "execution_count": 66,
   "metadata": {},
   "outputs": [],
   "source": [
    "window_size = 2"
   ]
  },
  {
   "cell_type": "code",
   "execution_count": 67,
   "metadata": {},
   "outputs": [
    {
     "data": {
      "image/png": "[encoded data removed]",
      "text/plain": [
       "<Figure size 432x288 with 1 Axes>"
      ]
     },
     "metadata": {
      "needs_background": "light"
     },
     "output_type": "display_data"
    }
   ],
   "source": [
    "traces_train = list(set(train_df_pr_sc['trace_id'].values))\n",
    "traces_train_len = {}\n",
    "for t in traces_train:\n",
    "    trace_len = train_df_pr_sc[train_df_pr_sc['trace_id'] == t].shape[0]\n",
    "    if trace_len > window_size:\n",
    "        traces_train_len[t] = trace_len\n",
    "traces_train = list(traces_train_len.keys())\n",
    "\n",
    "plt.hist(list(traces_train_len.values()))\n",
    "plt.title('Amount of activities in one trace for train')\n",
    "plt.xlabel('Trace len')\n",
    "plt.xlabel('num')\n",
    "plt.show()"
   ]
  },
  {
   "cell_type": "code",
   "execution_count": 68,
   "metadata": {},
   "outputs": [
    {
     "data": {
      "image/png": "[encoded data removed]",
      "text/plain": [
       "<Figure size 432x288 with 1 Axes>"
      ]
     },
     "metadata": {
      "needs_background": "light"
     },
     "output_type": "display_data"
    }
   ],
   "source": [
    "traces_test = list(set(test_df_pr_sc['trace_id'].values))\n",
    "traces_test_len = {}\n",
    "for t in traces_test:\n",
    "    trace_len = test_df_pr_sc[test_df_pr_sc['trace_id'] == t].shape[0]\n",
    "    if trace_len > window_size:\n",
    "        traces_test_len[t] = trace_len\n",
    "traces_test = list(traces_test_len.keys())\n",
    "\n",
    "plt.hist(list(traces_test_len.values()))\n",
    "plt.title('Amount of activities in one trace for test')\n",
    "plt.xlabel('Trace len')\n",
    "plt.xlabel('num')\n",
    "plt.show()"
   ]
  },
  {
   "cell_type": "markdown",
   "metadata": {},
   "source": [
    "## Ok let's create data loader & dataset"
   ]
  },
  {
   "cell_type": "code",
   "execution_count": 69,
   "metadata": {},
   "outputs": [],
   "source": [
    "from rl4pm_lib.lstm_supervised import ProcessesDataset"
   ]
  },
  {
   "cell_type": "code",
   "execution_count": 70,
   "metadata": {},
   "outputs": [],
   "source": [
    "win_len = 2\n",
    "test_ds = ProcessesDataset(test_df_pr_sc, win_len)\n",
    "train_ds = ProcessesDataset(train_df_pr_sc, win_len)"
   ]
  },
  {
   "cell_type": "code",
   "execution_count": 71,
   "metadata": {},
   "outputs": [
    {
     "data": {
      "text/plain": [
       "torch.Size([137, 54])"
      ]
     },
     "execution_count": 71,
     "metadata": {},
     "output_type": "execute_result"
    }
   ],
   "source": [
    "test_ds[0]['data'].shape"
   ]
  },
  {
   "cell_type": "code",
   "execution_count": 72,
   "metadata": {},
   "outputs": [
    {
     "data": {
      "text/plain": [
       "Index(['tt', 'te', 'tw', 'trace_id', 'A_ACCEPTED', 'A_ACTIVATED', 'A_APPROVED',\n",
       "       'A_CANCELLED', 'A_DECLINED', 'A_FINALIZED', 'A_PARTLYSUBMITTED',\n",
       "       'A_PREACCEPTED', 'A_REGISTERED', 'A_SUBMITTED', 'O_ACCEPTED',\n",
       "       'O_CANCELLED', 'O_CREATED', 'O_DECLINED', 'O_SELECTED', 'O_SENT',\n",
       "       'O_SENT_BACK', 'W_Afhandelen leads', 'W_Beoordelen fraude',\n",
       "       'W_Completeren aanvraag', 'W_Nabellen incomplete dossiers',\n",
       "       'W_Nabellen offertes', 'W_Valideren aanvraag',\n",
       "       'W_Wijzigen contractgegevens', 'tt__1', 'te__1', 'tw__1',\n",
       "       'A_ACCEPTED__1', 'A_ACTIVATED__1', 'A_APPROVED__1', 'A_CANCELLED__1',\n",
       "       'A_DECLINED__1', 'A_FINALIZED__1', 'A_PARTLYSUBMITTED__1',\n",
       "       'A_PREACCEPTED__1', 'A_REGISTERED__1', 'A_SUBMITTED__1',\n",
       "       'O_ACCEPTED__1', 'O_CANCELLED__1', 'O_CREATED__1', 'O_DECLINED__1',\n",
       "       'O_SELECTED__1', 'O_SENT__1', 'O_SENT_BACK__1', 'W_Afhandelen leads__1',\n",
       "       'W_Beoordelen fraude__1', 'W_Completeren aanvraag__1',\n",
       "       'W_Nabellen incomplete dossiers__1', 'W_Nabellen offertes__1',\n",
       "       'W_Valideren aanvraag__1', 'W_Wijzigen contractgegevens__1'],\n",
       "      dtype='object')"
      ]
     },
     "execution_count": 72,
     "metadata": {},
     "output_type": "execute_result"
    }
   ],
   "source": [
    "test_ds.df_win.columns"
   ]
  },
  {
   "cell_type": "code",
   "execution_count": 73,
   "metadata": {},
   "outputs": [],
   "source": [
    "from torch.utils.data import DataLoader\n",
    "\n",
    "batch_size = 256\n",
    "\n",
    "train_dataloader = DataLoader(train_ds, batch_size=batch_size, shuffle=True)\n",
    "test_dataloader = DataLoader(test_ds, batch_size=batch_size, shuffle=True)"
   ]
  },
  {
   "cell_type": "code",
   "execution_count": 74,
   "metadata": {},
   "outputs": [
    {
     "name": "stdout",
     "output_type": "stream",
     "text": [
      "Using cuda device\n"
     ]
    }
   ],
   "source": [
    "device = \"cuda\" if torch.cuda.is_available() else \"cpu\"\n",
    "print(\"Using {} device\".format(device))"
   ]
  },
  {
   "cell_type": "markdown",
   "metadata": {},
   "source": [
    "### Modles init"
   ]
  },
  {
   "cell_type": "code",
   "execution_count": 75,
   "metadata": {},
   "outputs": [],
   "source": [
    "class Net(torch.nn.Module):\n",
    "    \"\"\"\n",
    "    Net used for agents, lstm-based\n",
    "    Args:\n",
    "        input_size(int): nuber of features for input\n",
    "        hidden_layer(int): size of hidden layer\n",
    "        n_lstm(int): number of lstm stacked for NN\n",
    "        out_shape(int): out dimension\n",
    "\n",
    "    Attributes:\n",
    "        lstm(torch.nn.LSTM): lstm-based piece of nn\n",
    "        relu(torch.nn.ReLU): activation function\n",
    "        fc(torch.nn.Linear): fully connected layer\n",
    "    \"\"\"\n",
    "    def __init__(self, input_size, hidden_layer, n_lstm, out_shape):\n",
    "        super(Net, self).__init__()\n",
    "        self.lstm = torch.nn.LSTM(input_size=input_size, hidden_size=hidden_layer,\n",
    "                                  num_layers=n_lstm)\n",
    "        self.relu = torch.nn.ReLU()\n",
    "        self.fc = torch.nn.Linear(hidden_layer, out_shape)\n",
    "        self.out_shape = out_shape\n",
    "        self.n_lstm = n_lstm\n",
    "        self.hidden = hidden_layer\n",
    "\n",
    "    def forward(self, x):\n",
    "        x, h = self.lstm(x)\n",
    "        x = self.relu(x)\n",
    "        x = self.fc(x)\n",
    "        return x, h"
   ]
  },
  {
   "cell_type": "code",
   "execution_count": 82,
   "metadata": {},
   "outputs": [],
   "source": [
    "input_size = test_ds.tensor_data.shape[-1]\n",
    "n_lstm = 3\n",
    "hidden_layer = 128\n",
    "n_classes = len(set(train_df['activity'].values))\n",
    "\n",
    "te_model = Net(input_size=input_size, hidden_layer=hidden_layer, n_lstm=n_lstm,\n",
    "               out_shape=1).to(device)\n",
    "ac_model = Net(input_size=input_size, hidden_layer=hidden_layer, n_lstm=n_lstm,\n",
    "               out_shape=n_classes).to(device)"
   ]
  },
  {
   "cell_type": "markdown",
   "metadata": {},
   "source": [
    "### Optimizers and losses"
   ]
  },
  {
   "cell_type": "code",
   "execution_count": 83,
   "metadata": {},
   "outputs": [],
   "source": [
    "loss_ac = torch.nn.CrossEntropyLoss()\n",
    "optimizer_ac = torch.optim.Adam(ac_model.parameters(), lr=1e-3)\n",
    "\n",
    "loss_te = torch.nn.SmoothL1Loss()\n",
    "optimizer_te = torch.optim.Adam(ac_model.parameters(), lr=1e-3)"
   ]
  },
  {
   "cell_type": "code",
   "execution_count": 85,
   "metadata": {},
   "outputs": [],
   "source": [
    "loss = torch.nn.CrossEntropyLoss()\n",
    "input_ = torch.randn(3, 5, requires_grad=True)\n",
    "target = torch.empty(3, dtype=torch.long).random_(5)\n",
    "output = loss(input_, target)\n",
    "output.backward()"
   ]
  },
  {
   "cell_type": "code",
   "execution_count": 89,
   "metadata": {},
   "outputs": [],
   "source": [
    "def train(dataloader, device,\n",
    "          model_ac, loss_ac, optimizer_ac,\n",
    "          model_te, loss_te, optimizer_te,\n",
    "          scaler):\n",
    "    size = len(dataloader.dataset)\n",
    "    n = 0\n",
    "    true = 0\n",
    "    mae_error = 0\n",
    "    \n",
    "    for batch, data_dict in enumerate(train_dataloader):\n",
    "        \n",
    "        x = data_dict['data'].to(device)\n",
    "        _bs = x.shape[0] # define btch size (it can be not as defined for residula piece of data)\n",
    "        x = x.transpose(0,1).view(-1, _bs, input_size)\n",
    "\n",
    "        is_done = data_dict['is_done']\n",
    "        is_done = is_done.transpose(0,1).view(-1, _bs, 1)\n",
    "\n",
    "        true_label = data_dict['label'].to(device)\n",
    "        true_label = true_label.transpose(0,1).view(-1, _bs, 1)\n",
    "\n",
    "        true_tes = data_dict['tes'].to(device)\n",
    "        true_tes = true_tes.transpose(0,1).view(-1, _bs, 1)\n",
    "\n",
    "        pred_label, _ = ac_model(x)\n",
    "        pred_label = torch.nn.functional.softmax(pred_label, dim=-1)\n",
    "\n",
    "        pred_te, _ = te_model(x)\n",
    "        pred_te = torch.nn.functional.relu(pred_te)\n",
    "\n",
    "        # whanna drop useless padded -1, which are stored in is_done\n",
    "        is_done = is_done.reshape(-1).bool()\n",
    "        true_label = true_label.reshape(-1)[is_done]\n",
    "        pred_label = pred_label.reshape((-1, n_classes))[is_done]\n",
    "\n",
    "        pred_te = pred_te.reshape(-1)[is_done]\n",
    "        true_tes = true_tes.reshape(-1)[is_done]\n",
    "\n",
    "        # ok let's calc losses\n",
    "\n",
    "        loss_ac_ = loss_ac(pred_label, true_label.long())\n",
    "        optimizer_ac.zero_grad()\n",
    "        loss_ac_.backward()\n",
    "        optimizer_ac.step()\n",
    "\n",
    "        loss_te_ = loss_te(pred_te, true_tes)\n",
    "        optimizer_te.zero_grad()\n",
    "        loss_te_.backward()\n",
    "        optimizer_te.step()\n",
    "        \n",
    "        n += is_done.sum()\n",
    "        true += (pred_label.argmax(1) == true_label.long()).type(torch.float).sum().item()\n",
    "        mae_error += torch.abs(pred_te - true_tes).sum().item()\n",
    "\n",
    "#         if batch % 100 == 0:\n",
    "#             print(f'loss ac = {loss_ac_.item():.2}\\nloss te = {loss_te_.item():.2},')\n",
    "            \n",
    "#             print(f'batch:[{batch:>5d}/{size:>5d}]')\n",
    "    mae = mae_error*scaler.scales[\"te\"] / n / 60 / 60 / 24\n",
    "    acc = true / n\n",
    "    print('____'*15)\n",
    "    print(f'MAE     ={mae_error*scaler.scales[\"te\"] / n / 60 / 60 / 24 : .2f} days')\n",
    "    print(f'Accuracy={true / n: .2f}')\n",
    "    \n",
    "    return {'MAE': mae, 'Accuracy': acc}"
   ]
  },
  {
   "cell_type": "code",
   "execution_count": 90,
   "metadata": {
    "scrolled": true
   },
   "outputs": [
    {
     "name": "stdout",
     "output_type": "stream",
     "text": [
      "epoch 0\n",
      "____________________________________________________________\n",
      "MAE     = 4.10 days\n",
      "Accuracy= 0.35\n",
      "epoch 1\n",
      "____________________________________________________________\n",
      "MAE     = 4.10 days\n",
      "Accuracy= 0.36\n",
      "epoch 2\n",
      "____________________________________________________________\n",
      "MAE     = 4.10 days\n",
      "Accuracy= 0.40\n",
      "epoch 3\n",
      "____________________________________________________________\n",
      "MAE     = 4.10 days\n",
      "Accuracy= 0.46\n",
      "epoch 4\n",
      "____________________________________________________________\n",
      "MAE     = 4.10 days\n",
      "Accuracy= 0.49\n",
      "epoch 5\n",
      "____________________________________________________________\n",
      "MAE     = 4.10 days\n",
      "Accuracy= 0.49\n",
      "epoch 6\n",
      "____________________________________________________________\n",
      "MAE     = 4.10 days\n",
      "Accuracy= 0.49\n",
      "epoch 7\n",
      "____________________________________________________________\n",
      "MAE     = 4.10 days\n",
      "Accuracy= 0.49\n",
      "epoch 8\n",
      "____________________________________________________________\n",
      "MAE     = 4.10 days\n",
      "Accuracy= 0.48\n",
      "epoch 9\n",
      "____________________________________________________________\n",
      "MAE     = 4.10 days\n",
      "Accuracy= 0.49\n",
      "epoch 10\n",
      "____________________________________________________________\n",
      "MAE     = 4.10 days\n",
      "Accuracy= 0.49\n",
      "epoch 11\n",
      "____________________________________________________________\n",
      "MAE     = 4.10 days\n",
      "Accuracy= 0.49\n",
      "epoch 12\n",
      "____________________________________________________________\n",
      "MAE     = 4.10 days\n",
      "Accuracy= 0.55\n",
      "epoch 13\n",
      "____________________________________________________________\n",
      "MAE     = 4.10 days\n",
      "Accuracy= 0.60\n",
      "epoch 14\n",
      "____________________________________________________________\n",
      "MAE     = 4.10 days\n",
      "Accuracy= 0.60\n",
      "epoch 15\n",
      "____________________________________________________________\n",
      "MAE     = 4.10 days\n",
      "Accuracy= 0.60\n",
      "epoch 16\n",
      "____________________________________________________________\n",
      "MAE     = 4.10 days\n",
      "Accuracy= 0.60\n",
      "epoch 17\n",
      "____________________________________________________________\n",
      "MAE     = 4.10 days\n",
      "Accuracy= 0.60\n",
      "epoch 18\n",
      "____________________________________________________________\n",
      "MAE     = 4.10 days\n",
      "Accuracy= 0.60\n",
      "epoch 19\n",
      "____________________________________________________________\n",
      "MAE     = 4.10 days\n",
      "Accuracy= 0.60\n",
      "epoch 20\n",
      "____________________________________________________________\n",
      "MAE     = 4.10 days\n",
      "Accuracy= 0.60\n",
      "epoch 21\n",
      "____________________________________________________________\n",
      "MAE     = 4.10 days\n",
      "Accuracy= 0.60\n",
      "epoch 22\n",
      "____________________________________________________________\n",
      "MAE     = 4.10 days\n",
      "Accuracy= 0.62\n",
      "epoch 23\n",
      "____________________________________________________________\n",
      "MAE     = 4.10 days\n",
      "Accuracy= 0.62\n",
      "epoch 24\n",
      "____________________________________________________________\n",
      "MAE     = 4.10 days\n",
      "Accuracy= 0.62\n",
      "epoch 25\n",
      "____________________________________________________________\n",
      "MAE     = 4.10 days\n",
      "Accuracy= 0.62\n",
      "epoch 26\n",
      "____________________________________________________________\n",
      "MAE     = 4.10 days\n",
      "Accuracy= 0.62\n",
      "epoch 27\n",
      "____________________________________________________________\n",
      "MAE     = 4.10 days\n",
      "Accuracy= 0.62\n",
      "epoch 28\n",
      "____________________________________________________________\n",
      "MAE     = 4.10 days\n",
      "Accuracy= 0.62\n",
      "epoch 29\n",
      "____________________________________________________________\n",
      "MAE     = 4.10 days\n",
      "Accuracy= 0.65\n",
      "epoch 30\n",
      "____________________________________________________________\n",
      "MAE     = 4.10 days\n",
      "Accuracy= 0.65\n",
      "epoch 31\n",
      "____________________________________________________________\n",
      "MAE     = 4.10 days\n",
      "Accuracy= 0.67\n",
      "epoch 32\n",
      "____________________________________________________________\n",
      "MAE     = 4.10 days\n",
      "Accuracy= 0.67\n",
      "epoch 33\n",
      "____________________________________________________________\n",
      "MAE     = 4.10 days\n",
      "Accuracy= 0.67\n",
      "epoch 34\n",
      "____________________________________________________________\n",
      "MAE     = 4.10 days\n",
      "Accuracy= 0.67\n",
      "epoch 35\n",
      "____________________________________________________________\n",
      "MAE     = 4.10 days\n",
      "Accuracy= 0.67\n",
      "epoch 36\n",
      "____________________________________________________________\n",
      "MAE     = 4.10 days\n",
      "Accuracy= 0.67\n",
      "epoch 37\n",
      "____________________________________________________________\n",
      "MAE     = 4.10 days\n",
      "Accuracy= 0.67\n",
      "epoch 38\n",
      "____________________________________________________________\n",
      "MAE     = 4.10 days\n",
      "Accuracy= 0.67\n",
      "epoch 39\n",
      "____________________________________________________________\n",
      "MAE     = 4.10 days\n",
      "Accuracy= 0.67\n",
      "epoch 40\n",
      "____________________________________________________________\n",
      "MAE     = 4.10 days\n",
      "Accuracy= 0.67\n",
      "epoch 41\n",
      "____________________________________________________________\n",
      "MAE     = 4.10 days\n",
      "Accuracy= 0.68\n",
      "epoch 42\n",
      "____________________________________________________________\n",
      "MAE     = 4.10 days\n",
      "Accuracy= 0.69\n",
      "epoch 43\n",
      "____________________________________________________________\n",
      "MAE     = 4.10 days\n",
      "Accuracy= 0.69\n",
      "epoch 44\n",
      "____________________________________________________________\n",
      "MAE     = 4.10 days\n",
      "Accuracy= 0.69\n",
      "epoch 45\n",
      "____________________________________________________________\n",
      "MAE     = 4.10 days\n",
      "Accuracy= 0.69\n",
      "epoch 46\n",
      "____________________________________________________________\n",
      "MAE     = 4.10 days\n",
      "Accuracy= 0.69\n",
      "epoch 47\n",
      "____________________________________________________________\n",
      "MAE     = 4.10 days\n",
      "Accuracy= 0.69\n",
      "epoch 48\n",
      "____________________________________________________________\n",
      "MAE     = 4.10 days\n",
      "Accuracy= 0.69\n",
      "epoch 49\n",
      "____________________________________________________________\n",
      "MAE     = 4.10 days\n",
      "Accuracy= 0.69\n",
      "epoch 50\n",
      "____________________________________________________________\n",
      "MAE     = 4.10 days\n",
      "Accuracy= 0.69\n",
      "epoch 51\n",
      "____________________________________________________________\n",
      "MAE     = 4.10 days\n",
      "Accuracy= 0.69\n",
      "epoch 52\n",
      "____________________________________________________________\n",
      "MAE     = 4.10 days\n",
      "Accuracy= 0.69\n",
      "epoch 53\n",
      "____________________________________________________________\n",
      "MAE     = 4.10 days\n",
      "Accuracy= 0.69\n",
      "epoch 54\n",
      "____________________________________________________________\n",
      "MAE     = 4.10 days\n",
      "Accuracy= 0.69\n",
      "epoch 55\n",
      "____________________________________________________________\n",
      "MAE     = 4.10 days\n",
      "Accuracy= 0.69\n",
      "epoch 56\n",
      "____________________________________________________________\n",
      "MAE     = 4.10 days\n",
      "Accuracy= 0.69\n",
      "epoch 57\n",
      "____________________________________________________________\n",
      "MAE     = 4.10 days\n",
      "Accuracy= 0.69\n",
      "epoch 58\n",
      "____________________________________________________________\n",
      "MAE     = 4.10 days\n",
      "Accuracy= 0.69\n",
      "epoch 59\n",
      "____________________________________________________________\n",
      "MAE     = 4.10 days\n",
      "Accuracy= 0.69\n"
     ]
    }
   ],
   "source": [
    "for ep in range(60):\n",
    "    print(f'epoch {ep}')\n",
    "    train(dataloader=train_dataloader,\n",
    "          device=device,\n",
    "          model_ac=ac_model, loss_ac=loss_ac,\n",
    "          model_te=te_model, loss_te=loss_te,\n",
    "          optimizer_ac=optimizer_ac, optimizer_te=optimizer_te,\n",
    "         scaler=scaler)"
   ]
  }
 ],
 "metadata": {
  "kernelspec": {
   "display_name": "Python 3",
   "language": "python",
   "name": "python3"
  },
  "language_info": {
   "codemirror_mode": {
    "name": "ipython",
    "version": 3
   },
   "file_extension": ".py",
   "mimetype": "text/x-python",
   "name": "python",
   "nbconvert_exporter": "python",
   "pygments_lexer": "ipython3",
   "version": "3.8.6"
  }
 },
 "nbformat": 4,
 "nbformat_minor": 4
}
