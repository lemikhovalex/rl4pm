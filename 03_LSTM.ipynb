{
 "cells": [
  {
   "cell_type": "code",
   "execution_count": 1,
   "metadata": {},
   "outputs": [],
   "source": [
    "import pandas as pd\n",
    "import datetime\n",
    "from math import ceil\n",
    "import matplotlib.pyplot as plt\n",
    "import torch\n",
    "import numpy as np\n",
    "from importlib import reload\n",
    "import random\n",
    "from random import shuffle\n",
    "from dateutil.parser import parse\n",
    "\n",
    "import rl4pm_lib.preprocessing as preprocessing\n",
    "reload(preprocessing)\n",
    "from IPython import display"
   ]
  },
  {
   "cell_type": "code",
   "execution_count": 2,
   "metadata": {},
   "outputs": [],
   "source": [
    "test_df = pd.read_csv('datasets/test_df.csv')\n",
    "test_df['timestamp'] = test_df['timestamp'].apply(lambda x: parse(x))\n",
    "\n",
    "train_df = pd.read_csv('datasets/train_df.csv')\n",
    "train_df['timestamp'] = train_df['timestamp'].apply(lambda x: parse(x))"
   ]
  },
  {
   "cell_type": "markdown",
   "metadata": {},
   "source": [
    "### Propro like for SklEarn"
   ]
  },
  {
   "cell_type": "code",
   "execution_count": 3,
   "metadata": {},
   "outputs": [],
   "source": [
    "import rl4pm_lib.preprocessing as preprocessing\n",
    "\n",
    "column_feature = {'tt': 0, 'te': 1, 'tw': 2}\n",
    "prepro = preprocessing.DfPreprocesser()\n",
    "prepro.fit(train_df)\n",
    "train_df_pr = prepro.transform(train_df)\n",
    "test_df_pr = prepro.transform(test_df)"
   ]
  },
  {
   "cell_type": "code",
   "execution_count": 4,
   "metadata": {},
   "outputs": [],
   "source": [
    "scaler = preprocessing.PaperScaler(column_feature)\n",
    "scaler.fit(train_df_pr)\n",
    "train_df_pr_sc = scaler.transform(train_df_pr)\n",
    "test_df_pr_sc = scaler.transform(test_df_pr)"
   ]
  },
  {
   "cell_type": "markdown",
   "metadata": {},
   "source": [
    "## Ok let's create data loader & dataset"
   ]
  },
  {
   "cell_type": "code",
   "execution_count": 5,
   "metadata": {},
   "outputs": [],
   "source": [
    "from rl4pm_lib.lstm_supervised import ProcessesDataset"
   ]
  },
  {
   "cell_type": "code",
   "execution_count": 82,
   "metadata": {},
   "outputs": [],
   "source": [
    "win_len = 2\n",
    "batch_size = 512\n",
    "n_lstm = 0\n",
    "m_lstm = 2\n",
    "hidden_layer = 128\n",
    "n_epoch = 100\n",
    "n_classes = len(set(train_df['activity'].values))"
   ]
  },
  {
   "cell_type": "code",
   "execution_count": 27,
   "metadata": {},
   "outputs": [],
   "source": [
    "test_ds = ProcessesDataset(test_df_pr_sc, win_len)\n",
    "train_ds = ProcessesDataset(train_df_pr_sc, win_len)"
   ]
  },
  {
   "cell_type": "code",
   "execution_count": 28,
   "metadata": {},
   "outputs": [],
   "source": [
    "from torch.utils.data import DataLoader\n",
    "\n",
    "train_dataloader = DataLoader(train_ds, batch_size=batch_size, shuffle=True)\n",
    "test_dataloader = DataLoader(test_ds, batch_size=batch_size, shuffle=True)"
   ]
  },
  {
   "cell_type": "code",
   "execution_count": 29,
   "metadata": {},
   "outputs": [
    {
     "name": "stdout",
     "output_type": "stream",
     "text": [
      "Using cuda device\n"
     ]
    }
   ],
   "source": [
    "device = \"cuda\" if torch.cuda.is_available() else \"cpu\"\n",
    "print(\"Using {} device\".format(device))"
   ]
  },
  {
   "cell_type": "markdown",
   "metadata": {},
   "source": [
    "### Modles init"
   ]
  },
  {
   "cell_type": "code",
   "execution_count": 114,
   "metadata": {},
   "outputs": [],
   "source": [
    "class NLSTM(torch.nn.Module):\n",
    "    def __init__(self, input_size, hidden_layer, n_lstm, dropout=0.05):\n",
    "        super(NLSTM, self).__init__()\n",
    "        self.dropout = torch.nn.Dropout(dropout)\n",
    "        self.lstms = torch.nn.ModuleList()\n",
    "        self.n_lstm = n_lstm\n",
    "        for i in range(n_lstm):\n",
    "            if i == 0:\n",
    "                self.lstms.append(torch.nn.LSTM(input_size, hidden_layer, 1))\n",
    "            else:\n",
    "                self.lstms.append(torch.nn.LSTM(hidden_layer, hidden_layer, 1))\n",
    "        self.relu = torch.nn.ReLU()\n",
    "        \n",
    "    def forward(self, x, h=None):\n",
    "        # print(x.shape)\n",
    "        if self.n_lstm > 0:\n",
    "            for i in range(self.n_lstm):\n",
    "                if h is None:\n",
    "                    x, h = self.lstms[i](x)\n",
    "                else:\n",
    "                    x, h = self.lstms[i](x, h)\n",
    "\n",
    "                x = self.dropout(x)\n",
    "                x = self.relu(x)\n",
    "                \n",
    "            return x, h\n",
    "        else:\n",
    "            return x, None\n",
    "\n",
    "class Net(torch.nn.Module):\n",
    "    def __init__(self, input_size, hidden_layer, n_lstm, m_lstm, n_classes, dropout=0.05):\n",
    "        super(Net, self).__init__()\n",
    "        \n",
    "        self.bb_lstm = NLSTM(input_size, hidden_layer, n_lstm, dropout=dropout)\n",
    "        nlstm_in_size = hidden_layer\n",
    "        if n_lstm == 0:\n",
    "            nlstm_in_size = input_size\n",
    "        self.ac_lstm = NLSTM(input_size=nlstm_in_size, hidden_layer=hidden_layer,\n",
    "                             n_lstm=m_lstm, dropout=dropout)\n",
    "        self.te_lstm = NLSTM(input_size=nlstm_in_size, hidden_layer=hidden_layer,\n",
    "                             n_lstm=m_lstm, dropout=dropout)\n",
    "                    \n",
    "        \n",
    "        self.relu = torch.nn.ReLU()\n",
    "        self.fc_ac = torch.nn.Linear(hidden_layer, n_classes)\n",
    "        self.fc_te = torch.nn.Linear(hidden_layer, 1)\n",
    "        \n",
    "        self.n_classes = n_classes\n",
    "        self.n_lstm = n_lstm\n",
    "        self.m_lstm = m_lstm\n",
    "        self.hidden = hidden_layer\n",
    "        \n",
    "        self.dropout = torch.nn.Dropout(dropout)\n",
    "\n",
    "    def forward(self, x):\n",
    "        \n",
    "            # back bone lstm\n",
    "        x, h = self.bb_lstm(x)\n",
    "        x = self.dropout(x)\n",
    "        x = self.relu(x)\n",
    "            \n",
    "        x_ac, _ = self.ac_lstm(x, h)\n",
    "        x_te, _ = self.te_lstm(x, h)\n",
    "           \n",
    "        x_te = self.dropout(x_te)\n",
    "        x_ac = self.dropout(x_ac)\n",
    "        \n",
    "        x_te = self.relu(x_te)\n",
    "        x_ac = self.relu(x_ac)\n",
    "        x_ac = self.fc_ac(x_ac)\n",
    "        x_te = self.fc_te(x_te)\n",
    "        \n",
    "        x_te = self.relu(x_te)\n",
    "        x_ac = torch.nn.functional.softmax(x_ac, dim=-1)\n",
    "        return x_te, x_ac"
   ]
  },
  {
   "cell_type": "code",
   "execution_count": 115,
   "metadata": {},
   "outputs": [],
   "source": [
    "input_size = test_ds.tensor_data.shape[-1]\n",
    "\n",
    "model = Net(input_size=input_size, hidden_layer=hidden_layer, n_lstm=n_lstm,\n",
    "            m_lstm=m_lstm, n_classes=n_classes).to(device)"
   ]
  },
  {
   "cell_type": "markdown",
   "metadata": {},
   "source": [
    "### Optimizers and losses"
   ]
  },
  {
   "cell_type": "code",
   "execution_count": 117,
   "metadata": {},
   "outputs": [],
   "source": [
    "loss_ac = torch.nn.CrossEntropyLoss()\n",
    "\n",
    "loss_te = torch.nn.SmoothL1Loss()\n",
    "optimizer = torch.optim.Adam(model.parameters(), lr=1e-4)"
   ]
  },
  {
   "cell_type": "code",
   "execution_count": 118,
   "metadata": {},
   "outputs": [],
   "source": [
    "from rl4pm_lib.lstm_supervised import train_one_epoch, for_evaluate\n",
    "from rl4pm_lib.utils import get_accuracy, get_f1_score, get_log_loss, get_mae_days, plot_learning"
   ]
  },
  {
   "cell_type": "code",
   "execution_count": 119,
   "metadata": {
    "scrolled": false
   },
   "outputs": [
    {
     "data": {
      "image/png": "[encoded data removed]",
      "text/plain": [
       "<Figure size 1152x576 with 4 Axes>"
      ]
     },
     "metadata": {
      "needs_background": "light"
     },
     "output_type": "display_data"
    }
   ],
   "source": [
    "train_acc = []\n",
    "test_acc = []\n",
    "\n",
    "train_mae = []\n",
    "test_mae = []\n",
    "\n",
    "test_ce = []\n",
    "train_ce = []\n",
    "\n",
    "test_f1 = []\n",
    "train_f1 = []\n",
    "\n",
    "epoches = []\n",
    "\n",
    "for ep in range(30):\n",
    "    \n",
    "    train_data = train_one_epoch(dataloader=train_dataloader, device=device,\n",
    "                       model=model, optimizer=optimizer,\n",
    "                       loss_ac=loss_ac, loss_te=loss_te, n_classes=n_classes)\n",
    "    \n",
    "    eval_data = for_evaluate(test_dataloader, model, n_classes=n_classes, device=device)\n",
    "    \n",
    "    epoches.append(ep+1)\n",
    "    \n",
    "    test_acc.append(get_accuracy(true=eval_data['true_label'],\n",
    "                                 pred=eval_data['pred_label']))\n",
    "    train_acc.append(get_accuracy(true=train_data['true_label'],\n",
    "                                  pred=train_data['pred_label']))\n",
    "    \n",
    "    test_mae.append(get_mae_days(true=eval_data['true_tes'],\n",
    "                                 pred=eval_data['pred_tes'], scaler=scaler))\n",
    "    train_mae.append(get_mae_days(true=train_data['true_tes'],\n",
    "                                  pred=train_data['pred_tes'], scaler=scaler))\n",
    "    \n",
    "    test_ce.append(get_log_loss(true=eval_data['true_label'],\n",
    "                                     pred=eval_data['pred_label']))\n",
    "    train_ce.append(get_log_loss(true=train_data['true_label'],\n",
    "                                  pred=train_data['pred_label']))\n",
    "    \n",
    "    test_f1.append(get_f1_score(true=eval_data['true_label'],\n",
    "                                 pred=eval_data['pred_label']))\n",
    "    train_f1.append(get_f1_score(true=train_data['true_label'],\n",
    "                                  pred=train_data['pred_label']))\n",
    "    \n",
    "    display.clear_output(wait=True)\n",
    "    plot_learning(test_acc=test_acc, train_acc=train_acc,\n",
    "                  test_mae=test_mae, train_mae=train_mae,\n",
    "                  test_f1=test_f1, train_f1=train_f1,\n",
    "                  test_ce=test_ce, train_ce=train_ce,\n",
    "                  epoches=epoches\n",
    "                  )"
   ]
  },
  {
   "cell_type": "markdown",
   "metadata": {},
   "source": [
    "## Hyper param tune"
   ]
  },
  {
   "cell_type": "code",
   "execution_count": 150,
   "metadata": {},
   "outputs": [],
   "source": [
    "def train_hyper(config, train_dataloader, test_dataloader, n_classes, n_epoches=40, checkpoint_dir=None):\n",
    "    device = \"cuda\" if torch.cuda.is_available() else \"cpu\"\n",
    "    model = Net(input_size=input_size, hidden_layer=config['hidden'], n_lstm=config['n_lstm'],\n",
    "            m_lstm=config['m_lstm'], n_classes=n_classes).to(device)\n",
    "    \n",
    "    optimizer = torch.optim.Adam(model.parameters(), lr=config['lr'])\n",
    "    \n",
    "    loss_ac = torch.nn.CrossEntropyLoss()\n",
    "    loss_te = torch.nn.SmoothL1Loss()\n",
    "    for epoch in range(n_epoches):\n",
    "        train_result = train_one_epoch(dataloader=train_dataloader, device=device, model=model, optimizer=optimizer,\n",
    "                                       loss_ac=loss_ac, loss_te=loss_te, n_classes=n_classes)\n",
    "        eval_data = for_evaluate(test_dataloader, model, n_classes=n_classes, device=device)\n",
    "        \n",
    "        with tune.checkpoint_dir(epoch) as checkpoint_dir:\n",
    "            path = os.path.join(checkpoint_dir, \"checkpoint\")\n",
    "            torch.save((model.state_dict(), optimizer.state_dict()), path)\n",
    "            \n",
    "        val_loss = get_log_loss(true=eval_data['true_label'],\n",
    "                                pred=eval_data['pred_label'])\n",
    "        vall_acc = get_accuracy(true=train_data['true_label'],\n",
    "                                pred=train_data['pred_label'])\n",
    "        tune.report(loss=val_loss, accuracy=vall_acc)"
   ]
  },
  {
   "cell_type": "code",
   "execution_count": 151,
   "metadata": {
    "scrolled": true
   },
   "outputs": [
    {
     "name": "stderr",
     "output_type": "stream",
     "text": [
      "2021-06-09 19:54:33,419\tWARNING experiment.py:293 -- No name detected on trainable. Using DEFAULT.\n",
      "2021-06-09 19:54:33,419\tINFO registry.py:64 -- Detected unknown callable for trainable. Converting to class.\n",
      "2021-06-09 19:54:37,996\tWARNING worker.py:1114 -- Warning: The actor ImplicitFunc has size 68880395 when pickled. It will be stored in Redis, which could cause memory issues. This may mean that its definition uses a large array or other object.\n",
      "2021-06-09 19:54:38,074\tWARNING util.py:161 -- The `start_trial` operation took 2.034 s, which may be a performance bottleneck.\n"
     ]
    },
    {
     "name": "stdout",
     "output_type": "stream",
     "text": [
      "== Status ==\n",
      "Memory usage on this node: 11.6/15.9 GiB\n",
      "Using AsyncHyperBand: num_stopped=0\n",
      "Bracket: Iter 128.000: None | Iter 64.000: None | Iter 32.000: None | Iter 16.000: None | Iter 8.000: None | Iter 4.000: None | Iter 2.000: None | Iter 1.000: None\n",
      "Resources requested: 2.0/12 CPUs, 1.0/1 GPUs, 0.0/4.78 GiB heap, 0.0/2.39 GiB objects\n",
      "Result logdir: C:\\Users\\PC\\ray_results\\DEFAULT_2021-06-09_19-54-33\n",
      "Number of trials: 1/1 (1 RUNNING)\n",
      "+---------------------+----------+-------+--------------+----------+-------------+----------+----------+\n",
      "| Trial name          | status   | loc   |   batch_size |   hidden |          lr |   m_lstm |   n_lstm |\n",
      "|---------------------+----------+-------+--------------+----------+-------------+----------+----------|\n",
      "| DEFAULT_5e311_00000 | RUNNING  |       |          256 |      128 | 0.000182385 |        2 |        1 |\n",
      "+---------------------+----------+-------+--------------+----------+-------------+----------+----------+\n",
      "\n",
      "\n",
      "Result for DEFAULT_5e311_00000:\n",
      "  accuracy: 0.7778032771836416\n",
      "  date: 2021-06-09_19-54-43\n",
      "  done: false\n",
      "  experiment_id: c50def35184a4c34abf9339971023e68\n",
      "  hostname: DESKTOP-L3AVIJ6\n",
      "  iterations_since_restore: 1\n",
      "  loss: 1.7884581089019775\n",
      "  node_ip: 192.168.1.182\n",
      "  pid: 7464\n",
      "  should_checkpoint: true\n",
      "  time_since_restore: 3.65682315826416\n",
      "  time_this_iter_s: 3.65682315826416\n",
      "  time_total_s: 3.65682315826416\n",
      "  timestamp: 1623257683\n",
      "  timesteps_since_restore: 0\n",
      "  training_iteration: 1\n",
      "  trial_id: 5e311_00000\n",
      "  \n",
      "== Status ==\n",
      "Memory usage on this node: 13.8/15.9 GiB\n",
      "Using AsyncHyperBand: num_stopped=0\n",
      "Bracket: Iter 128.000: None | Iter 64.000: None | Iter 32.000: None | Iter 16.000: None | Iter 8.000: None | Iter 4.000: None | Iter 2.000: None | Iter 1.000: 0.7778032771836416\n",
      "Resources requested: 2.0/12 CPUs, 1.0/1 GPUs, 0.0/4.78 GiB heap, 0.0/2.39 GiB objects\n",
      "Result logdir: C:\\Users\\PC\\ray_results\\DEFAULT_2021-06-09_19-54-33\n",
      "Number of trials: 1/1 (1 RUNNING)\n",
      "+---------------------+----------+--------------------+--------------+----------+-------------+----------+----------+---------+------------+----------------------+\n",
      "| Trial name          | status   | loc                |   batch_size |   hidden |          lr |   m_lstm |   n_lstm |    loss |   accuracy |   training_iteration |\n",
      "|---------------------+----------+--------------------+--------------+----------+-------------+----------+----------+---------+------------+----------------------|\n",
      "| DEFAULT_5e311_00000 | RUNNING  | 192.168.1.182:7464 |          256 |      128 | 0.000182385 |        2 |        1 | 1.78846 |   0.777803 |                    1 |\n",
      "+---------------------+----------+--------------------+--------------+----------+-------------+----------+----------+---------+------------+----------------------+\n",
      "\n",
      "\n"
     ]
    },
    {
     "name": "stderr",
     "output_type": "stream",
     "text": [
      "2021-06-09 19:54:44,964\tWARNING util.py:161 -- The `process_trial_save` operation took 1.185 s, which may be a performance bottleneck.\n",
      "2021-06-09 19:54:47,440\tWARNING util.py:161 -- The `process_trial_save` operation took 0.985 s, which may be a performance bottleneck.\n"
     ]
    },
    {
     "name": "stdout",
     "output_type": "stream",
     "text": [
      "Result for DEFAULT_5e311_00000:\n",
      "  accuracy: 0.7778032771836416\n",
      "  date: 2021-06-09_19-54-48\n",
      "  done: false\n",
      "  experiment_id: c50def35184a4c34abf9339971023e68\n",
      "  hostname: DESKTOP-L3AVIJ6\n",
      "  iterations_since_restore: 3\n",
      "  loss: 1.7319129705429077\n",
      "  node_ip: 192.168.1.182\n",
      "  pid: 7464\n",
      "  should_checkpoint: true\n",
      "  time_since_restore: 8.797980308532715\n",
      "  time_this_iter_s: 2.463554859161377\n",
      "  time_total_s: 8.797980308532715\n",
      "  timestamp: 1623257688\n",
      "  timesteps_since_restore: 0\n",
      "  training_iteration: 3\n",
      "  trial_id: 5e311_00000\n",
      "  \n",
      "== Status ==\n",
      "Memory usage on this node: 13.9/15.9 GiB\n",
      "Using AsyncHyperBand: num_stopped=0\n",
      "Bracket: Iter 128.000: None | Iter 64.000: None | Iter 32.000: None | Iter 16.000: None | Iter 8.000: None | Iter 4.000: None | Iter 2.000: 0.7778032771836416 | Iter 1.000: 0.7778032771836416\n",
      "Resources requested: 2.0/12 CPUs, 1.0/1 GPUs, 0.0/4.78 GiB heap, 0.0/2.39 GiB objects\n",
      "Result logdir: C:\\Users\\PC\\ray_results\\DEFAULT_2021-06-09_19-54-33\n",
      "Number of trials: 1/1 (1 RUNNING)\n",
      "+---------------------+----------+--------------------+--------------+----------+-------------+----------+----------+---------+------------+----------------------+\n",
      "| Trial name          | status   | loc                |   batch_size |   hidden |          lr |   m_lstm |   n_lstm |    loss |   accuracy |   training_iteration |\n",
      "|---------------------+----------+--------------------+--------------+----------+-------------+----------+----------+---------+------------+----------------------|\n",
      "| DEFAULT_5e311_00000 | RUNNING  | 192.168.1.182:7464 |          256 |      128 | 0.000182385 |        2 |        1 | 1.73191 |   0.777803 |                    3 |\n",
      "+---------------------+----------+--------------------+--------------+----------+-------------+----------+----------+---------+------------+----------------------+\n",
      "\n",
      "\n"
     ]
    },
    {
     "name": "stderr",
     "output_type": "stream",
     "text": [
      "2021-06-09 19:54:49,882\tWARNING util.py:161 -- The `process_trial_save` operation took 0.959 s, which may be a performance bottleneck.\n",
      "2021-06-09 19:54:52,324\tWARNING util.py:161 -- The `process_trial_save` operation took 0.960 s, which may be a performance bottleneck.\n",
      "\u001b[2m\u001b[36m(pid=None)\u001b[0m c:\\users\\pc\\appdata\\local\\programs\\python\\python38\\lib\\site-packages\\ray\\autoscaler\\_private\\cli_logger.py:57: FutureWarning: Not all Ray CLI dependencies were found. In Ray 1.4+, the Ray CLI, autoscaler, and dashboard will only be usable via `pip install 'ray[default]'`. Please update your install command.\n",
      "\u001b[2m\u001b[36m(pid=None)\u001b[0m   warnings.warn(\n",
      "2021-06-09 19:54:54,810\tWARNING util.py:161 -- The `process_trial_save` operation took 1.014 s, which may be a performance bottleneck.\n"
     ]
    },
    {
     "name": "stdout",
     "output_type": "stream",
     "text": [
      "== Status ==\n",
      "Memory usage on this node: 13.9/15.9 GiB\n",
      "Using AsyncHyperBand: num_stopped=0\n",
      "Bracket: Iter 128.000: None | Iter 64.000: None | Iter 32.000: None | Iter 16.000: None | Iter 8.000: None | Iter 4.000: 0.7778032771836416 | Iter 2.000: 0.7778032771836416 | Iter 1.000: 0.7778032771836416\n",
      "Resources requested: 2.0/12 CPUs, 1.0/1 GPUs, 0.0/4.78 GiB heap, 0.0/2.39 GiB objects\n",
      "Result logdir: C:\\Users\\PC\\ray_results\\DEFAULT_2021-06-09_19-54-33\n",
      "Number of trials: 1/1 (1 RUNNING)\n",
      "+---------------------+----------+--------------------+--------------+----------+-------------+----------+----------+---------+------------+----------------------+\n",
      "| Trial name          | status   | loc                |   batch_size |   hidden |          lr |   m_lstm |   n_lstm |    loss |   accuracy |   training_iteration |\n",
      "|---------------------+----------+--------------------+--------------+----------+-------------+----------+----------+---------+------------+----------------------|\n",
      "| DEFAULT_5e311_00000 | RUNNING  | 192.168.1.182:7464 |          256 |      128 | 0.000182385 |        2 |        1 | 1.63229 |   0.777803 |                    5 |\n",
      "+---------------------+----------+--------------------+--------------+----------+-------------+----------+----------+---------+------------+----------------------+\n",
      "\n",
      "\n",
      "Result for DEFAULT_5e311_00000:\n",
      "  accuracy: 0.7778032771836416\n",
      "  date: 2021-06-09_19-54-56\n",
      "  done: false\n",
      "  experiment_id: c50def35184a4c34abf9339971023e68\n",
      "  hostname: DESKTOP-L3AVIJ6\n",
      "  iterations_since_restore: 6\n",
      "  loss: 1.602117657661438\n",
      "  node_ip: 192.168.1.182\n",
      "  pid: 7464\n",
      "  should_checkpoint: true\n",
      "  time_since_restore: 16.170639038085938\n",
      "  time_this_iter_s: 2.4945619106292725\n",
      "  time_total_s: 16.170639038085938\n",
      "  timestamp: 1623257696\n",
      "  timesteps_since_restore: 0\n",
      "  training_iteration: 6\n",
      "  trial_id: 5e311_00000\n",
      "  \n"
     ]
    },
    {
     "name": "stderr",
     "output_type": "stream",
     "text": [
      "2021-06-09 19:54:57,263\tWARNING util.py:161 -- The `process_trial_save` operation took 0.972 s, which may be a performance bottleneck.\n",
      "2021-06-09 19:54:59,803\tWARNING util.py:161 -- The `process_trial_save` operation took 0.976 s, which may be a performance bottleneck.\n"
     ]
    },
    {
     "name": "stdout",
     "output_type": "stream",
     "text": [
      "== Status ==\n",
      "Memory usage on this node: 13.9/15.9 GiB\n",
      "Using AsyncHyperBand: num_stopped=0\n",
      "Bracket: Iter 128.000: None | Iter 64.000: None | Iter 32.000: None | Iter 16.000: None | Iter 8.000: 0.7778032771836416 | Iter 4.000: 0.7778032771836416 | Iter 2.000: 0.7778032771836416 | Iter 1.000: 0.7778032771836416\n",
      "Resources requested: 2.0/12 CPUs, 1.0/1 GPUs, 0.0/4.78 GiB heap, 0.0/2.39 GiB objects\n",
      "Result logdir: C:\\Users\\PC\\ray_results\\DEFAULT_2021-06-09_19-54-33\n",
      "Number of trials: 1/1 (1 RUNNING)\n",
      "+---------------------+----------+--------------------+--------------+----------+-------------+----------+----------+--------+------------+----------------------+\n",
      "| Trial name          | status   | loc                |   batch_size |   hidden |          lr |   m_lstm |   n_lstm |   loss |   accuracy |   training_iteration |\n",
      "|---------------------+----------+--------------------+--------------+----------+-------------+----------+----------+--------+------------+----------------------|\n",
      "| DEFAULT_5e311_00000 | RUNNING  | 192.168.1.182:7464 |          256 |      128 | 0.000182385 |        2 |        1 | 1.5914 |   0.777803 |                    8 |\n",
      "+---------------------+----------+--------------------+--------------+----------+-------------+----------+----------+--------+------------+----------------------+\n",
      "\n",
      "\n"
     ]
    },
    {
     "name": "stderr",
     "output_type": "stream",
     "text": [
      "2021-06-09 19:55:02,246\tWARNING util.py:161 -- The `process_trial_save` operation took 0.966 s, which may be a performance bottleneck.\n"
     ]
    },
    {
     "name": "stdout",
     "output_type": "stream",
     "text": [
      "Result for DEFAULT_5e311_00000:\n",
      "  accuracy: 0.7778032771836416\n",
      "  date: 2021-06-09_19-55-03\n",
      "  done: false\n",
      "  experiment_id: c50def35184a4c34abf9339971023e68\n",
      "  hostname: DESKTOP-L3AVIJ6\n",
      "  iterations_since_restore: 9\n",
      "  loss: 1.6077830791473389\n",
      "  node_ip: 192.168.1.182\n",
      "  pid: 7464\n",
      "  should_checkpoint: true\n",
      "  time_since_restore: 23.60642409324646\n",
      "  time_this_iter_s: 2.4471936225891113\n",
      "  time_total_s: 23.60642409324646\n",
      "  timestamp: 1623257703\n",
      "  timesteps_since_restore: 0\n",
      "  training_iteration: 9\n",
      "  trial_id: 5e311_00000\n",
      "  \n"
     ]
    },
    {
     "name": "stderr",
     "output_type": "stream",
     "text": [
      "2021-06-09 19:55:04,705\tWARNING util.py:161 -- The `process_trial_save` operation took 0.978 s, which may be a performance bottleneck.\n",
      "2021-06-09 19:55:07,175\tWARNING util.py:161 -- The `process_trial_save` operation took 0.968 s, which may be a performance bottleneck.\n"
     ]
    },
    {
     "name": "stdout",
     "output_type": "stream",
     "text": [
      "== Status ==\n",
      "Memory usage on this node: 13.9/15.9 GiB\n",
      "Using AsyncHyperBand: num_stopped=0\n",
      "Bracket: Iter 128.000: None | Iter 64.000: None | Iter 32.000: None | Iter 16.000: None | Iter 8.000: 0.7778032771836416 | Iter 4.000: 0.7778032771836416 | Iter 2.000: 0.7778032771836416 | Iter 1.000: 0.7778032771836416\n",
      "Resources requested: 2.0/12 CPUs, 1.0/1 GPUs, 0.0/4.78 GiB heap, 0.0/2.39 GiB objects\n",
      "Result logdir: C:\\Users\\PC\\ray_results\\DEFAULT_2021-06-09_19-54-33\n",
      "Number of trials: 1/1 (1 RUNNING)\n",
      "+---------------------+----------+--------------------+--------------+----------+-------------+----------+----------+---------+------------+----------------------+\n",
      "| Trial name          | status   | loc                |   batch_size |   hidden |          lr |   m_lstm |   n_lstm |    loss |   accuracy |   training_iteration |\n",
      "|---------------------+----------+--------------------+--------------+----------+-------------+----------+----------+---------+------------+----------------------|\n",
      "| DEFAULT_5e311_00000 | RUNNING  | 192.168.1.182:7464 |          256 |      128 | 0.000182385 |        2 |        1 | 1.59718 |   0.777803 |                   10 |\n",
      "+---------------------+----------+--------------------+--------------+----------+-------------+----------+----------+---------+------------+----------------------+\n",
      "\n",
      "\n",
      "Result for DEFAULT_5e311_00000:\n",
      "  accuracy: 0.7778032771836416\n",
      "  date: 2021-06-09_19-55-06\n",
      "  done: true\n",
      "  experiment_id: c50def35184a4c34abf9339971023e68\n",
      "  experiment_tag: 0_batch_size=256,hidden=128,lr=0.00018239,m_lstm=2,n_lstm=1\n",
      "  hostname: DESKTOP-L3AVIJ6\n",
      "  iterations_since_restore: 10\n",
      "  loss: 1.5971827507019043\n",
      "  node_ip: 192.168.1.182\n",
      "  pid: 7464\n",
      "  should_checkpoint: true\n",
      "  time_since_restore: 26.08692741394043\n",
      "  time_this_iter_s: 2.4805033206939697\n",
      "  time_total_s: 26.08692741394043\n",
      "  timestamp: 1623257706\n",
      "  timesteps_since_restore: 0\n",
      "  training_iteration: 10\n",
      "  trial_id: 5e311_00000\n",
      "  \n"
     ]
    },
    {
     "name": "stderr",
     "output_type": "stream",
     "text": [
      "2021-06-09 19:55:08,167\tWARNING util.py:161 -- The `process_trial_save` operation took 0.983 s, which may be a performance bottleneck.\n",
      "\u001b[2m\u001b[36m(pid=7464)\u001b[0m Windows fatal exception: access violation\n",
      "\u001b[2m\u001b[36m(pid=7464)\u001b[0m \n",
      "2021-06-09 19:55:08,278\tINFO tune.py:549 -- Total run time: 34.86 seconds (33.65 seconds for the tuning loop).\n"
     ]
    },
    {
     "name": "stdout",
     "output_type": "stream",
     "text": [
      "== Status ==\n",
      "Memory usage on this node: 13.9/15.9 GiB\n",
      "Using AsyncHyperBand: num_stopped=0\n",
      "Bracket: Iter 128.000: None | Iter 64.000: None | Iter 32.000: None | Iter 16.000: None | Iter 8.000: 0.7778032771836416 | Iter 4.000: 0.7778032771836416 | Iter 2.000: 0.7778032771836416 | Iter 1.000: 0.7778032771836416\n",
      "Resources requested: 0/12 CPUs, 0/1 GPUs, 0.0/4.78 GiB heap, 0.0/2.39 GiB objects\n",
      "Result logdir: C:\\Users\\PC\\ray_results\\DEFAULT_2021-06-09_19-54-33\n",
      "Number of trials: 1/1 (1 TERMINATED)\n",
      "+---------------------+------------+-------+--------------+----------+-------------+----------+----------+---------+------------+----------------------+\n",
      "| Trial name          | status     | loc   |   batch_size |   hidden |          lr |   m_lstm |   n_lstm |    loss |   accuracy |   training_iteration |\n",
      "|---------------------+------------+-------+--------------+----------+-------------+----------+----------+---------+------------+----------------------|\n",
      "| DEFAULT_5e311_00000 | TERMINATED |       |          256 |      128 | 0.000182385 |        2 |        1 | 1.59718 |   0.777803 |                   10 |\n",
      "+---------------------+------------+-------+--------------+----------+-------------+----------+----------+---------+------------+----------------------+\n",
      "\n",
      "\n"
     ]
    },
    {
     "name": "stderr",
     "output_type": "stream",
     "text": [
      "\u001b[2m\u001b[36m(pid=None)\u001b[0m c:\\users\\pc\\appdata\\local\\programs\\python\\python38\\lib\\site-packages\\ray\\autoscaler\\_private\\cli_logger.py:57: FutureWarning: Not all Ray CLI dependencies were found. In Ray 1.4+, the Ray CLI, autoscaler, and dashboard will only be usable via `pip install 'ray[default]'`. Please update your install command.\r\n",
      "\u001b[2m\u001b[36m(pid=None)\u001b[0m   warnings.warn(\r\n"
     ]
    }
   ],
   "source": [
    "from functools import partial\n",
    "import os\n",
    "from torch.utils.data import random_split\n",
    "from ray import tune\n",
    "from ray.tune import CLIReporter\n",
    "from ray.tune.schedulers import ASHAScheduler\n",
    "\n",
    "data_dir = os.path.abspath(\"checkpoint\")\n",
    "config = {\n",
    "        \"n_lstm\": tune.choice([1, 2, 3]),\n",
    "        \"m_lstm\": tune.choice([1, 2, 3]),\n",
    "        \"lr\": tune.loguniform(1e-4, 1e-1),\n",
    "        \"batch_size\": tune.choice([128, 256]),\n",
    "        \"hidden\": tune.choice([128, 200, 300])\n",
    "    }\n",
    "\n",
    "scheduler = ASHAScheduler(\n",
    "        metric=\"accuracy\",\n",
    "        mode=\"max\",\n",
    "        max_t=200,\n",
    "        grace_period=1,\n",
    "        reduction_factor=2)\n",
    "\n",
    "reporter = CLIReporter(metric_columns=[\"loss\", \"accuracy\", \"training_iteration\"])\n",
    "\n",
    "result = tune.run(partial(train_hyper, train_dataloader=train_dataloader,\n",
    "                          test_dataloader=test_dataloader, n_classes=6,\n",
    "                          n_epoches=10\n",
    "                         ),\n",
    "                  resources_per_trial={\"cpu\": 2, \"gpu\": 1},\n",
    "                  num_samples=1,\n",
    "                  scheduler=scheduler,\n",
    "                  config=config,\n",
    "                  progress_reporter=reporter)\n"
   ]
  },
  {
   "cell_type": "code",
   "execution_count": null,
   "metadata": {},
   "outputs": [],
   "source": []
  }
 ],
 "metadata": {
  "kernelspec": {
   "display_name": "Python 3",
   "language": "python",
   "name": "python3"
  },
  "language_info": {
   "codemirror_mode": {
    "name": "ipython",
    "version": 3
   },
   "file_extension": ".py",
   "mimetype": "text/x-python",
   "name": "python",
   "nbconvert_exporter": "python",
   "pygments_lexer": "ipython3",
   "version": "3.8.6"
  }
 },
 "nbformat": 4,
 "nbformat_minor": 4
}
