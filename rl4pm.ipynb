{
 "cells": [
  {
   "cell_type": "code",
   "execution_count": 1,
   "metadata": {},
   "outputs": [],
   "source": [
    "import pm4py\n",
    "import pandas as pd\n",
    "import datetime\n",
    "from math import ceil\n",
    "import matplotlib.pyplot as plt\n",
    "import torch\n",
    "import numpy as np\n",
    "import gym\n",
    "from importlib import reload\n",
    "import random\n",
    "from random import shuffle\n",
    "\n",
    "\n",
    "from IPython import display"
   ]
  },
  {
   "cell_type": "markdown",
   "metadata": {},
   "source": [
    "# Data\n",
    "## Download and read\n",
    "- Download `.xes` file(archive) from [here](https://data.4tu.nl/articles/dataset/BPI_Challenge_2012/12689204)\n",
    "- Read this `.xes`\n",
    "- Convert to good old `.csv`\n",
    "\n",
    "## Drop data\n",
    "In the article only (activity, time_stamp) is used. Also leave trace id"
   ]
  },
  {
   "cell_type": "code",
   "execution_count": 2,
   "metadata": {},
   "outputs": [],
   "source": [
    "try:\n",
    "    df = pd.read_csv('bpi_12.csv')\n",
    "    df['timestamp'] = df['timestamp'].apply(lambda x: datetime.datetime.fromisoformat(x))\n",
    "except FileNotFoundError:\n",
    "    file_path = 'BPI_Challenge_2012.xes'\n",
    "    event_log = pm4py.read_xes(file_path)\n",
    "    start_activities = pm4py.get_start_activities(event_log)\n",
    "    end_activities = pm4py.get_end_activities(event_log)\n",
    "    df = pm4py.convert_to_dataframe(event_log)\n",
    "    df = df[['time:timestamp', 'case:concept:name', 'concept:name']]\n",
    "    df = df.rename(columns={'time:timestamp': 'timestamp', 'case:concept:name': 'trace_id', 'concept:name': 'activity'})\n",
    "    df['trace_id'] = df['trace_id'].apply(lambda x: int(x))\n",
    "    df.to_csv('bpi_12.csv', index=False)"
   ]
  },
  {
   "cell_type": "markdown",
   "metadata": {},
   "source": [
    "## Time-related features\n",
    "\n",
    "- $t_{w}$ - time passed between Sunday midnight and the event\n",
    "- $t_e$ - time passed between the completion of the given event and the completion of the previous one\n",
    "- $t_t$ - time passed between the start of the trace and the given event\n",
    "\n",
    "### $t_w$"
   ]
  },
  {
   "cell_type": "code",
   "execution_count": 3,
   "metadata": {},
   "outputs": [],
   "source": [
    "def get_t_w(df):\n",
    "    _df = df.copy()\n",
    "    _dt_s_mn = _df['timestamp'].apply(lambda x: (x - x.replace(hour=0, minute=0, second=0, microsecond=0)).total_seconds())\n",
    "    _dt_s_mn += _df['timestamp'].apply(lambda x: x.weekday() * 24 * 60 * 60)\n",
    "    return _dt_s_mn.values"
   ]
  },
  {
   "cell_type": "code",
   "execution_count": 4,
   "metadata": {},
   "outputs": [],
   "source": [
    "tw = get_t_w(df)"
   ]
  },
  {
   "cell_type": "markdown",
   "metadata": {},
   "source": [
    "### $t_e$"
   ]
  },
  {
   "cell_type": "code",
   "execution_count": 5,
   "metadata": {},
   "outputs": [],
   "source": [
    "def get_t_e(df):\n",
    "    te = df['timestamp'].copy().diff()\n",
    "    tr_diff = df['trace_id'].diff().fillna(1)\n",
    "    te[tr_diff != 0] = 0.\n",
    "    return te.values * 1e-9"
   ]
  },
  {
   "cell_type": "code",
   "execution_count": 6,
   "metadata": {},
   "outputs": [],
   "source": [
    "te = get_t_e(df)"
   ]
  },
  {
   "cell_type": "markdown",
   "metadata": {},
   "source": [
    "### $t_t$"
   ]
  },
  {
   "cell_type": "code",
   "execution_count": 7,
   "metadata": {},
   "outputs": [],
   "source": [
    "def get_t_t(df):\n",
    "    traces = list(set(df['trace_id']))\n",
    "    out = df.copy()[['timestamp', 'trace_id']]\n",
    "    t_ts = {}\n",
    "    for t in traces:\n",
    "        t_ts[t] = df['timestamp'][df['trace_id'] == t].min()\n",
    "    out['tt'] = out.apply(lambda x: (x['timestamp'] - t_ts[x['trace_id']]).total_seconds(), axis=1)\n",
    "    return out['tt'].values"
   ]
  },
  {
   "cell_type": "code",
   "execution_count": 8,
   "metadata": {},
   "outputs": [],
   "source": [
    "tt = get_t_t(df)"
   ]
  },
  {
   "cell_type": "code",
   "execution_count": 9,
   "metadata": {},
   "outputs": [],
   "source": [
    "df['tt'] = tt\n",
    "df['te'] = te\n",
    "df['tw'] = tw"
   ]
  },
  {
   "cell_type": "code",
   "execution_count": 10,
   "metadata": {},
   "outputs": [],
   "source": [
    "n_classes = len(set(df['activity']))"
   ]
  },
  {
   "cell_type": "code",
   "execution_count": 11,
   "metadata": {
    "scrolled": true
   },
   "outputs": [
    {
     "data": {
      "text/html": [
       "<div>\n",
       "<style scoped>\n",
       "    .dataframe tbody tr th:only-of-type {\n",
       "        vertical-align: middle;\n",
       "    }\n",
       "\n",
       "    .dataframe tbody tr th {\n",
       "        vertical-align: top;\n",
       "    }\n",
       "\n",
       "    .dataframe thead th {\n",
       "        text-align: right;\n",
       "    }\n",
       "</style>\n",
       "<table border=\"1\" class=\"dataframe\">\n",
       "  <thead>\n",
       "    <tr style=\"text-align: right;\">\n",
       "      <th></th>\n",
       "      <th>timestamp</th>\n",
       "      <th>trace_id</th>\n",
       "      <th>activity</th>\n",
       "      <th>tt</th>\n",
       "      <th>te</th>\n",
       "      <th>tw</th>\n",
       "    </tr>\n",
       "  </thead>\n",
       "  <tbody>\n",
       "    <tr>\n",
       "      <th>0</th>\n",
       "      <td>2011-10-01 00:38:44.546000+02:00</td>\n",
       "      <td>173688</td>\n",
       "      <td>A_SUBMITTED</td>\n",
       "      <td>0.000</td>\n",
       "      <td>0.000</td>\n",
       "      <td>434324.546</td>\n",
       "    </tr>\n",
       "    <tr>\n",
       "      <th>1</th>\n",
       "      <td>2011-10-01 00:38:44.880000+02:00</td>\n",
       "      <td>173688</td>\n",
       "      <td>A_PARTLYSUBMITTED</td>\n",
       "      <td>0.334</td>\n",
       "      <td>0.334</td>\n",
       "      <td>434324.880</td>\n",
       "    </tr>\n",
       "    <tr>\n",
       "      <th>2</th>\n",
       "      <td>2011-10-01 00:39:37.906000+02:00</td>\n",
       "      <td>173688</td>\n",
       "      <td>A_PREACCEPTED</td>\n",
       "      <td>53.360</td>\n",
       "      <td>53.026</td>\n",
       "      <td>434377.906</td>\n",
       "    </tr>\n",
       "    <tr>\n",
       "      <th>3</th>\n",
       "      <td>2011-10-01 00:39:38.875000+02:00</td>\n",
       "      <td>173688</td>\n",
       "      <td>W_Completeren aanvraag</td>\n",
       "      <td>54.329</td>\n",
       "      <td>0.969</td>\n",
       "      <td>434378.875</td>\n",
       "    </tr>\n",
       "    <tr>\n",
       "      <th>4</th>\n",
       "      <td>2011-10-01 11:36:46.437000+02:00</td>\n",
       "      <td>173688</td>\n",
       "      <td>W_Completeren aanvraag</td>\n",
       "      <td>39481.891</td>\n",
       "      <td>39427.562</td>\n",
       "      <td>473806.437</td>\n",
       "    </tr>\n",
       "  </tbody>\n",
       "</table>\n",
       "</div>"
      ],
      "text/plain": [
       "                          timestamp  trace_id                activity  \\\n",
       "0  2011-10-01 00:38:44.546000+02:00    173688             A_SUBMITTED   \n",
       "1  2011-10-01 00:38:44.880000+02:00    173688       A_PARTLYSUBMITTED   \n",
       "2  2011-10-01 00:39:37.906000+02:00    173688           A_PREACCEPTED   \n",
       "3  2011-10-01 00:39:38.875000+02:00    173688  W_Completeren aanvraag   \n",
       "4  2011-10-01 11:36:46.437000+02:00    173688  W_Completeren aanvraag   \n",
       "\n",
       "          tt         te          tw  \n",
       "0      0.000      0.000  434324.546  \n",
       "1      0.334      0.334  434324.880  \n",
       "2     53.360     53.026  434377.906  \n",
       "3     54.329      0.969  434378.875  \n",
       "4  39481.891  39427.562  473806.437  "
      ]
     },
     "execution_count": 11,
     "metadata": {},
     "output_type": "execute_result"
    }
   ],
   "source": [
    "df.head()"
   ]
  },
  {
   "cell_type": "markdown",
   "metadata": {},
   "source": [
    "## Scaling\n",
    "later"
   ]
  },
  {
   "cell_type": "code",
   "execution_count": 12,
   "metadata": {},
   "outputs": [],
   "source": [
    "def scale_tw(df):\n",
    "    df['tw'] = df['tw'] / (24 * 60 * 60)\n",
    "    return 24 * 60 * 60.\n",
    "    \n",
    "    \n",
    "def scale_tt(df):\n",
    "    traces = list(set(df['trace_id'].values))\n",
    "    max_tt = 0\n",
    "    for t_id in traces:\n",
    "        loc_df = df[df['trace_id'] == t_id]\n",
    "        max_time = loc_df['timestamp'].max()\n",
    "        min_time = loc_df['timestamp'].min()\n",
    "        _max_tt = (max_time - min_time).total_seconds()\n",
    "        if _max_tt > max_tt:\n",
    "            max_tt = _max_tt\n",
    "    df['tt'] = df['tt'] / max_tt\n",
    "    return max_tt\n",
    "\n",
    "\n",
    "def scale_te(df):\n",
    "    traces = list(set(df['trace_id'].values))\n",
    "    max_te = 0\n",
    "    for t_id in traces:\n",
    "        loc_df = df[df['trace_id'] == t_id]['te']\n",
    "        _max_te = loc_df.diff().dropna().max()\n",
    "        if _max_te > max_te:\n",
    "            max_te = _max_te\n",
    "    df['te'] = df['te'] / max_te\n",
    "    return max_te"
   ]
  },
  {
   "cell_type": "code",
   "execution_count": 13,
   "metadata": {},
   "outputs": [
    {
     "data": {
      "text/plain": [
       "86400.0"
      ]
     },
     "execution_count": 13,
     "metadata": {},
     "output_type": "execute_result"
    }
   ],
   "source": [
    "tw_scale = scale_tw(df)\n",
    "tw_scale"
   ]
  },
  {
   "cell_type": "code",
   "execution_count": 14,
   "metadata": {},
   "outputs": [
    {
     "data": {
      "text/plain": [
       "11855936.012"
      ]
     },
     "execution_count": 14,
     "metadata": {},
     "output_type": "execute_result"
    }
   ],
   "source": [
    "tt_scale = scale_tt(df)\n",
    "tt_scale"
   ]
  },
  {
   "cell_type": "code",
   "execution_count": 15,
   "metadata": {},
   "outputs": [
    {
     "data": {
      "text/plain": [
       "8886255.847000001"
      ]
     },
     "execution_count": 15,
     "metadata": {},
     "output_type": "execute_result"
    }
   ],
   "source": [
    "te_scale = scale_te(df)\n",
    "te_scale"
   ]
  },
  {
   "cell_type": "markdown",
   "metadata": {},
   "source": [
    "## Activity:\n",
    "one hot"
   ]
  },
  {
   "cell_type": "code",
   "execution_count": 16,
   "metadata": {},
   "outputs": [],
   "source": [
    "traces = list(set(df['trace_id'].values))\n",
    "oh = pd.get_dummies(df['activity'])\n",
    "df = pd.concat([df, oh], axis=1)"
   ]
  },
  {
   "cell_type": "markdown",
   "metadata": {},
   "source": [
    "## Environment\n",
    "Ther given scheme is the following:\n",
    "- recieving window of $(a_i,\\ t_{e,\\ i},\\ t_{w,\\ i},\\ t_{t,\\ i}) = e_i$. So the input to model is $\\{ e_{i},\\ e_{i-1},\\ \\dots,\\ e_{i-ws} \\}$ \n",
    "- prodice $\\hat{e}_{i+1}$\n",
    "- predict $\\hat{e}_{i+2}$ using $\\{ \\hat{e}_{i+1},\\ e_{i},\\ \\dots,\\ e_{i-ws +1} \\}$\n",
    "The metric is calculated by `environment`. It returns rewards for time prediction and for next step classifiation. So basicly `env` just stores data of trace. "
   ]
  },
  {
   "cell_type": "markdown",
   "metadata": {},
   "source": [
    "### Default predictor\n",
    "Need to develop(debug) `Env`"
   ]
  },
  {
   "cell_type": "code",
   "execution_count": 17,
   "metadata": {},
   "outputs": [],
   "source": [
    "class Predictor:\n",
    "    def __init__(self, default_te=60, default_act=8):\n",
    "        self.default_act = default_act\n",
    "        self.default_te = default_te\n",
    "    def predict_te(self, x):\n",
    "        in_sh = x.shape[0]\n",
    "        return torch.ones(in_sh) * self.default_te\n",
    "    \n",
    "    def predict_a(self, x):\n",
    "        in_sh = x.shape[0]\n",
    "        return torch.ones(in_sh) * self.default_act"
   ]
  },
  {
   "cell_type": "markdown",
   "metadata": {},
   "source": [
    "Chose `[trace_id]` and create butch of traces, for learning"
   ]
  },
  {
   "cell_type": "code",
   "execution_count": 18,
   "metadata": {},
   "outputs": [
    {
     "data": {
      "text/plain": [
       "<module 'rl4pm_lib.utils' from 'C:\\\\Users\\\\PC\\\\Documents\\\\5th_course\\\\rl4pm\\\\rl4pm_lib\\\\utils.py'>"
      ]
     },
     "execution_count": 18,
     "metadata": {},
     "output_type": "execute_result"
    }
   ],
   "source": [
    "import rl4pm_lib.utils as utils\n",
    "reload(utils)"
   ]
  },
  {
   "cell_type": "code",
   "execution_count": 19,
   "metadata": {},
   "outputs": [],
   "source": [
    "\n",
    "env_trace_ids = traces[0: 8]\n",
    "\n",
    "env_matrix = utils.get_traces_matrix(df, env_trace_ids)"
   ]
  },
  {
   "cell_type": "markdown",
   "metadata": {},
   "source": [
    "These ara 'answers', and initial input"
   ]
  },
  {
   "cell_type": "code",
   "execution_count": 20,
   "metadata": {},
   "outputs": [],
   "source": [
    "window_size = 2\n",
    "predictor = Predictor()"
   ]
  },
  {
   "cell_type": "code",
   "execution_count": 21,
   "metadata": {},
   "outputs": [],
   "source": [
    "inp = env_matrix[:, :window_size]"
   ]
  },
  {
   "cell_type": "code",
   "execution_count": 22,
   "metadata": {},
   "outputs": [
    {
     "name": "stdout",
     "output_type": "stream",
     "text": [
      "tensor([8., 8., 8., 8., 8., 8., 8., 8.])\n",
      "tensor([60., 60., 60., 60., 60., 60., 60., 60.])\n"
     ]
    }
   ],
   "source": [
    "a = predictor.predict_a(inp)\n",
    "te = predictor.predict_te(inp)\n",
    "print(a)\n",
    "print(te)"
   ]
  },
  {
   "cell_type": "markdown",
   "metadata": {},
   "source": [
    "Then this predictions are inputs for next event prediction "
   ]
  },
  {
   "cell_type": "code",
   "execution_count": 23,
   "metadata": {},
   "outputs": [],
   "source": [
    "column_feature = {'te': 0, 'tt': 1, 'tw': 2}"
   ]
  },
  {
   "cell_type": "code",
   "execution_count": 24,
   "metadata": {},
   "outputs": [
    {
     "data": {
      "text/plain": [
       "<module 'rl4pm_lib.envs' from 'C:\\\\Users\\\\PC\\\\Documents\\\\5th_course\\\\rl4pm\\\\rl4pm_lib\\\\envs.py'>"
      ]
     },
     "execution_count": 24,
     "metadata": {},
     "output_type": "execute_result"
    }
   ],
   "source": [
    "import rl4pm_lib.envs as envs\n",
    "reload(envs)"
   ]
  },
  {
   "cell_type": "code",
   "execution_count": 25,
   "metadata": {},
   "outputs": [],
   "source": [
    "next_inp = envs.get_next_input(inp, a, te, column_feature)"
   ]
  },
  {
   "cell_type": "code",
   "execution_count": 26,
   "metadata": {},
   "outputs": [
    {
     "data": {
      "text/plain": [
       "tensor([ 3.9697, 63.9697], dtype=torch.float64)"
      ]
     },
     "execution_count": 26,
     "metadata": {},
     "output_type": "execute_result"
    }
   ],
   "source": [
    "next_inp[0, :, 2]"
   ]
  },
  {
   "cell_type": "markdown",
   "metadata": {},
   "source": [
    "Basicly this is for NN's predictions, but for env function which works with 1 event window is needed"
   ]
  },
  {
   "cell_type": "code",
   "execution_count": 27,
   "metadata": {},
   "outputs": [],
   "source": [
    "next_inp_ = envs.get_next_input(inp[0].unsqueeze(0), a[0].unsqueeze(0), te[0].unsqueeze(0), column_feature)[0]"
   ]
  },
  {
   "cell_type": "code",
   "execution_count": 28,
   "metadata": {},
   "outputs": [
    {
     "data": {
      "text/plain": [
       "torch.Size([2, 27])"
      ]
     },
     "execution_count": 28,
     "metadata": {},
     "output_type": "execute_result"
    }
   ],
   "source": [
    "next_inp_.shape"
   ]
  },
  {
   "cell_type": "markdown",
   "metadata": {},
   "source": [
    "Working is snippet is just above"
   ]
  },
  {
   "cell_type": "markdown",
   "metadata": {},
   "source": [
    "Also `env` returns a reward for predicion. Step is applied not for tensor of events for several traces, but for 1 event of trace"
   ]
  },
  {
   "cell_type": "code",
   "execution_count": 29,
   "metadata": {},
   "outputs": [],
   "source": [
    "te_key_times = [0., 1., 10., 60., 120., 240., 480., 1440., 2880., 4320.,\n",
    "                7200., 10080., 14400., 20160., 30240., 40320., 50400.]\n",
    "te_intervals = [(te_key_times[i], te_key_times[i+1])\n",
    "             for i in range(len(te_key_times)-1)]"
   ]
  },
  {
   "cell_type": "code",
   "execution_count": 30,
   "metadata": {},
   "outputs": [
    {
     "name": "stdout",
     "output_type": "stream",
     "text": [
      "true: 0.0038123838187077573\n",
      "pred: 60.0\n",
      "nice))))\n"
     ]
    }
   ],
   "source": [
    "# here wee neet counter to controll answers\n",
    "curr_step = 3\n",
    "trace = 2\n",
    "te_pred = next_inp[trace, -1, column_feature['tt']]\n",
    "te_true = env_matrix[trace, curr_step, column_feature['tt']]\n",
    "\n",
    "print(f'true: {te_true}\\npred: {te_pred}\\nnice))))')"
   ]
  },
  {
   "cell_type": "code",
   "execution_count": 31,
   "metadata": {},
   "outputs": [
    {
     "data": {
      "text/plain": [
       "tensor([0, 0, 1])"
      ]
     },
     "execution_count": 31,
     "metadata": {},
     "output_type": "execute_result"
    }
   ],
   "source": [
    "true = torch.tensor([62., 700., 61.])\n",
    "pred = torch.tensor([700., 62., 62.]) \n",
    "envs.get_te_reward(true=true, pred=pred, intervals=te_intervals)"
   ]
  },
  {
   "cell_type": "code",
   "execution_count": 32,
   "metadata": {},
   "outputs": [],
   "source": [
    "true = torch.tensor([62., 700., 61.])\n",
    "pred = torch.tensor([700., 62., 62.]) \n",
    "assert (envs.get_te_reward(true=true, pred=pred, intervals=te_intervals) == torch.tensor([0, 0, 1]).bool()).all"
   ]
  },
  {
   "cell_type": "markdown",
   "metadata": {},
   "source": [
    "Pipe line to deal with multiple traces needed"
   ]
  },
  {
   "cell_type": "code",
   "execution_count": 33,
   "metadata": {},
   "outputs": [],
   "source": [
    "assert envs.get_act_reward(true_act_oh=torch.tensor([[1, 0, 0, 0]]), pred_act_oh=torch.tensor([[1, 0, 0, 0]])) == 1\n",
    "assert envs.get_act_reward(true_act_oh=torch.tensor([[0, 1, 0, 0]]), pred_act_oh=torch.tensor([[1, 0, 0, 0]])) == 0"
   ]
  },
  {
   "cell_type": "code",
   "execution_count": 34,
   "metadata": {},
   "outputs": [
    {
     "data": {
      "text/plain": [
       "tensor([1, 0])"
      ]
     },
     "execution_count": 34,
     "metadata": {},
     "output_type": "execute_result"
    }
   ],
   "source": [
    "envs.get_act_reward(true_act_oh=torch.tensor([[1, 0, 0, 0],\n",
    "                                          [1, 0, 0, 0]\n",
    "                                         ]),\n",
    "                pred_act_oh=torch.tensor([[1, 0, 0, 0],\n",
    "                                          [0, 1, 0, 0]\n",
    "                                         ]))"
   ]
  },
  {
   "cell_type": "markdown",
   "metadata": {},
   "source": [
    "We can prodice all the env must do in working cycle:\n",
    "```\n",
    "next_s, (reward_te, reward_act), is_done, add_inf = env.step(next_te, next_act)\n",
    "```\n",
    "Let's build class! "
   ]
  },
  {
   "cell_type": "code",
   "execution_count": 35,
   "metadata": {},
   "outputs": [
    {
     "data": {
      "text/plain": [
       "<module 'rl4pm_lib.envs' from 'C:\\\\Users\\\\PC\\\\Documents\\\\5th_course\\\\rl4pm\\\\rl4pm_lib\\\\envs.py'>"
      ]
     },
     "execution_count": 35,
     "metadata": {},
     "output_type": "execute_result"
    }
   ],
   "source": [
    "from rl4pm_lib import envs\n",
    "reload(envs)"
   ]
  },
  {
   "cell_type": "markdown",
   "metadata": {},
   "source": [
    "Gonna run this and go chill"
   ]
  },
  {
   "cell_type": "code",
   "execution_count": 36,
   "metadata": {},
   "outputs": [],
   "source": [
    "reload(envs)\n",
    "env = envs.PMEnv(data=env_matrix, intervals_te_rew=te_intervals, column_to_time_features=column_feature, window_size=window_size)\n",
    "\n",
    "inp = env.reset()\n",
    "# predictor is a NN, it works with batches of states\n",
    "is_done = torch.zeros(env_matrix.shape[0]).bool()\n",
    "while not is_done.all():\n",
    "\n",
    "    n_traces = inp.shape[0]\n",
    "    next_act = predictor.predict_a(inp.view(n_traces, -1))\n",
    "    next_te = predictor.predict_te(inp.view(n_traces, -1))\n",
    "    inp, (reward_te, reward_act), is_done, add_inf = env.step(next_te, next_act)"
   ]
  },
  {
   "cell_type": "markdown",
   "metadata": {},
   "source": [
    "## LSTM-based NN\n",
    "Ok here I gonna quiqly build some simply NN, which behaves just like predictor(which was used for debug).\n",
    "Later this NN will be used for Q-Learning\n",
    "``` python\n",
    "env_matrix = [n_traces=4, max_seq_len=52, features=27]\n",
    "```"
   ]
  },
  {
   "cell_type": "code",
   "execution_count": 37,
   "metadata": {},
   "outputs": [],
   "source": [
    "import torch.nn as nn"
   ]
  },
  {
   "cell_type": "code",
   "execution_count": 38,
   "metadata": {},
   "outputs": [],
   "source": [
    "class Net(nn.Module):\n",
    "    def __init__(self, output_layer, input_size=27 * 2, hidden_layer=64, n_lstm=1):\n",
    "        super(Net, self).__init__()\n",
    "        self.lstm = nn.LSTM(input_size=input_size, hidden_size=hidden_layer, batch_first=True, num_layers=n_lstm)\n",
    "        self.relu = nn.ReLU()\n",
    "        self.fc = nn.Linear(hidden_layer, output_layer)\n",
    "    \n",
    "    def forward(self, x, h):\n",
    "        x, (h, c) = self.lstm(x, (h[0], h[1]))\n",
    "        x = self.relu(x)\n",
    "        x = self.fc(x)\n",
    "        x = self.relu(x)\n",
    "        return x, (h, c)"
   ]
  },
  {
   "cell_type": "markdown",
   "metadata": {},
   "source": [
    "```python\n",
    "input = (n_traces, max_len, features) # nn.LSTM(..., batch_first=True)\n",
    "```"
   ]
  },
  {
   "cell_type": "markdown",
   "metadata": {},
   "source": [
    "```python\n",
    "output = out, (h, c)\n",
    "out.shape = (n_traces, max_len, features) # nn.LSTM(..., batch_first=True)\n",
    "```"
   ]
  },
  {
   "cell_type": "markdown",
   "metadata": {},
   "source": [
    "### Loop with env, LSTM"
   ]
  },
  {
   "cell_type": "code",
   "execution_count": 39,
   "metadata": {},
   "outputs": [],
   "source": [
    "reload(envs)\n",
    "env = envs.PMEnv(data=env_matrix, intervals_te_rew=te_intervals, column_to_time_features=column_feature, window_size=window_size)\n",
    "\n",
    "lstm_model_te = Net(output_layer=1).float()\n",
    "lstm_model_act = Net(output_layer=n_classes).float()\n",
    "\n",
    "inp = env.reset()\n",
    "n_traces = inp.shape[0]\n",
    "# predictor is a NN, it works with batches of states\n",
    "is_done = torch.zeros(env_matrix.shape[0]).bool()\n",
    "h_a = torch.zeros(1, n_traces, 64)\n",
    "c_a = torch.zeros(1, n_traces, 64)\n",
    "h_te = torch.zeros(1, n_traces, 64)\n",
    "c_te = torch.zeros(1, n_traces, 64)\n",
    "while not is_done.all():\n",
    "    inp = inp.view(n_traces, 1, -1).float()\n",
    "    next_act, (h_a, c_a) = lstm_model_act(inp, (h_a, c_a))\n",
    "    next_te, (h_te, c_te) = lstm_model_te(inp, (h_te, c_te))\n",
    "    \n",
    "    next_act = next_act.view(n_traces, -1)\n",
    "    next_act = next_act.argmax(dim=1).view(n_traces, -1)\n",
    "    \n",
    "    next_te = next_te.view(n_traces)\n",
    "        \n",
    "    inp, (reward_te, reward_act), is_done, add_inf = env.step(next_te, next_act)"
   ]
  },
  {
   "cell_type": "markdown",
   "metadata": {},
   "source": [
    "## Agent\n",
    "### Nets"
   ]
  },
  {
   "cell_type": "markdown",
   "metadata": {},
   "source": [
    "### Agents"
   ]
  },
  {
   "cell_type": "code",
   "execution_count": null,
   "metadata": {},
   "outputs": [],
   "source": []
  },
  {
   "cell_type": "markdown",
   "metadata": {},
   "source": [
    "### Replay Buffer\n",
    "shamelessly stolen from [here](https://pytorch.org/tutorials/intermediate/reinforcement_q_learning.html)"
   ]
  },
  {
   "cell_type": "code",
   "execution_count": 40,
   "metadata": {},
   "outputs": [
    {
     "data": {
      "text/plain": [
       "<module 'rl4pm_lib.replay_buffer' from 'C:\\\\Users\\\\PC\\\\Documents\\\\5th_course\\\\rl4pm\\\\rl4pm_lib\\\\replay_buffer.py'>"
      ]
     },
     "execution_count": 40,
     "metadata": {},
     "output_type": "execute_result"
    }
   ],
   "source": [
    "from rl4pm_lib import utils\n",
    "reload(utils)\n",
    "from rl4pm_lib import agents\n",
    "reload(agents)\n",
    "from rl4pm_lib import replay_buffer\n",
    "reload(replay_buffer)"
   ]
  },
  {
   "cell_type": "code",
   "execution_count": 41,
   "metadata": {},
   "outputs": [],
   "source": [
    "replay_memory = replay_buffer.ReplayMemory(2 ** 12)"
   ]
  },
  {
   "cell_type": "code",
   "execution_count": 42,
   "metadata": {},
   "outputs": [],
   "source": [
    "env = envs.PMEnv(data=env_matrix, intervals_te_rew=te_intervals, column_to_time_features=column_feature, window_size=window_size)\n",
    "\n",
    "hidden = 64\n",
    "\n",
    "te_agent = agents.AgentTeDiscrete(input_size=27 * 2, hidden_layer=hidden, n_lstm=4, te_intervals=te_intervals)\n",
    "ac_agent = agents.AgentAct(input_size=27 * 2, hidden_layer=hidden, n_lstm=4, out_shape=n_classes)\n",
    "\n",
    "lstm_model_act = Net(output_layer=n_classes).float()\n",
    "\n",
    "inp = env.reset()\n",
    "n_traces = inp.shape[0]\n",
    "inp = inp.view(n_traces, 1, -1).float()\n",
    "# predictor is a NN, it works with batches of states\n",
    "is_done = is_done = torch.zeros(env_matrix.shape[0]).bool()\n",
    "h_a = torch.zeros(4, n_traces, hidden)\n",
    "c_a = torch.zeros(4, n_traces, hidden)\n",
    "h_t = torch.zeros(4, n_traces, hidden)\n",
    "c_t = torch.zeros(4, n_traces, hidden)\n",
    "while not is_done.all():\n",
    "    state_t = replay_buffer.State(state=inp, h_ac=h_a, c_ac=c_a,\n",
    "                        h_te=h_t, c_te=c_t)\n",
    "    next_ac, (h_a, c_a) = ac_agent.sample_action(x=inp, hidden=(h_a, c_a))\n",
    "    next_te, (h_t, c_t) = te_agent.sample_action(x=inp, hidden=(h_t, c_t))\n",
    "    \n",
    "    n_inp, (reward_te, reward_ac), is_done, add_inf = env.step(te_agent.act_to_te(next_te), next_ac)\n",
    "    n_inp = n_inp.view(n_traces, 1, -1).float()\n",
    "    state_t_next = replay_buffer.State(state=n_inp, h_ac=h_a, c_ac=c_a,\n",
    "                             h_te=h_t, c_te=c_t)\n",
    "\n",
    "    datum = replay_buffer.Datum(obs_t=state_t, action_te=next_te, action_ac=next_ac, reward_ac=reward_ac, reward_te=reward_te,\n",
    "                      obs_tp1=state_t_next, dones=is_done)\n",
    "    replay_memory.push(datum)\n",
    "    \n",
    "    inp = n_inp"
   ]
  },
  {
   "cell_type": "markdown",
   "metadata": {},
   "source": [
    "## Agncy\n",
    "Here agent got trained"
   ]
  },
  {
   "cell_type": "code",
   "execution_count": 43,
   "metadata": {},
   "outputs": [
    {
     "data": {
      "text/plain": [
       "torch.Size([8, 82, 27])"
      ]
     },
     "execution_count": 43,
     "metadata": {},
     "output_type": "execute_result"
    }
   ],
   "source": [
    "env.data.shape"
   ]
  },
  {
   "cell_type": "code",
   "execution_count": 44,
   "metadata": {},
   "outputs": [],
   "source": [
    "# replay_memory.sample(1)[0]['s'].shape"
   ]
  },
  {
   "cell_type": "code",
   "execution_count": 45,
   "metadata": {
    "scrolled": true
   },
   "outputs": [],
   "source": [
    "from rl4pm_lib import agencies\n",
    "reload(agencies)\n",
    "_ = env.reset()\n",
    "batch_size = 128\n",
    "\n",
    "agency = agencies.Agency(input_size=27 * 2, hidden=hidden, n_lstm=7, te_intervals=te_intervals, ac_learning_rate=1e-3,\n",
    "                 te_learning_rate=1e-3, n_classes=n_classes, discount_factor=0.9)\n",
    "replay_memory = replay_buffer.ReplayMemory(2 ** 12)\n",
    "with torch.no_grad():\n",
    "    episode_te_rew, episode_ac_rew, n = utils.play_and_record(agency.te_agent, agency.ac_agent, env, replay_memory)\n",
    "ep_te_loss, ep_ac_loss = agency.train(replay_memory, batch_size)"
   ]
  },
  {
   "cell_type": "code",
   "execution_count": 46,
   "metadata": {},
   "outputs": [],
   "source": [
    "# env_trace_ids = [random.randint(0, len(traces) - 1) for _ in range(40)]\n",
    "# env_trace_ids = [traces[i] for i in env_trace_ids]"
   ]
  },
  {
   "cell_type": "code",
   "execution_count": 47,
   "metadata": {},
   "outputs": [],
   "source": [
    "from math import floor, ceil"
   ]
  },
  {
   "cell_type": "code",
   "execution_count": 48,
   "metadata": {},
   "outputs": [],
   "source": [
    "def split_list_to_buckets(array, n):\n",
    "    n_buckets = ceil(len(array) / n)\n",
    "    n_full_buckets = floor(len(array) / n)\n",
    "    extra_size = n_buckets * n - len(array)\n",
    "    out = []\n",
    "    fp = 0\n",
    "    lp = n\n",
    "    for i in range(n_buckets):\n",
    "        lp = lp - int(extra_size > 0)\n",
    "        out.append(array[fp: lp])\n",
    "        extra_size -= 1\n",
    "        fp = lp\n",
    "        lp += n\n",
    "    return out"
   ]
  },
  {
   "cell_type": "code",
   "execution_count": 49,
   "metadata": {},
   "outputs": [
    {
     "data": {
      "text/plain": [
       "(262200, 30)"
      ]
     },
     "execution_count": 49,
     "metadata": {},
     "output_type": "execute_result"
    }
   ],
   "source": [
    "df.shape"
   ]
  },
  {
   "cell_type": "code",
   "execution_count": 50,
   "metadata": {},
   "outputs": [],
   "source": [
    "traces = list(set(df['trace_id'].values))\n",
    "traces_len = {}\n",
    "for t in traces:\n",
    "    trace_len = df[df['trace_id'] == t].shape[0]\n",
    "    if trace_len > window_size:\n",
    "        traces_len[t] = df[df['trace_id'] == t].shape[0]\n",
    "\n",
    "    \n",
    "traces_len_sorted = dict(sorted(traces_len.items(), key=lambda item: item[1]))\n",
    "traces = list(traces_len_sorted.keys())"
   ]
  },
  {
   "cell_type": "code",
   "execution_count": 51,
   "metadata": {},
   "outputs": [],
   "source": [
    "reload(envs)\n",
    "reload(utils)\n",
    "traces = list(set(df['trace_id'].values))\n",
    "shuffle(traces)\n",
    "# traces = traces[:2048]\n",
    "env_num_traces = 256\n",
    "\n",
    "ix_4_envs = split_list_to_buckets(traces, env_num_traces)\n",
    "n_envs = len(ix_4_envs)\n",
    "envirs = []\n",
    "for _i in range(n_envs):\n",
    "    env_matrix = utils.get_traces_matrix(df, ix_4_envs[_i])\n",
    "    envirs.append(envs.PMEnv(data=env_matrix, intervals_te_rew=te_intervals,\n",
    "                 column_to_time_features=column_feature, window_size=window_size)\n",
    "               )"
   ]
  },
  {
   "cell_type": "code",
   "execution_count": 52,
   "metadata": {},
   "outputs": [],
   "source": [
    "reload(agents)\n",
    "reload(agencies)\n",
    "reload(utils)\n",
    "batch_size = 2 ** 17\n",
    "replay_memory = replay_buffer.ReplayMemory(2 ** 20)\n",
    "agency = agencies.Agency(input_size=27 * 2, hidden=hidden, n_lstm=1, te_intervals=te_intervals, ac_learning_rate=1e-3,\n",
    "                         te_learning_rate=1e-3, n_classes=n_classes, discount_factor=0.9)"
   ]
  },
  {
   "cell_type": "code",
   "execution_count": null,
   "metadata": {
    "scrolled": true
   },
   "outputs": [
    {
     "data": {
      "image/png": "[encoded data removed]",
      "text/plain": [
       "<Figure size 432x288 with 1 Axes>"
      ]
     },
     "metadata": {
      "needs_background": "light"
     },
     "output_type": "display_data"
    },
    {
     "name": "stdout",
     "output_type": "stream",
     "text": [
      "2/52\r"
     ]
    }
   ],
   "source": [
    "te_rewards = []\n",
    "ac_rewards = []\n",
    "for epoch in range(30):\n",
    "    te_rw, ac_rw, n = 0, 0, 0\n",
    "    for _i in range(n_envs):\n",
    "        print(f'{_i+1}/{n_envs}', end='\\r')\n",
    "        _ = envirs[_i].reset()\n",
    "        with torch.no_grad():\n",
    "                _episode_te_rew, _episode_ac_rew, n_ep = utils.play_and_record(agency.te_agent, agency.ac_agent,\n",
    "                                                                               envirs[_i], replay_memory)\n",
    "                te_rw += _episode_te_rew\n",
    "                ac_rw += _episode_ac_rew\n",
    "                n += n_ep\n",
    "        if len(replay_memory) == replay_memory._maxsize:\n",
    "            ep_te_loss, ep_ac_loss = agency.train(replay_memory, batch_size)\n",
    "        # print(ep_te_rew, ep_te_rew, n_samples)\n",
    "        \n",
    "    ep_te_loss, ep_ac_loss = agency.train(replay_memory, batch_size)\n",
    "    n = batch_size * n_envs\n",
    "    te_rewards.append(te_rw / n)\n",
    "    ac_rewards.append(ac_rw / n)\n",
    "    \n",
    "    display.clear_output(wait=True)\n",
    "    plt.plot(te_rewards, label='$t_e$')\n",
    "    plt.plot(ac_rewards, label='next activity')\n",
    "    plt.xlabel('epoch')\n",
    "    plt.ylabel('accaracy')\n",
    "    plt.title('Accuracy score for \\n $t_e$ and next activity prediction')\n",
    "    plt.legend()\n",
    "    plt.show()"
   ]
  },
  {
   "cell_type": "code",
   "execution_count": null,
   "metadata": {},
   "outputs": [],
   "source": [
    "plt.plot(ac_rewards)\n",
    "plt.xlabel('epoch')\n",
    "plt.ylabel('accaracy')\n",
    "plt.title('Accuracy score for \\n $t_e$ prediction')"
   ]
  },
  {
   "cell_type": "code",
   "execution_count": null,
   "metadata": {},
   "outputs": [],
   "source": [
    "states, actions_te, actions_ac, rewards_te, rewards_ac, next_states, is_dones = replay_memory.sample(256)"
   ]
  },
  {
   "cell_type": "code",
   "execution_count": null,
   "metadata": {},
   "outputs": [],
   "source": [
    "states, actions_te, actions_ac, rewards_te, rewards_ac, next_states, is_dones = buffers[0].sample(5)"
   ]
  },
  {
   "cell_type": "code",
   "execution_count": null,
   "metadata": {},
   "outputs": [],
   "source": [
    "s = envirs[0].reset()"
   ]
  },
  {
   "cell_type": "code",
   "execution_count": null,
   "metadata": {},
   "outputs": [],
   "source": []
  },
  {
   "cell_type": "code",
   "execution_count": null,
   "metadata": {},
   "outputs": [],
   "source": [
    "reload(envs)\n",
    "reload(utils)\n",
    "\n",
    "env_matrix = utils.get_traces_matrix(df, ix_4_envs[6])\n",
    "env = envs.PMEnv(data=env_matrix, intervals_te_rew=te_intervals,\n",
    "                 column_to_time_features=column_feature, window_size=window_size)\n",
    "               \n",
    "buffer = utils.ReplayMemory(2 ** 12)\n",
    "\n",
    "episode_te_rew, episode_ac_rew, n = utils.play_and_record(agency.te_agent, agency.ac_agent,  env, buffer)"
   ]
  },
  {
   "cell_type": "code",
   "execution_count": null,
   "metadata": {},
   "outputs": [],
   "source": [
    "episode_te_rew"
   ]
  },
  {
   "cell_type": "code",
   "execution_count": null,
   "metadata": {},
   "outputs": [],
   "source": [
    "episode_ac_rew"
   ]
  },
  {
   "cell_type": "code",
   "execution_count": null,
   "metadata": {},
   "outputs": [],
   "source": [
    "n"
   ]
  },
  {
   "cell_type": "code",
   "execution_count": null,
   "metadata": {},
   "outputs": [],
   "source": [
    "n_traces = s.shape[0]\n",
    "s = s.view(n_traces, 1, -1).float()\n",
    "h_a = torch.zeros(1, n_traces, agency.te_agent.hidden)\n",
    "c_a = torch.zeros(1, n_traces, agency.te_agent.hidden)\n",
    "te_n = agency.te_agent.sample_action(s, (h_a, c_a))[0]"
   ]
  },
  {
   "cell_type": "code",
   "execution_count": null,
   "metadata": {},
   "outputs": [],
   "source": [
    "x = 0"
   ]
  },
  {
   "cell_type": "code",
   "execution_count": null,
   "metadata": {},
   "outputs": [],
   "source": [
    "t = torch.tensor([0, 0, 1])"
   ]
  },
  {
   "cell_type": "code",
   "execution_count": null,
   "metadata": {},
   "outputs": [],
   "source": [
    "for _ in range(6):\n",
    "    x += t"
   ]
  },
  {
   "cell_type": "code",
   "execution_count": null,
   "metadata": {},
   "outputs": [],
   "source": [
    "x"
   ]
  },
  {
   "cell_type": "code",
   "execution_count": null,
   "metadata": {},
   "outputs": [],
   "source": [
    "te_te_pred = agency.te_agent.act_to_te(te_n)\n",
    "te_te_pred"
   ]
  },
  {
   "cell_type": "code",
   "execution_count": null,
   "metadata": {},
   "outputs": [],
   "source": [
    "te_n, te_n.shape"
   ]
  },
  {
   "cell_type": "code",
   "execution_count": null,
   "metadata": {},
   "outputs": [],
   "source": [
    "agency.te_agent"
   ]
  },
  {
   "cell_type": "code",
   "execution_count": null,
   "metadata": {},
   "outputs": [],
   "source": [
    "true_tes = envirs[0].data[:, window_size+1, 0]"
   ]
  },
  {
   "cell_type": "code",
   "execution_count": null,
   "metadata": {},
   "outputs": [],
   "source": [
    "answers = []\n",
    "for _i, te in enumerate(true_tes):\n",
    "    app = False\n",
    "    for te_num, te_int in enumerate(te_intervals):\n",
    "        if (te >= te_int[0]) & (te < te_int[1]):\n",
    "            answers.append(te_num)\n",
    "            app = True\n",
    "    if not app:\n",
    "        answers.append(-1)\n",
    "answers = torch.tensor(answers)"
   ]
  },
  {
   "cell_type": "code",
   "execution_count": null,
   "metadata": {},
   "outputs": [],
   "source": [
    "len(answers)"
   ]
  },
  {
   "cell_type": "code",
   "execution_count": null,
   "metadata": {},
   "outputs": [],
   "source": [
    "answers, answers.shape"
   ]
  },
  {
   "cell_type": "code",
   "execution_count": null,
   "metadata": {},
   "outputs": [],
   "source": [
    "(answers == te_n).sum()"
   ]
  },
  {
   "cell_type": "code",
   "execution_count": null,
   "metadata": {},
   "outputs": [],
   "source": [
    "def get_te_reward(true: torch.tensor, pred: torch.tensor, te_intervals):\n",
    "    masks = []\n",
    "    for inter in intervals:\n",
    "        true_here = (true >= inter[0]) * (true < inter[1])\n",
    "        pred_here = (pred >= inter[0]) * (pred < inter[1])\n",
    "        masks.append(true_here * pred_here)\n",
    "    out = torch.stack(masks).T.sum(dim=1)\n",
    "    return out"
   ]
  },
  {
   "cell_type": "code",
   "execution_count": null,
   "metadata": {},
   "outputs": [],
   "source": [
    "get_te_reward(true=true_tes, pred=te_te_pred, intervals=te_intervals).sum()"
   ]
  },
  {
   "cell_type": "code",
   "execution_count": null,
   "metadata": {},
   "outputs": [],
   "source": [
    "ep_te_rew"
   ]
  },
  {
   "cell_type": "code",
   "execution_count": null,
   "metadata": {},
   "outputs": [],
   "source": [
    "ep_te_rew"
   ]
  }
 ],
 "metadata": {
  "kernelspec": {
   "display_name": "Python 3",
   "language": "python",
   "name": "python3"
  },
  "language_info": {
   "codemirror_mode": {
    "name": "ipython",
    "version": 3
   },
   "file_extension": ".py",
   "mimetype": "text/x-python",
   "name": "python",
   "nbconvert_exporter": "python",
   "pygments_lexer": "ipython3",
   "version": "3.8.6"
  }
 },
 "nbformat": 4,
 "nbformat_minor": 4
}
