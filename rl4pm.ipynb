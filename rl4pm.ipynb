{
 "cells": [
  {
   "cell_type": "code",
   "execution_count": 1,
   "metadata": {},
   "outputs": [],
   "source": [
    "import pm4py\n",
    "import pandas as pd\n",
    "import datetime\n",
    "from math import ceil\n",
    "import matplotlib.pyplot as plt\n",
    "import torch\n",
    "import numpy as np\n",
    "import gym\n",
    "from importlib import reload"
   ]
  },
  {
   "cell_type": "markdown",
   "metadata": {},
   "source": [
    "# Data\n",
    "## Download and read\n",
    "- Download `.xes` file(archive) from [here](https://data.4tu.nl/articles/dataset/BPI_Challenge_2012/12689204)\n",
    "- Read this `.xes`\n",
    "- Convert to good old `.csv`"
   ]
  },
  {
   "cell_type": "code",
   "execution_count": 2,
   "metadata": {},
   "outputs": [
    {
     "data": {
      "application/vnd.jupyter.widget-view+json": {
       "model_id": "4bae2227aff54982a26d808d0c9355f1",
       "version_major": 2,
       "version_minor": 0
      },
      "text/plain": [
       "parsing log, completed traces ::   0%|          | 0/13087 [00:00<?, ?it/s]"
      ]
     },
     "metadata": {},
     "output_type": "display_data"
    }
   ],
   "source": [
    "file_path = 'BPI_Challenge_2012.xes'\n",
    "event_log = pm4py.read_xes(file_path)\n",
    "start_activities = pm4py.get_start_activities(event_log)\n",
    "end_activities = pm4py.get_end_activities(event_log)\n",
    "df = pm4py.convert_to_dataframe(event_log)\n",
    "df.to_csv('bpi_12.csv')"
   ]
  },
  {
   "cell_type": "markdown",
   "metadata": {},
   "source": [
    "## Drop data\n",
    "In the article only (activity, time_stamp) is used. Also leave trace id"
   ]
  },
  {
   "cell_type": "code",
   "execution_count": 3,
   "metadata": {},
   "outputs": [],
   "source": [
    "df = df[['time:timestamp', 'case:concept:name', 'concept:name']]\n",
    "df = df.rename(columns={'time:timestamp': 'timestamp', 'case:concept:name': 'trace_id', 'concept:name': 'activity'})\n",
    "df['trace_id'] = df['trace_id'].apply(lambda x: int(x))"
   ]
  },
  {
   "cell_type": "markdown",
   "metadata": {},
   "source": [
    "## Time-related features\n",
    "\n",
    "- $t_{w}$ - time passed between Sunday midnight and the event\n",
    "- $t_e$ - time passed between the completion of the given event and the completion of the previous one\n",
    "- $t_t$ - time passed between the start of the trace and the given event\n",
    "\n",
    "### $t_w$"
   ]
  },
  {
   "cell_type": "code",
   "execution_count": 4,
   "metadata": {},
   "outputs": [],
   "source": [
    "def get_t_w(df):\n",
    "    _df = df.copy()\n",
    "    _dt_s_mn = _df['timestamp'].apply(lambda x: (x - x.replace(hour=0, minute=0, second=0, microsecond=0)).total_seconds())\n",
    "    _dt_s_mn += _df['timestamp'].apply(lambda x: x.weekday() * 24 * 60 * 60)\n",
    "    return _dt_s_mn.values"
   ]
  },
  {
   "cell_type": "code",
   "execution_count": 5,
   "metadata": {},
   "outputs": [],
   "source": [
    "tw = get_t_w(df)"
   ]
  },
  {
   "cell_type": "markdown",
   "metadata": {},
   "source": [
    "### $t_e$"
   ]
  },
  {
   "cell_type": "code",
   "execution_count": 6,
   "metadata": {},
   "outputs": [],
   "source": [
    "def get_t_e(df):\n",
    "    te = df['timestamp'].copy().diff()\n",
    "    tr_diff = df['trace_id'].diff().fillna(1)\n",
    "    te[tr_diff != 0] = 0.\n",
    "    return te.values * 1e-9"
   ]
  },
  {
   "cell_type": "code",
   "execution_count": 7,
   "metadata": {},
   "outputs": [],
   "source": [
    "te = get_t_e(df)"
   ]
  },
  {
   "cell_type": "markdown",
   "metadata": {},
   "source": [
    "### $t_t$"
   ]
  },
  {
   "cell_type": "code",
   "execution_count": 8,
   "metadata": {},
   "outputs": [],
   "source": [
    "def get_t_t(df):\n",
    "    traces = list(set(df['trace_id']))\n",
    "    out = df.copy()[['timestamp', 'trace_id']]\n",
    "    t_ts = {}\n",
    "    for t in traces:\n",
    "        t_ts[t] = df['timestamp'][df['trace_id'] == t].min()\n",
    "    out['tt'] = out.apply(lambda x: (x['timestamp'] - t_ts[x['trace_id']]).total_seconds(), axis=1)\n",
    "    return out['tt'].values"
   ]
  },
  {
   "cell_type": "code",
   "execution_count": 9,
   "metadata": {},
   "outputs": [],
   "source": [
    "tt = get_t_t(df)"
   ]
  },
  {
   "cell_type": "code",
   "execution_count": 10,
   "metadata": {},
   "outputs": [],
   "source": [
    "df['tt'] = tt\n",
    "df['te'] = te\n",
    "df['tw'] = tw"
   ]
  },
  {
   "cell_type": "code",
   "execution_count": 11,
   "metadata": {},
   "outputs": [],
   "source": [
    "n_classes = len(set(df['activity']))"
   ]
  },
  {
   "cell_type": "code",
   "execution_count": 12,
   "metadata": {
    "scrolled": true
   },
   "outputs": [
    {
     "data": {
      "text/html": [
       "<div>\n",
       "<style scoped>\n",
       "    .dataframe tbody tr th:only-of-type {\n",
       "        vertical-align: middle;\n",
       "    }\n",
       "\n",
       "    .dataframe tbody tr th {\n",
       "        vertical-align: top;\n",
       "    }\n",
       "\n",
       "    .dataframe thead th {\n",
       "        text-align: right;\n",
       "    }\n",
       "</style>\n",
       "<table border=\"1\" class=\"dataframe\">\n",
       "  <thead>\n",
       "    <tr style=\"text-align: right;\">\n",
       "      <th></th>\n",
       "      <th>timestamp</th>\n",
       "      <th>trace_id</th>\n",
       "      <th>activity</th>\n",
       "      <th>tt</th>\n",
       "      <th>te</th>\n",
       "      <th>tw</th>\n",
       "    </tr>\n",
       "  </thead>\n",
       "  <tbody>\n",
       "    <tr>\n",
       "      <th>0</th>\n",
       "      <td>2011-10-01 00:38:44.546000+02:00</td>\n",
       "      <td>173688</td>\n",
       "      <td>A_SUBMITTED</td>\n",
       "      <td>0.000</td>\n",
       "      <td>0.000</td>\n",
       "      <td>434324.546</td>\n",
       "    </tr>\n",
       "    <tr>\n",
       "      <th>1</th>\n",
       "      <td>2011-10-01 00:38:44.880000+02:00</td>\n",
       "      <td>173688</td>\n",
       "      <td>A_PARTLYSUBMITTED</td>\n",
       "      <td>0.334</td>\n",
       "      <td>0.334</td>\n",
       "      <td>434324.880</td>\n",
       "    </tr>\n",
       "    <tr>\n",
       "      <th>2</th>\n",
       "      <td>2011-10-01 00:39:37.906000+02:00</td>\n",
       "      <td>173688</td>\n",
       "      <td>A_PREACCEPTED</td>\n",
       "      <td>53.360</td>\n",
       "      <td>53.026</td>\n",
       "      <td>434377.906</td>\n",
       "    </tr>\n",
       "    <tr>\n",
       "      <th>3</th>\n",
       "      <td>2011-10-01 00:39:38.875000+02:00</td>\n",
       "      <td>173688</td>\n",
       "      <td>W_Completeren aanvraag</td>\n",
       "      <td>54.329</td>\n",
       "      <td>0.969</td>\n",
       "      <td>434378.875</td>\n",
       "    </tr>\n",
       "    <tr>\n",
       "      <th>4</th>\n",
       "      <td>2011-10-01 11:36:46.437000+02:00</td>\n",
       "      <td>173688</td>\n",
       "      <td>W_Completeren aanvraag</td>\n",
       "      <td>39481.891</td>\n",
       "      <td>39427.562</td>\n",
       "      <td>473806.437</td>\n",
       "    </tr>\n",
       "  </tbody>\n",
       "</table>\n",
       "</div>"
      ],
      "text/plain": [
       "                          timestamp  trace_id                activity  \\\n",
       "0  2011-10-01 00:38:44.546000+02:00    173688             A_SUBMITTED   \n",
       "1  2011-10-01 00:38:44.880000+02:00    173688       A_PARTLYSUBMITTED   \n",
       "2  2011-10-01 00:39:37.906000+02:00    173688           A_PREACCEPTED   \n",
       "3  2011-10-01 00:39:38.875000+02:00    173688  W_Completeren aanvraag   \n",
       "4  2011-10-01 11:36:46.437000+02:00    173688  W_Completeren aanvraag   \n",
       "\n",
       "          tt         te          tw  \n",
       "0      0.000      0.000  434324.546  \n",
       "1      0.334      0.334  434324.880  \n",
       "2     53.360     53.026  434377.906  \n",
       "3     54.329      0.969  434378.875  \n",
       "4  39481.891  39427.562  473806.437  "
      ]
     },
     "execution_count": 12,
     "metadata": {},
     "output_type": "execute_result"
    }
   ],
   "source": [
    "df.head()"
   ]
  },
  {
   "cell_type": "markdown",
   "metadata": {},
   "source": [
    "## Scaling\n",
    "later"
   ]
  },
  {
   "cell_type": "code",
   "execution_count": null,
   "metadata": {},
   "outputs": [],
   "source": []
  },
  {
   "cell_type": "markdown",
   "metadata": {},
   "source": [
    "## Activity:\n",
    "one hot"
   ]
  },
  {
   "cell_type": "code",
   "execution_count": 13,
   "metadata": {},
   "outputs": [],
   "source": [
    "oh = pd.get_dummies(df['activity'])"
   ]
  },
  {
   "cell_type": "code",
   "execution_count": 14,
   "metadata": {},
   "outputs": [],
   "source": [
    "df = pd.concat([df, oh], axis=1)"
   ]
  },
  {
   "cell_type": "markdown",
   "metadata": {},
   "source": [
    "## Environment\n",
    "Ther given scheme is the following:\n",
    "- recieving window of $(a_i,\\ t_{e,\\ i},\\ t_{w,\\ i},\\ t_{t,\\ i}) = e_i$. So the input to model is $\\{ e_{i},\\ e_{i-1},\\ \\dots,\\ e_{i-ws} \\}$ \n",
    "- prodice $\\hat{e}_{i+1}$\n",
    "- predict $\\hat{e}_{i+2}$ using $\\{ \\hat{e}_{i+1},\\ e_{i},\\ \\dots,\\ e_{i-ws +1} \\}$\n",
    "The metric is calculated by `environment`. It returns rewards for time prediction and for next step classifiation. So basicly `env` just stores data of trace. "
   ]
  },
  {
   "cell_type": "markdown",
   "metadata": {},
   "source": [
    "### Default predictor\n",
    "Need to develop(debug) `Env`"
   ]
  },
  {
   "cell_type": "code",
   "execution_count": 15,
   "metadata": {},
   "outputs": [],
   "source": [
    "class Predictor:\n",
    "    def __init__(self, default_te=60, default_act=8):\n",
    "        self.default_act = default_act\n",
    "        self.default_te = default_te\n",
    "    def predict_te(self, x):\n",
    "        in_sh = x.shape[0]\n",
    "        return torch.ones(in_sh) * self.default_te\n",
    "    \n",
    "    def predict_a(self, x):\n",
    "        in_sh = x.shape[0]\n",
    "        return torch.ones(in_sh) * self.default_act"
   ]
  },
  {
   "cell_type": "markdown",
   "metadata": {},
   "source": [
    "Chose `[trace_id]` and create butch of traces, for learning"
   ]
  },
  {
   "cell_type": "code",
   "execution_count": 19,
   "metadata": {},
   "outputs": [
    {
     "data": {
      "text/plain": [
       "<module 'rl4pm_lib.utils' from 'C:\\\\Users\\\\ALemikhov\\\\Documents\\\\5th_courth\\\\rl4pm\\\\rl4pm_lib\\\\utils.py'>"
      ]
     },
     "execution_count": 19,
     "metadata": {},
     "output_type": "execute_result"
    }
   ],
   "source": [
    "import rl4pm_lib.utils as utils\n",
    "reload(utils)"
   ]
  },
  {
   "cell_type": "code",
   "execution_count": 20,
   "metadata": {},
   "outputs": [],
   "source": [
    "env_trace_ids = list(set(df['trace_id'].values))[0: 4]\n",
    "env_matrix = None\n",
    "max_len = 0\n",
    "for t_id in env_trace_ids:\n",
    "    trace_len = df[df['trace_id'] == t_id].shape[0]\n",
    "    if max_len < trace_len:\n",
    "        max_len = trace_len\n",
    "        \n",
    "\n",
    "for _i, t_id in enumerate(env_trace_ids):\n",
    "    if env_matrix is not None:\n",
    "        \n",
    "        trace_vals = utils.extract_trace_features(df, t_id, max_len)\n",
    "        env_matrix = torch.cat([env_matrix, trace_vals])\n",
    "    else:\n",
    "        env_matrix = utils.extract_trace_features(df, t_id, max_len)"
   ]
  },
  {
   "cell_type": "markdown",
   "metadata": {},
   "source": [
    "These ara 'answers', and initial input"
   ]
  },
  {
   "cell_type": "code",
   "execution_count": 21,
   "metadata": {},
   "outputs": [],
   "source": [
    "window_size = 2\n",
    "predictor = Predictor()"
   ]
  },
  {
   "cell_type": "code",
   "execution_count": 22,
   "metadata": {},
   "outputs": [],
   "source": [
    "inp = env_matrix[:, :window_size]"
   ]
  },
  {
   "cell_type": "code",
   "execution_count": 23,
   "metadata": {},
   "outputs": [
    {
     "name": "stdout",
     "output_type": "stream",
     "text": [
      "tensor([8., 8., 8., 8.])\n",
      "tensor([60., 60., 60., 60.])\n"
     ]
    }
   ],
   "source": [
    "a = predictor.predict_a(inp)\n",
    "te = predictor.predict_te(inp)\n",
    "print(a)\n",
    "print(te)"
   ]
  },
  {
   "cell_type": "markdown",
   "metadata": {},
   "source": [
    "Then this predictions are inputs for next event prediction "
   ]
  },
  {
   "cell_type": "code",
   "execution_count": 24,
   "metadata": {},
   "outputs": [],
   "source": [
    "column_feature = {'te': 0, 'tt': 1, 'tw': 2}"
   ]
  },
  {
   "cell_type": "code",
   "execution_count": 26,
   "metadata": {},
   "outputs": [
    {
     "data": {
      "text/plain": [
       "<module 'rl4pm_lib.envs' from 'C:\\\\Users\\\\ALemikhov\\\\Documents\\\\5th_courth\\\\rl4pm\\\\rl4pm_lib\\\\envs.py'>"
      ]
     },
     "execution_count": 26,
     "metadata": {},
     "output_type": "execute_result"
    }
   ],
   "source": [
    "import rl4pm_lib.envs as envs\n",
    "reload(envs)"
   ]
  },
  {
   "cell_type": "code",
   "execution_count": 27,
   "metadata": {},
   "outputs": [],
   "source": [
    "next_inp = envs.get_next_input(inp, a, te, column_feature)"
   ]
  },
  {
   "cell_type": "code",
   "execution_count": 28,
   "metadata": {},
   "outputs": [
    {
     "data": {
      "text/plain": [
       "tensor([342983.8270, 343043.8125], dtype=torch.float64)"
      ]
     },
     "execution_count": 28,
     "metadata": {},
     "output_type": "execute_result"
    }
   ],
   "source": [
    "next_inp[0, :, 2]"
   ]
  },
  {
   "cell_type": "markdown",
   "metadata": {},
   "source": [
    "Basicly this is for NN's predictions, but for env function which works with 1 event window is needed"
   ]
  },
  {
   "cell_type": "code",
   "execution_count": 30,
   "metadata": {},
   "outputs": [],
   "source": [
    "next_inp_ = envs.get_next_input(inp[0].unsqueeze(0), a[0].unsqueeze(0), te[0].unsqueeze(0), column_feature)[0]"
   ]
  },
  {
   "cell_type": "code",
   "execution_count": 31,
   "metadata": {},
   "outputs": [
    {
     "data": {
      "text/plain": [
       "torch.Size([2, 27])"
      ]
     },
     "execution_count": 31,
     "metadata": {},
     "output_type": "execute_result"
    }
   ],
   "source": [
    "next_inp_.shape"
   ]
  },
  {
   "cell_type": "markdown",
   "metadata": {},
   "source": [
    "Working is snippet is just above"
   ]
  },
  {
   "cell_type": "markdown",
   "metadata": {},
   "source": [
    "Also `env` returns a reward for predicion. Step is applied not for tensor of events for several traces, but for 1 event of trace"
   ]
  },
  {
   "cell_type": "code",
   "execution_count": 32,
   "metadata": {},
   "outputs": [],
   "source": [
    "te_key_times = [0., 1., 10., 60., 120., 240., 480., 1440., 2880., 4320.,\n",
    "                7200., 10080., 14400., 20160., 30240., 40320., 50400.]\n",
    "te_intervals = [(te_key_times[i], te_key_times[i+1])\n",
    "             for i in range(len(te_key_times)-1)]"
   ]
  },
  {
   "cell_type": "code",
   "execution_count": 33,
   "metadata": {},
   "outputs": [
    {
     "name": "stdout",
     "output_type": "stream",
     "text": [
      "true: 33877.818\n",
      "pred: 60.14899826049805\n",
      "nice))))\n"
     ]
    }
   ],
   "source": [
    "# here wee neet counter to controll answers\n",
    "curr_step = 3\n",
    "trace = 2\n",
    "te_pred = next_inp[trace, -1, column_feature['tt']]\n",
    "te_true = env_matrix[trace, curr_step, column_feature['tt']]\n",
    "\n",
    "print(f'true: {te_true}\\npred: {te_pred}\\nnice))))')"
   ]
  },
  {
   "cell_type": "code",
   "execution_count": 35,
   "metadata": {},
   "outputs": [
    {
     "data": {
      "text/plain": [
       "tensor([0, 0, 1])"
      ]
     },
     "execution_count": 35,
     "metadata": {},
     "output_type": "execute_result"
    }
   ],
   "source": [
    "true = torch.tensor([62., 700., 61.])\n",
    "pred = torch.tensor([700., 62., 62.]) \n",
    "envs.get_te_reward(true=true, pred=pred, intervals=te_intervals)"
   ]
  },
  {
   "cell_type": "code",
   "execution_count": 36,
   "metadata": {},
   "outputs": [],
   "source": [
    "true = torch.tensor([62., 700., 61.])\n",
    "pred = torch.tensor([700., 62., 62.]) \n",
    "assert (envs.get_te_reward(true=true, pred=pred, intervals=te_intervals) == torch.tensor([0, 0, 1]).bool()).all"
   ]
  },
  {
   "cell_type": "markdown",
   "metadata": {},
   "source": [
    "Pipe line to deal with multiple traces needed"
   ]
  },
  {
   "cell_type": "code",
   "execution_count": 37,
   "metadata": {},
   "outputs": [],
   "source": [
    "assert envs.get_act_reward(true_act_oh=torch.tensor([[1, 0, 0, 0]]), pred_act_oh=torch.tensor([[1, 0, 0, 0]])) == 1\n",
    "assert envs.get_act_reward(true_act_oh=torch.tensor([[0, 1, 0, 0]]), pred_act_oh=torch.tensor([[1, 0, 0, 0]])) == 0"
   ]
  },
  {
   "cell_type": "code",
   "execution_count": 38,
   "metadata": {},
   "outputs": [
    {
     "data": {
      "text/plain": [
       "tensor([1, 0])"
      ]
     },
     "execution_count": 38,
     "metadata": {},
     "output_type": "execute_result"
    }
   ],
   "source": [
    "envs.get_act_reward(true_act_oh=torch.tensor([[1, 0, 0, 0],\n",
    "                                          [1, 0, 0, 0]\n",
    "                                         ]),\n",
    "                pred_act_oh=torch.tensor([[1, 0, 0, 0],\n",
    "                                          [0, 1, 0, 0]\n",
    "                                         ]))"
   ]
  },
  {
   "cell_type": "markdown",
   "metadata": {},
   "source": [
    "We can prodice all the env must do in working cycle:\n",
    "```\n",
    "next_s, (reward_te, reward_act), is_done, add_inf = env.step(next_te, next_act)\n",
    "```\n",
    "Let's build class! "
   ]
  },
  {
   "cell_type": "code",
   "execution_count": 39,
   "metadata": {},
   "outputs": [
    {
     "data": {
      "text/plain": [
       "<module 'rl4pm_lib.envs' from 'C:\\\\Users\\\\ALemikhov\\\\Documents\\\\5th_courth\\\\rl4pm\\\\rl4pm_lib\\\\envs.py'>"
      ]
     },
     "execution_count": 39,
     "metadata": {},
     "output_type": "execute_result"
    }
   ],
   "source": [
    "from rl4pm_lib import envs\n",
    "reload(envs)"
   ]
  },
  {
   "cell_type": "markdown",
   "metadata": {},
   "source": [
    "Gonna run this and go chill"
   ]
  },
  {
   "cell_type": "code",
   "execution_count": 40,
   "metadata": {},
   "outputs": [],
   "source": [
    "env = envs.PMEnv(data=env_matrix, intervals_te_rew=te_intervals, column_to_time_features=column_feature, window_size=window_size)\n",
    "\n",
    "inp = env.reset()\n",
    "# predictor is a NN, it works with batches of states\n",
    "is_done = torch.zeros(env_matrix.shape[0]).bool()\n",
    "while not is_done.all():\n",
    "\n",
    "    n_traces = inp.shape[0]\n",
    "    next_act = predictor.predict_a(inp.view(n_traces, -1))\n",
    "    next_te = predictor.predict_te(inp.view(n_traces, -1))\n",
    "    inp, (reward_te, reward_act), is_done, add_inf = env.step(next_te, next_act)"
   ]
  },
  {
   "cell_type": "markdown",
   "metadata": {},
   "source": [
    "## LSTM-based NN\n",
    "Ok here I gonna quiqly build some simply NN, which behaves just like predictor(which was used for debug).\n",
    "Later this NN will be used for Q-Learning\n",
    "``` python\n",
    "env_matrix = [n_traces=4, max_seq_len=52, features=27]\n",
    "```"
   ]
  },
  {
   "cell_type": "code",
   "execution_count": 214,
   "metadata": {},
   "outputs": [],
   "source": [
    "import torch.nn as nn"
   ]
  },
  {
   "cell_type": "code",
   "execution_count": 215,
   "metadata": {},
   "outputs": [],
   "source": [
    "class Net(nn.Module):\n",
    "    def __init__(self, output_layer, input_size=27 * 2, hidden_layer=64, n_lstm=1):\n",
    "        super(Net, self).__init__()\n",
    "        self.lstm = nn.LSTM(input_size=input_size, hidden_size=hidden_layer, batch_first=True, num_layers=n_lstm)\n",
    "        self.relu = nn.ReLU()\n",
    "        self.fc = nn.Linear(hidden_layer, output_layer)\n",
    "    \n",
    "    def forward(self, x, h):\n",
    "        x, (h, c) = self.lstm(x, (h[0], h[1]))\n",
    "        x = self.relu(x)\n",
    "        x = self.fc(x)\n",
    "        x = self.relu(x)\n",
    "        return x, (h, c)"
   ]
  },
  {
   "cell_type": "markdown",
   "metadata": {},
   "source": [
    "```python\n",
    "input = (n_traces, max_len, features) # nn.LSTM(..., batch_first=True)\n",
    "```"
   ]
  },
  {
   "cell_type": "markdown",
   "metadata": {},
   "source": [
    "```python\n",
    "output = out, (h, c)\n",
    "out.shape = (n_traces, max_len, features) # nn.LSTM(..., batch_first=True)\n",
    "```"
   ]
  },
  {
   "cell_type": "markdown",
   "metadata": {},
   "source": [
    "### Loop with env, LSTM"
   ]
  },
  {
   "cell_type": "code",
   "execution_count": 216,
   "metadata": {},
   "outputs": [],
   "source": [
    "env = envs.PMEnv(data=env_matrix, intervals_te_rew=te_intervals, column_to_time_features=column_feature, window_size=window_size)\n",
    "\n",
    "lstm_model_te = Net(output_layer=1).float()\n",
    "lstm_model_act = Net(output_layer=n_classes).float()\n",
    "\n",
    "inp = env.reset()\n",
    "n_traces = inp.shape[0]\n",
    "# predictor is a NN, it works with batches of states\n",
    "is_done = torch.zeros(env_matrix.shape[0]).bool()\n",
    "h_a = torch.zeros(1, n_traces, 64)\n",
    "c_a = torch.zeros(1, n_traces, 64)\n",
    "h_te = torch.zeros(1, n_traces, 64)\n",
    "c_te = torch.zeros(1, n_traces, 64)\n",
    "while not is_done.all():\n",
    "    inp = inp.view(n_traces, 1, -1).float()\n",
    "    next_act, (h_a, c_a) = lstm_model_act(inp, (h_a, c_a))\n",
    "    next_te, (h_te, c_te) = lstm_model_te(inp, (h_te, c_te))\n",
    "    \n",
    "    next_act = next_act.view(n_traces, -1)\n",
    "    next_act = next_act.argmax(dim=1).view(n_traces, -1)\n",
    "    \n",
    "    next_te = next_te.view(n_traces)\n",
    "        \n",
    "    inp, (reward_te, reward_act), is_done, add_inf = env.step(next_te, next_act)"
   ]
  },
  {
   "cell_type": "markdown",
   "metadata": {},
   "source": [
    "## Agent\n",
    "### Nets"
   ]
  },
  {
   "cell_type": "markdown",
   "metadata": {},
   "source": [
    "### Agents"
   ]
  },
  {
   "cell_type": "code",
   "execution_count": 221,
   "metadata": {},
   "outputs": [
    {
     "data": {
      "text/plain": [
       "<module 'rl4pm_lib.agents' from 'C:\\\\Users\\\\ALemikhov\\\\Documents\\\\5th_courth\\\\rl4pm\\\\rl4pm_lib\\\\agents.py'>"
      ]
     },
     "execution_count": 221,
     "metadata": {},
     "output_type": "execute_result"
    }
   ],
   "source": []
  },
  {
   "cell_type": "markdown",
   "metadata": {},
   "source": [
    "### Replay Buffer\n",
    "shamelessly stolen from [here](https://pytorch.org/tutorials/intermediate/reinforcement_q_learning.html)"
   ]
  },
  {
   "cell_type": "code",
   "execution_count": 325,
   "metadata": {},
   "outputs": [
    {
     "data": {
      "text/plain": [
       "<module 'rl4pm_lib.agents' from 'C:\\\\Users\\\\ALemikhov\\\\Documents\\\\5th_courth\\\\rl4pm\\\\rl4pm_lib\\\\agents.py'>"
      ]
     },
     "execution_count": 325,
     "metadata": {},
     "output_type": "execute_result"
    }
   ],
   "source": [
    "from rl4pm_lib import utils\n",
    "reload(utils)\n",
    "reload(agents)\n",
    "from rl4pm_lib import agents\n",
    "reload(agents)"
   ]
  },
  {
   "cell_type": "code",
   "execution_count": 232,
   "metadata": {},
   "outputs": [],
   "source": [
    "replay_buffer = utils.ReplayMemory(2 ** 12)"
   ]
  },
  {
   "cell_type": "code",
   "execution_count": 233,
   "metadata": {},
   "outputs": [],
   "source": [
    "env = envs.PMEnv(data=env_matrix, intervals_te_rew=te_intervals, column_to_time_features=column_feature, window_size=window_size)\n",
    "\n",
    "hidden = 64\n",
    "\n",
    "te_agent = agents.AgentTeDiscrete(input_size=27 * 2, hidden_layer=hidden, n_lstm=1, te_intervals=te_intervals)\n",
    "ac_agent = agents.AgentAct(input_size=27 * 2, hidden_layer=hidden, n_lstm=1, out_shape=n_classes)\n",
    "\n",
    "lstm_model_act = Net(output_layer=n_classes).float()\n",
    "\n",
    "inp = env.reset()\n",
    "n_traces = inp.shape[0]\n",
    "inp = inp.view(n_traces, 1, -1).float()\n",
    "# predictor is a NN, it works with batches of states\n",
    "is_done = is_done = torch.zeros(env_matrix.shape[0]).bool()\n",
    "h_a = torch.zeros(1, n_traces, hidden)\n",
    "c_a = torch.zeros(1, n_traces, hidden)\n",
    "h_t = torch.zeros(1, n_traces, hidden)\n",
    "c_t = torch.zeros(1, n_traces, hidden)\n",
    "while not is_done.all():\n",
    "       \n",
    "    next_ac, (h_a, c_a) = ac_agent.sample_action(x=inp, hidden=(h_a, c_a))\n",
    "    next_te, (h_t, c_t) = te_agent.sample_action(x=inp, hidden=(h_t, c_t))\n",
    "    \n",
    "    n_inp, (reward_te, reward_act), is_done, add_inf = env.step(te_agent.act_to_te(next_te), next_ac)\n",
    "    n_inp = n_inp.view(n_traces, 1, -1).float()\n",
    "    datum = inp, next_te, next_ac, reward_te, reward_act, n_inp, is_done\n",
    "    replay_buffer.push(datum)\n",
    "    \n",
    "    inp = n_inp"
   ]
  },
  {
   "cell_type": "markdown",
   "metadata": {},
   "source": [
    "## Agncy\n",
    "Here agent got trained"
   ]
  },
  {
   "cell_type": "code",
   "execution_count": 326,
   "metadata": {},
   "outputs": [
    {
     "name": "stdout",
     "output_type": "stream",
     "text": [
      "Agency.get_loss_discrete_agent:: qs.requires_grad=False\n",
      "Agency.get_loss_discrete_agent:: qs.requires_grad=False\n"
     ]
    },
    {
     "ename": "RuntimeError",
     "evalue": "element 0 of tensors does not require grad and does not have a grad_fn",
     "output_type": "error",
     "traceback": [
      "\u001b[1;31m---------------------------------------------------------------------------\u001b[0m",
      "\u001b[1;31mRuntimeError\u001b[0m                              Traceback (most recent call last)",
      "\u001b[1;32m<ipython-input-326-ec0a2546e167>\u001b[0m in \u001b[0;36m<module>\u001b[1;34m\u001b[0m\n\u001b[0;32m      9\u001b[0m \u001b[1;32mwith\u001b[0m \u001b[0mtorch\u001b[0m\u001b[1;33m.\u001b[0m\u001b[0mno_grad\u001b[0m\u001b[1;33m(\u001b[0m\u001b[1;33m)\u001b[0m\u001b[1;33m:\u001b[0m\u001b[1;33m\u001b[0m\u001b[1;33m\u001b[0m\u001b[0m\n\u001b[0;32m     10\u001b[0m     \u001b[0mepisode_reward\u001b[0m\u001b[1;33m,\u001b[0m \u001b[0m_\u001b[0m \u001b[1;33m=\u001b[0m \u001b[0mutils\u001b[0m\u001b[1;33m.\u001b[0m\u001b[0mplay_and_record\u001b[0m\u001b[1;33m(\u001b[0m\u001b[0mte_agent\u001b[0m\u001b[1;33m,\u001b[0m \u001b[0mac_agent\u001b[0m\u001b[1;33m,\u001b[0m \u001b[0menv\u001b[0m\u001b[1;33m,\u001b[0m \u001b[0mreplay_buffer\u001b[0m\u001b[1;33m)\u001b[0m\u001b[1;33m\u001b[0m\u001b[1;33m\u001b[0m\u001b[0m\n\u001b[1;32m---> 11\u001b[1;33m     \u001b[0magency\u001b[0m\u001b[1;33m.\u001b[0m\u001b[0mtrain\u001b[0m\u001b[1;33m(\u001b[0m\u001b[0menv\u001b[0m\u001b[1;33m,\u001b[0m \u001b[0mreplay_buffer\u001b[0m\u001b[1;33m,\u001b[0m \u001b[0mbatch_size\u001b[0m\u001b[1;33m)\u001b[0m\u001b[1;33m\u001b[0m\u001b[1;33m\u001b[0m\u001b[0m\n\u001b[0m",
      "\u001b[1;32m~\\Documents\\5th_courth\\rl4pm\\rl4pm_lib\\agencies.py\u001b[0m in \u001b[0;36mtrain\u001b[1;34m(self, env, exp_replay, batch_size)\u001b[0m\n\u001b[0;32m     47\u001b[0m         \u001b[1;31m# update networks\u001b[0m\u001b[1;33m\u001b[0m\u001b[1;33m\u001b[0m\u001b[1;33m\u001b[0m\u001b[0m\n\u001b[0;32m     48\u001b[0m         \u001b[0mself\u001b[0m\u001b[1;33m.\u001b[0m\u001b[0mte_opt\u001b[0m\u001b[1;33m.\u001b[0m\u001b[0mzero_grad\u001b[0m\u001b[1;33m(\u001b[0m\u001b[1;33m)\u001b[0m\u001b[1;33m\u001b[0m\u001b[1;33m\u001b[0m\u001b[0m\n\u001b[1;32m---> 49\u001b[1;33m         \u001b[0mte_agent_loss\u001b[0m\u001b[1;33m.\u001b[0m\u001b[0mbackward\u001b[0m\u001b[1;33m(\u001b[0m\u001b[1;33m)\u001b[0m\u001b[1;33m\u001b[0m\u001b[1;33m\u001b[0m\u001b[0m\n\u001b[0m\u001b[0;32m     50\u001b[0m         \u001b[0mself\u001b[0m\u001b[1;33m.\u001b[0m\u001b[0mte_opt\u001b[0m\u001b[1;33m.\u001b[0m\u001b[0mstep\u001b[0m\u001b[1;33m(\u001b[0m\u001b[1;33m)\u001b[0m\u001b[1;33m\u001b[0m\u001b[1;33m\u001b[0m\u001b[0m\n\u001b[0;32m     51\u001b[0m \u001b[1;33m\u001b[0m\u001b[0m\n",
      "\u001b[1;32mc:\\users\\alemikhov\\appdata\\local\\programs\\python\\python36\\lib\\site-packages\\torch\\tensor.py\u001b[0m in \u001b[0;36mbackward\u001b[1;34m(self, gradient, retain_graph, create_graph, inputs)\u001b[0m\n\u001b[0;32m    243\u001b[0m                 \u001b[0mcreate_graph\u001b[0m\u001b[1;33m=\u001b[0m\u001b[0mcreate_graph\u001b[0m\u001b[1;33m,\u001b[0m\u001b[1;33m\u001b[0m\u001b[1;33m\u001b[0m\u001b[0m\n\u001b[0;32m    244\u001b[0m                 inputs=inputs)\n\u001b[1;32m--> 245\u001b[1;33m         \u001b[0mtorch\u001b[0m\u001b[1;33m.\u001b[0m\u001b[0mautograd\u001b[0m\u001b[1;33m.\u001b[0m\u001b[0mbackward\u001b[0m\u001b[1;33m(\u001b[0m\u001b[0mself\u001b[0m\u001b[1;33m,\u001b[0m \u001b[0mgradient\u001b[0m\u001b[1;33m,\u001b[0m \u001b[0mretain_graph\u001b[0m\u001b[1;33m,\u001b[0m \u001b[0mcreate_graph\u001b[0m\u001b[1;33m,\u001b[0m \u001b[0minputs\u001b[0m\u001b[1;33m=\u001b[0m\u001b[0minputs\u001b[0m\u001b[1;33m)\u001b[0m\u001b[1;33m\u001b[0m\u001b[1;33m\u001b[0m\u001b[0m\n\u001b[0m\u001b[0;32m    246\u001b[0m \u001b[1;33m\u001b[0m\u001b[0m\n\u001b[0;32m    247\u001b[0m     \u001b[1;32mdef\u001b[0m \u001b[0mregister_hook\u001b[0m\u001b[1;33m(\u001b[0m\u001b[0mself\u001b[0m\u001b[1;33m,\u001b[0m \u001b[0mhook\u001b[0m\u001b[1;33m)\u001b[0m\u001b[1;33m:\u001b[0m\u001b[1;33m\u001b[0m\u001b[1;33m\u001b[0m\u001b[0m\n",
      "\u001b[1;32mc:\\users\\alemikhov\\appdata\\local\\programs\\python\\python36\\lib\\site-packages\\torch\\autograd\\__init__.py\u001b[0m in \u001b[0;36mbackward\u001b[1;34m(tensors, grad_tensors, retain_graph, create_graph, grad_variables, inputs)\u001b[0m\n\u001b[0;32m    145\u001b[0m     Variable._execution_engine.run_backward(\n\u001b[0;32m    146\u001b[0m         \u001b[0mtensors\u001b[0m\u001b[1;33m,\u001b[0m \u001b[0mgrad_tensors_\u001b[0m\u001b[1;33m,\u001b[0m \u001b[0mretain_graph\u001b[0m\u001b[1;33m,\u001b[0m \u001b[0mcreate_graph\u001b[0m\u001b[1;33m,\u001b[0m \u001b[0minputs\u001b[0m\u001b[1;33m,\u001b[0m\u001b[1;33m\u001b[0m\u001b[1;33m\u001b[0m\u001b[0m\n\u001b[1;32m--> 147\u001b[1;33m         allow_unreachable=True, accumulate_grad=True)  # allow_unreachable flag\n\u001b[0m\u001b[0;32m    148\u001b[0m \u001b[1;33m\u001b[0m\u001b[0m\n\u001b[0;32m    149\u001b[0m \u001b[1;33m\u001b[0m\u001b[0m\n",
      "\u001b[1;31mRuntimeError\u001b[0m: element 0 of tensors does not require grad and does not have a grad_fn"
     ]
    }
   ],
   "source": [
    "from rl4pm_lib import agencies\n",
    "reload(agencies)\n",
    "_ = env.reset()\n",
    "batch_size = 64\n",
    "\n",
    "agency = agencies.Agency(input_size=27 * 2, hidden=hidden, n_lstm=1, te_intervals=te_intervals, ac_learning_rate=1e-3,\n",
    "                 te_learning_rate=1e-3, n_classes=n_classes, discount_factor=0.9)\n",
    "\n",
    "with torch.no_grad():\n",
    "    episode_reward, _ = utils.play_and_record(te_agent, ac_agent, env, replay_buffer)\n",
    "    agency.train(env, replay_buffer, batch_size)"
   ]
  }
 ],
 "metadata": {
  "kernelspec": {
   "display_name": "Python 3",
   "language": "python",
   "name": "python3"
  },
  "language_info": {
   "codemirror_mode": {
    "name": "ipython",
    "version": 3
   },
   "file_extension": ".py",
   "mimetype": "text/x-python",
   "name": "python",
   "nbconvert_exporter": "python",
   "pygments_lexer": "ipython3",
   "version": "3.6.8"
  }
 },
 "nbformat": 4,
 "nbformat_minor": 4
}
