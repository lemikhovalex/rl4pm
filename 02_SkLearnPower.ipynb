{
 "cells": [
  {
   "cell_type": "code",
   "execution_count": 1,
   "metadata": {},
   "outputs": [],
   "source": [
    "import pandas as pd\n",
    "import numpy as np\n",
    "import datetime\n",
    "from IPython import display\n",
    "\n",
    "import matplotlib.pyplot as plt"
   ]
  },
  {
   "cell_type": "code",
   "execution_count": 2,
   "metadata": {},
   "outputs": [],
   "source": [
    "test_df = pd.read_csv('datasets/test_df.csv').drop(columns='Unnamed: 0')\n",
    "test_df['timestamp'] = test_df['timestamp'].apply(lambda x: datetime.datetime.fromisoformat(x))\n",
    "\n",
    "train_df = pd.read_csv('datasets/train_df.csv').drop(columns='Unnamed: 0')\n",
    "train_df['timestamp'] = train_df['timestamp'].apply(lambda x: datetime.datetime.fromisoformat(x))"
   ]
  },
  {
   "cell_type": "markdown",
   "metadata": {},
   "source": [
    "## Proprocessing:\n",
    "For leveraging predictive models the following features are created:\n",
    "- $t_e$ - time since previous event\n",
    "- $t_w$ - time since the beginning of week\n",
    "- $t_t$ - time since the beginning of trace\n",
    "- one hot encoded labels"
   ]
  },
  {
   "cell_type": "code",
   "execution_count": 3,
   "metadata": {},
   "outputs": [],
   "source": [
    "import rl4pm_lib.preprocessing as preprocessing\n",
    "\n",
    "column_feature = {'tt': 0, 'te': 1, 'tw': 2}\n",
    "prepro = preprocessing.DfPreprocesser()\n",
    "prepro.fit(train_df)\n",
    "train_df_pr = prepro.transform(train_df)\n",
    "test_df_pr = prepro.transform(test_df)"
   ]
  },
  {
   "cell_type": "markdown",
   "metadata": {},
   "source": [
    "Also must scale continious (time related features)"
   ]
  },
  {
   "cell_type": "code",
   "execution_count": 4,
   "metadata": {},
   "outputs": [],
   "source": [
    "scaler = preprocessing.PaperScaler(column_feature)\n",
    "scaler.fit(train_df_pr)\n",
    "train_df_pr_sc = scaler.transform(train_df_pr)\n",
    "test_df_pr_sc = scaler.transform(test_df_pr)"
   ]
  },
  {
   "cell_type": "markdown",
   "metadata": {},
   "source": [
    "Let's construct features as moving window"
   ]
  },
  {
   "cell_type": "code",
   "execution_count": 5,
   "metadata": {},
   "outputs": [],
   "source": [
    "win_len = 2\n",
    "max_window_len = 5"
   ]
  },
  {
   "cell_type": "code",
   "execution_count": 6,
   "metadata": {},
   "outputs": [],
   "source": [
    "def make_window_features_for_trace(df, win_len):\n",
    "    _win_len = win_len-1\n",
    "    out = df[_win_len:].copy()\n",
    "    out.reset_index(drop=True, inplace=True)\n",
    "    sh = df.shape[0]\n",
    "    for _i in range(win_len-1):\n",
    "        df_to_app = df[_i:sh-_win_len + _i].copy()\n",
    "        shape_miss = df.shape[0] - df_to_app.shape[0]\n",
    "        \n",
    "        rename_dict = {col: col + f'__{_i+1}' for col in df_to_app.columns}\n",
    "        df_to_app.rename(columns=rename_dict, inplace=True)\n",
    "        df_to_app.reset_index(drop=True, inplace=True)\n",
    "        \n",
    "        out = pd.concat([out, df_to_app], axis=1)\n",
    "    out.dropna(inplace=True)\n",
    "    shape_miss = df.shape[0] - out.shape[0]\n",
    "    return out"
   ]
  },
  {
   "cell_type": "code",
   "execution_count": 7,
   "metadata": {},
   "outputs": [],
   "source": [
    "def make_window_features(df, win_len):\n",
    "    traces = list(set(df['trace_id'].values))\n",
    "    outs = []\n",
    "    labels = []\n",
    "    tes = []\n",
    "    for _i, trace in enumerate(traces):\n",
    "        _df = df[df['trace_id'] == trace]\n",
    "        outs.append(make_window_features_for_trace(_df, win_len)[:-1])  # one must left 4 prediction\n",
    "        labels.append(_df.drop(columns=['te', 'tt', 'tw', 'trace_id']).values.argmax(axis=1)[win_len:])\n",
    "        tes.append(_df['te'].values[win_len:])\n",
    "    return pd.concat(outs, axis=0), np.concatenate(labels), np.concatenate(tes)"
   ]
  },
  {
   "cell_type": "code",
   "execution_count": 8,
   "metadata": {},
   "outputs": [],
   "source": [
    "test_df_pr_sc_win, test_labels, test_tes = make_window_features(test_df_pr_sc, win_len)\n",
    "test_df_pr_sc_win.drop(columns=['trace_id'], inplace=True)"
   ]
  },
  {
   "cell_type": "code",
   "execution_count": 9,
   "metadata": {},
   "outputs": [],
   "source": [
    "train_df_pr_sc_win, train_labels, train_tes = make_window_features(train_df_pr_sc, win_len)\n",
    "train_df_pr_sc_win.drop(columns=['trace_id'], inplace=True)"
   ]
  },
  {
   "cell_type": "markdown",
   "metadata": {},
   "source": [
    "Ok, features and targets are ready, let's do `.fit()`, `.predict())))))`\n",
    "\n",
    "What methods will I use? Of course all, which were listed [here](https://github.com/lemikhovalex/DA_CV)"
   ]
  },
  {
   "cell_type": "markdown",
   "metadata": {},
   "source": [
    "## Random Forest Classifier"
   ]
  },
  {
   "cell_type": "code",
   "execution_count": 10,
   "metadata": {},
   "outputs": [],
   "source": [
    "from sklearn.ensemble import RandomForestClassifier\n",
    "from sklearn.metrics import accuracy_score"
   ]
  },
  {
   "cell_type": "code",
   "execution_count": 14,
   "metadata": {},
   "outputs": [
    {
     "name": "stdout",
     "output_type": "stream",
     "text": [
      "Random Forest Classifier\n",
      "test  accuracy =  0.84\n",
      "train accuracy =  0.85\n",
      "Wall time: 7.72 s\n"
     ]
    }
   ],
   "source": [
    "%%time\n",
    "rfc_activ = RandomForestClassifier(n_estimators=130, max_depth=17, random_state=42, n_jobs=-1)\n",
    "\n",
    "rfc_activ.fit(train_df_pr_sc_win, train_labels)\n",
    "train_labels_hat = rfc_activ.predict(train_df_pr_sc_win)\n",
    "test_labels_hat = rfc_activ.predict(test_df_pr_sc_win)\n",
    "\n",
    "test_acc_rfc = accuracy_score(test_labels_hat, test_labels)\n",
    "train_acc_rfc = accuracy_score(train_labels_hat, train_labels)\n",
    "print(f'Random Forest Classifier\\ntest  accuracy = {test_acc_rfc: .2f}\\ntrain accuracy = {train_acc_rfc: .2f}')"
   ]
  },
  {
   "cell_type": "code",
   "execution_count": null,
   "metadata": {},
   "outputs": [],
   "source": [
    "%%time\n",
    "from sklearn.model_selection import GridSearchCV\n",
    "\n",
    "param_grid = { \n",
    "    'n_estimators': np.linspace(100, 250, num=30, dtype=int),\n",
    "    'max_depth' : np.linspace(7, 30, num=30, dtype=int),\n",
    "}\n",
    "\n",
    "model_gs = RandomForestClassifier(random_state=42)\n",
    "CV_rfc = GridSearchCV(estimator=model_gs, param_grid=param_grid, scoring='accuracy', cv=2, n_jobs=-1)\n",
    "CV_rfc.fit(train_df_pr_sc_win, train_labels)"
   ]
  },
  {
   "cell_type": "code",
   "execution_count": null,
   "metadata": {},
   "outputs": [],
   "source": [
    "CV_rfc.best_params_"
   ]
  },
  {
   "cell_type": "code",
   "execution_count": null,
   "metadata": {},
   "outputs": [],
   "source": [
    "rfc_activ_best = CV_rfc.best_estimator_\n",
    "\n",
    "rfc_activ_best.fit(train_df_pr_sc_win, train_labels)\n",
    "train_labels_hat = rfc_activ_best.predict(train_df_pr_sc_win)\n",
    "test_labels_hat = rfc_activ_best.predict(test_df_pr_sc_win)"
   ]
  },
  {
   "cell_type": "code",
   "execution_count": null,
   "metadata": {},
   "outputs": [],
   "source": [
    "test_acc_rfc = accuracy_score(test_labels_hat, test_labels)\n",
    "train_acc_rfc = accuracy_score(test_labels_hat, test_labels)\n",
    "print(f'Random Forest Classifier, after grid search\\ntest  accuracy = {test_acc_rfc: .2f}\\ntrain accuracy = {train_acc_rfc: .2f}')"
   ]
  },
  {
   "cell_type": "markdown",
   "metadata": {},
   "source": [
    "Resuls some how are beter then in article on LSTM approach"
   ]
  },
  {
   "cell_type": "markdown",
   "metadata": {},
   "source": [
    "## K Neighbors Classifier"
   ]
  },
  {
   "cell_type": "code",
   "execution_count": 42,
   "metadata": {},
   "outputs": [],
   "source": [
    "from sklearn.neighbors import KNeighborsClassifier\n",
    "from sklearn.model_selection import cross_validate"
   ]
  },
  {
   "cell_type": "code",
   "execution_count": 60,
   "metadata": {},
   "outputs": [
    {
     "data": {
      "image/png": "[encoded data removed]",
      "text/plain": [
       "<Figure size 432x288 with 1 Axes>"
      ]
     },
     "metadata": {
      "needs_background": "light"
     },
     "output_type": "display_data"
    }
   ],
   "source": [
    "n_n = np.linspace(3, 30, 6, dtype=int)\n",
    "accuracy_test_scores = []\n",
    "accuracy_train_scores = []\n",
    "weights_type = 'uniform'\n",
    "for _i, n_neib in enumerate(n_n):\n",
    "    knn_model = KNeighborsClassifier(n_neighbors=int(n_neib), weights=weights_type, n_jobs=-1)\n",
    "    scores = cross_validate(knn_model, train_df_pr_sc_win, train_labels,\n",
    "                            cv=5, scoring='accuracy', return_train_score=True)\n",
    "    accuracy_test_scores.append(scores['test_score'].mean())\n",
    "    accuracy_train_scores.append(scores['train_score'].mean())\n",
    "    \n",
    "    display.clear_output(wait=True)\n",
    "    plt.plot(n_n[:_i+1], accuracy_test_scores, label='test')\n",
    "    plt.plot(n_n[:_i+1], accuracy_train_scores, label='train')\n",
    "    plt.xlabel('neibours')\n",
    "    plt.ylabel('accuracy')\n",
    "    plt.title(f'accuracy score depends on neibors, validation, weights={weights_type}')\n",
    "    plt.legend()\n",
    "    plt.show()\n",
    "    \n",
    "_d = pd.DataFrame()\n",
    "_d['n_n'] = n_n\n",
    "_d['test_accuracy'] = accuracy_test_scores\n",
    "_d['train_accuracy'] = accuracy_train_scores\n",
    "_d.to_csv(f'cv_data/dist_knn_{weights_type}.csv')"
   ]
  },
  {
   "cell_type": "code",
   "execution_count": 62,
   "metadata": {},
   "outputs": [
    {
     "data": {
      "image/png": "[encoded data removed]",
      "text/plain": [
       "<Figure size 432x288 with 1 Axes>"
      ]
     },
     "metadata": {
      "needs_background": "light"
     },
     "output_type": "display_data"
    }
   ],
   "source": [
    "n_n = np.linspace(3, 30, 6, dtype=int)\n",
    "accuracy_test_scores = []\n",
    "accuracy_train_scores = []\n",
    "weights_type = 'distance'\n",
    "for _i, n_neib in enumerate(n_n):\n",
    "    knn_model = KNeighborsClassifier(n_neighbors=int(n_neib), weights=weights_type, n_jobs=-1)\n",
    "    scores = cross_validate(knn_model, train_df_pr_sc_win, train_labels,\n",
    "                            cv=5, scoring='accuracy', return_train_score=True)\n",
    "    accuracy_test_scores.append(scores['test_score'].mean())\n",
    "    accuracy_train_scores.append(scores['train_score'].mean())\n",
    "    \n",
    "    display.clear_output(wait=True)\n",
    "    plt.plot(n_n[:_i+1], accuracy_test_scores, label='test')\n",
    "    plt.plot(n_n[:_i+1], accuracy_train_scores, label='train')\n",
    "    plt.xlabel('neibours')\n",
    "    plt.ylabel('accuracy')\n",
    "    plt.title(f'accuracy score depends on neibors, validation, weights={weights_type}')\n",
    "    plt.legend()\n",
    "    plt.show()\n",
    "    \n",
    "_d = pd.DataFrame()\n",
    "_d['n_n'] = n_n\n",
    "_d['test_accuracy'] = accuracy_test_scores\n",
    "_d['train_accuracy'] = accuracy_train_scores\n",
    "_d.to_csv(f'cv_data/dist_knn_{weights_type}.csv')"
   ]
  },
  {
   "cell_type": "code",
   "execution_count": null,
   "metadata": {},
   "outputs": [],
   "source": []
  }
 ],
 "metadata": {
  "kernelspec": {
   "display_name": "Python 3",
   "language": "python",
   "name": "python3"
  },
  "language_info": {
   "codemirror_mode": {
    "name": "ipython",
    "version": 3
   },
   "file_extension": ".py",
   "mimetype": "text/x-python",
   "name": "python",
   "nbconvert_exporter": "python",
   "pygments_lexer": "ipython3",
   "version": "3.8.6"
  }
 },
 "nbformat": 4,
 "nbformat_minor": 4
}
