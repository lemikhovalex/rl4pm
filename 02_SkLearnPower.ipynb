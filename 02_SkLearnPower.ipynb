{
 "cells": [
  {
   "cell_type": "code",
   "execution_count": 21,
   "metadata": {},
   "outputs": [],
   "source": [
    "import pandas as pd\n",
    "import numpy as np\n",
    "import datetime"
   ]
  },
  {
   "cell_type": "code",
   "execution_count": 2,
   "metadata": {},
   "outputs": [],
   "source": [
    "test_df = pd.read_csv('datasets/test_df.csv').drop(columns='Unnamed: 0')\n",
    "test_df['timestamp'] = test_df['timestamp'].apply(lambda x: datetime.datetime.fromisoformat(x))\n",
    "\n",
    "train_df = pd.read_csv('datasets/train_df.csv').drop(columns='Unnamed: 0')\n",
    "train_df['timestamp'] = train_df['timestamp'].apply(lambda x: datetime.datetime.fromisoformat(x))"
   ]
  },
  {
   "cell_type": "markdown",
   "metadata": {},
   "source": [
    "## Proprocessing:\n",
    "For leveraging predictive models the following features are created:\n",
    "- $t_e$ - time since previous event\n",
    "- $t_w$ - time since the beginning of week\n",
    "- $t_t$ - time since the beginning of trace\n",
    "- one hot encoded labels"
   ]
  },
  {
   "cell_type": "code",
   "execution_count": 3,
   "metadata": {},
   "outputs": [],
   "source": [
    "import rl4pm_lib.preprocessing as preprocessing\n",
    "\n",
    "column_feature = {'te': 0, 'tt': 1, 'tw': 2}\n",
    "prepro = preprocessing.DfPreprocesser()\n",
    "prepro.fit(train_df)\n",
    "train_df_pr = prepro.transform(train_df)\n",
    "test_df_pr = prepro.transform(test_df)"
   ]
  },
  {
   "cell_type": "markdown",
   "metadata": {},
   "source": [
    "Let's construct features as moving window"
   ]
  },
  {
   "cell_type": "code",
   "execution_count": 4,
   "metadata": {},
   "outputs": [],
   "source": [
    "win_len = 2\n",
    "max_window_len = 5"
   ]
  },
  {
   "cell_type": "code",
   "execution_count": 5,
   "metadata": {},
   "outputs": [],
   "source": [
    "test_labels = test_df_pr.drop(columns=['te', 'tt', 'tw', 'trace_id']).values.argmax(axis=1)\n",
    "train_labels = train_df_pr.drop(columns=['te', 'tt', 'tw', 'trace_id']).values.argmax(axis=1)"
   ]
  },
  {
   "cell_type": "code",
   "execution_count": 24,
   "metadata": {},
   "outputs": [],
   "source": [
    "def make_window_features(df, win_len):\n",
    "    traces = list(set(df['trace_id'].values))\n",
    "    outs = []\n",
    "    labels = []\n",
    "    for _i, trace in enumerate(traces):\n",
    "        _df = df[df['trace_id'] == trace]\n",
    "        outs.append(make_window_features_for_trace(_df, win_len)[:-1])  # one must left 4 prediction\n",
    "        labels.append(_df.drop(columns=['te', 'tt', 'tw', 'trace_id']).values.argmax(axis=1)[win_len:])\n",
    "    out = pd.concat(outs, axis=0)\n",
    "    return out, np.concatenate(labels)"
   ]
  },
  {
   "cell_type": "code",
   "execution_count": 25,
   "metadata": {},
   "outputs": [],
   "source": [
    "def make_window_features_for_trace(df, win_len):\n",
    "    _win_len = win_len-1\n",
    "    out = df[_win_len:].copy()\n",
    "    out.reset_index(drop=True, inplace=True)\n",
    "    sh = df.shape[0]\n",
    "    for _i in range(win_len-1):\n",
    "        df_to_app = df[_i:sh-_win_len + _i].copy()\n",
    "        shape_miss = df.shape[0] - df_to_app.shape[0]\n",
    "        \n",
    "        rename_dict = {col: col + f'__{_i+1}' for col in df_to_app.columns}\n",
    "        df_to_app.rename(columns=rename_dict, inplace=True)\n",
    "        df_to_app.reset_index(drop=True, inplace=True)\n",
    "        \n",
    "        out = pd.concat([out, df_to_app], axis=1)\n",
    "    out.dropna(inplace=True)\n",
    "    shape_miss = df.shape[0] - out.shape[0]\n",
    "    return out"
   ]
  },
  {
   "cell_type": "code",
   "execution_count": 27,
   "metadata": {},
   "outputs": [
    {
     "data": {
      "text/plain": [
       "58110"
      ]
     },
     "execution_count": 27,
     "metadata": {},
     "output_type": "execute_result"
    }
   ],
   "source": [
    "test_df_pr.shape[0] - len(set(test_df_pr['trace_id'].values))"
   ]
  },
  {
   "cell_type": "code",
   "execution_count": 28,
   "metadata": {},
   "outputs": [],
   "source": [
    "test_df_pr_win, test_labels = make_window_features(test_df_pr, win_len)"
   ]
  },
  {
   "cell_type": "code",
   "execution_count": 33,
   "metadata": {},
   "outputs": [],
   "source": [
    "train_df_pr_win, train_labels = make_window_features(train_df_pr, win_len)"
   ]
  },
  {
   "cell_type": "markdown",
   "metadata": {},
   "source": [
    "Also it is not one line to get labels"
   ]
  }
 ],
 "metadata": {
  "kernelspec": {
   "display_name": "Python 3",
   "language": "python",
   "name": "python3"
  },
  "language_info": {
   "codemirror_mode": {
    "name": "ipython",
    "version": 3
   },
   "file_extension": ".py",
   "mimetype": "text/x-python",
   "name": "python",
   "nbconvert_exporter": "python",
   "pygments_lexer": "ipython3",
   "version": "3.8.6"
  }
 },
 "nbformat": 4,
 "nbformat_minor": 4
}
