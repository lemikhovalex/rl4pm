{
 "cells": [
  {
   "cell_type": "code",
   "execution_count": 1,
   "metadata": {},
   "outputs": [],
   "source": [
    "import pandas as pd\n",
    "import numpy as np\n",
    "import datetime\n",
    "from IPython import display\n",
    "\n",
    "import matplotlib.pyplot as plt"
   ]
  },
  {
   "cell_type": "code",
   "execution_count": 2,
   "metadata": {},
   "outputs": [],
   "source": [
    "test_df = pd.read_csv('datasets/test_df.csv').drop(columns='Unnamed: 0')\n",
    "test_df['timestamp'] = test_df['timestamp'].apply(lambda x: datetime.datetime.fromisoformat(x))\n",
    "\n",
    "train_df = pd.read_csv('datasets/train_df.csv').drop(columns='Unnamed: 0')\n",
    "train_df['timestamp'] = train_df['timestamp'].apply(lambda x: datetime.datetime.fromisoformat(x))"
   ]
  },
  {
   "cell_type": "markdown",
   "metadata": {},
   "source": [
    "## Proprocessing:\n",
    "For leveraging predictive models the following features are created:\n",
    "- $t_e$ - time since previous event\n",
    "- $t_w$ - time since the beginning of week\n",
    "- $t_t$ - time since the beginning of trace\n",
    "- one hot encoded labels"
   ]
  },
  {
   "cell_type": "code",
   "execution_count": 3,
   "metadata": {},
   "outputs": [],
   "source": [
    "import rl4pm_lib.preprocessing as preprocessing\n",
    "\n",
    "column_feature = {'tt': 0, 'te': 1, 'tw': 2}\n",
    "prepro = preprocessing.DfPreprocesser()\n",
    "prepro.fit(train_df)\n",
    "train_df_pr = prepro.transform(train_df)\n",
    "test_df_pr = prepro.transform(test_df)"
   ]
  },
  {
   "cell_type": "markdown",
   "metadata": {},
   "source": [
    "Also must scale continious (time related features)"
   ]
  },
  {
   "cell_type": "code",
   "execution_count": 4,
   "metadata": {},
   "outputs": [],
   "source": [
    "scaler = preprocessing.PaperScaler(column_feature)\n",
    "scaler.fit(train_df_pr)\n",
    "train_df_pr_sc = scaler.transform(train_df_pr)\n",
    "test_df_pr_sc = scaler.transform(test_df_pr)"
   ]
  },
  {
   "cell_type": "markdown",
   "metadata": {},
   "source": [
    "Let's construct features as moving window"
   ]
  },
  {
   "cell_type": "code",
   "execution_count": 5,
   "metadata": {},
   "outputs": [],
   "source": [
    "win_len = 2\n",
    "max_window_len = 5"
   ]
  },
  {
   "cell_type": "code",
   "execution_count": 6,
   "metadata": {},
   "outputs": [],
   "source": [
    "def make_window_features_for_trace(df, win_len):\n",
    "    _win_len = win_len-1\n",
    "    out = df[_win_len:].copy()\n",
    "    out.reset_index(drop=True, inplace=True)\n",
    "    sh = df.shape[0]\n",
    "    for _i in range(win_len-1):\n",
    "        df_to_app = df[_i:sh-_win_len + _i].copy()\n",
    "        shape_miss = df.shape[0] - df_to_app.shape[0]\n",
    "        \n",
    "        rename_dict = {col: col + f'__{_i+1}' for col in df_to_app.columns}\n",
    "        df_to_app.rename(columns=rename_dict, inplace=True)\n",
    "        df_to_app.reset_index(drop=True, inplace=True)\n",
    "        \n",
    "        out = pd.concat([out, df_to_app], axis=1)\n",
    "    out.dropna(inplace=True)\n",
    "    shape_miss = df.shape[0] - out.shape[0]\n",
    "    return out"
   ]
  },
  {
   "cell_type": "code",
   "execution_count": 7,
   "metadata": {},
   "outputs": [],
   "source": [
    "def make_window_features(df, win_len):\n",
    "    traces = list(set(df['trace_id'].values))\n",
    "    outs = []\n",
    "    labels = []\n",
    "    tes = []\n",
    "    for _i, trace in enumerate(traces):\n",
    "        _df = df[df['trace_id'] == trace]\n",
    "        outs.append(make_window_features_for_trace(_df, win_len)[:-1])  # one must left 4 prediction\n",
    "        labels.append(_df.drop(columns=['te', 'tt', 'tw', 'trace_id']).values.argmax(axis=1)[win_len:])\n",
    "        tes.append(_df['te'].values[win_len:])\n",
    "    return pd.concat(outs, axis=0), np.concatenate(labels), np.concatenate(tes)"
   ]
  },
  {
   "cell_type": "code",
   "execution_count": 8,
   "metadata": {},
   "outputs": [],
   "source": [
    "test_df_pr_sc_win, test_labels, test_tes = make_window_features(test_df_pr_sc, win_len)\n",
    "test_df_pr_sc_win.drop(columns=['trace_id'], inplace=True)"
   ]
  },
  {
   "cell_type": "code",
   "execution_count": 9,
   "metadata": {},
   "outputs": [],
   "source": [
    "train_df_pr_sc_win, train_labels, train_tes = make_window_features(train_df_pr_sc, win_len)\n",
    "train_df_pr_sc_win.drop(columns=['trace_id'], inplace=True)"
   ]
  },
  {
   "cell_type": "markdown",
   "metadata": {},
   "source": [
    "Ok, features and targets are ready, let's do `.fit()`, `.predict())))))`\n",
    "\n",
    "What methods will I use? Of course all, which were listed [here](https://github.com/lemikhovalex/DA_CV)"
   ]
  },
  {
   "cell_type": "markdown",
   "metadata": {},
   "source": [
    "# Classification\n",
    "## Random Forest Classifier"
   ]
  },
  {
   "cell_type": "code",
   "execution_count": 10,
   "metadata": {},
   "outputs": [],
   "source": [
    "from sklearn.ensemble import RandomForestClassifier\n",
    "from sklearn.metrics import accuracy_score"
   ]
  },
  {
   "cell_type": "code",
   "execution_count": 11,
   "metadata": {},
   "outputs": [
    {
     "name": "stdout",
     "output_type": "stream",
     "text": [
      "Random Forest Classifier\n",
      "test  accuracy =  0.84\n",
      "train accuracy =  0.85\n",
      "Wall time: 8.18 s\n"
     ]
    }
   ],
   "source": [
    "%%time\n",
    "rfc_activ = RandomForestClassifier(n_estimators=130, max_depth=17, random_state=42, n_jobs=-1)\n",
    "\n",
    "rfc_activ.fit(train_df_pr_sc_win, train_labels)\n",
    "train_labels_hat = rfc_activ.predict(train_df_pr_sc_win)\n",
    "test_labels_hat = rfc_activ.predict(test_df_pr_sc_win)\n",
    "\n",
    "test_acc_rfc = accuracy_score(test_labels_hat, test_labels)\n",
    "train_acc_rfc = accuracy_score(train_labels_hat, train_labels)\n",
    "print(f'Random Forest Classifier\\ntest  accuracy = {test_acc_rfc: .2f}\\ntrain accuracy = {train_acc_rfc: .2f}')"
   ]
  },
  {
   "cell_type": "code",
   "execution_count": 18,
   "metadata": {},
   "outputs": [],
   "source": [
    "from sklearn.model_selection import GridSearchCV"
   ]
  },
  {
   "cell_type": "code",
   "execution_count": 13,
   "metadata": {},
   "outputs": [
    {
     "name": "stdout",
     "output_type": "stream",
     "text": [
      "Wall time: 23min 54s\n"
     ]
    },
    {
     "data": {
      "text/plain": [
       "GridSearchCV(cv=2, estimator=RandomForestClassifier(random_state=42), n_jobs=-1,\n",
       "             param_grid={'max_depth': array([ 7, 10, 14, 17, 21, 25]),\n",
       "                         'n_estimators': array([100, 102, 105, 107, 110, 112, 115, 117, 120, 123, 125, 128, 130,\n",
       "       133, 135, 138, 141, 143, 146, 148, 151, 153, 156, 158, 161, 164,\n",
       "       166, 169, 171, 174, 176, 179, 182, 184, 187, 189, 192, 194, 197,\n",
       "       200])},\n",
       "             scoring='accuracy')"
      ]
     },
     "execution_count": 13,
     "metadata": {},
     "output_type": "execute_result"
    }
   ],
   "source": [
    "%%time\n",
    "param_grid = { \n",
    "    'n_estimators': np.linspace(100, 200, num=40, dtype=int),\n",
    "    'max_depth' : np.linspace(7, 25, num=6, dtype=int),\n",
    "}\n",
    "\n",
    "model_gs = RandomForestClassifier(random_state=42)\n",
    "CV_rfc = GridSearchCV(estimator=model_gs, param_grid=param_grid, scoring='accuracy', cv=2, n_jobs=-1)\n",
    "CV_rfc.fit(train_df_pr_sc_win, train_labels)"
   ]
  },
  {
   "cell_type": "code",
   "execution_count": 14,
   "metadata": {},
   "outputs": [
    {
     "data": {
      "text/plain": [
       "{'max_depth': 17, 'n_estimators': 115}"
      ]
     },
     "execution_count": 14,
     "metadata": {},
     "output_type": "execute_result"
    }
   ],
   "source": [
    "CV_rfc.best_params_"
   ]
  },
  {
   "cell_type": "code",
   "execution_count": 15,
   "metadata": {},
   "outputs": [
    {
     "name": "stdout",
     "output_type": "stream",
     "text": [
      "Random Forest Classifier, after grid search\n",
      "test  accuracy =  0.84\n",
      "train accuracy =  0.85\n",
      "Wall time: 32.9 s\n"
     ]
    }
   ],
   "source": [
    "%%time\n",
    "rfc_activ_best = CV_rfc.best_estimator_\n",
    "rfc_activ_best.fit(train_df_pr_sc_win, train_labels)\n",
    "\n",
    "train_labels_hat = rfc_activ_best.predict(train_df_pr_sc_win)\n",
    "test_labels_hat = rfc_activ_best.predict(test_df_pr_sc_win)\n",
    "\n",
    "test_acc_rfc = accuracy_score(test_labels_hat, test_labels)\n",
    "train_acc_rfc = accuracy_score(train_labels_hat, train_labels)\n",
    "\n",
    "print(f'Random Forest Classifier, after grid search')\n",
    "print(f'test  accuracy = {test_acc_rfc: .2f}\\ntrain accuracy = {train_acc_rfc: .2f}')"
   ]
  },
  {
   "cell_type": "markdown",
   "metadata": {},
   "source": [
    "Resuls some how are beter then in article on LSTM approach"
   ]
  },
  {
   "cell_type": "markdown",
   "metadata": {},
   "source": [
    "## K Neighbors Classifier"
   ]
  },
  {
   "cell_type": "code",
   "execution_count": 31,
   "metadata": {},
   "outputs": [],
   "source": [
    "from sklearn.neighbors import KNeighborsClassifier\n",
    "from sklearn.model_selection import cross_validate"
   ]
  },
  {
   "cell_type": "code",
   "execution_count": 34,
   "metadata": {},
   "outputs": [
    {
     "name": "stdout",
     "output_type": "stream",
     "text": [
      "Fitting 2 folds for each of 12 candidates, totalling 24 fits\n"
     ]
    },
    {
     "name": "stderr",
     "output_type": "stream",
     "text": [
      "[Parallel(n_jobs=-1)]: Using backend LokyBackend with 12 concurrent workers.\n",
      "[Parallel(n_jobs=-1)]: Done  10 out of  24 | elapsed:   10.5s remaining:   14.8s\n",
      "[Parallel(n_jobs=-1)]: Done  19 out of  24 | elapsed:   15.4s remaining:    4.0s\n",
      "[Parallel(n_jobs=-1)]: Done  24 out of  24 | elapsed:   17.1s finished\n"
     ]
    },
    {
     "name": "stdout",
     "output_type": "stream",
     "text": [
      "0.1542316506107193\n",
      "{'n_neighbors': 30, 'weights': 'distance'}\n"
     ]
    }
   ],
   "source": [
    "xgb_clf = KNeighborsClassifier()\n",
    "grid_xgb = GridSearchCV(xgb_clf, {'n_neighbors': np.linspace(3, 30, 6, dtype=int),\n",
    "                                  'weights': ['distance', 'uniform']\n",
    "                                 },\n",
    "                        n_jobs=-1, scoring='accuracy', cv=2, verbose=3)\n",
    "grid_xgb.fit(train_df_pr_sc_win, train_labels)\n",
    "print(grid_xgb.best_score_)\n",
    "print(grid_xgb.best_params_)"
   ]
  },
  {
   "cell_type": "markdown",
   "metadata": {},
   "source": [
    "Ok, next"
   ]
  },
  {
   "cell_type": "markdown",
   "metadata": {},
   "source": [
    "## Grad Boost"
   ]
  },
  {
   "cell_type": "code",
   "execution_count": 19,
   "metadata": {},
   "outputs": [],
   "source": [
    "import xgboost as xgb"
   ]
  },
  {
   "cell_type": "code",
   "execution_count": 20,
   "metadata": {},
   "outputs": [
    {
     "name": "stdout",
     "output_type": "stream",
     "text": [
      "XG boost Classifier\n",
      "test  accuracy =  0.85\n",
      "train accuracy =  0.89\n"
     ]
    }
   ],
   "source": [
    "param = {'max_depth': 17,  # the maximum depth of each tree\n",
    "         'eta': 0.3,  # the training step for each iteration\n",
    "         'objective': 'multi:softprob',  # error evaluation for multiclass training\n",
    "         'num_class': 24,\n",
    "         'n_jobs': -1,\n",
    "         'n_estimators': 7  ,\n",
    "         'tree_method': 'gpu_hist'       \n",
    "        }\n",
    "\n",
    "xgb_clf = xgb.XGBClassifier(**param)\n",
    "xgb_clf.fit(train_df_pr_sc_win, train_labels)\n",
    "\n",
    "train_labels_hat = xgb_clf.predict(train_df_pr_sc_win)\n",
    "test_labels_hat = xgb_clf.predict(test_df_pr_sc_win)\n",
    "\n",
    "test_acc_xgb = accuracy_score(test_labels_hat, test_labels)\n",
    "train_acc_xgb = accuracy_score(train_labels_hat, train_labels)\n",
    "\n",
    "print(f'XG boost Classifier')\n",
    "print(f'test  accuracy = {test_acc_xgb: .2f}\\ntrain accuracy = {train_acc_xgb: .2f}')"
   ]
  },
  {
   "cell_type": "code",
   "execution_count": 24,
   "metadata": {},
   "outputs": [
    {
     "name": "stdout",
     "output_type": "stream",
     "text": [
      "Fitting 2 folds for each of 900 candidates, totalling 1800 fits\n"
     ]
    },
    {
     "name": "stderr",
     "output_type": "stream",
     "text": [
      "[Parallel(n_jobs=-1)]: Using backend LokyBackend with 12 concurrent workers.\n",
      "[Parallel(n_jobs=-1)]: Done   8 tasks      | elapsed:   13.4s\n",
      "[Parallel(n_jobs=-1)]: Done 104 tasks      | elapsed:  3.4min\n",
      "[Parallel(n_jobs=-1)]: Done 264 tasks      | elapsed: 12.9min\n",
      "[Parallel(n_jobs=-1)]: Done 488 tasks      | elapsed: 28.2min\n",
      "[Parallel(n_jobs=-1)]: Done 776 tasks      | elapsed: 48.2min\n",
      "[Parallel(n_jobs=-1)]: Done 1128 tasks      | elapsed: 71.7min\n",
      "[Parallel(n_jobs=-1)]: Done 1544 tasks      | elapsed: 97.0min\n",
      "[Parallel(n_jobs=-1)]: Done 1800 out of 1800 | elapsed: 115.2min finished\n"
     ]
    },
    {
     "name": "stdout",
     "output_type": "stream",
     "text": [
      "0.8247602732106704\n",
      "{'eta': 0.01, 'max_depth': 7, 'n_estimators': 7}\n"
     ]
    }
   ],
   "source": [
    "param = {'objective': 'multi:softprob',  # error evaluation for multiclass training\n",
    "         'num_class': 24,\n",
    "         'tree_method': 'gpu_hist'\n",
    "        }\n",
    "\n",
    "xgb_clf = xgb.XGBClassifier(**param)\n",
    "grid_xgb = GridSearchCV(xgb_clf, {'max_depth': np.linspace(3, 20, num=15, dtype=int),\n",
    "                                  'n_estimators': np.linspace(3, 15, num=6, dtype=int),\n",
    "                                  'eta': np.linspace(1e-2, 0.5, num=10, dtype=float)\n",
    "                                 },\n",
    "                        n_jobs=-1, scoring='accuracy', cv=2, verbose=3)\n",
    "grid_xgb.fit(train_df_pr_sc_win, train_labels)\n",
    "print(grid_xgb.best_score_)\n",
    "print(grid_xgb.best_params_)"
   ]
  },
  {
   "cell_type": "code",
   "execution_count": 28,
   "metadata": {},
   "outputs": [
    {
     "name": "stdout",
     "output_type": "stream",
     "text": [
      "Fitting 2 folds for each of 700 candidates, totalling 1400 fits\n"
     ]
    },
    {
     "name": "stderr",
     "output_type": "stream",
     "text": [
      "[Parallel(n_jobs=-1)]: Using backend LokyBackend with 12 concurrent workers.\n",
      "[Parallel(n_jobs=-1)]: Done   8 tasks      | elapsed:   12.0s\n",
      "[Parallel(n_jobs=-1)]: Done 104 tasks      | elapsed:  1.9min\n",
      "[Parallel(n_jobs=-1)]: Done 264 tasks      | elapsed:  5.2min\n",
      "[Parallel(n_jobs=-1)]: Done 488 tasks      | elapsed:  9.8min\n",
      "[Parallel(n_jobs=-1)]: Done 776 tasks      | elapsed: 15.8min\n",
      "[Parallel(n_jobs=-1)]: Done 1128 tasks      | elapsed: 23.2min\n",
      "[Parallel(n_jobs=-1)]: Done 1400 out of 1400 | elapsed: 28.9min finished\n"
     ]
    },
    {
     "name": "stdout",
     "output_type": "stream",
     "text": [
      "0.8249605090439851\n",
      "{'eta': 0.07968421052631579, 'max_depth': 6, 'n_estimators': 8}\n"
     ]
    }
   ],
   "source": [
    "param = {'objective': 'multi:softprob',  # error evaluation for multiclass training\n",
    "         'num_class': 24,\n",
    "         'tree_method': 'gpu_hist'\n",
    "        }\n",
    "\n",
    "xgb_clf = xgb.XGBClassifier(**param)\n",
    "grid_xgb = GridSearchCV(xgb_clf, {'max_depth': np.linspace(5, 10, num=5, dtype=int),\n",
    "                                  'n_estimators': np.linspace(3, 10, num=7, dtype=int),\n",
    "                                  'eta': np.linspace(0.001, 0.3, num=20, dtype=float)\n",
    "                                 },\n",
    "                        n_jobs=-1, scoring='accuracy', cv=2, verbose=3)\n",
    "grid_xgb.fit(train_df_pr_sc_win, train_labels)\n",
    "print(grid_xgb.best_score_)\n",
    "print(grid_xgb.best_params_)"
   ]
  },
  {
   "cell_type": "code",
   "execution_count": 29,
   "metadata": {},
   "outputs": [],
   "source": [
    "xgb_clf_best = grid_xgb.best_estimator_"
   ]
  },
  {
   "cell_type": "code",
   "execution_count": 30,
   "metadata": {},
   "outputs": [
    {
     "name": "stdout",
     "output_type": "stream",
     "text": [
      "XG boost Classifier\n",
      "test  accuracy =  0.84\n",
      "train accuracy =  0.83\n"
     ]
    }
   ],
   "source": [
    "train_labels_hat = xgb_clf_best.predict(train_df_pr_sc_win)\n",
    "test_labels_hat = xgb_clf_best.predict(test_df_pr_sc_win)\n",
    "\n",
    "test_acc_xgb = accuracy_score(test_labels_hat, test_labels)\n",
    "train_acc_xgb = accuracy_score(train_labels_hat, train_labels)\n",
    "\n",
    "print(f'XG boost Classifier')\n",
    "print(f'test  accuracy = {test_acc_xgb: .2f}\\ntrain accuracy = {train_acc_xgb: .2f}')"
   ]
  },
  {
   "cell_type": "markdown",
   "metadata": {},
   "source": [
    "## Classification results\n",
    "Classique approaches povides results, which outperforms result, given in article as baseline, but...\n",
    "\n",
    "- As been shown in visualization, there are a lot of loops, model that doesnt consern information on all the trail seems to be useless for end time prediction\n",
    "- Accuracy is what been used for benchmarking in papers. Maybe it is not the best metric? Who knows, nevertheless this is a bench"
   ]
  },
  {
   "cell_type": "markdown",
   "metadata": {},
   "source": [
    "# Regression"
   ]
  },
  {
   "cell_type": "code",
   "execution_count": 16,
   "metadata": {},
   "outputs": [],
   "source": [
    "from sklearn.ensemble import RandomForestRegressor\n",
    "from sklearn.metrics import mean_absolute_error as MAE"
   ]
  },
  {
   "cell_type": "code",
   "execution_count": 41,
   "metadata": {},
   "outputs": [
    {
     "name": "stdout",
     "output_type": "stream",
     "text": [
      "Random Forest Classifier\n",
      "test  MAE =  10.82h\n",
      "train MAE =  7.58h\n",
      "Wall time: 27.3 s\n"
     ]
    }
   ],
   "source": [
    "%%time\n",
    "rfc_te = RandomForestRegressor(n_estimators=150, max_depth=17, random_state=42, n_jobs=-1)\n",
    "\n",
    "rfc_te.fit(train_df_pr_sc_win, train_tes)\n",
    "train_tes_hat = rfc_te.predict(train_df_pr_sc_win)\n",
    "test_tes_hat = rfc_te.predict(test_df_pr_sc_win)\n",
    "\n",
    "test_mae_rfr = MAE(test_tes_hat * scaler.scales['te'], test_tes * scaler.scales['te'])\n",
    "train_mae_rfr = MAE(train_tes_hat * scaler.scales['te'], train_tes * scaler.scales['te'])\n",
    "print(f'Random Forest Classifier\\ntest  MAE = {test_mae_rfr / 60 / 60: .2f}h\\ntrain MAE = {train_mae_rfr / 60 / 60: .2f}h')"
   ]
  },
  {
   "cell_type": "markdown",
   "metadata": {},
   "source": [
    "Again better then papers)"
   ]
  },
  {
   "cell_type": "code",
   "execution_count": 54,
   "metadata": {},
   "outputs": [
    {
     "name": "stdout",
     "output_type": "stream",
     "text": [
      "XG boost Regressor\n",
      "Random Forest Classifier\n",
      "test  MAE =  4.32d\n",
      "train MAE =  4.32d\n"
     ]
    }
   ],
   "source": [
    "import xgboost as xgb\n",
    "param = {'max_depth': 17,  # the maximum depth of each tree\n",
    "         'eta': 0.3,  # the training step for each iteration\n",
    "         'n_jobs': -1,\n",
    "         'n_estimators': 7      \n",
    "        }\n",
    "\n",
    "xgb_reg = xgb.XGBRegressor(**param)\n",
    "xgb_reg.fit(train_df_pr_sc_win, train_tes)\n",
    "\n",
    "train_tes_hat = xgb_reg.predict(train_df_pr_sc_win)\n",
    "test_tes_hat = xgb_reg.predict(test_df_pr_sc_win)\n",
    "\n",
    "test_mae_xgb = MAE(test_tes_hat * scaler.scales['te'], test_tes * scaler.scales['te'])\n",
    "train_mae_xgb = MAE(test_tes_hat * scaler.scales['te'], test_tes * scaler.scales['te'])\n",
    "\n",
    "print(f'XG boost Regressor')\n",
    "print(f'Random Forest Classifier\\ntest  MAE = {test_mae_xgb / 3600 / 24: .2f}d\\ntrain MAE = {train_mae_xgb / 3600 / 24: .2f}d')"
   ]
  },
  {
   "cell_type": "markdown",
   "metadata": {},
   "source": [
    "XGB is not that cool"
   ]
  },
  {
   "cell_type": "markdown",
   "metadata": {},
   "source": [
    "# No long activity!"
   ]
  }
 ],
 "metadata": {
  "kernelspec": {
   "display_name": "Python 3",
   "language": "python",
   "name": "python3"
  },
  "language_info": {
   "codemirror_mode": {
    "name": "ipython",
    "version": 3
   },
   "file_extension": ".py",
   "mimetype": "text/x-python",
   "name": "python",
   "nbconvert_exporter": "python",
   "pygments_lexer": "ipython3",
   "version": "3.8.6"
  }
 },
 "nbformat": 4,
 "nbformat_minor": 4
}
