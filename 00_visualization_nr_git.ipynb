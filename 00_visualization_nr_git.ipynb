{
 "cells": [
  {
   "cell_type": "code",
   "execution_count": 1,
   "metadata": {},
   "outputs": [],
   "source": [
    "import pm4py\n",
    "import pandas as pd\n",
    "import datetime\n",
    "from math import ceil\n",
    "import matplotlib.pyplot as plt\n",
    "import numpy as np\n",
    "from importlib import reload\n",
    "import random\n",
    "import seaborn as sns\n",
    "from IPython import display\n",
    "\n",
    "from dateutil.parser import parse"
   ]
  },
  {
   "cell_type": "markdown",
   "metadata": {},
   "source": [
    "# What is it about\n",
    "## Data\n",
    "We have data of processes - `bpi12`. It is a sequence of (`time_stamp`, `activity`,...) \n",
    "and other stuff which is not considered by community. Basicly here it is `BPI_Challenge_2012.xes`"
   ]
  },
  {
   "cell_type": "code",
   "execution_count": 4,
   "metadata": {},
   "outputs": [
    {
     "data": {
      "text/html": [
       "<div>\n",
       "<style scoped>\n",
       "    .dataframe tbody tr th:only-of-type {\n",
       "        vertical-align: middle;\n",
       "    }\n",
       "\n",
       "    .dataframe tbody tr th {\n",
       "        vertical-align: top;\n",
       "    }\n",
       "\n",
       "    .dataframe thead th {\n",
       "        text-align: right;\n",
       "    }\n",
       "</style>\n",
       "<table border=\"1\" class=\"dataframe\">\n",
       "  <thead>\n",
       "    <tr style=\"text-align: right;\">\n",
       "      <th></th>\n",
       "      <th>trace_id</th>\n",
       "      <th>activity</th>\n",
       "      <th>timestamp</th>\n",
       "    </tr>\n",
       "  </thead>\n",
       "  <tbody>\n",
       "    <tr>\n",
       "      <th>0</th>\n",
       "      <td>173688</td>\n",
       "      <td>3</td>\n",
       "      <td>2011-10-01 19:45:13</td>\n",
       "    </tr>\n",
       "    <tr>\n",
       "      <th>1</th>\n",
       "      <td>173688</td>\n",
       "      <td>5</td>\n",
       "      <td>2011-10-01 20:17:08</td>\n",
       "    </tr>\n",
       "    <tr>\n",
       "      <th>2</th>\n",
       "      <td>173688</td>\n",
       "      <td>6</td>\n",
       "      <td>2011-10-13 18:37:37</td>\n",
       "    </tr>\n",
       "    <tr>\n",
       "      <th>3</th>\n",
       "      <td>173691</td>\n",
       "      <td>3</td>\n",
       "      <td>2011-10-01 19:43:13</td>\n",
       "    </tr>\n",
       "    <tr>\n",
       "      <th>4</th>\n",
       "      <td>173691</td>\n",
       "      <td>5</td>\n",
       "      <td>2011-10-01 22:36:25</td>\n",
       "    </tr>\n",
       "    <tr>\n",
       "      <th>...</th>\n",
       "      <td>...</td>\n",
       "      <td>...</td>\n",
       "      <td>...</td>\n",
       "    </tr>\n",
       "    <tr>\n",
       "      <th>29405</th>\n",
       "      <td>214370</td>\n",
       "      <td>1</td>\n",
       "      <td>2012-03-01 18:28:21</td>\n",
       "    </tr>\n",
       "    <tr>\n",
       "      <th>29406</th>\n",
       "      <td>214373</td>\n",
       "      <td>1</td>\n",
       "      <td>2012-03-01 18:27:52</td>\n",
       "    </tr>\n",
       "    <tr>\n",
       "      <th>29407</th>\n",
       "      <td>214373</td>\n",
       "      <td>3</td>\n",
       "      <td>2012-03-02 5:22:41</td>\n",
       "    </tr>\n",
       "    <tr>\n",
       "      <th>29408</th>\n",
       "      <td>214373</td>\n",
       "      <td>5</td>\n",
       "      <td>2012-03-10 21:50:54</td>\n",
       "    </tr>\n",
       "    <tr>\n",
       "      <th>29409</th>\n",
       "      <td>214376</td>\n",
       "      <td>1</td>\n",
       "      <td>2012-03-01 18:27:41</td>\n",
       "    </tr>\n",
       "  </tbody>\n",
       "</table>\n",
       "<p>29410 rows × 3 columns</p>\n",
       "</div>"
      ],
      "text/plain": [
       "       trace_id  activity            timestamp\n",
       "0        173688         3  2011-10-01 19:45:13\n",
       "1        173688         5  2011-10-01 20:17:08\n",
       "2        173688         6  2011-10-13 18:37:37\n",
       "3        173691         3  2011-10-01 19:43:13\n",
       "4        173691         5  2011-10-01 22:36:25\n",
       "...         ...       ...                  ...\n",
       "29405    214370         1  2012-03-01 18:28:21\n",
       "29406    214373         1  2012-03-01 18:27:52\n",
       "29407    214373         3   2012-03-02 5:22:41\n",
       "29408    214373         5  2012-03-10 21:50:54\n",
       "29409    214376         1  2012-03-01 18:27:41\n",
       "\n",
       "[29410 rows x 3 columns]"
      ]
     },
     "execution_count": 4,
     "metadata": {},
     "output_type": "execute_result"
    }
   ],
   "source": [
    "df = pd.read_csv('datasets/bpi12w_norep_from_lstm.csv')\n",
    "if 'Unnamed: 0' in df.columns.values:\n",
    "    df.drop(columns=['Unnamed: 0'], inplace=True)\n",
    "df"
   ]
  },
  {
   "cell_type": "code",
   "execution_count": 5,
   "metadata": {},
   "outputs": [
    {
     "data": {
      "text/html": [
       "<div>\n",
       "<style scoped>\n",
       "    .dataframe tbody tr th:only-of-type {\n",
       "        vertical-align: middle;\n",
       "    }\n",
       "\n",
       "    .dataframe tbody tr th {\n",
       "        vertical-align: top;\n",
       "    }\n",
       "\n",
       "    .dataframe thead th {\n",
       "        text-align: right;\n",
       "    }\n",
       "</style>\n",
       "<table border=\"1\" class=\"dataframe\">\n",
       "  <thead>\n",
       "    <tr style=\"text-align: right;\">\n",
       "      <th></th>\n",
       "      <th>trace_id</th>\n",
       "      <th>activity</th>\n",
       "      <th>timestamp</th>\n",
       "    </tr>\n",
       "  </thead>\n",
       "  <tbody>\n",
       "    <tr>\n",
       "      <th>0</th>\n",
       "      <td>173688</td>\n",
       "      <td>3</td>\n",
       "      <td>2011-10-01 19:45:13</td>\n",
       "    </tr>\n",
       "    <tr>\n",
       "      <th>1</th>\n",
       "      <td>173688</td>\n",
       "      <td>5</td>\n",
       "      <td>2011-10-01 20:17:08</td>\n",
       "    </tr>\n",
       "    <tr>\n",
       "      <th>2</th>\n",
       "      <td>173688</td>\n",
       "      <td>6</td>\n",
       "      <td>2011-10-13 18:37:37</td>\n",
       "    </tr>\n",
       "    <tr>\n",
       "      <th>3</th>\n",
       "      <td>173691</td>\n",
       "      <td>3</td>\n",
       "      <td>2011-10-01 19:43:13</td>\n",
       "    </tr>\n",
       "    <tr>\n",
       "      <th>4</th>\n",
       "      <td>173691</td>\n",
       "      <td>5</td>\n",
       "      <td>2011-10-01 22:36:25</td>\n",
       "    </tr>\n",
       "    <tr>\n",
       "      <th>...</th>\n",
       "      <td>...</td>\n",
       "      <td>...</td>\n",
       "      <td>...</td>\n",
       "    </tr>\n",
       "    <tr>\n",
       "      <th>29405</th>\n",
       "      <td>214370</td>\n",
       "      <td>1</td>\n",
       "      <td>2012-03-01 18:28:21</td>\n",
       "    </tr>\n",
       "    <tr>\n",
       "      <th>29406</th>\n",
       "      <td>214373</td>\n",
       "      <td>1</td>\n",
       "      <td>2012-03-01 18:27:52</td>\n",
       "    </tr>\n",
       "    <tr>\n",
       "      <th>29407</th>\n",
       "      <td>214373</td>\n",
       "      <td>3</td>\n",
       "      <td>2012-03-02 5:22:41</td>\n",
       "    </tr>\n",
       "    <tr>\n",
       "      <th>29408</th>\n",
       "      <td>214373</td>\n",
       "      <td>5</td>\n",
       "      <td>2012-03-10 21:50:54</td>\n",
       "    </tr>\n",
       "    <tr>\n",
       "      <th>29409</th>\n",
       "      <td>214376</td>\n",
       "      <td>1</td>\n",
       "      <td>2012-03-01 18:27:41</td>\n",
       "    </tr>\n",
       "  </tbody>\n",
       "</table>\n",
       "<p>29410 rows × 3 columns</p>\n",
       "</div>"
      ],
      "text/plain": [
       "       trace_id  activity            timestamp\n",
       "0        173688         3  2011-10-01 19:45:13\n",
       "1        173688         5  2011-10-01 20:17:08\n",
       "2        173688         6  2011-10-13 18:37:37\n",
       "3        173691         3  2011-10-01 19:43:13\n",
       "4        173691         5  2011-10-01 22:36:25\n",
       "...         ...       ...                  ...\n",
       "29405    214370         1  2012-03-01 18:28:21\n",
       "29406    214373         1  2012-03-01 18:27:52\n",
       "29407    214373         3   2012-03-02 5:22:41\n",
       "29408    214373         5  2012-03-10 21:50:54\n",
       "29409    214376         1  2012-03-01 18:27:41\n",
       "\n",
       "[29410 rows x 3 columns]"
      ]
     },
     "execution_count": 5,
     "metadata": {},
     "output_type": "execute_result"
    }
   ],
   "source": [
    "df['trace_id'] = df['trace_id'].apply(lambda x: int(x))\n",
    "df.reset_index(inplace=True)\n",
    "df.drop(columns='index', inplace=True)\n",
    "df"
   ]
  },
  {
   "cell_type": "markdown",
   "metadata": {},
   "source": [
    "Some defenitions must be mentioned:\n",
    "- event ($e_i$) - {`activity` ($a$), `time_stamp` ($t$)}\n",
    "- trace (t) - $[e_1,\\ e_2, \\dots]$"
   ]
  },
  {
   "cell_type": "markdown",
   "metadata": {},
   "source": [
    "## Purpose\n",
    "Main objective - predict next `time_stamp` and `activity`. \n",
    "\n",
    "For activity metric, used by community is accuracy, and in latest works `f1`. For `time_stamp` ussualy MAE, sometimes weighted MAE.\n",
    "\n",
    "Nevetheless some other objectives are discovered - whole trace prediction. The metric for activity prediction - Damerau-Levenshtein Similarity"
   ]
  },
  {
   "cell_type": "markdown",
   "metadata": {},
   "source": [
    "# Visualization\n",
    "## Activity transition\n",
    "Firstly let's take a look on all activities transition  and try to estimate $P(a_{i+1} | a_i)$. It is a square matrix, which worth to be presented as `sns.heatmap`"
   ]
  },
  {
   "cell_type": "code",
   "execution_count": 6,
   "metadata": {},
   "outputs": [],
   "source": [
    "activities = list(set(df['activity'].values))\n",
    "n_act = len(activities)\n",
    "traces = list(set(df['trace_id'].values))"
   ]
  },
  {
   "cell_type": "code",
   "execution_count": 7,
   "metadata": {},
   "outputs": [],
   "source": [
    "_df = df.copy()\n",
    "_df['activity_prev'] = _df['activity'].shift(1)\n",
    "_df['trace_id_prev'] = _df['trace_id'].shift(1)\n",
    "_df = _df.dropna()\n",
    "_df = _df[_df['trace_id_prev'] == _df['trace_id']]"
   ]
  },
  {
   "cell_type": "code",
   "execution_count": 8,
   "metadata": {},
   "outputs": [],
   "source": [
    "\n",
    "transitions_counts = np.zeros((n_act, n_act))\n",
    "nums_of_ac_next = []\n",
    "for _i_next, act_next in enumerate(activities):\n",
    "    _df_ac_next = _df[_df['activity'] == act_next]\n",
    "    nums_of_ac_next.append(_df_ac_next.shape[0])\n",
    "    for _i_prev, act_prev in enumerate(activities):\n",
    "        transitions_counts[ _i_prev, _i_next] += _df_ac_next[_df_ac_next['activity_prev'] == act_prev].shape[0]"
   ]
  },
  {
   "cell_type": "code",
   "execution_count": 9,
   "metadata": {},
   "outputs": [
    {
     "data": {
      "image/png": "[encoded data removed]",
      "text/plain": [
       "<Figure size 432x288 with 2 Axes>"
      ]
     },
     "metadata": {},
     "output_type": "display_data"
    }
   ],
   "source": [
    "transitions_counts[transitions_counts == 0] = np.nan\n",
    "sns.set(rc={'figure.facecolor':'white'})\n",
    "sns.heatmap(transitions_counts, xticklabels=list(activities), yticklabels=list(activities))\n",
    "plt.title('Total number of transition  $a_t -> a_{t+1}$')\n",
    "\n",
    "plt.xlabel('$a_i$')\n",
    "plt.ylabel('$a_{i+1}$')\n",
    "plt.show()"
   ]
  },
  {
   "cell_type": "code",
   "execution_count": 10,
   "metadata": {},
   "outputs": [
    {
     "name": "stdout",
     "output_type": "stream",
     "text": [
      "There are 17 not existing transitions\n"
     ]
    }
   ],
   "source": [
    "print(f'There are {np.isnan(transitions_counts).sum()} not existing transitions')"
   ]
  },
  {
   "cell_type": "code",
   "execution_count": 11,
   "metadata": {},
   "outputs": [
    {
     "name": "stderr",
     "output_type": "stream",
     "text": [
      "<ipython-input-11-6ef5bc085097>:1: RuntimeWarning: invalid value encountered in less\n",
      "  transitions_counts[transitions_counts < 10] = np.nan\n"
     ]
    }
   ],
   "source": [
    "transitions_counts[transitions_counts < 10] = np.nan"
   ]
  },
  {
   "cell_type": "code",
   "execution_count": 12,
   "metadata": {},
   "outputs": [
    {
     "data": {
      "image/png": "[encoded data removed]",
      "text/plain": [
       "<Figure size 432x288 with 2 Axes>"
      ]
     },
     "metadata": {},
     "output_type": "display_data"
    }
   ],
   "source": [
    "sns.set(rc={'figure.facecolor':'white'})\n",
    "sns.heatmap(transitions_counts\n",
    "            , xticklabels=list(activities), yticklabels=list(activities))\n",
    "plt.title('Total number of transition  $a_t -> a_{t+1}$')\n",
    "\n",
    "plt.xlabel('$a_{i+1}$')\n",
    "plt.ylabel('$a_i$')\n",
    "plt.show()"
   ]
  },
  {
   "cell_type": "code",
   "execution_count": 13,
   "metadata": {},
   "outputs": [
    {
     "name": "stdout",
     "output_type": "stream",
     "text": [
      "There are 21 not existing transitions\n"
     ]
    }
   ],
   "source": [
    "print(f'There are {np.isnan(transitions_counts).sum()} not existing transitions')"
   ]
  },
  {
   "cell_type": "markdown",
   "metadata": {},
   "source": [
    "Cant say there are much rare transitions"
   ]
  },
  {
   "cell_type": "code",
   "execution_count": 14,
   "metadata": {},
   "outputs": [
    {
     "data": {
      "image/png": "[encoded data removed]",
      "text/plain": [
       "<Figure size 432x288 with 2 Axes>"
      ]
     },
     "metadata": {},
     "output_type": "display_data"
    }
   ],
   "source": [
    "prob_matrix = transitions_counts / np.nan_to_num(transitions_counts, 0).sum(axis=1).reshape(-1, 1)\n",
    "sns.set(rc={'figure.facecolor':'white'})\n",
    "sns.heatmap(prob_matrix,\n",
    "            xticklabels=list(activities), yticklabels=list(activities), \n",
    "            annot=True, fmt=\".2f\"\n",
    "           )\n",
    "plt.title('Probability of transition  $a_t -> a_{t+1}$')\n",
    "plt.xlabel('$a_{i+1}$')\n",
    "plt.ylabel('$a_i$')\n",
    "plt.show()"
   ]
  },
  {
   "cell_type": "code",
   "execution_count": 15,
   "metadata": {},
   "outputs": [
    {
     "name": "stdout",
     "output_type": "stream",
     "text": [
      "dull baseline 0.2514942761624962\n"
     ]
    }
   ],
   "source": [
    "filled = np.nan_to_num(transitions_counts, 0)\n",
    "print(f'dull baseline {np.diagonal(filled).sum() / filled.sum()}')"
   ]
  },
  {
   "cell_type": "code",
   "execution_count": null,
   "metadata": {},
   "outputs": [],
   "source": []
  },
  {
   "cell_type": "markdown",
   "metadata": {},
   "source": [
    "Can't say this dataset has uniform distribution."
   ]
  },
  {
   "cell_type": "markdown",
   "metadata": {},
   "source": [
    "## Time features\n",
    "For leveraging predictive models the following features are created:\n",
    "- $t_e$ - time since previous event\n",
    "- $t_w$ - time since the beginning of week\n",
    "- $t_t$ - time since the beginning of trace\n",
    "\n",
    "let's visualize all these features"
   ]
  },
  {
   "cell_type": "code",
   "execution_count": 16,
   "metadata": {},
   "outputs": [
    {
     "data": {
      "text/html": [
       "<div>\n",
       "<style scoped>\n",
       "    .dataframe tbody tr th:only-of-type {\n",
       "        vertical-align: middle;\n",
       "    }\n",
       "\n",
       "    .dataframe tbody tr th {\n",
       "        vertical-align: top;\n",
       "    }\n",
       "\n",
       "    .dataframe thead th {\n",
       "        text-align: right;\n",
       "    }\n",
       "</style>\n",
       "<table border=\"1\" class=\"dataframe\">\n",
       "  <thead>\n",
       "    <tr style=\"text-align: right;\">\n",
       "      <th></th>\n",
       "      <th>trace_id</th>\n",
       "      <th>activity</th>\n",
       "      <th>timestamp</th>\n",
       "    </tr>\n",
       "  </thead>\n",
       "  <tbody>\n",
       "    <tr>\n",
       "      <th>0</th>\n",
       "      <td>173688</td>\n",
       "      <td>3</td>\n",
       "      <td>2011-10-01 19:45:13</td>\n",
       "    </tr>\n",
       "    <tr>\n",
       "      <th>1</th>\n",
       "      <td>173688</td>\n",
       "      <td>5</td>\n",
       "      <td>2011-10-01 20:17:08</td>\n",
       "    </tr>\n",
       "    <tr>\n",
       "      <th>2</th>\n",
       "      <td>173688</td>\n",
       "      <td>6</td>\n",
       "      <td>2011-10-13 18:37:37</td>\n",
       "    </tr>\n",
       "    <tr>\n",
       "      <th>3</th>\n",
       "      <td>173691</td>\n",
       "      <td>3</td>\n",
       "      <td>2011-10-01 19:43:13</td>\n",
       "    </tr>\n",
       "    <tr>\n",
       "      <th>4</th>\n",
       "      <td>173691</td>\n",
       "      <td>5</td>\n",
       "      <td>2011-10-01 22:36:25</td>\n",
       "    </tr>\n",
       "    <tr>\n",
       "      <th>...</th>\n",
       "      <td>...</td>\n",
       "      <td>...</td>\n",
       "      <td>...</td>\n",
       "    </tr>\n",
       "    <tr>\n",
       "      <th>29405</th>\n",
       "      <td>214370</td>\n",
       "      <td>1</td>\n",
       "      <td>2012-03-01 18:28:21</td>\n",
       "    </tr>\n",
       "    <tr>\n",
       "      <th>29406</th>\n",
       "      <td>214373</td>\n",
       "      <td>1</td>\n",
       "      <td>2012-03-01 18:27:52</td>\n",
       "    </tr>\n",
       "    <tr>\n",
       "      <th>29407</th>\n",
       "      <td>214373</td>\n",
       "      <td>3</td>\n",
       "      <td>2012-03-02 5:22:41</td>\n",
       "    </tr>\n",
       "    <tr>\n",
       "      <th>29408</th>\n",
       "      <td>214373</td>\n",
       "      <td>5</td>\n",
       "      <td>2012-03-10 21:50:54</td>\n",
       "    </tr>\n",
       "    <tr>\n",
       "      <th>29409</th>\n",
       "      <td>214376</td>\n",
       "      <td>1</td>\n",
       "      <td>2012-03-01 18:27:41</td>\n",
       "    </tr>\n",
       "  </tbody>\n",
       "</table>\n",
       "<p>29410 rows × 3 columns</p>\n",
       "</div>"
      ],
      "text/plain": [
       "       trace_id  activity            timestamp\n",
       "0        173688         3  2011-10-01 19:45:13\n",
       "1        173688         5  2011-10-01 20:17:08\n",
       "2        173688         6  2011-10-13 18:37:37\n",
       "3        173691         3  2011-10-01 19:43:13\n",
       "4        173691         5  2011-10-01 22:36:25\n",
       "...         ...       ...                  ...\n",
       "29405    214370         1  2012-03-01 18:28:21\n",
       "29406    214373         1  2012-03-01 18:27:52\n",
       "29407    214373         3   2012-03-02 5:22:41\n",
       "29408    214373         5  2012-03-10 21:50:54\n",
       "29409    214376         1  2012-03-01 18:27:41\n",
       "\n",
       "[29410 rows x 3 columns]"
      ]
     },
     "execution_count": 16,
     "metadata": {},
     "output_type": "execute_result"
    }
   ],
   "source": [
    "df"
   ]
  },
  {
   "cell_type": "code",
   "execution_count": 17,
   "metadata": {},
   "outputs": [],
   "source": [
    "import rl4pm_lib.preprocessing as preprocessing\n",
    "\n",
    "df['timestamp'] = df['timestamp'].apply(lambda x: parse(x))\n",
    "prepro = preprocessing.DfPreprocesser()\n",
    "prepro.fit(df)\n",
    "df_preprocessed = prepro.transform(df)\n",
    "df_preprocessed.to_csv('bpi_12_preprocessed.csv', index=False)"
   ]
  },
  {
   "cell_type": "code",
   "execution_count": 18,
   "metadata": {},
   "outputs": [
    {
     "data": {
      "text/html": [
       "<div>\n",
       "<style scoped>\n",
       "    .dataframe tbody tr th:only-of-type {\n",
       "        vertical-align: middle;\n",
       "    }\n",
       "\n",
       "    .dataframe tbody tr th {\n",
       "        vertical-align: top;\n",
       "    }\n",
       "\n",
       "    .dataframe thead th {\n",
       "        text-align: right;\n",
       "    }\n",
       "</style>\n",
       "<table border=\"1\" class=\"dataframe\">\n",
       "  <thead>\n",
       "    <tr style=\"text-align: right;\">\n",
       "      <th></th>\n",
       "      <th>tt</th>\n",
       "      <th>te</th>\n",
       "      <th>tw</th>\n",
       "      <th>trace_id</th>\n",
       "      <th>timestamp</th>\n",
       "      <th>1</th>\n",
       "      <th>2</th>\n",
       "      <th>3</th>\n",
       "      <th>4</th>\n",
       "      <th>5</th>\n",
       "      <th>6</th>\n",
       "    </tr>\n",
       "  </thead>\n",
       "  <tbody>\n",
       "    <tr>\n",
       "      <th>0</th>\n",
       "      <td>0.0</td>\n",
       "      <td>0.0</td>\n",
       "      <td>503113.0</td>\n",
       "      <td>173688</td>\n",
       "      <td>2011-10-01 19:45:13</td>\n",
       "      <td>0</td>\n",
       "      <td>0</td>\n",
       "      <td>1</td>\n",
       "      <td>0</td>\n",
       "      <td>0</td>\n",
       "      <td>0</td>\n",
       "    </tr>\n",
       "    <tr>\n",
       "      <th>1</th>\n",
       "      <td>1915.0</td>\n",
       "      <td>1915.0</td>\n",
       "      <td>505028.0</td>\n",
       "      <td>173688</td>\n",
       "      <td>2011-10-01 20:17:08</td>\n",
       "      <td>0</td>\n",
       "      <td>0</td>\n",
       "      <td>0</td>\n",
       "      <td>0</td>\n",
       "      <td>1</td>\n",
       "      <td>0</td>\n",
       "    </tr>\n",
       "    <tr>\n",
       "      <th>2</th>\n",
       "      <td>1032744.0</td>\n",
       "      <td>1030829.0</td>\n",
       "      <td>326257.0</td>\n",
       "      <td>173688</td>\n",
       "      <td>2011-10-13 18:37:37</td>\n",
       "      <td>0</td>\n",
       "      <td>0</td>\n",
       "      <td>0</td>\n",
       "      <td>0</td>\n",
       "      <td>0</td>\n",
       "      <td>1</td>\n",
       "    </tr>\n",
       "    <tr>\n",
       "      <th>3</th>\n",
       "      <td>0.0</td>\n",
       "      <td>0.0</td>\n",
       "      <td>502993.0</td>\n",
       "      <td>173691</td>\n",
       "      <td>2011-10-01 19:43:13</td>\n",
       "      <td>0</td>\n",
       "      <td>0</td>\n",
       "      <td>1</td>\n",
       "      <td>0</td>\n",
       "      <td>0</td>\n",
       "      <td>0</td>\n",
       "    </tr>\n",
       "    <tr>\n",
       "      <th>4</th>\n",
       "      <td>10392.0</td>\n",
       "      <td>10392.0</td>\n",
       "      <td>513385.0</td>\n",
       "      <td>173691</td>\n",
       "      <td>2011-10-01 22:36:25</td>\n",
       "      <td>0</td>\n",
       "      <td>0</td>\n",
       "      <td>0</td>\n",
       "      <td>0</td>\n",
       "      <td>1</td>\n",
       "      <td>0</td>\n",
       "    </tr>\n",
       "    <tr>\n",
       "      <th>...</th>\n",
       "      <td>...</td>\n",
       "      <td>...</td>\n",
       "      <td>...</td>\n",
       "      <td>...</td>\n",
       "      <td>...</td>\n",
       "      <td>...</td>\n",
       "      <td>...</td>\n",
       "      <td>...</td>\n",
       "      <td>...</td>\n",
       "      <td>...</td>\n",
       "      <td>...</td>\n",
       "    </tr>\n",
       "    <tr>\n",
       "      <th>29405</th>\n",
       "      <td>0.0</td>\n",
       "      <td>0.0</td>\n",
       "      <td>325701.0</td>\n",
       "      <td>214370</td>\n",
       "      <td>2012-03-01 18:28:21</td>\n",
       "      <td>1</td>\n",
       "      <td>0</td>\n",
       "      <td>0</td>\n",
       "      <td>0</td>\n",
       "      <td>0</td>\n",
       "      <td>0</td>\n",
       "    </tr>\n",
       "    <tr>\n",
       "      <th>29406</th>\n",
       "      <td>0.0</td>\n",
       "      <td>0.0</td>\n",
       "      <td>325672.0</td>\n",
       "      <td>214373</td>\n",
       "      <td>2012-03-01 18:27:52</td>\n",
       "      <td>1</td>\n",
       "      <td>0</td>\n",
       "      <td>0</td>\n",
       "      <td>0</td>\n",
       "      <td>0</td>\n",
       "      <td>0</td>\n",
       "    </tr>\n",
       "    <tr>\n",
       "      <th>29407</th>\n",
       "      <td>39289.0</td>\n",
       "      <td>39289.0</td>\n",
       "      <td>364961.0</td>\n",
       "      <td>214373</td>\n",
       "      <td>2012-03-02 05:22:41</td>\n",
       "      <td>0</td>\n",
       "      <td>0</td>\n",
       "      <td>1</td>\n",
       "      <td>0</td>\n",
       "      <td>0</td>\n",
       "      <td>0</td>\n",
       "    </tr>\n",
       "    <tr>\n",
       "      <th>29408</th>\n",
       "      <td>789782.0</td>\n",
       "      <td>750493.0</td>\n",
       "      <td>510654.0</td>\n",
       "      <td>214373</td>\n",
       "      <td>2012-03-10 21:50:54</td>\n",
       "      <td>0</td>\n",
       "      <td>0</td>\n",
       "      <td>0</td>\n",
       "      <td>0</td>\n",
       "      <td>1</td>\n",
       "      <td>0</td>\n",
       "    </tr>\n",
       "    <tr>\n",
       "      <th>29409</th>\n",
       "      <td>0.0</td>\n",
       "      <td>0.0</td>\n",
       "      <td>325661.0</td>\n",
       "      <td>214376</td>\n",
       "      <td>2012-03-01 18:27:41</td>\n",
       "      <td>1</td>\n",
       "      <td>0</td>\n",
       "      <td>0</td>\n",
       "      <td>0</td>\n",
       "      <td>0</td>\n",
       "      <td>0</td>\n",
       "    </tr>\n",
       "  </tbody>\n",
       "</table>\n",
       "<p>29410 rows × 11 columns</p>\n",
       "</div>"
      ],
      "text/plain": [
       "              tt         te        tw  trace_id           timestamp  1  2  3  \\\n",
       "0            0.0        0.0  503113.0    173688 2011-10-01 19:45:13  0  0  1   \n",
       "1         1915.0     1915.0  505028.0    173688 2011-10-01 20:17:08  0  0  0   \n",
       "2      1032744.0  1030829.0  326257.0    173688 2011-10-13 18:37:37  0  0  0   \n",
       "3            0.0        0.0  502993.0    173691 2011-10-01 19:43:13  0  0  1   \n",
       "4        10392.0    10392.0  513385.0    173691 2011-10-01 22:36:25  0  0  0   \n",
       "...          ...        ...       ...       ...                 ... .. .. ..   \n",
       "29405        0.0        0.0  325701.0    214370 2012-03-01 18:28:21  1  0  0   \n",
       "29406        0.0        0.0  325672.0    214373 2012-03-01 18:27:52  1  0  0   \n",
       "29407    39289.0    39289.0  364961.0    214373 2012-03-02 05:22:41  0  0  1   \n",
       "29408   789782.0   750493.0  510654.0    214373 2012-03-10 21:50:54  0  0  0   \n",
       "29409        0.0        0.0  325661.0    214376 2012-03-01 18:27:41  1  0  0   \n",
       "\n",
       "       4  5  6  \n",
       "0      0  0  0  \n",
       "1      0  1  0  \n",
       "2      0  0  1  \n",
       "3      0  0  0  \n",
       "4      0  1  0  \n",
       "...   .. .. ..  \n",
       "29405  0  0  0  \n",
       "29406  0  0  0  \n",
       "29407  0  0  0  \n",
       "29408  0  1  0  \n",
       "29409  0  0  0  \n",
       "\n",
       "[29410 rows x 11 columns]"
      ]
     },
     "execution_count": 18,
     "metadata": {},
     "output_type": "execute_result"
    }
   ],
   "source": [
    "df_preprocessed"
   ]
  },
  {
   "cell_type": "code",
   "execution_count": 23,
   "metadata": {},
   "outputs": [
    {
     "data": {
      "image/png": "[encoded data removed]",
      "text/plain": [
       "<Figure size 432x288 with 1 Axes>"
      ]
     },
     "metadata": {},
     "output_type": "display_data"
    }
   ],
   "source": [
    "tts = []\n",
    "for _tid in set(df_preprocessed['trace_id'].values):\n",
    "    tts.append(df_preprocessed[df_preprocessed['trace_id']==_tid]['tt'].values[-1])\n",
    "    \n",
    "plt.hist(np.array(tts) / 3600 / 24, bins=50)\n",
    "plt.title('$t_t$ distribution')\n",
    "plt.xlabel('$t_t$, days')\n",
    "plt.ylabel('count')\n",
    "plt.show()"
   ]
  },
  {
   "cell_type": "code",
   "execution_count": 20,
   "metadata": {},
   "outputs": [
    {
     "data": {
      "text/plain": [
       "3.7437221202948106"
      ]
     },
     "execution_count": 20,
     "metadata": {},
     "output_type": "execute_result"
    }
   ],
   "source": [
    "df_preprocessed['te'].mean()  /3600 / 24"
   ]
  },
  {
   "cell_type": "code",
   "execution_count": 21,
   "metadata": {},
   "outputs": [
    {
     "data": {
      "text/plain": [
       "0.054120370370370374"
      ]
     },
     "execution_count": 21,
     "metadata": {},
     "output_type": "execute_result"
    }
   ],
   "source": [
    "df_preprocessed['te'].median()  /3600 / 24"
   ]
  },
  {
   "cell_type": "code",
   "execution_count": 22,
   "metadata": {},
   "outputs": [
    {
     "data": {
      "image/png": "[encoded data removed]",
      "text/plain": [
       "<Figure size 432x288 with 1 Axes>"
      ]
     },
     "metadata": {},
     "output_type": "display_data"
    }
   ],
   "source": [
    "plt.hist(df_preprocessed['te'].values /3600 / 24, bins=50)\n",
    "plt.title('$t_e$ distribution')\n",
    "plt.xlabel('$t_e$, days')\n",
    "plt.ylabel('count')\n",
    "plt.show()"
   ]
  },
  {
   "cell_type": "code",
   "execution_count": 24,
   "metadata": {},
   "outputs": [
    {
     "data": {
      "image/png": "[encoded data removed]",
      "text/plain": [
       "<Figure size 432x288 with 1 Axes>"
      ]
     },
     "metadata": {},
     "output_type": "display_data"
    }
   ],
   "source": [
    "low_bond = 24 *  60 * 60\n",
    "plt.hist(df_preprocessed[df_preprocessed['te'] > low_bond]['te'].values  /3600 / 24, bins=50)\n",
    "plt.title(f'$t_e >$ {low_bond / 60 / 60: .1f} h distribution')\n",
    "plt.xlabel('$t_e$, days')\n",
    "plt.ylabel('count')\n",
    "plt.show()"
   ]
  },
  {
   "cell_type": "markdown",
   "metadata": {},
   "source": [
    "This distribution is far from uniform too"
   ]
  },
  {
   "cell_type": "code",
   "execution_count": 25,
   "metadata": {},
   "outputs": [
    {
     "name": "stdout",
     "output_type": "stream",
     "text": [
      "90.0 % of $te$ are less then  286.80 h\n",
      "95.0 % of $te$ are less then  527.40 h\n",
      "97.0 % of $te$ are less then  715.52 h\n",
      "99.0 % of $te$ are less then  741.10 h\n"
     ]
    }
   ],
   "source": [
    "for quant in [0.9, 0.95, 0.97, 0.99]:\n",
    "    print(f'{quant * 100} % of $te$ are less then {np.quantile(df_preprocessed[\"te\"].values, quant) / (60 * 60): .2f} h')"
   ]
  },
  {
   "cell_type": "markdown",
   "metadata": {},
   "source": [
    "## What is wrong with this visualization\n",
    "- transition matrix has a lot of `nan`\n",
    "- Whant to see which transitions lead to high $t_e$ \n",
    "### SberProcessMining\n",
    "Let's use [this](https://github.com/SberProcessMining/Sber_Process_Mining) repo to got a nice visualization"
   ]
  },
  {
   "cell_type": "code",
   "execution_count": 26,
   "metadata": {
    "scrolled": true
   },
   "outputs": [
    {
     "name": "stdout",
     "output_type": "stream",
     "text": [
      "Requirement already satisfied: sberpm in c:\\users\\pc\\appdata\\local\\programs\\python\\python38\\lib\\site-packages (1.1.0)\n",
      "Requirement already satisfied: scikit-learn>=0.23.2 in c:\\users\\pc\\appdata\\local\\programs\\python\\python38\\lib\\site-packages (from sberpm) (0.23.2)\n",
      "Requirement already satisfied: pandas>=1.1.0 in c:\\users\\pc\\appdata\\local\\programs\\python\\python38\\lib\\site-packages (from sberpm) (1.1.2)\n",
      "Requirement already satisfied: graphviz>=0.13.2 in c:\\users\\pc\\appdata\\local\\programs\\python\\python38\\lib\\site-packages (from sberpm) (0.16)\n",
      "Requirement already satisfied: IPython in c:\\users\\pc\\appdata\\local\\programs\\python\\python38\\lib\\site-packages (from sberpm) (7.18.1)\n",
      "Requirement already satisfied: pydotplus>=2.0.2 in c:\\users\\pc\\appdata\\local\\programs\\python\\python38\\lib\\site-packages (from sberpm) (2.0.2)\n",
      "Requirement already satisfied: numpy>=1.18.1 in c:\\users\\pc\\appdata\\roaming\\python\\python38\\site-packages (from sberpm) (1.18.5)\n",
      "Requirement already satisfied: matplotlib in c:\\users\\pc\\appdata\\local\\programs\\python\\python38\\lib\\site-packages (from sberpm) (3.3.2)\n",
      "Requirement already satisfied: nbformat>=4.2.0 in c:\\users\\pc\\appdata\\local\\programs\\python\\python38\\lib\\site-packages (from sberpm) (5.0.8)\n",
      "Requirement already satisfied: scipy>=1.4.1 in c:\\users\\pc\\appdata\\roaming\\python\\python38\\site-packages (from sberpm) (1.5.4)\n",
      "Requirement already satisfied: plotly>=4.9.0 in c:\\users\\pc\\appdata\\local\\programs\\python\\python38\\lib\\site-packages (from sberpm) (4.9.0)\n",
      "Requirement already satisfied: colorama in c:\\users\\pc\\appdata\\local\\programs\\python\\python38\\lib\\site-packages (from IPython->sberpm) (0.4.4)\n",
      "Requirement already satisfied: backcall in c:\\users\\pc\\appdata\\local\\programs\\python\\python38\\lib\\site-packages (from IPython->sberpm) (0.2.0)\n",
      "Requirement already satisfied: traitlets>=4.2 in c:\\users\\pc\\appdata\\local\\programs\\python\\python38\\lib\\site-packages (from IPython->sberpm) (5.0.5)\n",
      "Requirement already satisfied: decorator in c:\\users\\pc\\appdata\\local\\programs\\python\\python38\\lib\\site-packages (from IPython->sberpm) (4.4.2)\n",
      "Requirement already satisfied: pygments in c:\\users\\pc\\appdata\\local\\programs\\python\\python38\\lib\\site-packages (from IPython->sberpm) (2.7.1)\n",
      "Requirement already satisfied: setuptools>=18.5 in c:\\users\\pc\\appdata\\local\\programs\\python\\python38\\lib\\site-packages (from IPython->sberpm) (51.0.0)\n",
      "Requirement already satisfied: prompt-toolkit!=3.0.0,!=3.0.1,<3.1.0,>=2.0.0 in c:\\users\\pc\\appdata\\local\\programs\\python\\python38\\lib\\site-packages (from IPython->sberpm) (3.0.8)\n",
      "Requirement already satisfied: jedi>=0.10 in c:\\users\\pc\\appdata\\local\\programs\\python\\python38\\lib\\site-packages (from IPython->sberpm) (0.17.2)\n",
      "Requirement already satisfied: pickleshare in c:\\users\\pc\\appdata\\local\\programs\\python\\python38\\lib\\site-packages (from IPython->sberpm) (0.7.5)\n",
      "Requirement already satisfied: parso<0.8.0,>=0.7.0 in c:\\users\\pc\\appdata\\local\\programs\\python\\python38\\lib\\site-packages (from jedi>=0.10->IPython->sberpm) (0.7.1)\n",
      "Requirement already satisfied: certifi>=2020.06.20 in c:\\users\\pc\\appdata\\local\\programs\\python\\python38\\lib\\site-packages (from matplotlib->sberpm) (2020.6.20)\n",
      "Requirement already satisfied: pillow>=6.2.0 in c:\\users\\pc\\appdata\\local\\programs\\python\\python38\\lib\\site-packages (from matplotlib->sberpm) (7.2.0)\n",
      "Requirement already satisfied: numpy>=1.18.1 in c:\\users\\pc\\appdata\\roaming\\python\\python38\\site-packages (from sberpm) (1.18.5)\n",
      "Requirement already satisfied: cycler>=0.10 in c:\\users\\pc\\appdata\\local\\programs\\python\\python38\\lib\\site-packages (from matplotlib->sberpm) (0.10.0)\n",
      "Requirement already satisfied: pyparsing!=2.0.4,!=2.1.2,!=2.1.6,>=2.0.3 in c:\\users\\pc\\appdata\\local\\programs\\python\\python38\\lib\\site-packages (from matplotlib->sberpm) (2.4.7)\n",
      "Requirement already satisfied: kiwisolver>=1.0.1 in c:\\users\\pc\\appdata\\local\\programs\\python\\python38\\lib\\site-packages (from matplotlib->sberpm) (1.2.0)\n",
      "Requirement already satisfied: python-dateutil>=2.1 in c:\\users\\pc\\appdata\\local\\programs\\python\\python38\\lib\\site-packages (from matplotlib->sberpm) (2.8.1)\n",
      "Requirement already satisfied: six in c:\\users\\pc\\appdata\\local\\programs\\python\\python38\\lib\\site-packages (from cycler>=0.10->matplotlib->sberpm) (1.15.0)\n",
      "Requirement already satisfied: traitlets>=4.2 in c:\\users\\pc\\appdata\\local\\programs\\python\\python38\\lib\\site-packages (from IPython->sberpm) (5.0.5)\n",
      "Requirement already satisfied: jupyter-core in c:\\users\\pc\\appdata\\local\\programs\\python\\python38\\lib\\site-packages (from nbformat>=4.2.0->sberpm) (4.6.3)\n",
      "Requirement already satisfied: jsonschema!=2.5.0,>=2.4 in c:\\users\\pc\\appdata\\local\\programs\\python\\python38\\lib\\site-packages (from nbformat>=4.2.0->sberpm) (3.2.0)\n",
      "Requirement already satisfied: ipython-genutils in c:\\users\\pc\\appdata\\local\\programs\\python\\python38\\lib\\site-packages (from nbformat>=4.2.0->sberpm) (0.2.0)\n",
      "Requirement already satisfied: setuptools>=18.5 in c:\\users\\pc\\appdata\\local\\programs\\python\\python38\\lib\\site-packages (from IPython->sberpm) (51.0.0)\n",
      "Requirement already satisfied: attrs>=17.4.0 in c:\\users\\pc\\appdata\\local\\programs\\python\\python38\\lib\\site-packages (from jsonschema!=2.5.0,>=2.4->nbformat>=4.2.0->sberpm) (20.2.0)\n",
      "Requirement already satisfied: pyrsistent>=0.14.0 in c:\\users\\pc\\appdata\\local\\programs\\python\\python38\\lib\\site-packages (from jsonschema!=2.5.0,>=2.4->nbformat>=4.2.0->sberpm) (0.17.3)\n",
      "Requirement already satisfied: six in c:\\users\\pc\\appdata\\local\\programs\\python\\python38\\lib\\site-packages (from cycler>=0.10->matplotlib->sberpm) (1.15.0)\n",
      "Requirement already satisfied: pywin32>=1.0 in c:\\users\\pc\\appdata\\local\\programs\\python\\python38\\lib\\site-packages (from jupyter-core->nbformat>=4.2.0->sberpm) (228)\n",
      "Requirement already satisfied: traitlets>=4.2 in c:\\users\\pc\\appdata\\local\\programs\\python\\python38\\lib\\site-packages (from IPython->sberpm) (5.0.5)\n",
      "Requirement already satisfied: python-dateutil>=2.1 in c:\\users\\pc\\appdata\\local\\programs\\python\\python38\\lib\\site-packages (from matplotlib->sberpm) (2.8.1)\n",
      "Requirement already satisfied: numpy>=1.18.1 in c:\\users\\pc\\appdata\\roaming\\python\\python38\\site-packages (from sberpm) (1.18.5)\n",
      "Requirement already satisfied: pytz>=2017.2 in c:\\users\\pc\\appdata\\local\\programs\\python\\python38\\lib\\site-packages (from pandas>=1.1.0->sberpm) (2020.1)\n",
      "Requirement already satisfied: retrying>=1.3.3 in c:\\users\\pc\\appdata\\local\\programs\\python\\python38\\lib\\site-packages (from plotly>=4.9.0->sberpm) (1.3.3)\n",
      "Requirement already satisfied: six in c:\\users\\pc\\appdata\\local\\programs\\python\\python38\\lib\\site-packages (from cycler>=0.10->matplotlib->sberpm) (1.15.0)\n",
      "Requirement already satisfied: wcwidth in c:\\users\\pc\\appdata\\local\\programs\\python\\python38\\lib\\site-packages (from prompt-toolkit!=3.0.0,!=3.0.1,<3.1.0,>=2.0.0->IPython->sberpm) (0.2.5)\n",
      "Requirement already satisfied: pyparsing!=2.0.4,!=2.1.2,!=2.1.6,>=2.0.3 in c:\\users\\pc\\appdata\\local\\programs\\python\\python38\\lib\\site-packages (from matplotlib->sberpm) (2.4.7)\n",
      "Requirement already satisfied: six in c:\\users\\pc\\appdata\\local\\programs\\python\\python38\\lib\\site-packages (from cycler>=0.10->matplotlib->sberpm) (1.15.0)\n",
      "Requirement already satisfied: six in c:\\users\\pc\\appdata\\local\\programs\\python\\python38\\lib\\site-packages (from cycler>=0.10->matplotlib->sberpm) (1.15.0)\n",
      "Requirement already satisfied: joblib>=0.11 in c:\\users\\pc\\appdata\\local\\programs\\python\\python38\\lib\\site-packages (from scikit-learn>=0.23.2->sberpm) (0.17.0)\n",
      "Requirement already satisfied: threadpoolctl>=2.0.0 in c:\\users\\pc\\appdata\\local\\programs\\python\\python38\\lib\\site-packages (from scikit-learn>=0.23.2->sberpm) (2.1.0)\n",
      "Requirement already satisfied: numpy>=1.18.1 in c:\\users\\pc\\appdata\\roaming\\python\\python38\\site-packages (from sberpm) (1.18.5)\n",
      "Requirement already satisfied: scipy>=1.4.1 in c:\\users\\pc\\appdata\\roaming\\python\\python38\\site-packages (from sberpm) (1.5.4)\n",
      "Requirement already satisfied: numpy>=1.18.1 in c:\\users\\pc\\appdata\\roaming\\python\\python38\\site-packages (from sberpm) (1.18.5)\n",
      "Requirement already satisfied: ipython-genutils in c:\\users\\pc\\appdata\\local\\programs\\python\\python38\\lib\\site-packages (from nbformat>=4.2.0->sberpm) (0.2.0)\n"
     ]
    },
    {
     "name": "stderr",
     "output_type": "stream",
     "text": [
      "WARNING: You are using pip version 20.3.1; however, version 21.1.2 is available.\n",
      "You should consider upgrading via the 'c:\\users\\pc\\appdata\\local\\programs\\python\\python38\\python.exe -m pip install --upgrade pip' command.\n"
     ]
    }
   ],
   "source": [
    "! pip install sberpm"
   ]
  },
  {
   "cell_type": "code",
   "execution_count": 27,
   "metadata": {},
   "outputs": [],
   "source": [
    "from sberpm import DataHolder"
   ]
  },
  {
   "cell_type": "code",
   "execution_count": 28,
   "metadata": {},
   "outputs": [
    {
     "name": "stderr",
     "output_type": "stream",
     "text": [
      "c:\\users\\pc\\appdata\\local\\programs\\python\\python38\\lib\\site-packages\\sberpm\\_holder.py:307: UserWarning: DataHolder: 'time_format' is not set, recommended to specify it for correct time conversion, e.g., time_format='%d-%m-%Y %H:%M:%S'\n",
      "  warnings.warn(\"DataHolder: 'time_format' is not set, \"\n",
      "c:\\users\\pc\\appdata\\local\\programs\\python\\python38\\lib\\site-packages\\sberpm\\_holder.py:339: UserWarning: DataHolder: timestamp auto conversion will be done. 'dayfirst' is not set, in ambiguous cases it will be considered as False.\n",
      "  warnings.warn(f\"DataHolder: timestamp auto conversion will be done. '{argument}' \"\n",
      "c:\\users\\pc\\appdata\\local\\programs\\python\\python38\\lib\\site-packages\\sberpm\\_holder.py:339: UserWarning: DataHolder: timestamp auto conversion will be done. 'yearfirst' is not set, in ambiguous cases it will be considered as False.\n",
      "  warnings.warn(f\"DataHolder: timestamp auto conversion will be done. '{argument}' \"\n"
     ]
    }
   ],
   "source": [
    "data_holder = DataHolder(data=df, \n",
    "                         id_column='trace_id', \n",
    "                         activity_column='activity', \n",
    "                         start_timestamp_column='timestamp')"
   ]
  },
  {
   "cell_type": "markdown",
   "metadata": {},
   "source": [
    "Strange warnings. It read all right, enven pandas can read datetime with no additional formats, so why does it nedd it, dunno"
   ]
  },
  {
   "cell_type": "code",
   "execution_count": 29,
   "metadata": {},
   "outputs": [
    {
     "data": {
      "text/html": [
       "<div>\n",
       "<style scoped>\n",
       "    .dataframe tbody tr th:only-of-type {\n",
       "        vertical-align: middle;\n",
       "    }\n",
       "\n",
       "    .dataframe tbody tr th {\n",
       "        vertical-align: top;\n",
       "    }\n",
       "\n",
       "    .dataframe thead th {\n",
       "        text-align: right;\n",
       "    }\n",
       "</style>\n",
       "<table border=\"1\" class=\"dataframe\">\n",
       "  <thead>\n",
       "    <tr style=\"text-align: right;\">\n",
       "      <th></th>\n",
       "      <th>trace_id</th>\n",
       "      <th>activity</th>\n",
       "      <th>timestamp</th>\n",
       "    </tr>\n",
       "  </thead>\n",
       "  <tbody>\n",
       "    <tr>\n",
       "      <th>0</th>\n",
       "      <td>173688</td>\n",
       "      <td>3</td>\n",
       "      <td>2011-10-01 19:45:13+00:00</td>\n",
       "    </tr>\n",
       "    <tr>\n",
       "      <th>1</th>\n",
       "      <td>173688</td>\n",
       "      <td>5</td>\n",
       "      <td>2011-10-01 20:17:08+00:00</td>\n",
       "    </tr>\n",
       "    <tr>\n",
       "      <th>2</th>\n",
       "      <td>173688</td>\n",
       "      <td>6</td>\n",
       "      <td>2011-10-13 18:37:37+00:00</td>\n",
       "    </tr>\n",
       "  </tbody>\n",
       "</table>\n",
       "</div>"
      ],
      "text/plain": [
       "  trace_id activity                 timestamp\n",
       "0   173688        3 2011-10-01 19:45:13+00:00\n",
       "1   173688        5 2011-10-01 20:17:08+00:00\n",
       "2   173688        6 2011-10-13 18:37:37+00:00"
      ]
     },
     "execution_count": 29,
     "metadata": {},
     "output_type": "execute_result"
    }
   ],
   "source": [
    "data_holder.data.head(3)"
   ]
  },
  {
   "cell_type": "code",
   "execution_count": 30,
   "metadata": {},
   "outputs": [],
   "source": [
    "from sberpm.autoinsights import AutoInsights\n",
    "from sberpm.miners import SimpleMiner\n",
    "from sberpm.visual import GraphvizPainter"
   ]
  },
  {
   "cell_type": "markdown",
   "metadata": {},
   "source": [
    "the longest-lasting transitions are colored red"
   ]
  },
  {
   "cell_type": "code",
   "execution_count": 31,
   "metadata": {},
   "outputs": [
    {
     "name": "stdout",
     "output_type": "stream",
     "text": [
      "Requirement already satisfied: graphviz in c:\\users\\pc\\appdata\\local\\programs\\python\\python38\\lib\\site-packages (0.16)\n"
     ]
    },
    {
     "name": "stderr",
     "output_type": "stream",
     "text": [
      "WARNING: You are using pip version 20.3.1; however, version 21.1.2 is available.\n",
      "You should consider upgrading via the 'c:\\users\\pc\\appdata\\local\\programs\\python\\python38\\python.exe -m pip install --upgrade pip' command.\n"
     ]
    }
   ],
   "source": [
    "! pip install graphviz"
   ]
  },
  {
   "cell_type": "code",
   "execution_count": 32,
   "metadata": {
    "scrolled": false
   },
   "outputs": [
    {
     "data": {
      "text/html": [
       "<?xml version=\"1.0\" encoding=\"UTF-8\" standalone=\"no\"?>\r\n",
       "<!DOCTYPE svg PUBLIC \"-//W3C//DTD SVG 1.1//EN\"\r\n",
       " \"http://www.w3.org/Graphics/SVG/1.1/DTD/svg11.dtd\">\r\n",
       "<!-- Generated by graphviz version 2.47.1 (20210417.1919)\r\n",
       " -->\r\n",
       "<!-- Pages: 1 -->\r\n",
       "<svg width=\"524pt\" height=\"538pt\"\r\n",
       " viewBox=\"0.00 0.00 524.00 538.00\" xmlns=\"http://www.w3.org/2000/svg\" xmlns:xlink=\"http://www.w3.org/1999/xlink\">\r\n",
       "<g id=\"graph0\" class=\"graph\" transform=\"scale(1 1) rotate(0) translate(4 534)\">\r\n",
       "<polygon fill=\"white\" stroke=\"transparent\" points=\"-4,4 -4,-534 520,-534 520,4 -4,4\"/>\r\n",
       "<!-- 3 -->\r\n",
       "<g id=\"node1\" class=\"node\">\r\n",
       "<title>3</title>\r\n",
       "<polygon fill=\"red\" stroke=\"black\" points=\"227,-457 173,-457 173,-421 227,-421 227,-457\"/>\r\n",
       "<text text-anchor=\"middle\" x=\"200\" y=\"-435.3\" font-family=\"Times New Roman,serif\" font-size=\"14.00\">3</text>\r\n",
       "</g>\r\n",
       "<!-- 3&#45;&gt;3 -->\r\n",
       "<g id=\"edge12\" class=\"edge\">\r\n",
       "<title>3&#45;&gt;3</title>\r\n",
       "<path fill=\"none\" stroke=\"red\" stroke-width=\"2.55\" d=\"M227.24,-445.74C237.02,-445.89 245,-443.64 245,-439 245,-436.17 242.04,-434.23 237.51,-433.18\"/>\r\n",
       "<polygon fill=\"red\" stroke=\"red\" stroke-width=\"2.55\" points=\"237.51,-429.67 227.24,-432.26 236.89,-436.64 237.51,-429.67\"/>\r\n",
       "<text text-anchor=\"middle\" x=\"267.5\" y=\"-435.3\" font-family=\"Times New Roman,serif\" font-size=\"14.00\">10.1day</text>\r\n",
       "</g>\r\n",
       "<!-- 5 -->\r\n",
       "<g id=\"node2\" class=\"node\">\r\n",
       "<title>5</title>\r\n",
       "<polygon fill=\"grey\" stroke=\"black\" points=\"321,-370 267,-370 267,-334 321,-334 321,-370\"/>\r\n",
       "<text text-anchor=\"middle\" x=\"294\" y=\"-348.3\" font-family=\"Times New Roman,serif\" font-size=\"14.00\">5</text>\r\n",
       "</g>\r\n",
       "<!-- 3&#45;&gt;5 -->\r\n",
       "<g id=\"edge21\" class=\"edge\">\r\n",
       "<title>3&#45;&gt;5</title>\r\n",
       "<path fill=\"none\" stroke=\"red\" stroke-width=\"2.55\" d=\"M209.07,-420.83C215.15,-410.45 223.87,-397.45 234,-388 241.06,-381.41 249.57,-375.52 257.93,-370.54\"/>\r\n",
       "<polygon fill=\"red\" stroke=\"red\" stroke-width=\"2.55\" points=\"259.88,-373.46 266.88,-365.5 256.45,-367.36 259.88,-373.46\"/>\r\n",
       "<text text-anchor=\"middle\" x=\"253\" y=\"-391.8\" font-family=\"Times New Roman,serif\" font-size=\"14.00\">3.6day</text>\r\n",
       "</g>\r\n",
       "<!-- 2 -->\r\n",
       "<g id=\"node6\" class=\"node\">\r\n",
       "<title>2</title>\r\n",
       "<polygon fill=\"white\" stroke=\"black\" points=\"204,-196 150,-196 150,-160 204,-160 204,-196\"/>\r\n",
       "<text text-anchor=\"middle\" x=\"177\" y=\"-174.3\" font-family=\"Times New Roman,serif\" font-size=\"14.00\">2</text>\r\n",
       "</g>\r\n",
       "<!-- 3&#45;&gt;2 -->\r\n",
       "<g id=\"edge16\" class=\"edge\">\r\n",
       "<title>3&#45;&gt;2</title>\r\n",
       "<path fill=\"none\" stroke=\"grey\" stroke-width=\"0.1\" d=\"M188.34,-420.78C173.68,-397.99 149.3,-356 140,-316 130.96,-277.15 148.16,-232.64 162.02,-205.17\"/>\r\n",
       "<polygon fill=\"grey\" stroke=\"grey\" stroke-width=\"0.1\" points=\"165.18,-206.68 166.73,-196.2 158.98,-203.43 165.18,-206.68\"/>\r\n",
       "<text text-anchor=\"middle\" x=\"159\" y=\"-304.8\" font-family=\"Times New Roman,serif\" font-size=\"14.00\">6.1day</text>\r\n",
       "</g>\r\n",
       "<!-- endevent -->\r\n",
       "<g id=\"node8\" class=\"node\">\r\n",
       "<title>endevent</title>\r\n",
       "<ellipse fill=\"red\" stroke=\"black\" cx=\"339\" cy=\"-18\" rx=\"18\" ry=\"18\"/>\r\n",
       "</g>\r\n",
       "<!-- 3&#45;&gt;endevent -->\r\n",
       "<g id=\"edge5\" class=\"edge\">\r\n",
       "<title>3&#45;&gt;endevent</title>\r\n",
       "<path fill=\"none\" stroke=\"black\" d=\"M227.22,-436.51C303.87,-431.59 516,-412.58 516,-353 516,-353 516,-353 516,-90 516,-26.77 417.49,-18.37 367.45,-18.18\"/>\r\n",
       "<polygon fill=\"black\" stroke=\"black\" points=\"367.25,-14.68 357.28,-18.25 367.3,-21.68 367.25,-14.68\"/>\r\n",
       "</g>\r\n",
       "<!-- 5&#45;&gt;3 -->\r\n",
       "<g id=\"edge25\" class=\"edge\">\r\n",
       "<title>5&#45;&gt;3</title>\r\n",
       "<path fill=\"none\" stroke=\"red\" stroke-width=\"5\" d=\"M289.78,-370.01C286.43,-380.57 280.81,-393.85 272,-403 262.24,-413.13 248.95,-420.72 236.44,-426.2\"/>\r\n",
       "<polygon fill=\"red\" stroke=\"red\" stroke-width=\"5\" points=\"234.72,-422.17 227.1,-429.98 238.01,-430.28 234.72,-422.17\"/>\r\n",
       "<text text-anchor=\"middle\" x=\"301\" y=\"-391.8\" font-family=\"Times New Roman,serif\" font-size=\"14.00\">1.5day</text>\r\n",
       "</g>\r\n",
       "<!-- 5&#45;&gt;5 -->\r\n",
       "<g id=\"edge15\" class=\"edge\">\r\n",
       "<title>5&#45;&gt;5</title>\r\n",
       "<path fill=\"none\" stroke=\"grey\" stroke-width=\"0.1\" d=\"M321.24,-359.87C331.02,-360.04 339,-357.41 339,-352 339,-348.7 336.04,-346.44 331.51,-345.21\"/>\r\n",
       "<polygon fill=\"grey\" stroke=\"grey\" stroke-width=\"0.1\" points=\"331.55,-341.7 321.24,-344.13 330.82,-348.66 331.55,-341.7\"/>\r\n",
       "<text text-anchor=\"middle\" x=\"361.5\" y=\"-348.3\" font-family=\"Times New Roman,serif\" font-size=\"14.00\">18.8day</text>\r\n",
       "</g>\r\n",
       "<!-- 6 -->\r\n",
       "<g id=\"node3\" class=\"node\">\r\n",
       "<title>6</title>\r\n",
       "<polygon fill=\"red\" stroke=\"black\" points=\"349,-283 295,-283 295,-247 349,-247 349,-283\"/>\r\n",
       "<text text-anchor=\"middle\" x=\"322\" y=\"-261.3\" font-family=\"Times New Roman,serif\" font-size=\"14.00\">6</text>\r\n",
       "</g>\r\n",
       "<!-- 5&#45;&gt;6 -->\r\n",
       "<g id=\"edge14\" class=\"edge\">\r\n",
       "<title>5&#45;&gt;6</title>\r\n",
       "<path fill=\"none\" stroke=\"red\" stroke-width=\"2.55\" d=\"M307.71,-333.72C311.32,-328.33 314.81,-322.17 317,-316 319.53,-308.85 320.92,-300.78 321.65,-293.25\"/>\r\n",
       "<polygon fill=\"red\" stroke=\"red\" stroke-width=\"2.55\" points=\"325.16,-293.31 322.3,-283.11 318.17,-292.86 325.16,-293.31\"/>\r\n",
       "<text text-anchor=\"middle\" x=\"342.5\" y=\"-304.8\" font-family=\"Times New Roman,serif\" font-size=\"14.00\">10.8day</text>\r\n",
       "</g>\r\n",
       "<!-- 5&#45;&gt;endevent -->\r\n",
       "<g id=\"edge8\" class=\"edge\">\r\n",
       "<title>5&#45;&gt;endevent</title>\r\n",
       "<path fill=\"none\" stroke=\"black\" d=\"M321.15,-350.47C372.33,-347.88 478,-334.27 478,-266 478,-266 478,-266 478,-90 478,-40.75 407.93,-25.64 367.29,-21.02\"/>\r\n",
       "<polygon fill=\"black\" stroke=\"black\" points=\"367.47,-17.52 357.17,-20.02 366.78,-24.49 367.47,-17.52\"/>\r\n",
       "</g>\r\n",
       "<!-- 6&#45;&gt;5 -->\r\n",
       "<g id=\"edge17\" class=\"edge\">\r\n",
       "<title>6&#45;&gt;5</title>\r\n",
       "<path fill=\"none\" stroke=\"black\" stroke-width=\"2.55\" d=\"M294.51,-280.04C286.77,-285.46 279.29,-292.45 275,-301 271.21,-308.55 272.51,-317.05 275.77,-324.87\"/>\r\n",
       "<polygon fill=\"black\" stroke=\"black\" stroke-width=\"2.55\" points=\"272.78,-326.71 280.5,-333.97 278.99,-323.48 272.78,-326.71\"/>\r\n",
       "<text text-anchor=\"middle\" x=\"294\" y=\"-304.8\" font-family=\"Times New Roman,serif\" font-size=\"14.00\">0.2day</text>\r\n",
       "</g>\r\n",
       "<!-- 6&#45;&gt;6 -->\r\n",
       "<g id=\"edge18\" class=\"edge\">\r\n",
       "<title>6&#45;&gt;6</title>\r\n",
       "<path fill=\"none\" stroke=\"grey\" stroke-width=\"0.1\" d=\"M349.24,-272.87C359.02,-273.04 367,-270.41 367,-265 367,-261.7 364.04,-259.44 359.51,-258.21\"/>\r\n",
       "<polygon fill=\"grey\" stroke=\"grey\" stroke-width=\"0.1\" points=\"359.55,-254.7 349.24,-257.13 358.82,-261.66 359.55,-254.7\"/>\r\n",
       "<text text-anchor=\"middle\" x=\"386\" y=\"-261.3\" font-family=\"Times New Roman,serif\" font-size=\"14.00\">0.9day</text>\r\n",
       "</g>\r\n",
       "<!-- 4 -->\r\n",
       "<g id=\"node5\" class=\"node\">\r\n",
       "<title>4</title>\r\n",
       "<polygon fill=\"grey\" stroke=\"black\" points=\"394,-196 340,-196 340,-160 394,-160 394,-196\"/>\r\n",
       "<text text-anchor=\"middle\" x=\"367\" y=\"-174.3\" font-family=\"Times New Roman,serif\" font-size=\"14.00\">4</text>\r\n",
       "</g>\r\n",
       "<!-- 6&#45;&gt;4 -->\r\n",
       "<g id=\"edge19\" class=\"edge\">\r\n",
       "<title>6&#45;&gt;4</title>\r\n",
       "<path fill=\"none\" stroke=\"red\" stroke-width=\"5\" d=\"M331.11,-246.8C337.45,-234.82 346.03,-218.62 353.21,-205.06\"/>\r\n",
       "<polygon fill=\"red\" stroke=\"red\" stroke-width=\"5\" points=\"357.09,-207.06 357.91,-196.18 349.36,-202.97 357.09,-207.06\"/>\r\n",
       "<text text-anchor=\"middle\" x=\"366\" y=\"-217.8\" font-family=\"Times New Roman,serif\" font-size=\"14.00\">0.3day</text>\r\n",
       "</g>\r\n",
       "<!-- 6&#45;&gt;2 -->\r\n",
       "<g id=\"edge28\" class=\"edge\">\r\n",
       "<title>6&#45;&gt;2</title>\r\n",
       "<path fill=\"none\" stroke=\"grey\" stroke-width=\"0.1\" d=\"M294.7,-261.68C269.1,-258.26 230.98,-249.81 205,-229 197.33,-222.85 191.41,-214 187.03,-205.45\"/>\r\n",
       "<polygon fill=\"grey\" stroke=\"grey\" stroke-width=\"0.1\" points=\"190.08,-203.71 182.73,-196.08 183.72,-206.63 190.08,-203.71\"/>\r\n",
       "<text text-anchor=\"middle\" x=\"224\" y=\"-217.8\" font-family=\"Times New Roman,serif\" font-size=\"14.00\">0.2day</text>\r\n",
       "</g>\r\n",
       "<!-- 6&#45;&gt;endevent -->\r\n",
       "<g id=\"edge4\" class=\"edge\">\r\n",
       "<title>6&#45;&gt;endevent</title>\r\n",
       "<path fill=\"none\" stroke=\"black\" d=\"M323.2,-246.77C326.1,-204.86 333.57,-97.31 337.1,-46.44\"/>\r\n",
       "<polygon fill=\"black\" stroke=\"black\" points=\"340.61,-46.43 337.81,-36.21 333.62,-45.94 340.61,-46.43\"/>\r\n",
       "</g>\r\n",
       "<!-- 1 -->\r\n",
       "<g id=\"node4\" class=\"node\">\r\n",
       "<title>1</title>\r\n",
       "<polygon fill=\"white\" stroke=\"black\" points=\"144,-109 90,-109 90,-73 144,-73 144,-109\"/>\r\n",
       "<text text-anchor=\"middle\" x=\"117\" y=\"-87.3\" font-family=\"Times New Roman,serif\" font-size=\"14.00\">1</text>\r\n",
       "</g>\r\n",
       "<!-- 1&#45;&gt;3 -->\r\n",
       "<g id=\"edge11\" class=\"edge\">\r\n",
       "<title>1&#45;&gt;3</title>\r\n",
       "<path fill=\"none\" stroke=\"red\" stroke-width=\"2.55\" d=\"M106.01,-109.15C96.41,-125.81 84,-152.15 84,-177 84,-353 84,-353 84,-353 84,-392.88 129.16,-416.09 163.13,-427.9\"/>\r\n",
       "<polygon fill=\"red\" stroke=\"red\" stroke-width=\"2.55\" points=\"162.21,-431.28 172.8,-431.07 164.39,-424.63 162.21,-431.28\"/>\r\n",
       "<text text-anchor=\"middle\" x=\"103\" y=\"-261.3\" font-family=\"Times New Roman,serif\" font-size=\"14.00\">0.2day</text>\r\n",
       "</g>\r\n",
       "<!-- 1&#45;&gt;1 -->\r\n",
       "<g id=\"edge22\" class=\"edge\">\r\n",
       "<title>1&#45;&gt;1</title>\r\n",
       "<path fill=\"none\" stroke=\"red\" stroke-width=\"2.55\" d=\"M144.24,-97.74C154.02,-97.89 162,-95.64 162,-91 162,-88.17 159.04,-86.23 154.51,-85.18\"/>\r\n",
       "<polygon fill=\"red\" stroke=\"red\" stroke-width=\"2.55\" points=\"154.51,-81.67 144.24,-84.26 153.89,-88.64 154.51,-81.67\"/>\r\n",
       "<text text-anchor=\"middle\" x=\"181\" y=\"-87.3\" font-family=\"Times New Roman,serif\" font-size=\"14.00\">0.1day</text>\r\n",
       "</g>\r\n",
       "<!-- 1&#45;&gt;2 -->\r\n",
       "<g id=\"edge10\" class=\"edge\">\r\n",
       "<title>1&#45;&gt;2</title>\r\n",
       "<path fill=\"none\" stroke=\"grey\" stroke-width=\"0.1\" d=\"M139.35,-109.01C145.3,-114.3 151.36,-120.48 156,-127 160.99,-134.01 165.09,-142.39 168.31,-150.27\"/>\r\n",
       "<polygon fill=\"grey\" stroke=\"grey\" stroke-width=\"0.1\" points=\"165.11,-151.7 171.9,-159.83 171.66,-149.24 165.11,-151.7\"/>\r\n",
       "<text text-anchor=\"middle\" x=\"183\" y=\"-130.8\" font-family=\"Times New Roman,serif\" font-size=\"14.00\">0.8day</text>\r\n",
       "</g>\r\n",
       "<!-- 1&#45;&gt;endevent -->\r\n",
       "<g id=\"edge7\" class=\"edge\">\r\n",
       "<title>1&#45;&gt;endevent</title>\r\n",
       "<path fill=\"none\" stroke=\"black\" d=\"M144.22,-81.29C187.11,-67.58 269.91,-41.1 312.41,-27.51\"/>\r\n",
       "<polygon fill=\"black\" stroke=\"black\" points=\"313.59,-30.8 322.05,-24.42 311.46,-24.13 313.59,-30.8\"/>\r\n",
       "</g>\r\n",
       "<!-- 4&#45;&gt;6 -->\r\n",
       "<g id=\"edge26\" class=\"edge\">\r\n",
       "<title>4&#45;&gt;6</title>\r\n",
       "<path fill=\"none\" stroke=\"grey\" stroke-width=\"0.1\" d=\"M382.72,-196.21C389.79,-206.12 395.29,-218.62 389,-229 382.19,-240.25 370.44,-248.05 358.67,-253.39\"/>\r\n",
       "<polygon fill=\"grey\" stroke=\"grey\" stroke-width=\"0.1\" points=\"357.28,-250.17 349.31,-257.15 359.9,-256.66 357.28,-250.17\"/>\r\n",
       "<text text-anchor=\"middle\" x=\"410\" y=\"-217.8\" font-family=\"Times New Roman,serif\" font-size=\"14.00\">3.3day</text>\r\n",
       "</g>\r\n",
       "<!-- 4&#45;&gt;4 -->\r\n",
       "<g id=\"edge27\" class=\"edge\">\r\n",
       "<title>4&#45;&gt;4</title>\r\n",
       "<path fill=\"none\" stroke=\"grey\" stroke-width=\"0.1\" d=\"M394.24,-185.87C404.02,-186.04 412,-183.41 412,-178 412,-174.7 409.04,-172.44 404.51,-171.21\"/>\r\n",
       "<polygon fill=\"grey\" stroke=\"grey\" stroke-width=\"0.1\" points=\"404.55,-167.7 394.24,-170.13 403.82,-174.66 404.55,-167.7\"/>\r\n",
       "<text text-anchor=\"middle\" x=\"431\" y=\"-174.3\" font-family=\"Times New Roman,serif\" font-size=\"14.00\">5.2day</text>\r\n",
       "</g>\r\n",
       "<!-- 4&#45;&gt;endevent -->\r\n",
       "<g id=\"edge6\" class=\"edge\">\r\n",
       "<title>4&#45;&gt;endevent</title>\r\n",
       "<path fill=\"none\" stroke=\"black\" d=\"M363.95,-159.79C359.11,-132.48 349.63,-78.99 343.85,-46.38\"/>\r\n",
       "<polygon fill=\"black\" stroke=\"black\" points=\"347.24,-45.42 342.05,-36.19 340.34,-46.65 347.24,-45.42\"/>\r\n",
       "</g>\r\n",
       "<!-- 2&#45;&gt;3 -->\r\n",
       "<g id=\"edge24\" class=\"edge\">\r\n",
       "<title>2&#45;&gt;3</title>\r\n",
       "<path fill=\"none\" stroke=\"black\" stroke-width=\"2.55\" d=\"M178.54,-196.32C182.45,-240.38 192.81,-357.01 197.56,-410.49\"/>\r\n",
       "<polygon fill=\"black\" stroke=\"black\" stroke-width=\"2.55\" points=\"194.08,-410.95 198.46,-420.6 201.06,-410.33 194.08,-410.95\"/>\r\n",
       "<text text-anchor=\"middle\" x=\"208\" y=\"-304.8\" font-family=\"Times New Roman,serif\" font-size=\"14.00\">0.0day</text>\r\n",
       "</g>\r\n",
       "<!-- 2&#45;&gt;6 -->\r\n",
       "<g id=\"edge13\" class=\"edge\">\r\n",
       "<title>2&#45;&gt;6</title>\r\n",
       "<path fill=\"none\" stroke=\"grey\" stroke-width=\"0.1\" d=\"M204,-191.53C217.18,-197.89 233.13,-205.95 247,-214 251.36,-216.53 270.35,-229.19 288.12,-241.14\"/>\r\n",
       "<polygon fill=\"grey\" stroke=\"grey\" stroke-width=\"0.1\" points=\"286.43,-244.22 296.68,-246.9 290.34,-238.41 286.43,-244.22\"/>\r\n",
       "<text text-anchor=\"middle\" x=\"287\" y=\"-217.8\" font-family=\"Times New Roman,serif\" font-size=\"14.00\">0.0day</text>\r\n",
       "</g>\r\n",
       "<!-- 2&#45;&gt;1 -->\r\n",
       "<g id=\"edge20\" class=\"edge\">\r\n",
       "<title>2&#45;&gt;1</title>\r\n",
       "<path fill=\"none\" stroke=\"red\" stroke-width=\"5\" d=\"M149.97,-169.22C136.65,-163.86 121.8,-155.26 114,-142 110.06,-135.3 109.23,-127.19 109.83,-119.46\"/>\r\n",
       "<polygon fill=\"red\" stroke=\"red\" stroke-width=\"5\" points=\"114.19,-119.88 111.37,-109.33 105.54,-118.56 114.19,-119.88\"/>\r\n",
       "<text text-anchor=\"middle\" x=\"133\" y=\"-130.8\" font-family=\"Times New Roman,serif\" font-size=\"14.00\">0.7day</text>\r\n",
       "</g>\r\n",
       "<!-- 2&#45;&gt;2 -->\r\n",
       "<g id=\"edge23\" class=\"edge\">\r\n",
       "<title>2&#45;&gt;2</title>\r\n",
       "<path fill=\"none\" stroke=\"grey\" stroke-width=\"0.1\" d=\"M204.24,-185.87C214.02,-186.04 222,-183.41 222,-178 222,-174.7 219.04,-172.44 214.51,-171.21\"/>\r\n",
       "<polygon fill=\"grey\" stroke=\"grey\" stroke-width=\"0.1\" points=\"214.55,-167.7 204.24,-170.13 213.82,-174.66 214.55,-167.7\"/>\r\n",
       "<text text-anchor=\"middle\" x=\"241\" y=\"-174.3\" font-family=\"Times New Roman,serif\" font-size=\"14.00\">1.0day</text>\r\n",
       "</g>\r\n",
       "<!-- 2&#45;&gt;endevent -->\r\n",
       "<g id=\"edge9\" class=\"edge\">\r\n",
       "<title>2&#45;&gt;endevent</title>\r\n",
       "<path fill=\"none\" stroke=\"black\" d=\"M192.99,-159.83C215.73,-135.62 258.99,-90.35 298,-54 304.26,-48.17 311.28,-42.04 317.71,-36.57\"/>\r\n",
       "<polygon fill=\"black\" stroke=\"black\" points=\"320.05,-39.18 325.45,-30.06 315.54,-33.82 320.05,-39.18\"/>\r\n",
       "</g>\r\n",
       "<!-- startevent -->\r\n",
       "<g id=\"node7\" class=\"node\">\r\n",
       "<title>startevent</title>\r\n",
       "<ellipse fill=\"green\" stroke=\"black\" cx=\"38\" cy=\"-512\" rx=\"18\" ry=\"18\"/>\r\n",
       "</g>\r\n",
       "<!-- startevent&#45;&gt;3 -->\r\n",
       "<g id=\"edge1\" class=\"edge\">\r\n",
       "<title>startevent&#45;&gt;3</title>\r\n",
       "<path fill=\"none\" stroke=\"black\" d=\"M54.13,-503.93C79.51,-492.81 129.43,-470.93 163.74,-455.89\"/>\r\n",
       "<polygon fill=\"black\" stroke=\"black\" points=\"165.21,-459.07 172.97,-451.85 162.4,-452.66 165.21,-459.07\"/>\r\n",
       "</g>\r\n",
       "<!-- startevent&#45;&gt;1 -->\r\n",
       "<g id=\"edge2\" class=\"edge\">\r\n",
       "<title>startevent&#45;&gt;1</title>\r\n",
       "<path fill=\"none\" stroke=\"black\" d=\"M25.98,-497.97C14.84,-484.51 0,-462.37 0,-440 0,-440 0,-440 0,-177 0,-136.78 45.81,-113.61 80.1,-101.91\"/>\r\n",
       "<polygon fill=\"black\" stroke=\"black\" points=\"81.41,-105.16 89.86,-98.77 79.27,-98.5 81.41,-105.16\"/>\r\n",
       "</g>\r\n",
       "<!-- startevent&#45;&gt;2 -->\r\n",
       "<g id=\"edge3\" class=\"edge\">\r\n",
       "<title>startevent&#45;&gt;2</title>\r\n",
       "<path fill=\"none\" stroke=\"black\" d=\"M38,-493.78C38,-479.41 38,-458.37 38,-440 38,-440 38,-440 38,-264 38,-216.15 98.69,-194.42 139.87,-185.19\"/>\r\n",
       "<polygon fill=\"black\" stroke=\"black\" points=\"140.8,-188.57 149.87,-183.1 139.37,-181.72 140.8,-188.57\"/>\r\n",
       "</g>\r\n",
       "</g>\r\n",
       "</svg>\r\n"
      ],
      "text/plain": [
       "<IPython.core.display.HTML object>"
      ]
     },
     "execution_count": 32,
     "metadata": {},
     "output_type": "execute_result"
    }
   ],
   "source": [
    "auto_i = AutoInsights(data_holder, time_unit='day')\n",
    "simple_miner = SimpleMiner(data_holder)\n",
    "simple_miner.apply()\n",
    "auto_i.apply(miner=simple_miner, mode='time')\n",
    "graph = auto_i.get_graph()\n",
    "\n",
    "painter = GraphvizPainter()\n",
    "painter.apply_insights(graph)\n",
    "painter.show()"
   ]
  },
  {
   "cell_type": "markdown",
   "metadata": {},
   "source": [
    "all transitions are given a status:\n",
    "- Optimal (positive insights)\n",
    "- (negative insights)"
   ]
  },
  {
   "cell_type": "code",
   "execution_count": 33,
   "metadata": {},
   "outputs": [
    {
     "data": {
      "text/html": [
       "<?xml version=\"1.0\" encoding=\"UTF-8\" standalone=\"no\"?>\r\n",
       "<!DOCTYPE svg PUBLIC \"-//W3C//DTD SVG 1.1//EN\"\r\n",
       " \"http://www.w3.org/Graphics/SVG/1.1/DTD/svg11.dtd\">\r\n",
       "<!-- Generated by graphviz version 2.47.1 (20210417.1919)\r\n",
       " -->\r\n",
       "<!-- Pages: 1 -->\r\n",
       "<svg width=\"447pt\" height=\"555pt\"\r\n",
       " viewBox=\"0.00 0.00 447.00 555.00\" xmlns=\"http://www.w3.org/2000/svg\" xmlns:xlink=\"http://www.w3.org/1999/xlink\">\r\n",
       "<g id=\"graph0\" class=\"graph\" transform=\"scale(1 1) rotate(0) translate(4 551)\">\r\n",
       "<polygon fill=\"white\" stroke=\"transparent\" points=\"-4,4 -4,-551 443,-551 443,4 -4,4\"/>\r\n",
       "<!-- 3 -->\r\n",
       "<g id=\"node1\" class=\"node\">\r\n",
       "<title>3</title>\r\n",
       "<polygon fill=\"red\" stroke=\"black\" points=\"203,-457 149,-457 149,-421 203,-421 203,-457\"/>\r\n",
       "<text text-anchor=\"middle\" x=\"176\" y=\"-435.3\" font-family=\"Times New Roman,serif\" font-size=\"14.00\">3</text>\r\n",
       "</g>\r\n",
       "<!-- 3&#45;&gt;3 -->\r\n",
       "<g id=\"edge12\" class=\"edge\">\r\n",
       "<title>3&#45;&gt;3</title>\r\n",
       "<path fill=\"none\" stroke=\"red\" stroke-width=\"2.55\" d=\"M203.24,-445.74C213.02,-445.89 221,-443.64 221,-439 221,-436.17 218.04,-434.23 213.51,-433.18\"/>\r\n",
       "<polygon fill=\"red\" stroke=\"red\" stroke-width=\"2.55\" points=\"213.51,-429.67 203.24,-432.26 212.89,-436.64 213.51,-429.67\"/>\r\n",
       "<text text-anchor=\"middle\" x=\"243.5\" y=\"-435.3\" font-family=\"Times New Roman,serif\" font-size=\"14.00\">10.1day</text>\r\n",
       "</g>\r\n",
       "<!-- 5 -->\r\n",
       "<g id=\"node2\" class=\"node\">\r\n",
       "<title>5</title>\r\n",
       "<polygon fill=\"grey\" stroke=\"black\" points=\"283,-370 229,-370 229,-334 283,-334 283,-370\"/>\r\n",
       "<text text-anchor=\"middle\" x=\"256\" y=\"-348.3\" font-family=\"Times New Roman,serif\" font-size=\"14.00\">5</text>\r\n",
       "</g>\r\n",
       "<!-- 3&#45;&gt;5 -->\r\n",
       "<g id=\"edge21\" class=\"edge\">\r\n",
       "<title>3&#45;&gt;5</title>\r\n",
       "<path fill=\"none\" stroke=\"red\" stroke-width=\"2.55\" d=\"M189.91,-420.95C198.14,-411.11 208.89,-398.61 219,-388 222.41,-384.43 226.09,-380.75 229.76,-377.18\"/>\r\n",
       "<polygon fill=\"red\" stroke=\"red\" stroke-width=\"2.55\" points=\"232.38,-379.52 237.19,-370.08 227.54,-374.46 232.38,-379.52\"/>\r\n",
       "<text text-anchor=\"middle\" x=\"256.5\" y=\"-391.8\" font-family=\"Times New Roman,serif\" font-size=\"14.00\">3.6day, cycle</text>\r\n",
       "</g>\r\n",
       "<!-- 2 -->\r\n",
       "<g id=\"node6\" class=\"node\">\r\n",
       "<title>2</title>\r\n",
       "<polygon fill=\"white\" stroke=\"black\" points=\"204,-196 150,-196 150,-160 204,-160 204,-196\"/>\r\n",
       "<text text-anchor=\"middle\" x=\"177\" y=\"-174.3\" font-family=\"Times New Roman,serif\" font-size=\"14.00\">2</text>\r\n",
       "</g>\r\n",
       "<!-- 3&#45;&gt;2 -->\r\n",
       "<g id=\"edge16\" class=\"edge\">\r\n",
       "<title>3&#45;&gt;2</title>\r\n",
       "<path fill=\"none\" stroke=\"grey\" stroke-width=\"0.1\" d=\"M172.47,-420.6C168.71,-376.46 168.9,-259.83 172.54,-206.42\"/>\r\n",
       "<polygon fill=\"grey\" stroke=\"grey\" stroke-width=\"0.1\" points=\"176.04,-206.57 173.34,-196.32 169.06,-206.01 176.04,-206.57\"/>\r\n",
       "</g>\r\n",
       "<!-- endevent -->\r\n",
       "<g id=\"node8\" class=\"node\">\r\n",
       "<title>endevent</title>\r\n",
       "<ellipse fill=\"red\" stroke=\"black\" cx=\"272\" cy=\"-18\" rx=\"18\" ry=\"18\"/>\r\n",
       "</g>\r\n",
       "<!-- 3&#45;&gt;endevent -->\r\n",
       "<g id=\"edge5\" class=\"edge\">\r\n",
       "<title>3&#45;&gt;endevent</title>\r\n",
       "<path fill=\"none\" stroke=\"black\" d=\"M203.11,-437.45C242.76,-435.74 318.12,-428.99 376,-403 408.61,-388.36 439,-388.75 439,-353 439,-353 439,-353 439,-90 439,-30.52 348.17,-20.16 300.49,-18.81\"/>\r\n",
       "<polygon fill=\"black\" stroke=\"black\" points=\"300.25,-15.31 290.19,-18.64 300.13,-22.31 300.25,-15.31\"/>\r\n",
       "</g>\r\n",
       "<!-- 5&#45;&gt;3 -->\r\n",
       "<g id=\"edge25\" class=\"edge\">\r\n",
       "<title>5&#45;&gt;3</title>\r\n",
       "<path fill=\"none\" stroke=\"red\" stroke-width=\"5\" d=\"M281.8,-370.07C293.14,-379.71 302.22,-391.99 294,-403 275.61,-427.64 240.61,-435.64 213.48,-437.92\"/>\r\n",
       "<polygon fill=\"red\" stroke=\"red\" stroke-width=\"5\" points=\"212.87,-433.57 203.16,-438.55 213.4,-442.31 212.87,-433.57\"/>\r\n",
       "<text text-anchor=\"middle\" x=\"334.5\" y=\"-391.8\" font-family=\"Times New Roman,serif\" font-size=\"14.00\">1.5day, cycle</text>\r\n",
       "</g>\r\n",
       "<!-- 5&#45;&gt;5 -->\r\n",
       "<g id=\"edge15\" class=\"edge\">\r\n",
       "<title>5&#45;&gt;5</title>\r\n",
       "<path fill=\"none\" stroke=\"grey\" stroke-width=\"0.1\" d=\"M283.24,-359.87C293.02,-360.04 301,-357.41 301,-352 301,-348.7 298.04,-346.44 293.51,-345.21\"/>\r\n",
       "<polygon fill=\"grey\" stroke=\"grey\" stroke-width=\"0.1\" points=\"293.55,-341.7 283.24,-344.13 292.82,-348.66 293.55,-341.7\"/>\r\n",
       "</g>\r\n",
       "<!-- 6 -->\r\n",
       "<g id=\"node3\" class=\"node\">\r\n",
       "<title>6</title>\r\n",
       "<polygon fill=\"red\" stroke=\"black\" points=\"318,-283 264,-283 264,-247 318,-247 318,-283\"/>\r\n",
       "<text text-anchor=\"middle\" x=\"291\" y=\"-261.3\" font-family=\"Times New Roman,serif\" font-size=\"14.00\">6</text>\r\n",
       "</g>\r\n",
       "<!-- 5&#45;&gt;6 -->\r\n",
       "<g id=\"edge14\" class=\"edge\">\r\n",
       "<title>5&#45;&gt;6</title>\r\n",
       "<path fill=\"none\" stroke=\"red\" stroke-width=\"2.55\" d=\"M253.29,-333.69C252.47,-323.76 252.72,-311.26 257,-301 258.46,-297.51 260.44,-294.18 262.72,-291.05\"/>\r\n",
       "<polygon fill=\"red\" stroke=\"red\" stroke-width=\"2.55\" points=\"265.5,-293.17 269.29,-283.27 260.16,-288.65 265.5,-293.17\"/>\r\n",
       "<text text-anchor=\"middle\" x=\"279.5\" y=\"-304.8\" font-family=\"Times New Roman,serif\" font-size=\"14.00\">10.8day</text>\r\n",
       "</g>\r\n",
       "<!-- 5&#45;&gt;endevent -->\r\n",
       "<g id=\"edge8\" class=\"edge\">\r\n",
       "<title>5&#45;&gt;endevent</title>\r\n",
       "<path fill=\"none\" stroke=\"black\" d=\"M252.49,-333.98C251.47,-328.29 250.5,-321.9 250,-316 249.43,-309.36 249.74,-307.66 250,-301 253.65,-207.28 264.1,-96.44 269.17,-46.19\"/>\r\n",
       "<polygon fill=\"black\" stroke=\"black\" points=\"272.66,-46.44 270.19,-36.14 265.7,-45.73 272.66,-46.44\"/>\r\n",
       "</g>\r\n",
       "<!-- 6&#45;&gt;5 -->\r\n",
       "<g id=\"edge17\" class=\"edge\">\r\n",
       "<title>6&#45;&gt;5</title>\r\n",
       "<path fill=\"none\" stroke=\"black\" stroke-width=\"2.55\" d=\"M300.29,-283.36C304.3,-293.31 307.05,-305.81 302,-316 299.37,-321.3 295.52,-326.01 291.14,-330.13\"/>\r\n",
       "<polygon fill=\"black\" stroke=\"black\" stroke-width=\"2.55\" points=\"288.9,-327.44 283.4,-336.5 293.35,-332.85 288.9,-327.44\"/>\r\n",
       "</g>\r\n",
       "<!-- 6&#45;&gt;6 -->\r\n",
       "<g id=\"edge18\" class=\"edge\">\r\n",
       "<title>6&#45;&gt;6</title>\r\n",
       "<path fill=\"none\" stroke=\"grey\" stroke-width=\"0.1\" d=\"M318.24,-272.87C328.02,-273.04 336,-270.41 336,-265 336,-261.7 333.04,-259.44 328.51,-258.21\"/>\r\n",
       "<polygon fill=\"grey\" stroke=\"grey\" stroke-width=\"0.1\" points=\"328.55,-254.7 318.24,-257.13 327.82,-261.66 328.55,-254.7\"/>\r\n",
       "</g>\r\n",
       "<!-- 4 -->\r\n",
       "<g id=\"node5\" class=\"node\">\r\n",
       "<title>4</title>\r\n",
       "<polygon fill=\"grey\" stroke=\"black\" points=\"373,-196 319,-196 319,-160 373,-160 373,-196\"/>\r\n",
       "<text text-anchor=\"middle\" x=\"346\" y=\"-174.3\" font-family=\"Times New Roman,serif\" font-size=\"14.00\">4</text>\r\n",
       "</g>\r\n",
       "<!-- 6&#45;&gt;4 -->\r\n",
       "<g id=\"edge19\" class=\"edge\">\r\n",
       "<title>6&#45;&gt;4</title>\r\n",
       "<path fill=\"none\" stroke=\"red\" stroke-width=\"5\" d=\"M302.13,-246.8C309.96,-234.7 320.57,-218.3 329.39,-204.67\"/>\r\n",
       "<polygon fill=\"red\" stroke=\"red\" stroke-width=\"5\" points=\"333.13,-206.95 334.89,-196.18 325.78,-202.19 333.13,-206.95\"/>\r\n",
       "<text text-anchor=\"middle\" x=\"358.5\" y=\"-217.8\" font-family=\"Times New Roman,serif\" font-size=\"14.00\">0.3day, cycle</text>\r\n",
       "</g>\r\n",
       "<!-- 6&#45;&gt;2 -->\r\n",
       "<g id=\"edge28\" class=\"edge\">\r\n",
       "<title>6&#45;&gt;2</title>\r\n",
       "<path fill=\"none\" stroke=\"grey\" stroke-width=\"0.1\" d=\"M263.85,-247.81C245.11,-234.95 220.52,-216.78 202.2,-202.34\"/>\r\n",
       "<polygon fill=\"grey\" stroke=\"grey\" stroke-width=\"0.1\" points=\"204.27,-199.51 194.28,-196 199.9,-204.98 204.27,-199.51\"/>\r\n",
       "</g>\r\n",
       "<!-- 6&#45;&gt;endevent -->\r\n",
       "<g id=\"edge4\" class=\"edge\">\r\n",
       "<title>6&#45;&gt;endevent</title>\r\n",
       "<path fill=\"none\" stroke=\"black\" d=\"M289.66,-246.77C286.41,-204.86 278.07,-97.31 274.13,-46.44\"/>\r\n",
       "<polygon fill=\"black\" stroke=\"black\" points=\"277.6,-45.91 273.33,-36.21 270.62,-46.45 277.6,-45.91\"/>\r\n",
       "</g>\r\n",
       "<!-- 1 -->\r\n",
       "<g id=\"node4\" class=\"node\">\r\n",
       "<title>1</title>\r\n",
       "<polygon fill=\"white\" stroke=\"black\" points=\"127,-109 73,-109 73,-73 127,-73 127,-109\"/>\r\n",
       "<text text-anchor=\"middle\" x=\"100\" y=\"-87.3\" font-family=\"Times New Roman,serif\" font-size=\"14.00\">1</text>\r\n",
       "</g>\r\n",
       "<!-- 1&#45;&gt;3 -->\r\n",
       "<g id=\"edge11\" class=\"edge\">\r\n",
       "<title>1&#45;&gt;3</title>\r\n",
       "<path fill=\"none\" stroke=\"red\" stroke-width=\"2.55\" d=\"M93.45,-109.2C91.63,-114.79 89.91,-121.08 89,-127 87.99,-133.59 88.05,-135.4 89,-142 103.7,-244.14 145.55,-360.19 165.36,-411.36\"/>\r\n",
       "<polygon fill=\"red\" stroke=\"red\" stroke-width=\"2.55\" points=\"162.11,-412.67 169.01,-420.71 168.63,-410.12 162.11,-412.67\"/>\r\n",
       "<text text-anchor=\"middle\" x=\"141\" y=\"-261.3\" font-family=\"Times New Roman,serif\" font-size=\"14.00\">0.2day</text>\r\n",
       "</g>\r\n",
       "<!-- 1&#45;&gt;1 -->\r\n",
       "<g id=\"edge22\" class=\"edge\">\r\n",
       "<title>1&#45;&gt;1</title>\r\n",
       "<path fill=\"none\" stroke=\"red\" stroke-width=\"2.55\" d=\"M127.24,-97.74C137.02,-97.89 145,-95.64 145,-91 145,-88.17 142.04,-86.23 137.51,-85.18\"/>\r\n",
       "<polygon fill=\"red\" stroke=\"red\" stroke-width=\"2.55\" points=\"137.51,-81.67 127.24,-84.26 136.89,-88.64 137.51,-81.67\"/>\r\n",
       "<text text-anchor=\"middle\" x=\"164\" y=\"-87.3\" font-family=\"Times New Roman,serif\" font-size=\"14.00\">0.1day</text>\r\n",
       "</g>\r\n",
       "<!-- 1&#45;&gt;2 -->\r\n",
       "<g id=\"edge10\" class=\"edge\">\r\n",
       "<title>1&#45;&gt;2</title>\r\n",
       "<path fill=\"none\" stroke=\"grey\" stroke-width=\"0.1\" d=\"M127.31,-96.97C144.41,-101.63 165.18,-110.47 176,-127 180.36,-133.67 181.73,-141.98 181.68,-149.9\"/>\r\n",
       "<polygon fill=\"grey\" stroke=\"grey\" stroke-width=\"0.1\" points=\"178.19,-149.69 180.94,-159.92 185.17,-150.21 178.19,-149.69\"/>\r\n",
       "</g>\r\n",
       "<!-- 1&#45;&gt;endevent -->\r\n",
       "<g id=\"edge7\" class=\"edge\">\r\n",
       "<title>1&#45;&gt;endevent</title>\r\n",
       "<path fill=\"none\" stroke=\"black\" d=\"M127.25,-78.75C159.73,-65.34 213.63,-43.09 245.69,-29.86\"/>\r\n",
       "<polygon fill=\"black\" stroke=\"black\" points=\"247.37,-32.95 255.28,-25.9 244.7,-26.48 247.37,-32.95\"/>\r\n",
       "</g>\r\n",
       "<!-- 4&#45;&gt;6 -->\r\n",
       "<g id=\"edge26\" class=\"edge\">\r\n",
       "<title>4&#45;&gt;6</title>\r\n",
       "<path fill=\"none\" stroke=\"grey\" stroke-width=\"0.1\" d=\"M373.05,-190.22C391.62,-199.59 411.07,-213.82 400,-229 383.71,-251.34 352.93,-259.74 328.23,-262.75\"/>\r\n",
       "<polygon fill=\"grey\" stroke=\"grey\" stroke-width=\"0.1\" points=\"327.68,-259.28 318.07,-263.73 328.36,-266.25 327.68,-259.28\"/>\r\n",
       "</g>\r\n",
       "<!-- 4&#45;&gt;4 -->\r\n",
       "<g id=\"edge27\" class=\"edge\">\r\n",
       "<title>4&#45;&gt;4</title>\r\n",
       "<path fill=\"none\" stroke=\"grey\" stroke-width=\"0.1\" d=\"M373.24,-185.87C383.02,-186.04 391,-183.41 391,-178 391,-174.7 388.04,-172.44 383.51,-171.21\"/>\r\n",
       "<polygon fill=\"grey\" stroke=\"grey\" stroke-width=\"0.1\" points=\"383.55,-167.7 373.24,-170.13 382.82,-174.66 383.55,-167.7\"/>\r\n",
       "</g>\r\n",
       "<!-- 4&#45;&gt;endevent -->\r\n",
       "<g id=\"edge6\" class=\"edge\">\r\n",
       "<title>4&#45;&gt;endevent</title>\r\n",
       "<path fill=\"none\" stroke=\"black\" d=\"M342.72,-159.7C337.48,-134.94 325.68,-88.58 305,-54 301.57,-48.26 297.06,-42.69 292.47,-37.74\"/>\r\n",
       "<polygon fill=\"black\" stroke=\"black\" points=\"294.88,-35.19 285.36,-30.54 289.9,-40.12 294.88,-35.19\"/>\r\n",
       "</g>\r\n",
       "<!-- 2&#45;&gt;3 -->\r\n",
       "<g id=\"edge24\" class=\"edge\">\r\n",
       "<title>2&#45;&gt;3</title>\r\n",
       "<path fill=\"none\" stroke=\"black\" stroke-width=\"2.55\" d=\"M180.52,-196.32C184.29,-240.38 184.1,-357.01 180.46,-410.49\"/>\r\n",
       "<polygon fill=\"black\" stroke=\"black\" stroke-width=\"2.55\" points=\"176.96,-410.36 179.66,-420.6 183.94,-410.91 176.96,-410.36\"/>\r\n",
       "</g>\r\n",
       "<!-- 2&#45;&gt;6 -->\r\n",
       "<g id=\"edge13\" class=\"edge\">\r\n",
       "<title>2&#45;&gt;6</title>\r\n",
       "<path fill=\"none\" stroke=\"grey\" stroke-width=\"0.1\" d=\"M204.32,-195.31C222.97,-208.12 247.35,-226.12 265.58,-240.49\"/>\r\n",
       "<polygon fill=\"grey\" stroke=\"grey\" stroke-width=\"0.1\" points=\"263.48,-243.29 273.48,-246.8 267.85,-237.82 263.48,-243.29\"/>\r\n",
       "</g>\r\n",
       "<!-- 2&#45;&gt;1 -->\r\n",
       "<g id=\"edge20\" class=\"edge\">\r\n",
       "<title>2&#45;&gt;1</title>\r\n",
       "<path fill=\"none\" stroke=\"red\" stroke-width=\"5\" d=\"M149.76,-172.89C131.45,-168.56 108.62,-159.76 97,-142 92.63,-135.32 91.78,-127 92.49,-119.08\"/>\r\n",
       "<polygon fill=\"red\" stroke=\"red\" stroke-width=\"5\" points=\"96.83,-119.65 94.15,-109.07 88.2,-118.22 96.83,-119.65\"/>\r\n",
       "<text text-anchor=\"middle\" x=\"134.5\" y=\"-130.8\" font-family=\"Times New Roman,serif\" font-size=\"14.00\">0.7day, cycle</text>\r\n",
       "</g>\r\n",
       "<!-- 2&#45;&gt;2 -->\r\n",
       "<g id=\"edge23\" class=\"edge\">\r\n",
       "<title>2&#45;&gt;2</title>\r\n",
       "<path fill=\"none\" stroke=\"grey\" stroke-width=\"0.1\" d=\"M204.24,-185.87C214.02,-186.04 222,-183.41 222,-178 222,-174.7 219.04,-172.44 214.51,-171.21\"/>\r\n",
       "<polygon fill=\"grey\" stroke=\"grey\" stroke-width=\"0.1\" points=\"214.55,-167.7 204.24,-170.13 213.82,-174.66 214.55,-167.7\"/>\r\n",
       "</g>\r\n",
       "<!-- 2&#45;&gt;endevent -->\r\n",
       "<g id=\"edge9\" class=\"edge\">\r\n",
       "<title>2&#45;&gt;endevent</title>\r\n",
       "<path fill=\"none\" stroke=\"black\" d=\"M184.85,-159.94C198.42,-130.73 226.03,-72.5 239,-54 242.84,-48.53 247.5,-43.05 252.1,-38.11\"/>\r\n",
       "<polygon fill=\"black\" stroke=\"black\" points=\"254.68,-40.48 259.15,-30.87 249.67,-35.6 254.68,-40.48\"/>\r\n",
       "</g>\r\n",
       "<!-- startevent -->\r\n",
       "<g id=\"node7\" class=\"node\">\r\n",
       "<title>startevent</title>\r\n",
       "<ellipse fill=\"green\" stroke=\"black\" cx=\"38\" cy=\"-520.5\" rx=\"18\" ry=\"18\"/>\r\n",
       "</g>\r\n",
       "<!-- startevent&#45;&gt;3 -->\r\n",
       "<g id=\"edge1\" class=\"edge\">\r\n",
       "<title>startevent&#45;&gt;3</title>\r\n",
       "<path fill=\"none\" stroke=\"black\" d=\"M49.95,-506.72C54.42,-502.36 59.7,-497.67 65,-494 88.19,-477.97 116.85,-464.16 139.24,-454.52\"/>\r\n",
       "<polygon fill=\"black\" stroke=\"black\" points=\"140.88,-457.62 148.73,-450.51 138.16,-451.17 140.88,-457.62\"/>\r\n",
       "</g>\r\n",
       "<!-- startevent&#45;&gt;1 -->\r\n",
       "<g id=\"edge2\" class=\"edge\">\r\n",
       "<title>startevent&#45;&gt;1</title>\r\n",
       "<path fill=\"none\" stroke=\"black\" d=\"M27.01,-506.07C15.79,-490.97 0,-465.24 0,-440 0,-440 0,-440 0,-177 0,-142.51 34.97,-119.08 63.55,-105.7\"/>\r\n",
       "<polygon fill=\"black\" stroke=\"black\" points=\"65.21,-108.79 72.94,-101.55 62.38,-102.39 65.21,-108.79\"/>\r\n",
       "</g>\r\n",
       "<!-- startevent&#45;&gt;2 -->\r\n",
       "<g id=\"edge3\" class=\"edge\">\r\n",
       "<title>startevent&#45;&gt;2</title>\r\n",
       "<path fill=\"none\" stroke=\"black\" d=\"M38,-502.44C38,-486.34 38,-461.53 38,-440 38,-440 38,-440 38,-264 38,-216.15 98.69,-194.42 139.87,-185.19\"/>\r\n",
       "<polygon fill=\"black\" stroke=\"black\" points=\"140.8,-188.57 149.87,-183.1 139.37,-181.72 140.8,-188.57\"/>\r\n",
       "</g>\r\n",
       "<!-- legend_good -->\r\n",
       "<g id=\"node9\" class=\"node\">\r\n",
       "<title>legend_good</title>\r\n",
       "<polygon fill=\"white\" stroke=\"black\" points=\"217.5,-547 74.5,-547 74.5,-494 217.5,-494 217.5,-547\"/>\r\n",
       "<text text-anchor=\"middle\" x=\"146\" y=\"-531.8\" font-family=\"Times New Roman,serif\" font-size=\"14.00\">good insights</text>\r\n",
       "<text text-anchor=\"middle\" x=\"146\" y=\"-516.8\" font-family=\"Times New Roman,serif\" font-size=\"14.00\">mean_duration: 0.1day</text>\r\n",
       "<text text-anchor=\"middle\" x=\"146\" y=\"-501.8\" font-family=\"Times New Roman,serif\" font-size=\"14.00\">cycle %: 0.0%</text>\r\n",
       "</g>\r\n",
       "<!-- legend_bad -->\r\n",
       "<g id=\"node10\" class=\"node\">\r\n",
       "<title>legend_bad</title>\r\n",
       "<polygon fill=\"red\" stroke=\"black\" points=\"356.5,-547 235.5,-547 235.5,-494 356.5,-494 356.5,-547\"/>\r\n",
       "<text text-anchor=\"middle\" x=\"296\" y=\"-531.8\" font-family=\"Times New Roman,serif\" font-size=\"14.00\">bad insights</text>\r\n",
       "<text text-anchor=\"middle\" x=\"296\" y=\"-516.8\" font-family=\"Times New Roman,serif\" font-size=\"14.00\">mean_time: 3.4day</text>\r\n",
       "<text text-anchor=\"middle\" x=\"296\" y=\"-501.8\" font-family=\"Times New Roman,serif\" font-size=\"14.00\">cycle %: 50.0%</text>\r\n",
       "</g>\r\n",
       "</g>\r\n",
       "</svg>\r\n"
      ],
      "text/plain": [
       "<IPython.core.display.HTML object>"
      ]
     },
     "execution_count": 33,
     "metadata": {},
     "output_type": "execute_result"
    }
   ],
   "source": [
    "auto_i = AutoInsights(data_holder, time_unit='day')\n",
    "simple_miner = SimpleMiner(data_holder)\n",
    "simple_miner.apply()\n",
    "auto_i.apply(miner=simple_miner, mode='overall')\n",
    "graph = auto_i.get_graph()\n",
    "\n",
    "painter = GraphvizPainter()\n",
    "painter.apply_insights(graph)\n",
    "painter.show()"
   ]
  },
  {
   "cell_type": "markdown",
   "metadata": {},
   "source": [
    "## Max $t_e$ & trace len"
   ]
  },
  {
   "cell_type": "code",
   "execution_count": 34,
   "metadata": {},
   "outputs": [
    {
     "data": {
      "text/html": [
       "<div>\n",
       "<style scoped>\n",
       "    .dataframe tbody tr th:only-of-type {\n",
       "        vertical-align: middle;\n",
       "    }\n",
       "\n",
       "    .dataframe tbody tr th {\n",
       "        vertical-align: top;\n",
       "    }\n",
       "\n",
       "    .dataframe thead th {\n",
       "        text-align: right;\n",
       "    }\n",
       "</style>\n",
       "<table border=\"1\" class=\"dataframe\">\n",
       "  <thead>\n",
       "    <tr style=\"text-align: right;\">\n",
       "      <th></th>\n",
       "      <th>tt</th>\n",
       "      <th>te</th>\n",
       "      <th>tw</th>\n",
       "      <th>trace_id</th>\n",
       "      <th>timestamp</th>\n",
       "      <th>1</th>\n",
       "      <th>2</th>\n",
       "      <th>3</th>\n",
       "      <th>4</th>\n",
       "      <th>5</th>\n",
       "      <th>6</th>\n",
       "    </tr>\n",
       "  </thead>\n",
       "  <tbody>\n",
       "    <tr>\n",
       "      <th>0</th>\n",
       "      <td>0.0</td>\n",
       "      <td>0.0</td>\n",
       "      <td>503113.0</td>\n",
       "      <td>173688</td>\n",
       "      <td>2011-10-01 19:45:13</td>\n",
       "      <td>0</td>\n",
       "      <td>0</td>\n",
       "      <td>1</td>\n",
       "      <td>0</td>\n",
       "      <td>0</td>\n",
       "      <td>0</td>\n",
       "    </tr>\n",
       "    <tr>\n",
       "      <th>1</th>\n",
       "      <td>1915.0</td>\n",
       "      <td>1915.0</td>\n",
       "      <td>505028.0</td>\n",
       "      <td>173688</td>\n",
       "      <td>2011-10-01 20:17:08</td>\n",
       "      <td>0</td>\n",
       "      <td>0</td>\n",
       "      <td>0</td>\n",
       "      <td>0</td>\n",
       "      <td>1</td>\n",
       "      <td>0</td>\n",
       "    </tr>\n",
       "    <tr>\n",
       "      <th>2</th>\n",
       "      <td>1032744.0</td>\n",
       "      <td>1030829.0</td>\n",
       "      <td>326257.0</td>\n",
       "      <td>173688</td>\n",
       "      <td>2011-10-13 18:37:37</td>\n",
       "      <td>0</td>\n",
       "      <td>0</td>\n",
       "      <td>0</td>\n",
       "      <td>0</td>\n",
       "      <td>0</td>\n",
       "      <td>1</td>\n",
       "    </tr>\n",
       "    <tr>\n",
       "      <th>3</th>\n",
       "      <td>0.0</td>\n",
       "      <td>0.0</td>\n",
       "      <td>502993.0</td>\n",
       "      <td>173691</td>\n",
       "      <td>2011-10-01 19:43:13</td>\n",
       "      <td>0</td>\n",
       "      <td>0</td>\n",
       "      <td>1</td>\n",
       "      <td>0</td>\n",
       "      <td>0</td>\n",
       "      <td>0</td>\n",
       "    </tr>\n",
       "    <tr>\n",
       "      <th>4</th>\n",
       "      <td>10392.0</td>\n",
       "      <td>10392.0</td>\n",
       "      <td>513385.0</td>\n",
       "      <td>173691</td>\n",
       "      <td>2011-10-01 22:36:25</td>\n",
       "      <td>0</td>\n",
       "      <td>0</td>\n",
       "      <td>0</td>\n",
       "      <td>0</td>\n",
       "      <td>1</td>\n",
       "      <td>0</td>\n",
       "    </tr>\n",
       "    <tr>\n",
       "      <th>...</th>\n",
       "      <td>...</td>\n",
       "      <td>...</td>\n",
       "      <td>...</td>\n",
       "      <td>...</td>\n",
       "      <td>...</td>\n",
       "      <td>...</td>\n",
       "      <td>...</td>\n",
       "      <td>...</td>\n",
       "      <td>...</td>\n",
       "      <td>...</td>\n",
       "      <td>...</td>\n",
       "    </tr>\n",
       "    <tr>\n",
       "      <th>29405</th>\n",
       "      <td>0.0</td>\n",
       "      <td>0.0</td>\n",
       "      <td>325701.0</td>\n",
       "      <td>214370</td>\n",
       "      <td>2012-03-01 18:28:21</td>\n",
       "      <td>1</td>\n",
       "      <td>0</td>\n",
       "      <td>0</td>\n",
       "      <td>0</td>\n",
       "      <td>0</td>\n",
       "      <td>0</td>\n",
       "    </tr>\n",
       "    <tr>\n",
       "      <th>29406</th>\n",
       "      <td>0.0</td>\n",
       "      <td>0.0</td>\n",
       "      <td>325672.0</td>\n",
       "      <td>214373</td>\n",
       "      <td>2012-03-01 18:27:52</td>\n",
       "      <td>1</td>\n",
       "      <td>0</td>\n",
       "      <td>0</td>\n",
       "      <td>0</td>\n",
       "      <td>0</td>\n",
       "      <td>0</td>\n",
       "    </tr>\n",
       "    <tr>\n",
       "      <th>29407</th>\n",
       "      <td>39289.0</td>\n",
       "      <td>39289.0</td>\n",
       "      <td>364961.0</td>\n",
       "      <td>214373</td>\n",
       "      <td>2012-03-02 05:22:41</td>\n",
       "      <td>0</td>\n",
       "      <td>0</td>\n",
       "      <td>1</td>\n",
       "      <td>0</td>\n",
       "      <td>0</td>\n",
       "      <td>0</td>\n",
       "    </tr>\n",
       "    <tr>\n",
       "      <th>29408</th>\n",
       "      <td>789782.0</td>\n",
       "      <td>750493.0</td>\n",
       "      <td>510654.0</td>\n",
       "      <td>214373</td>\n",
       "      <td>2012-03-10 21:50:54</td>\n",
       "      <td>0</td>\n",
       "      <td>0</td>\n",
       "      <td>0</td>\n",
       "      <td>0</td>\n",
       "      <td>1</td>\n",
       "      <td>0</td>\n",
       "    </tr>\n",
       "    <tr>\n",
       "      <th>29409</th>\n",
       "      <td>0.0</td>\n",
       "      <td>0.0</td>\n",
       "      <td>325661.0</td>\n",
       "      <td>214376</td>\n",
       "      <td>2012-03-01 18:27:41</td>\n",
       "      <td>1</td>\n",
       "      <td>0</td>\n",
       "      <td>0</td>\n",
       "      <td>0</td>\n",
       "      <td>0</td>\n",
       "      <td>0</td>\n",
       "    </tr>\n",
       "  </tbody>\n",
       "</table>\n",
       "<p>29410 rows × 11 columns</p>\n",
       "</div>"
      ],
      "text/plain": [
       "              tt         te        tw  trace_id           timestamp  1  2  3  \\\n",
       "0            0.0        0.0  503113.0    173688 2011-10-01 19:45:13  0  0  1   \n",
       "1         1915.0     1915.0  505028.0    173688 2011-10-01 20:17:08  0  0  0   \n",
       "2      1032744.0  1030829.0  326257.0    173688 2011-10-13 18:37:37  0  0  0   \n",
       "3            0.0        0.0  502993.0    173691 2011-10-01 19:43:13  0  0  1   \n",
       "4        10392.0    10392.0  513385.0    173691 2011-10-01 22:36:25  0  0  0   \n",
       "...          ...        ...       ...       ...                 ... .. .. ..   \n",
       "29405        0.0        0.0  325701.0    214370 2012-03-01 18:28:21  1  0  0   \n",
       "29406        0.0        0.0  325672.0    214373 2012-03-01 18:27:52  1  0  0   \n",
       "29407    39289.0    39289.0  364961.0    214373 2012-03-02 05:22:41  0  0  1   \n",
       "29408   789782.0   750493.0  510654.0    214373 2012-03-10 21:50:54  0  0  0   \n",
       "29409        0.0        0.0  325661.0    214376 2012-03-01 18:27:41  1  0  0   \n",
       "\n",
       "       4  5  6  \n",
       "0      0  0  0  \n",
       "1      0  1  0  \n",
       "2      0  0  1  \n",
       "3      0  0  0  \n",
       "4      0  1  0  \n",
       "...   .. .. ..  \n",
       "29405  0  0  0  \n",
       "29406  0  0  0  \n",
       "29407  0  0  0  \n",
       "29408  0  1  0  \n",
       "29409  0  0  0  \n",
       "\n",
       "[29410 rows x 11 columns]"
      ]
     },
     "execution_count": 34,
     "metadata": {},
     "output_type": "execute_result"
    }
   ],
   "source": [
    "df_preprocessed"
   ]
  },
  {
   "cell_type": "code",
   "execution_count": 35,
   "metadata": {},
   "outputs": [],
   "source": [
    "traces_te_max = {}\n",
    "traces_len = {}\n",
    "for t_id in set(df_preprocessed['trace_id'].values):\n",
    "    _d = df_preprocessed[df_preprocessed['trace_id'] == t_id]\n",
    "    traces_len[t_id] = _d.shape[0]\n",
    "    traces_te_max[t_id] = _d['te'].max()"
   ]
  },
  {
   "cell_type": "code",
   "execution_count": 36,
   "metadata": {},
   "outputs": [
    {
     "data": {
      "image/png": "[encoded data removed]",
      "text/plain": [
       "<Figure size 432x288 with 1 Axes>"
      ]
     },
     "metadata": {},
     "output_type": "display_data"
    }
   ],
   "source": [
    "plt.scatter(np.array(list(traces_te_max.values())) / 3600 / 24, traces_len.values(), s=0.1)\n",
    "plt.xlabel('max $t_e, days$')\n",
    "plt.ylabel('max trace length')\n",
    "plt.show()"
   ]
  },
  {
   "cell_type": "markdown",
   "metadata": {},
   "source": [
    "# Loops\n",
    "На рисунке были видны циклы.\n",
    "Это плохо. Если мы использаем для обучения окна длиннйо 2, то возникает проблема:\n",
    "\n",
    "$A \\rightarrow B \\rightarrow A \\rightarrow B \\rightarrow A \\dots A \\rightarrow B \\rightarrow C$\n",
    "\n",
    "сформируют признаки\n",
    "\n",
    "$$[A,\\ B],\\ [A]$$\n",
    "$$[B,\\ A],\\ [B]$$\n",
    "$$[A,\\ B],\\ [A]$$\n",
    "$$\\dots$$\n",
    "\n",
    "и не получится обучить что после $[A,\\ B]$ идёт $[C]$"
   ]
  },
  {
   "cell_type": "markdown",
   "metadata": {},
   "source": [
    "## Какие циклы?\n",
    "Чтобы сильно не париться, будем искать циклы $A \\rightarrow B \\rightarrow A$. Отметим `trace_id` с циклами"
   ]
  },
  {
   "cell_type": "code",
   "execution_count": 37,
   "metadata": {},
   "outputs": [],
   "source": [
    "from rl4pm_lib.preprocessing import is_there_cycle, number_of_cycles"
   ]
  },
  {
   "cell_type": "code",
   "execution_count": 38,
   "metadata": {},
   "outputs": [],
   "source": [
    "assert is_there_cycle([1, 2, 3, 2]) == True\n",
    "assert is_there_cycle([1, 2, 3]) == False\n",
    "assert is_there_cycle([1, 2, 3, 3, 5, 6]) == True\n",
    "assert is_there_cycle([1, 2, 3, 4, 5, 6]) == False"
   ]
  },
  {
   "cell_type": "code",
   "execution_count": 39,
   "metadata": {},
   "outputs": [],
   "source": [
    "traces_is_cycle = {}\n",
    "traces_num_cycles = {}\n",
    "for t_id in set(df_preprocessed['trace_id'].values):\n",
    "    _d = df[df['trace_id'] == t_id]\n",
    "    traces_is_cycle[t_id] = is_there_cycle(_d['activity'].values)\n",
    "    traces_num_cycles[t_id] = number_of_cycles(_d['activity'].values)"
   ]
  },
  {
   "cell_type": "code",
   "execution_count": 40,
   "metadata": {},
   "outputs": [
    {
     "name": "stdout",
     "output_type": "stream",
     "text": [
      " 14.27% of all traces got cycles\n"
     ]
    }
   ],
   "source": [
    "print(f'{np.array(list(traces_is_cycle.values())).sum() / len(traces_is_cycle) * 100: .2f}% of all traces got cycles')"
   ]
  },
  {
   "cell_type": "markdown",
   "metadata": {},
   "source": [
    "Хотелось бы както это исправить"
   ]
  },
  {
   "cell_type": "code",
   "execution_count": 41,
   "metadata": {},
   "outputs": [
    {
     "data": {
      "image/png": "[encoded data removed]",
      "text/plain": [
       "<Figure size 432x288 with 1 Axes>"
      ]
     },
     "metadata": {},
     "output_type": "display_data"
    }
   ],
   "source": [
    "plt.scatter(np.array(list(traces_te_max.values())) / 3600 / 24, traces_num_cycles.values(), s=0.1)\n",
    "plt.xlabel('max $t_e, days$')\n",
    "plt.ylabel('number of cycles len 2 or 1 ')\n",
    "plt.title('Max te vs number of cycles')\n",
    "plt.show()"
   ]
  },
  {
   "cell_type": "code",
   "execution_count": 42,
   "metadata": {},
   "outputs": [
    {
     "data": {
      "image/png": "[encoded data removed]",
      "text/plain": [
       "<Figure size 432x288 with 1 Axes>"
      ]
     },
     "metadata": {},
     "output_type": "display_data"
    }
   ],
   "source": [
    "plt.scatter(list(traces_len.values()), traces_num_cycles.values(), s=0.2)\n",
    "plt.xlabel('length of trace')\n",
    "plt.ylabel('number of cycles, len 2 or 1 ')\n",
    "plt.title('Trace length vs number of cycles')\n",
    "plt.show()"
   ]
  },
  {
   "cell_type": "markdown",
   "metadata": {},
   "source": [
    "тоесть если есть цикл, то он занимает $\\frac{2}{3}$ процесса. Ужс"
   ]
  }
 ],
 "metadata": {
  "kernelspec": {
   "display_name": "Python 3",
   "language": "python",
   "name": "python3"
  },
  "language_info": {
   "codemirror_mode": {
    "name": "ipython",
    "version": 3
   },
   "file_extension": ".py",
   "mimetype": "text/x-python",
   "name": "python",
   "nbconvert_exporter": "python",
   "pygments_lexer": "ipython3",
   "version": "3.8.6"
  }
 },
 "nbformat": 4,
 "nbformat_minor": 4
}
