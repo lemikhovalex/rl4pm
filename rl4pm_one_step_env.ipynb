{
 "cells": [
  {
   "cell_type": "code",
   "execution_count": 1,
   "metadata": {},
   "outputs": [],
   "source": [
    "import pm4py\n",
    "import pandas as pd\n",
    "import datetime\n",
    "from math import ceil\n",
    "import matplotlib.pyplot as plt\n",
    "import torch\n",
    "import numpy as np\n",
    "import gym\n",
    "from importlib import reload\n",
    "import random\n",
    "from random import shuffle\n",
    "from dateutil.parser import parse\n",
    "\n",
    "import rl4pm_lib.preprocessing as preprocessing\n",
    "reload(preprocessing)\n",
    "from IPython import display"
   ]
  },
  {
   "cell_type": "code",
   "execution_count": 2,
   "metadata": {},
   "outputs": [],
   "source": [
    "device = torch.device(\"cuda:0\" if torch.cuda.is_available() else \"cpu\") # "
   ]
  },
  {
   "cell_type": "code",
   "execution_count": 3,
   "metadata": {},
   "outputs": [],
   "source": [
    "cpu = torch.device(\"cpu\")"
   ]
  },
  {
   "cell_type": "markdown",
   "metadata": {},
   "source": [
    "# Data\n",
    "## Download and read\n",
    "- Download `.xes` file(archive) from [here](https://data.4tu.nl/articles/dataset/BPI_Challenge_2012/12689204)\n",
    "- Read this `.xes`\n",
    "- Convert to good old `.csv`\n",
    "\n",
    "## Drop data\n",
    "In the article only (activity, time_stamp) is used. Also leave trace id"
   ]
  },
  {
   "cell_type": "code",
   "execution_count": 4,
   "metadata": {},
   "outputs": [],
   "source": [
    "train_df = pd.read_csv('datasets/train_df_nr.csv')\n",
    "train_df['timestamp'] = train_df['timestamp'].apply(lambda x: parse(x))\n",
    "\n",
    "test_df = pd.read_csv('datasets/test_df_nr.csv')\n",
    "test_df['timestamp'] = test_df['timestamp'].apply(lambda x: parse(x))\n",
    "\n",
    "test_df['activity'] = test_df['activity'].apply(lambda x: str(x))\n",
    "train_df['activity'] = train_df['activity'].apply(lambda x: str(x))"
   ]
  },
  {
   "cell_type": "code",
   "execution_count": 5,
   "metadata": {},
   "outputs": [],
   "source": [
    "from random import sample\n",
    "train_idx = set(train_df['trace_id'].values)\n",
    "val_idx = sample(train_idx, int(0.25 * len(train_idx)))\n",
    "\n",
    "train_idx_ = []\n",
    "for i in train_idx:\n",
    "    if i not in val_idx:\n",
    "        train_idx_.append(i)\n",
    "train_idx = train_idx_\n",
    "\n",
    "val_df = train_df[train_df['trace_id'].isin(val_idx)]\n",
    "train_df = train_df[train_df['trace_id'].isin(train_idx)]\n",
    "\n",
    "train_df.reset_index(inplace=True, drop=True)\n",
    "val_df.reset_index(inplace=True, drop=True)"
   ]
  },
  {
   "cell_type": "code",
   "execution_count": 6,
   "metadata": {},
   "outputs": [],
   "source": [
    "# try:\n",
    "#     df = pd.read_csv('datasets/bpi_12_preprocessed.csv')\n",
    "    \n",
    "# except FileNotFoundError:\n",
    "#     file_path = 'datasets/BPI_Challenge_2012.xes'\n",
    "#     event_log = pm4py.read_xes(file_path)\n",
    "#     start_activities = pm4py.get_start_activities(event_log)\n",
    "#     end_activities = pm4py.get_end_activities(event_log)\n",
    "#     df = pm4py.convert_to_dataframe(event_log)\n",
    "#     df = df[['time:timestamp', 'case:concept:name', 'concept:name']]\n",
    "#     df = df.rename(columns={'time:timestamp': 'timestamp', 'case:concept:name': 'trace_id', 'concept:name': 'activity'})\n",
    "#     df['trace_id'] = df['trace_id'].apply(lambda x: int(x))\n",
    "#     df.to_csv('bpi_12.csv', index=False)\n",
    "#     prepro = preprocessing.DfPreprocesser()\n",
    "#     prepro.fit(df)\n",
    "#     df = prepro.transform(df)\n",
    "#     df.to_csv('datasets/bpi_12_preprocessed.csv', index=False)"
   ]
  },
  {
   "cell_type": "code",
   "execution_count": 7,
   "metadata": {},
   "outputs": [
    {
     "data": {
      "text/plain": [
       "6"
      ]
     },
     "execution_count": 7,
     "metadata": {},
     "output_type": "execute_result"
    }
   ],
   "source": [
    "n_classes = len(set(train_df['activity']))\n",
    "n_classes"
   ]
  },
  {
   "cell_type": "markdown",
   "metadata": {},
   "source": [
    "## Time-related features\n",
    "\n",
    "- $t_{w}$ - time passed between Sunday midnight and the event\n",
    "- $t_e$ - time passed between the completion of the given event and the completion of the previous one\n",
    "- $t_t$ - time passed between the start of the trace and the given event\n"
   ]
  },
  {
   "cell_type": "code",
   "execution_count": 8,
   "metadata": {},
   "outputs": [],
   "source": [
    "window_size = 2"
   ]
  },
  {
   "cell_type": "code",
   "execution_count": 9,
   "metadata": {},
   "outputs": [],
   "source": [
    "import rl4pm_lib.preprocessing as preprocessing\n",
    "\n",
    "column_feature = {'tt': 0, 'te': 1, 'tw': 2}\n",
    "prepro = preprocessing.DfPreprocesser()\n",
    "prepro.fit(train_df)\n",
    "train_df_pr = prepro.transform(train_df)\n",
    "test_df_pr = prepro.transform(test_df)\n",
    "val_df_pr = prepro.transform(val_df)"
   ]
  },
  {
   "cell_type": "markdown",
   "metadata": {},
   "source": [
    "## Scaling\n",
    "env will scale time-related features"
   ]
  },
  {
   "cell_type": "code",
   "execution_count": 10,
   "metadata": {},
   "outputs": [],
   "source": [
    "scaler = preprocessing.PaperScaler(column_feature)\n",
    "scaler.fit(train_df_pr)\n",
    "train_df_pr_sc = scaler.transform(train_df_pr)\n",
    "test_df_pr_sc = scaler.transform(test_df_pr)\n",
    "val_df_pr_sc = scaler.transform(val_df_pr)\n",
    "\n",
    "train_df_pr_sc.drop(columns='timestamp', inplace=True)\n",
    "test_df_pr_sc.drop(columns='timestamp', inplace=True)\n",
    "val_df_pr_sc.drop(columns='timestamp', inplace=True)"
   ]
  },
  {
   "cell_type": "markdown",
   "metadata": {},
   "source": [
    "## Environment\n",
    "Ther given scheme is the following:\n",
    "- recieving window of $(a_i,\\ t_{e,\\ i},\\ t_{w,\\ i},\\ t_{t,\\ i}) = e_i$. So the input to model is $\\{ e_{i},\\ e_{i-1},\\ \\dots,\\ e_{i-ws} \\}$ \n",
    "- prodice $\\hat{e}_{i+1}$\n",
    "- predict $\\hat{e}_{i+2}$ using $\\{ \\hat{e}_{i+1},\\ e_{i},\\ \\dots,\\ e_{i-ws +1} \\}$\n",
    "The metric is calculated by `environment`. It returns rewards for time prediction and for next step classifiation. So basicly `env` just stores data of trace. "
   ]
  },
  {
   "cell_type": "code",
   "execution_count": 11,
   "metadata": {},
   "outputs": [],
   "source": [
    "te_key_times = [0., 1., 10., 60., 120., 240., 480., 1440., 2880., 4320.,\n",
    "                7200., 10080., 14400., 20160., 30240., 40320., 50400.]\n",
    "te_intervals = [(te_key_times[i], te_key_times[i+1])\n",
    "             for i in range(len(te_key_times)-1)]"
   ]
  },
  {
   "cell_type": "markdown",
   "metadata": {},
   "source": [
    "```python\n",
    "input = (n_traces, max_len, features) # nn.LSTM(..., batch_first=True)\n",
    "```"
   ]
  },
  {
   "cell_type": "markdown",
   "metadata": {},
   "source": [
    "```python\n",
    "output = out, (h, c)\n",
    "out.shape = (n_traces, max_len, features) # nn.LSTM(..., batch_first=True)\n",
    "```"
   ]
  },
  {
   "cell_type": "code",
   "execution_count": 12,
   "metadata": {},
   "outputs": [],
   "source": [
    "from rl4pm_lib import envs, utils\n",
    "reload(envs)\n",
    "reload(utils)\n",
    "traces = list(set(train_df['trace_id'].values))\n",
    "traces_len = {}\n",
    "for t in traces:\n",
    "    trace_len = train_df[train_df['trace_id'] == t].shape[0]\n",
    "    if trace_len > window_size:\n",
    "        traces_len[t] = train_df[train_df['trace_id'] == t].shape[0]\n",
    "\n",
    "    \n",
    "traces_len_sorted = dict(sorted(traces_len.items(), key=lambda item: item[1]))\n",
    "traces = list(traces_len_sorted.keys())"
   ]
  },
  {
   "cell_type": "code",
   "execution_count": 13,
   "metadata": {},
   "outputs": [
    {
     "data": {
      "text/html": [
       "<div>\n",
       "<style scoped>\n",
       "    .dataframe tbody tr th:only-of-type {\n",
       "        vertical-align: middle;\n",
       "    }\n",
       "\n",
       "    .dataframe tbody tr th {\n",
       "        vertical-align: top;\n",
       "    }\n",
       "\n",
       "    .dataframe thead th {\n",
       "        text-align: right;\n",
       "    }\n",
       "</style>\n",
       "<table border=\"1\" class=\"dataframe\">\n",
       "  <thead>\n",
       "    <tr style=\"text-align: right;\">\n",
       "      <th></th>\n",
       "      <th>trace_id</th>\n",
       "      <th>activity</th>\n",
       "      <th>timestamp</th>\n",
       "    </tr>\n",
       "  </thead>\n",
       "  <tbody>\n",
       "    <tr>\n",
       "      <th>0</th>\n",
       "      <td>173691</td>\n",
       "      <td>3</td>\n",
       "      <td>2011-10-01 19:43:13</td>\n",
       "    </tr>\n",
       "    <tr>\n",
       "      <th>1</th>\n",
       "      <td>173691</td>\n",
       "      <td>5</td>\n",
       "      <td>2011-10-01 22:36:25</td>\n",
       "    </tr>\n",
       "    <tr>\n",
       "      <th>2</th>\n",
       "      <td>173691</td>\n",
       "      <td>6</td>\n",
       "      <td>2011-10-10 19:30:54</td>\n",
       "    </tr>\n",
       "    <tr>\n",
       "      <th>3</th>\n",
       "      <td>173691</td>\n",
       "      <td>6</td>\n",
       "      <td>2011-10-10 22:17:34</td>\n",
       "    </tr>\n",
       "    <tr>\n",
       "      <th>4</th>\n",
       "      <td>173694</td>\n",
       "      <td>3</td>\n",
       "      <td>2011-10-01 19:35:59</td>\n",
       "    </tr>\n",
       "    <tr>\n",
       "      <th>...</th>\n",
       "      <td>...</td>\n",
       "      <td>...</td>\n",
       "      <td>...</td>\n",
       "    </tr>\n",
       "    <tr>\n",
       "      <th>16527</th>\n",
       "      <td>214361</td>\n",
       "      <td>5</td>\n",
       "      <td>2012-03-02 03:28:02</td>\n",
       "    </tr>\n",
       "    <tr>\n",
       "      <th>16528</th>\n",
       "      <td>214361</td>\n",
       "      <td>6</td>\n",
       "      <td>2012-03-13 01:12:34</td>\n",
       "    </tr>\n",
       "    <tr>\n",
       "      <th>16529</th>\n",
       "      <td>214361</td>\n",
       "      <td>6</td>\n",
       "      <td>2012-03-13 20:21:45</td>\n",
       "    </tr>\n",
       "    <tr>\n",
       "      <th>16530</th>\n",
       "      <td>214370</td>\n",
       "      <td>1</td>\n",
       "      <td>2012-03-01 18:28:21</td>\n",
       "    </tr>\n",
       "    <tr>\n",
       "      <th>16531</th>\n",
       "      <td>214376</td>\n",
       "      <td>1</td>\n",
       "      <td>2012-03-01 18:27:41</td>\n",
       "    </tr>\n",
       "  </tbody>\n",
       "</table>\n",
       "<p>16532 rows × 3 columns</p>\n",
       "</div>"
      ],
      "text/plain": [
       "       trace_id activity           timestamp\n",
       "0        173691        3 2011-10-01 19:43:13\n",
       "1        173691        5 2011-10-01 22:36:25\n",
       "2        173691        6 2011-10-10 19:30:54\n",
       "3        173691        6 2011-10-10 22:17:34\n",
       "4        173694        3 2011-10-01 19:35:59\n",
       "...         ...      ...                 ...\n",
       "16527    214361        5 2012-03-02 03:28:02\n",
       "16528    214361        6 2012-03-13 01:12:34\n",
       "16529    214361        6 2012-03-13 20:21:45\n",
       "16530    214370        1 2012-03-01 18:28:21\n",
       "16531    214376        1 2012-03-01 18:27:41\n",
       "\n",
       "[16532 rows x 3 columns]"
      ]
     },
     "execution_count": 13,
     "metadata": {},
     "output_type": "execute_result"
    }
   ],
   "source": [
    "train_df"
   ]
  },
  {
   "cell_type": "code",
   "execution_count": 14,
   "metadata": {},
   "outputs": [
    {
     "name": "stdout",
     "output_type": "stream",
     "text": [
      "11/11\r"
     ]
    }
   ],
   "source": [
    "from rl4pm_lib import envs, utils\n",
    "reload(envs)\n",
    "reload(utils)\n",
    "traces = list(set(train_df_pr_sc['trace_id'].values))\n",
    "shuffle(traces)\n",
    "# traces = traces[:2048]\n",
    "n_traces = 512\n",
    "\n",
    "ix_4_envs = utils.split_to_fixed_bucket(traces, n_traces)\n",
    "n_envs = len(ix_4_envs)\n",
    "envirs = []\n",
    "for _i in range(n_envs):\n",
    "    print(f'{_i+1}/{n_envs}', end='\\r')\n",
    "    env_matrix = utils.get_traces_matrix(train_df_pr_sc, ix_4_envs[_i])\n",
    "    envirs.append(envs.PMEnvOneStepCons(data=env_matrix, intervals_te_rew=te_intervals,\n",
    "                                        column_to_time_features=column_feature,\n",
    "                                        window_size=window_size, device=cpu, scaler=scaler\n",
    "                            )\n",
    "               )"
   ]
  },
  {
   "cell_type": "code",
   "execution_count": 15,
   "metadata": {},
   "outputs": [],
   "source": [
    "from rl4pm_lib import replay_buffer, agents, agencies\n",
    "reload(agents)\n",
    "reload(agencies)\n",
    "batch_size = 2 ** 12\n",
    "memory_size = 2 ** 16\n",
    "hidden = 128\n",
    "replay_memory = replay_buffer.ReplayMemory(memory_size, n_traces)\n",
    "agency = agencies.Agency(input_size=envirs[0].data.shape[-1] * window_size, hidden=hidden, n_lstm=1,\n",
    "                         te_intervals=te_intervals, ac_learning_rate=1e-3,\n",
    "                         te_learning_rate=1e-3, n_classes=n_classes, discount_factor=0.7)\n",
    "pol_avg = 0.01\n",
    "refresh_every = 1"
   ]
  },
  {
   "cell_type": "markdown",
   "metadata": {},
   "source": [
    "$x^t = \\{ (a^{t},\\ t_e^{t},\\ t_w^{t},\\ t_t^{t}),\\ (a^{t-1},\\ t_e^{t-1}, \\dots), \\dots \\} = \\{y^{t}, y^{t-1}, \\dots \\}$\n",
    "\n",
    "$\\hat{y}^{t+1} = \\{ \\hat{a}^{t+1}, \\hat{t}_e^{t+1}, \\dots \\}$\n",
    "\n",
    "$x^{t+1} = \\{y^{t+1}, \\hat{y}^{t}, \\dots \\}$\n",
    "\n",
    "$x^{t+2} = \\{y^{t+2}, y^{t+1}, \\dots \\}$"
   ]
  },
  {
   "cell_type": "code",
   "execution_count": 16,
   "metadata": {},
   "outputs": [],
   "source": [
    "import time"
   ]
  },
  {
   "cell_type": "code",
   "execution_count": 17,
   "metadata": {},
   "outputs": [],
   "source": [
    "device = 'cpu'"
   ]
  },
  {
   "cell_type": "code",
   "execution_count": 18,
   "metadata": {
    "scrolled": false
   },
   "outputs": [
    {
     "data": {
      "image/png": "[encoded data removed]",
      "text/plain": [
       "<Figure size 1152x576 with 4 Axes>"
      ]
     },
     "metadata": {
      "needs_background": "light"
     },
     "output_type": "display_data"
    },
    {
     "name": "stdout",
     "output_type": "stream",
     "text": [
      "1/11\r"
     ]
    },
    {
     "ename": "KeyboardInterrupt",
     "evalue": "",
     "output_type": "error",
     "traceback": [
      "\u001b[1;31m---------------------------------------------------------------------------\u001b[0m",
      "\u001b[1;31mKeyboardInterrupt\u001b[0m                         Traceback (most recent call last)",
      "\u001b[1;32m<ipython-input-18-25290bfe0bcd>\u001b[0m in \u001b[0;36m<module>\u001b[1;34m\u001b[0m\n\u001b[0;32m     23\u001b[0m             \u001b[0m_\u001b[0m \u001b[1;33m=\u001b[0m \u001b[0menvirs\u001b[0m\u001b[1;33m[\u001b[0m\u001b[0m_i\u001b[0m\u001b[1;33m]\u001b[0m\u001b[1;33m.\u001b[0m\u001b[0mreset\u001b[0m\u001b[1;33m(\u001b[0m\u001b[1;33m)\u001b[0m\u001b[1;33m\u001b[0m\u001b[1;33m\u001b[0m\u001b[0m\n\u001b[0;32m     24\u001b[0m             \u001b[1;32mwith\u001b[0m \u001b[0mtorch\u001b[0m\u001b[1;33m.\u001b[0m\u001b[0mno_grad\u001b[0m\u001b[1;33m(\u001b[0m\u001b[1;33m)\u001b[0m\u001b[1;33m:\u001b[0m\u001b[1;33m\u001b[0m\u001b[1;33m\u001b[0m\u001b[0m\n\u001b[1;32m---> 25\u001b[1;33m                 _episode_te_rew, _episode_ac_rew, n_ep = utils.play_and_record(agency.te_agent, agency.ac_agent,\n\u001b[0m\u001b[0;32m     26\u001b[0m                                                                                \u001b[0menvirs\u001b[0m\u001b[1;33m[\u001b[0m\u001b[0m_i\u001b[0m\u001b[1;33m]\u001b[0m\u001b[1;33m,\u001b[0m \u001b[0mreplay_memory\u001b[0m\u001b[1;33m,\u001b[0m\u001b[1;33m\u001b[0m\u001b[1;33m\u001b[0m\u001b[0m\n\u001b[0;32m     27\u001b[0m                                                                                \u001b[0mprocess_dvice\u001b[0m\u001b[1;33m=\u001b[0m\u001b[0mcpu\u001b[0m\u001b[1;33m,\u001b[0m \u001b[0mdest_device\u001b[0m\u001b[1;33m=\u001b[0m\u001b[0mcpu\u001b[0m\u001b[1;33m,\u001b[0m\u001b[1;33m\u001b[0m\u001b[1;33m\u001b[0m\u001b[0m\n",
      "\u001b[1;32m~\\Documents\\5th_course\\rl4pm_master\\rl4pm_lib\\utils.py\u001b[0m in \u001b[0;36mplay_and_record\u001b[1;34m(agent_te, agent_ac, env, exp_replay, process_dvice, dest_device, stoch)\u001b[0m\n\u001b[0;32m     38\u001b[0m                         \u001b[0mh_ac\u001b[0m\u001b[1;33m=\u001b[0m\u001b[0mh_a\u001b[0m\u001b[1;33m,\u001b[0m \u001b[0mc_ac\u001b[0m\u001b[1;33m=\u001b[0m\u001b[0mc_a\u001b[0m\u001b[1;33m,\u001b[0m\u001b[1;33m\u001b[0m\u001b[1;33m\u001b[0m\u001b[0m\n\u001b[0;32m     39\u001b[0m                         h_te=h_t, c_te=c_t)\n\u001b[1;32m---> 40\u001b[1;33m         \u001b[0mnext_ac\u001b[0m\u001b[1;33m,\u001b[0m \u001b[1;33m(\u001b[0m\u001b[0mh_a\u001b[0m\u001b[1;33m,\u001b[0m \u001b[0mc_a\u001b[0m\u001b[1;33m)\u001b[0m \u001b[1;33m=\u001b[0m \u001b[0magent_ac\u001b[0m\u001b[1;33m.\u001b[0m\u001b[0msample_action\u001b[0m\u001b[1;33m(\u001b[0m\u001b[0mx\u001b[0m\u001b[1;33m=\u001b[0m\u001b[0minp\u001b[0m\u001b[1;33m,\u001b[0m \u001b[0mhidden\u001b[0m\u001b[1;33m=\u001b[0m\u001b[1;33m(\u001b[0m\u001b[0mh_a\u001b[0m\u001b[1;33m,\u001b[0m \u001b[0mc_a\u001b[0m\u001b[1;33m)\u001b[0m\u001b[1;33m,\u001b[0m \u001b[0mstoch\u001b[0m\u001b[1;33m=\u001b[0m\u001b[0mstoch\u001b[0m\u001b[1;33m)\u001b[0m\u001b[1;33m\u001b[0m\u001b[1;33m\u001b[0m\u001b[0m\n\u001b[0m\u001b[0;32m     41\u001b[0m \u001b[1;33m\u001b[0m\u001b[0m\n\u001b[0;32m     42\u001b[0m         \u001b[0mnext_te\u001b[0m\u001b[1;33m,\u001b[0m \u001b[1;33m(\u001b[0m\u001b[0mh_t\u001b[0m\u001b[1;33m,\u001b[0m \u001b[0mc_t\u001b[0m\u001b[1;33m)\u001b[0m \u001b[1;33m=\u001b[0m \u001b[0magent_te\u001b[0m\u001b[1;33m.\u001b[0m\u001b[0msample_action\u001b[0m\u001b[1;33m(\u001b[0m\u001b[0mx\u001b[0m\u001b[1;33m=\u001b[0m\u001b[0minp\u001b[0m\u001b[1;33m,\u001b[0m \u001b[0mhidden\u001b[0m\u001b[1;33m=\u001b[0m\u001b[1;33m(\u001b[0m\u001b[0mh_t\u001b[0m\u001b[1;33m,\u001b[0m \u001b[0mc_t\u001b[0m\u001b[1;33m)\u001b[0m\u001b[1;33m,\u001b[0m \u001b[0mstoch\u001b[0m\u001b[1;33m=\u001b[0m\u001b[0mstoch\u001b[0m\u001b[1;33m)\u001b[0m\u001b[1;33m\u001b[0m\u001b[1;33m\u001b[0m\u001b[0m\n",
      "\u001b[1;32m~\\Documents\\5th_course\\rl4pm_master\\rl4pm_lib\\agents.py\u001b[0m in \u001b[0;36msample_action\u001b[1;34m(self, x, hidden, stoch)\u001b[0m\n\u001b[0;32m     97\u001b[0m \u001b[1;33m\u001b[0m\u001b[0m\n\u001b[0;32m     98\u001b[0m         \"\"\"\n\u001b[1;32m---> 99\u001b[1;33m         \u001b[0mq_values\u001b[0m\u001b[1;33m,\u001b[0m \u001b[0mhidden\u001b[0m \u001b[1;33m=\u001b[0m \u001b[0mself\u001b[0m\u001b[1;33m.\u001b[0m\u001b[0mnet\u001b[0m\u001b[1;33m(\u001b[0m\u001b[0mx\u001b[0m\u001b[1;33m,\u001b[0m \u001b[0mhidden\u001b[0m\u001b[1;33m)\u001b[0m\u001b[1;33m\u001b[0m\u001b[1;33m\u001b[0m\u001b[0m\n\u001b[0m\u001b[0;32m    100\u001b[0m         \u001b[0mact_idx\u001b[0m \u001b[1;33m=\u001b[0m \u001b[0mself\u001b[0m\u001b[1;33m.\u001b[0m\u001b[0msample_action_from_q\u001b[0m\u001b[1;33m(\u001b[0m\u001b[0mq_values\u001b[0m\u001b[1;33m,\u001b[0m \u001b[0mstoch\u001b[0m\u001b[1;33m=\u001b[0m\u001b[0mstoch\u001b[0m\u001b[1;33m)\u001b[0m\u001b[1;33m\u001b[0m\u001b[1;33m\u001b[0m\u001b[0m\n\u001b[0;32m    101\u001b[0m         \u001b[0mact_idx\u001b[0m \u001b[1;33m=\u001b[0m \u001b[0mact_idx\u001b[0m\u001b[1;33m.\u001b[0m\u001b[0mview\u001b[0m\u001b[1;33m(\u001b[0m\u001b[0mact_idx\u001b[0m\u001b[1;33m.\u001b[0m\u001b[0mshape\u001b[0m\u001b[1;33m[\u001b[0m\u001b[1;36m0\u001b[0m\u001b[1;33m]\u001b[0m\u001b[1;33m)\u001b[0m\u001b[1;33m\u001b[0m\u001b[1;33m\u001b[0m\u001b[0m\n",
      "\u001b[1;32mc:\\users\\pc\\appdata\\local\\programs\\python\\python38\\lib\\site-packages\\torch\\nn\\modules\\module.py\u001b[0m in \u001b[0;36m_call_impl\u001b[1;34m(self, *input, **kwargs)\u001b[0m\n\u001b[0;32m    887\u001b[0m             \u001b[0mresult\u001b[0m \u001b[1;33m=\u001b[0m \u001b[0mself\u001b[0m\u001b[1;33m.\u001b[0m\u001b[0m_slow_forward\u001b[0m\u001b[1;33m(\u001b[0m\u001b[1;33m*\u001b[0m\u001b[0minput\u001b[0m\u001b[1;33m,\u001b[0m \u001b[1;33m**\u001b[0m\u001b[0mkwargs\u001b[0m\u001b[1;33m)\u001b[0m\u001b[1;33m\u001b[0m\u001b[1;33m\u001b[0m\u001b[0m\n\u001b[0;32m    888\u001b[0m         \u001b[1;32melse\u001b[0m\u001b[1;33m:\u001b[0m\u001b[1;33m\u001b[0m\u001b[1;33m\u001b[0m\u001b[0m\n\u001b[1;32m--> 889\u001b[1;33m             \u001b[0mresult\u001b[0m \u001b[1;33m=\u001b[0m \u001b[0mself\u001b[0m\u001b[1;33m.\u001b[0m\u001b[0mforward\u001b[0m\u001b[1;33m(\u001b[0m\u001b[1;33m*\u001b[0m\u001b[0minput\u001b[0m\u001b[1;33m,\u001b[0m \u001b[1;33m**\u001b[0m\u001b[0mkwargs\u001b[0m\u001b[1;33m)\u001b[0m\u001b[1;33m\u001b[0m\u001b[1;33m\u001b[0m\u001b[0m\n\u001b[0m\u001b[0;32m    890\u001b[0m         for hook in itertools.chain(\n\u001b[0;32m    891\u001b[0m                 \u001b[0m_global_forward_hooks\u001b[0m\u001b[1;33m.\u001b[0m\u001b[0mvalues\u001b[0m\u001b[1;33m(\u001b[0m\u001b[1;33m)\u001b[0m\u001b[1;33m,\u001b[0m\u001b[1;33m\u001b[0m\u001b[1;33m\u001b[0m\u001b[0m\n",
      "\u001b[1;32m~\\Documents\\5th_course\\rl4pm_master\\rl4pm_lib\\agents.py\u001b[0m in \u001b[0;36mforward\u001b[1;34m(self, x, h)\u001b[0m\n\u001b[0;32m     56\u001b[0m             \u001b[0mh\u001b[0m \u001b[1;33m=\u001b[0m \u001b[1;33m(\u001b[0m\u001b[0mh_te\u001b[0m\u001b[1;33m,\u001b[0m \u001b[0mc_te\u001b[0m\u001b[1;33m)\u001b[0m\u001b[1;33m\u001b[0m\u001b[1;33m\u001b[0m\u001b[0m\n\u001b[0;32m     57\u001b[0m             \u001b[0mx\u001b[0m\u001b[1;33m,\u001b[0m \u001b[0mh\u001b[0m \u001b[1;33m=\u001b[0m \u001b[0mself\u001b[0m\u001b[1;33m.\u001b[0m\u001b[0mlstm\u001b[0m\u001b[1;33m(\u001b[0m\u001b[0mx\u001b[0m\u001b[1;33m,\u001b[0m \u001b[0mh\u001b[0m\u001b[1;33m)\u001b[0m\u001b[1;33m\u001b[0m\u001b[1;33m\u001b[0m\u001b[0m\n\u001b[1;32m---> 58\u001b[1;33m         \u001b[0mx\u001b[0m\u001b[1;33m,\u001b[0m \u001b[0mh\u001b[0m \u001b[1;33m=\u001b[0m \u001b[0mself\u001b[0m\u001b[1;33m.\u001b[0m\u001b[0mlstm\u001b[0m\u001b[1;33m(\u001b[0m\u001b[0mx\u001b[0m\u001b[1;33m,\u001b[0m \u001b[0mh\u001b[0m\u001b[1;33m)\u001b[0m\u001b[1;33m\u001b[0m\u001b[1;33m\u001b[0m\u001b[0m\n\u001b[0m\u001b[0;32m     59\u001b[0m         \u001b[0mx\u001b[0m \u001b[1;33m=\u001b[0m \u001b[0mself\u001b[0m\u001b[1;33m.\u001b[0m\u001b[0mrelu\u001b[0m\u001b[1;33m(\u001b[0m\u001b[0mx\u001b[0m\u001b[1;33m)\u001b[0m\u001b[1;33m\u001b[0m\u001b[1;33m\u001b[0m\u001b[0m\n\u001b[0;32m     60\u001b[0m         \u001b[0mx\u001b[0m \u001b[1;33m=\u001b[0m \u001b[0mself\u001b[0m\u001b[1;33m.\u001b[0m\u001b[0mfc\u001b[0m\u001b[1;33m(\u001b[0m\u001b[0mx\u001b[0m\u001b[1;33m)\u001b[0m\u001b[1;33m\u001b[0m\u001b[1;33m\u001b[0m\u001b[0m\n",
      "\u001b[1;32mc:\\users\\pc\\appdata\\local\\programs\\python\\python38\\lib\\site-packages\\torch\\nn\\modules\\module.py\u001b[0m in \u001b[0;36m_call_impl\u001b[1;34m(self, *input, **kwargs)\u001b[0m\n\u001b[0;32m    887\u001b[0m             \u001b[0mresult\u001b[0m \u001b[1;33m=\u001b[0m \u001b[0mself\u001b[0m\u001b[1;33m.\u001b[0m\u001b[0m_slow_forward\u001b[0m\u001b[1;33m(\u001b[0m\u001b[1;33m*\u001b[0m\u001b[0minput\u001b[0m\u001b[1;33m,\u001b[0m \u001b[1;33m**\u001b[0m\u001b[0mkwargs\u001b[0m\u001b[1;33m)\u001b[0m\u001b[1;33m\u001b[0m\u001b[1;33m\u001b[0m\u001b[0m\n\u001b[0;32m    888\u001b[0m         \u001b[1;32melse\u001b[0m\u001b[1;33m:\u001b[0m\u001b[1;33m\u001b[0m\u001b[1;33m\u001b[0m\u001b[0m\n\u001b[1;32m--> 889\u001b[1;33m             \u001b[0mresult\u001b[0m \u001b[1;33m=\u001b[0m \u001b[0mself\u001b[0m\u001b[1;33m.\u001b[0m\u001b[0mforward\u001b[0m\u001b[1;33m(\u001b[0m\u001b[1;33m*\u001b[0m\u001b[0minput\u001b[0m\u001b[1;33m,\u001b[0m \u001b[1;33m**\u001b[0m\u001b[0mkwargs\u001b[0m\u001b[1;33m)\u001b[0m\u001b[1;33m\u001b[0m\u001b[1;33m\u001b[0m\u001b[0m\n\u001b[0m\u001b[0;32m    890\u001b[0m         for hook in itertools.chain(\n\u001b[0;32m    891\u001b[0m                 \u001b[0m_global_forward_hooks\u001b[0m\u001b[1;33m.\u001b[0m\u001b[0mvalues\u001b[0m\u001b[1;33m(\u001b[0m\u001b[1;33m)\u001b[0m\u001b[1;33m,\u001b[0m\u001b[1;33m\u001b[0m\u001b[1;33m\u001b[0m\u001b[0m\n",
      "\u001b[1;32mc:\\users\\pc\\appdata\\local\\programs\\python\\python38\\lib\\site-packages\\torch\\nn\\modules\\rnn.py\u001b[0m in \u001b[0;36mforward\u001b[1;34m(self, input, hx)\u001b[0m\n\u001b[0;32m    659\u001b[0m         \u001b[0mself\u001b[0m\u001b[1;33m.\u001b[0m\u001b[0mcheck_forward_args\u001b[0m\u001b[1;33m(\u001b[0m\u001b[0minput\u001b[0m\u001b[1;33m,\u001b[0m \u001b[0mhx\u001b[0m\u001b[1;33m,\u001b[0m \u001b[0mbatch_sizes\u001b[0m\u001b[1;33m)\u001b[0m\u001b[1;33m\u001b[0m\u001b[1;33m\u001b[0m\u001b[0m\n\u001b[0;32m    660\u001b[0m         \u001b[1;32mif\u001b[0m \u001b[0mbatch_sizes\u001b[0m \u001b[1;32mis\u001b[0m \u001b[1;32mNone\u001b[0m\u001b[1;33m:\u001b[0m\u001b[1;33m\u001b[0m\u001b[1;33m\u001b[0m\u001b[0m\n\u001b[1;32m--> 661\u001b[1;33m             result = _VF.lstm(input, hx, self._flat_weights, self.bias, self.num_layers,\n\u001b[0m\u001b[0;32m    662\u001b[0m                               self.dropout, self.training, self.bidirectional, self.batch_first)\n\u001b[0;32m    663\u001b[0m         \u001b[1;32melse\u001b[0m\u001b[1;33m:\u001b[0m\u001b[1;33m\u001b[0m\u001b[1;33m\u001b[0m\u001b[0m\n",
      "\u001b[1;31mKeyboardInterrupt\u001b[0m: "
     ]
    }
   ],
   "source": [
    "times = []\n",
    "for _ in range(1):    \n",
    "    replay_memory = replay_buffer.ReplayMemory(memory_size, n_traces)\n",
    "    agency = agencies.Agency(input_size=9 * 2, hidden=hidden, n_lstm=1, te_intervals=te_intervals, ac_learning_rate=1e-3,\n",
    "                             te_learning_rate=1e-3, n_classes=n_classes, discount_factor=0.7)\n",
    "    wtf = []\n",
    "    te_rewards = []\n",
    "    ac_rewards = []\n",
    "    nn_rewards = []\n",
    "    losses_ac = []\n",
    "    losses_te = []\n",
    "    loc_te_rews = []\n",
    "    loc_ac_rews = []\n",
    "    loc_n_ = []\n",
    "    grad_step_count = 0\n",
    "    start_t = time.time()\n",
    "    for epoch in range(100):\n",
    "        te_rw = 0\n",
    "        ac_rw = 0\n",
    "        n = 0\n",
    "        for _i in range(n_envs):\n",
    "            print(f'{_i+1}/{n_envs}', end='\\r')\n",
    "            _ = envirs[_i].reset()\n",
    "            with torch.no_grad():\n",
    "                _episode_te_rew, _episode_ac_rew, n_ep = utils.play_and_record(agency.te_agent, agency.ac_agent,\n",
    "                                                                               envirs[_i], replay_memory,\n",
    "                                                                               process_dvice=cpu, dest_device=cpu,\n",
    "                                                                               stoch=False\n",
    "                                                                              )\n",
    "\n",
    "            if (n_ep < _episode_ac_rew) | (n_ep < _episode_te_rew):\n",
    "                wtf.append(len(loc_te_rews))\n",
    "            loc_te_rews.append(_episode_te_rew)\n",
    "            loc_ac_rews.append(_episode_ac_rew)\n",
    "            loc_n_.append(n_ep)\n",
    "            te_rw += _episode_te_rew\n",
    "            ac_rw += _episode_ac_rew\n",
    "            n += n_ep\n",
    "            if replay_memory.is_full():\n",
    "                agency.to(device)\n",
    "                ep_te_loss, ep_ac_loss = agency.train(replay_memory, batch_size)\n",
    "                grad_step_count += 1\n",
    "\n",
    "                losses_ac.append(ep_ac_loss)\n",
    "                losses_te.append(ep_te_loss)\n",
    "            # print(ep_te_rew, ep_te_rew, n_samples)\n",
    "\n",
    "        agency.to(device)\n",
    "        ep_te_loss, ep_ac_loss = agency.train(replay_memory, batch_size)\n",
    "        te_rewards.append(te_rw / n)\n",
    "        ac_rewards.append(ac_rw / n)\n",
    "        nn_rewards.append(n)\n",
    "        grad_step_count += 1\n",
    "        if grad_step_count % refresh_every == 0:\n",
    "            agency.refresh_target(pol_avg)\n",
    "\n",
    "        display.clear_output(wait=True)\n",
    "        utils.plot_laerning_process(te_rewards, ac_rewards, losses_te, losses_ac)\n",
    "        \n",
    "    times.append(time.time() - start_t)    "
   ]
  }
 ],
 "metadata": {
  "kernelspec": {
   "display_name": "Python 3",
   "language": "python",
   "name": "python3"
  },
  "language_info": {
   "codemirror_mode": {
    "name": "ipython",
    "version": 3
   },
   "file_extension": ".py",
   "mimetype": "text/x-python",
   "name": "python",
   "nbconvert_exporter": "python",
   "pygments_lexer": "ipython3",
   "version": "3.8.6"
  }
 },
 "nbformat": 4,
 "nbformat_minor": 4
}
