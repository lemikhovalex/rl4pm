{
 "cells": [
  {
   "cell_type": "code",
   "execution_count": 1,
   "metadata": {},
   "outputs": [],
   "source": [
    "import pm4py\n",
    "import pandas as pd\n",
    "import datetime\n",
    "from math import ceil\n",
    "import matplotlib.pyplot as plt\n",
    "import torch\n",
    "import numpy as np\n",
    "import gym\n",
    "from importlib import reload\n",
    "import random\n",
    "from random import shuffle\n",
    "\n",
    "import rl4pm_lib.preprocessing as preprocessing\n",
    "reload(preprocessing)\n",
    "from IPython import display"
   ]
  },
  {
   "cell_type": "code",
   "execution_count": 2,
   "metadata": {},
   "outputs": [],
   "source": [
    "device = torch.device(\"cuda:0\" if torch.cuda.is_available() else \"cpu\")"
   ]
  },
  {
   "cell_type": "code",
   "execution_count": 3,
   "metadata": {},
   "outputs": [],
   "source": [
    "cpu = torch.device(\"cpu\")"
   ]
  },
  {
   "cell_type": "markdown",
   "metadata": {},
   "source": [
    "# Data\n",
    "## Download and read\n",
    "- Download `.xes` file(archive) from [here](https://data.4tu.nl/articles/dataset/BPI_Challenge_2012/12689204)\n",
    "- Read this `.xes`\n",
    "- Convert to good old `.csv`\n",
    "\n",
    "## Drop data\n",
    "In the article only (activity, time_stamp) is used. Also leave trace id"
   ]
  },
  {
   "cell_type": "code",
   "execution_count": 4,
   "metadata": {},
   "outputs": [],
   "source": [
    "try:\n",
    "    df = pd.read_csv('bpi_12_preprocessed.csv')\n",
    "    \n",
    "except FileNotFoundError:\n",
    "    file_path = 'BPI_Challenge_2012.xes'\n",
    "    event_log = pm4py.read_xes(file_path)\n",
    "    start_activities = pm4py.get_start_activities(event_log)\n",
    "    end_activities = pm4py.get_end_activities(event_log)\n",
    "    df = pm4py.convert_to_dataframe(event_log)\n",
    "    df = df[['time:timestamp', 'case:concept:name', 'concept:name']]\n",
    "    df = df.rename(columns={'time:timestamp': 'timestamp', 'case:concept:name': 'trace_id', 'concept:name': 'activity'})\n",
    "    df['trace_id'] = df['trace_id'].apply(lambda x: int(x))\n",
    "    df.to_csv('bpi_12.csv', index=False)\n",
    "    prepro = preprocessing.DfPreprocesser()\n",
    "    prepro.fit(df)\n",
    "    df = prepro.transform(df)\n",
    "    df.to_csv('bpi_12_preprocessed.csv', index=False)"
   ]
  },
  {
   "cell_type": "code",
   "execution_count": 5,
   "metadata": {},
   "outputs": [
    {
     "data": {
      "text/plain": [
       "24"
      ]
     },
     "execution_count": 5,
     "metadata": {},
     "output_type": "execute_result"
    }
   ],
   "source": [
    "n_classes = df.drop(columns=['te', 'tw', 'tt', 'trace_id']).shape[1]\n",
    "n_classes"
   ]
  },
  {
   "cell_type": "code",
   "execution_count": 6,
   "metadata": {},
   "outputs": [],
   "source": [
    "window_size = 2"
   ]
  },
  {
   "cell_type": "markdown",
   "metadata": {},
   "source": [
    "## Time-related features\n",
    "\n",
    "- $t_{w}$ - time passed between Sunday midnight and the event\n",
    "- $t_e$ - time passed between the completion of the given event and the completion of the previous one\n",
    "- $t_t$ - time passed between the start of the trace and the given event\n"
   ]
  },
  {
   "cell_type": "markdown",
   "metadata": {},
   "source": [
    "## Scaling\n",
    "env will scale time-related features"
   ]
  },
  {
   "cell_type": "code",
   "execution_count": 7,
   "metadata": {},
   "outputs": [],
   "source": [
    "column_feature = {'te': 0, 'tt': 1, 'tw': 2}\n",
    "scaler = preprocessing.PaperScaler(column_features=column_feature)\n",
    "scaler.fit(df)"
   ]
  },
  {
   "cell_type": "markdown",
   "metadata": {},
   "source": [
    "## Environment\n",
    "Ther given scheme is the following:\n",
    "- recieving window of $(a_i,\\ t_{e,\\ i},\\ t_{w,\\ i},\\ t_{t,\\ i}) = e_i$. So the input to model is $\\{ e_{i},\\ e_{i-1},\\ \\dots,\\ e_{i-ws} \\}$ \n",
    "- prodice $\\hat{e}_{i+1}$\n",
    "- predict $\\hat{e}_{i+2}$ using $\\{ \\hat{e}_{i+1},\\ e_{i},\\ \\dots,\\ e_{i-ws +1} \\}$\n",
    "The metric is calculated by `environment`. It returns rewards for time prediction and for next step classifiation. So basicly `env` just stores data of trace. "
   ]
  },
  {
   "cell_type": "code",
   "execution_count": 8,
   "metadata": {},
   "outputs": [],
   "source": [
    "te_key_times = [0., 1., 10., 60., 120., 240., 480., 1440., 2880., 4320.,\n",
    "                7200., 10080., 14400., 20160., 30240., 40320., 50400.]\n",
    "te_intervals = [(te_key_times[i], te_key_times[i+1])\n",
    "             for i in range(len(te_key_times)-1)]"
   ]
  },
  {
   "cell_type": "markdown",
   "metadata": {},
   "source": [
    "```python\n",
    "input = (n_traces, max_len, features) # nn.LSTM(..., batch_first=True)\n",
    "```"
   ]
  },
  {
   "cell_type": "markdown",
   "metadata": {},
   "source": [
    "```python\n",
    "output = out, (h, c)\n",
    "out.shape = (n_traces, max_len, features) # nn.LSTM(..., batch_first=True)\n",
    "```"
   ]
  },
  {
   "cell_type": "code",
   "execution_count": 9,
   "metadata": {},
   "outputs": [],
   "source": [
    "from rl4pm_lib import envs, utils\n",
    "reload(envs)\n",
    "reload(utils)\n",
    "traces = list(set(df['trace_id'].values))\n",
    "traces_len = {}\n",
    "for t in traces:\n",
    "    trace_len = df[df['trace_id'] == t].shape[0]\n",
    "    if trace_len > window_size:\n",
    "        traces_len[t] = df[df['trace_id'] == t].shape[0]\n",
    "\n",
    "    \n",
    "traces_len_sorted = dict(sorted(traces_len.items(), key=lambda item: item[1]))\n",
    "traces = list(traces_len_sorted.keys())"
   ]
  },
  {
   "cell_type": "code",
   "execution_count": 10,
   "metadata": {},
   "outputs": [
    {
     "data": {
      "text/plain": [
       "[[6, 7, 8], [3, 4, 5], [1, 2, None]]"
      ]
     },
     "execution_count": 10,
     "metadata": {},
     "output_type": "execute_result"
    }
   ],
   "source": [
    "utils.split_to_fixed_bucket([1, 2, 3, 4, 5, 6, 7, 8], 3)"
   ]
  },
  {
   "cell_type": "code",
   "execution_count": 11,
   "metadata": {},
   "outputs": [],
   "source": [
    "import time"
   ]
  },
  {
   "cell_type": "code",
   "execution_count": 13,
   "metadata": {},
   "outputs": [
    {
     "name": "stdout",
     "output_type": "stream",
     "text": [
      "52/52\r"
     ]
    }
   ],
   "source": [
    "from rl4pm_lib import envs, utils\n",
    "reload(envs)\n",
    "reload(utils)\n",
    "traces = list(set(df['trace_id'].values))\n",
    "shuffle(traces)\n",
    "# traces = traces[:2048]\n",
    "n_traces = 256\n",
    "\n",
    "ix_4_envs = utils.split_to_fixed_bucket(traces, n_traces)\n",
    "n_envs = len(ix_4_envs)\n",
    "envirs = []\n",
    "for _i in range(n_envs):\n",
    "    print(f'{_i+1}/{n_envs}', end='\\r')\n",
    "    env_matrix = utils.get_traces_matrix(df, ix_4_envs[_i])\n",
    "    envirs.append(envs.PMEnvOneStepCons(data=env_matrix, intervals_te_rew=te_intervals, column_to_time_features=column_feature,\n",
    "                             window_size=window_size, scaler=scaler\n",
    "                            )\n",
    "               )"
   ]
  },
  {
   "cell_type": "code",
   "execution_count": 14,
   "metadata": {},
   "outputs": [],
   "source": [
    "from rl4pm_lib import replay_buffer, agents, agencies\n",
    "reload(agents)\n",
    "reload(agencies)\n",
    "batch_size = 2 ** 10\n",
    "memory_size = 2 ** 14\n",
    "hidden = 128\n",
    "pol_avg = 0.01\n",
    "refresh_every = 1"
   ]
  },
  {
   "cell_type": "markdown",
   "metadata": {},
   "source": [
    "$x^t = \\{ (a^{t},\\ t_e^{t},\\ t_w^{t},\\ t_t^{t}),\\ (a^{t-1},\\ t_e^{t-1}, \\dots), \\dots \\} = \\{y^{t}, y^{t-1}, \\dots \\}$\n",
    "\n",
    "$\\hat{y}^{t+1} = \\{ \\hat{a}^{t+1}, \\hat{t}_e^{t+1}, \\dots \\}$\n",
    "\n",
    "$x^{t+1} = \\{y^{t+1}, \\hat{y}^{t}, \\dots \\}$\n",
    "\n",
    "$x^{t+2} = \\{y^{t+2}, y^{t+1}, \\dots \\}$"
   ]
  },
  {
   "cell_type": "code",
   "execution_count": 16,
   "metadata": {
    "scrolled": false
   },
   "outputs": [
    {
     "data": {
      "image/png": "[encoded data removed]",
      "text/plain": [
       "<Figure size 1152x576 with 4 Axes>"
      ]
     },
     "metadata": {
      "needs_background": "light"
     },
     "output_type": "display_data"
    }
   ],
   "source": [
    "times = []\n",
    "for _ in range(7):\n",
    "    replay_memory = replay_buffer.ReplayMemory(memory_size, n_traces)\n",
    "    agency = agencies.Agency(input_size=27 * 2, hidden=hidden, n_lstm=1, te_intervals=te_intervals, ac_learning_rate=1e-3,\n",
    "                             te_learning_rate=1e-3, n_classes=n_classes, discount_factor=0.9)\n",
    "    wtf = []\n",
    "    te_rewards = []\n",
    "    ac_rewards = []\n",
    "    nn_rewards = []\n",
    "    losses_ac = []\n",
    "    losses_te = []\n",
    "    loc_te_rews = []\n",
    "    loc_ac_rews = []\n",
    "    loc_n_ = []\n",
    "    grad_step_count = 0\n",
    "    start_t = time.time()\n",
    "    for epoch in range(3):\n",
    "        te_rw = 0\n",
    "        ac_rw = 0\n",
    "        n = 0\n",
    "        for _i in range(n_envs):\n",
    "            print(f'{_i+1}/{n_envs}', end='\\r')\n",
    "            _ = envirs[_i].reset()\n",
    "            with torch.no_grad():\n",
    "                _episode_te_rew, _episode_ac_rew, n_ep = utils.play_and_record(agency.te_agent, agency.ac_agent,\n",
    "                                                                               envirs[_i], replay_memory,\n",
    "                                                                               process_dvice=cpu, dest_device=cpu,\n",
    "                                                                               stoch=False\n",
    "                                                                              )\n",
    "\n",
    "            if (n_ep.sum() < _episode_ac_rew) | (n_ep.sum() < _episode_te_rew):\n",
    "                wtf.append(len(loc_te_rews))\n",
    "            loc_te_rews.append(_episode_te_rew)\n",
    "            loc_ac_rews.append(_episode_ac_rew)\n",
    "            loc_n_.append(n_ep)\n",
    "            te_rw += _episode_te_rew\n",
    "            ac_rw += _episode_ac_rew\n",
    "            n += n_ep\n",
    "            if replay_memory.is_full():\n",
    "                agency.to(device)\n",
    "                ep_te_loss, ep_ac_loss = agency.train(replay_memory, batch_size)\n",
    "                grad_step_count += 1\n",
    "                agency.refresh_target(pol_avg)\n",
    "                losses_ac.append(ep_ac_loss)\n",
    "                losses_te.append(ep_te_loss)\n",
    "            # print(ep_te_rew, ep_te_rew, n_samples)\n",
    "\n",
    "        te_rewards.append(te_rw / n)\n",
    "        ac_rewards.append(ac_rw / n)\n",
    "\n",
    "        agency.to(device)\n",
    "        ep_te_loss, ep_ac_loss = agency.train(replay_memory, batch_size)\n",
    "        losses_ac.append(ep_ac_loss)\n",
    "        losses_te.append(ep_te_loss)\n",
    "        nn_rewards.append(n)\n",
    "        grad_step_count += 1\n",
    "        agency.refresh_target(pol_avg)\n",
    "\n",
    "        display.clear_output(wait=True)\n",
    "        utils.plot_laerning_process(te_rewards, ac_rewards, losses_te, losses_ac)\n",
    "        times.append(time.time() - start_t)\n"
   ]
  },
  {
   "cell_type": "code",
   "execution_count": 17,
   "metadata": {},
   "outputs": [
    {
     "name": "stdout",
     "output_type": "stream",
     "text": [
      "time for numpy all rxcept agent = 118.95910289174034 +- 15.039425985981511 ms\n"
     ]
    }
   ],
   "source": [
    "np_times = np.array(times)\n",
    "print(f'time for numpy all rxcept agent = {np_times.mean()} +- {np_times.std() / np.sqrt(len(np_times))} ms')"
   ]
  },
  {
   "cell_type": "code",
   "execution_count": null,
   "metadata": {},
   "outputs": [],
   "source": []
  },
  {
   "cell_type": "code",
   "execution_count": null,
   "metadata": {},
   "outputs": [],
   "source": []
  },
  {
   "cell_type": "code",
   "execution_count": null,
   "metadata": {},
   "outputs": [],
   "source": []
  },
  {
   "cell_type": "code",
   "execution_count": null,
   "metadata": {},
   "outputs": [],
   "source": []
  }
 ],
 "metadata": {
  "kernelspec": {
   "display_name": "Python 3",
   "language": "python",
   "name": "python3"
  },
  "language_info": {
   "codemirror_mode": {
    "name": "ipython",
    "version": 3
   },
   "file_extension": ".py",
   "mimetype": "text/x-python",
   "name": "python",
   "nbconvert_exporter": "python",
   "pygments_lexer": "ipython3",
   "version": "3.8.6"
  }
 },
 "nbformat": 4,
 "nbformat_minor": 4
}
