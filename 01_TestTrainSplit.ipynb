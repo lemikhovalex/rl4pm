{
 "cells": [
  {
   "cell_type": "markdown",
   "metadata": {},
   "source": [
    "Ok, let's check capabilities of SkLearn befere using NNs\n",
    "\n",
    "Which method to use? Of course ones that enlisted [here](https://github.com/lemikhovalex/DA_CV) (repo for ML classes at MIPT)\n",
    "## Preprocess data\n",
    "But before using data let's create features and labels\n",
    "\n",
    "The following features are to be created, accoarding to papers about LSTM:\n",
    "- $t_{w}$ - time passed between Sunday midnight and the event\n",
    "- $t_{e}$ - time passed between the completion of the given event and the completion of the previous one\n",
    "- $t_{t}$ - time passed between the start of the trace and the given event\n",
    "- one-hot-encoded labels\n",
    "- make smth like n-gramm, but for process and use it as features\n",
    "\n",
    "### Test train split\n",
    "Ok it seems to be rational not to take random transitions, but whole traces, cause `n-gramm` preprocessing will be conducted natively, if data is provided as a sequence"
   ]
  },
  {
   "cell_type": "code",
   "execution_count": 1,
   "metadata": {},
   "outputs": [],
   "source": [
    "import pandas as pd\n",
    "import datetime\n",
    "import random"
   ]
  },
  {
   "cell_type": "code",
   "execution_count": 2,
   "metadata": {},
   "outputs": [],
   "source": [
    "df = pd.read_csv('datasets/bpi_12.csv')\n",
    "df['timestamp'] = df['timestamp'].apply(lambda x: datetime.datetime.fromisoformat(x))"
   ]
  },
  {
   "cell_type": "code",
   "execution_count": 3,
   "metadata": {},
   "outputs": [
    {
     "data": {
      "text/html": [
       "<div>\n",
       "<style scoped>\n",
       "    .dataframe tbody tr th:only-of-type {\n",
       "        vertical-align: middle;\n",
       "    }\n",
       "\n",
       "    .dataframe tbody tr th {\n",
       "        vertical-align: top;\n",
       "    }\n",
       "\n",
       "    .dataframe thead th {\n",
       "        text-align: right;\n",
       "    }\n",
       "</style>\n",
       "<table border=\"1\" class=\"dataframe\">\n",
       "  <thead>\n",
       "    <tr style=\"text-align: right;\">\n",
       "      <th></th>\n",
       "      <th>timestamp</th>\n",
       "      <th>trace_id</th>\n",
       "      <th>activity</th>\n",
       "    </tr>\n",
       "  </thead>\n",
       "  <tbody>\n",
       "    <tr>\n",
       "      <th>0</th>\n",
       "      <td>2011-10-01 00:38:44.546000+02:00</td>\n",
       "      <td>173688</td>\n",
       "      <td>A_SUBMITTED</td>\n",
       "    </tr>\n",
       "    <tr>\n",
       "      <th>1</th>\n",
       "      <td>2011-10-01 00:38:44.880000+02:00</td>\n",
       "      <td>173688</td>\n",
       "      <td>A_PARTLYSUBMITTED</td>\n",
       "    </tr>\n",
       "    <tr>\n",
       "      <th>2</th>\n",
       "      <td>2011-10-01 00:39:37.906000+02:00</td>\n",
       "      <td>173688</td>\n",
       "      <td>A_PREACCEPTED</td>\n",
       "    </tr>\n",
       "    <tr>\n",
       "      <th>3</th>\n",
       "      <td>2011-10-01 11:42:43.308000+02:00</td>\n",
       "      <td>173688</td>\n",
       "      <td>A_ACCEPTED</td>\n",
       "    </tr>\n",
       "    <tr>\n",
       "      <th>4</th>\n",
       "      <td>2011-10-01 11:45:09.243000+02:00</td>\n",
       "      <td>173688</td>\n",
       "      <td>O_SELECTED</td>\n",
       "    </tr>\n",
       "    <tr>\n",
       "      <th>...</th>\n",
       "      <td>...</td>\n",
       "      <td>...</td>\n",
       "      <td>...</td>\n",
       "    </tr>\n",
       "    <tr>\n",
       "      <th>164501</th>\n",
       "      <td>2012-03-10 12:50:54.881000+01:00</td>\n",
       "      <td>214373</td>\n",
       "      <td>W_Nabellen offertes</td>\n",
       "    </tr>\n",
       "    <tr>\n",
       "      <th>164502</th>\n",
       "      <td>2012-02-29 23:51:16.799000+01:00</td>\n",
       "      <td>214376</td>\n",
       "      <td>A_SUBMITTED</td>\n",
       "    </tr>\n",
       "    <tr>\n",
       "      <th>164503</th>\n",
       "      <td>2012-02-29 23:51:17.423000+01:00</td>\n",
       "      <td>214376</td>\n",
       "      <td>A_PARTLYSUBMITTED</td>\n",
       "    </tr>\n",
       "    <tr>\n",
       "      <th>164504</th>\n",
       "      <td>2012-03-01 09:27:37.118000+01:00</td>\n",
       "      <td>214376</td>\n",
       "      <td>A_DECLINED</td>\n",
       "    </tr>\n",
       "    <tr>\n",
       "      <th>164505</th>\n",
       "      <td>2012-03-01 09:27:41.325000+01:00</td>\n",
       "      <td>214376</td>\n",
       "      <td>W_Afhandelen leads</td>\n",
       "    </tr>\n",
       "  </tbody>\n",
       "</table>\n",
       "<p>164506 rows × 3 columns</p>\n",
       "</div>"
      ],
      "text/plain": [
       "                               timestamp  trace_id             activity\n",
       "0       2011-10-01 00:38:44.546000+02:00    173688          A_SUBMITTED\n",
       "1       2011-10-01 00:38:44.880000+02:00    173688    A_PARTLYSUBMITTED\n",
       "2       2011-10-01 00:39:37.906000+02:00    173688        A_PREACCEPTED\n",
       "3       2011-10-01 11:42:43.308000+02:00    173688           A_ACCEPTED\n",
       "4       2011-10-01 11:45:09.243000+02:00    173688           O_SELECTED\n",
       "...                                  ...       ...                  ...\n",
       "164501  2012-03-10 12:50:54.881000+01:00    214373  W_Nabellen offertes\n",
       "164502  2012-02-29 23:51:16.799000+01:00    214376          A_SUBMITTED\n",
       "164503  2012-02-29 23:51:17.423000+01:00    214376    A_PARTLYSUBMITTED\n",
       "164504  2012-03-01 09:27:37.118000+01:00    214376           A_DECLINED\n",
       "164505  2012-03-01 09:27:41.325000+01:00    214376   W_Afhandelen leads\n",
       "\n",
       "[164506 rows x 3 columns]"
      ]
     },
     "execution_count": 3,
     "metadata": {},
     "output_type": "execute_result"
    }
   ],
   "source": [
    "df"
   ]
  },
  {
   "cell_type": "markdown",
   "metadata": {},
   "source": [
    "Also dont want to deal with short traces - composing features as window will fail it("
   ]
  },
  {
   "cell_type": "code",
   "execution_count": 4,
   "metadata": {},
   "outputs": [
    {
     "name": "stdout",
     "output_type": "stream",
     "text": [
      "There are 13087 traces\n"
     ]
    }
   ],
   "source": [
    "traces = list(set(df['trace_id']))\n",
    "print(f'There are {len(traces)} traces')\n",
    "traces_len = {trace_id: df[df['trace_id'] == trace_id].shape[0] for trace_id in traces}\n",
    "traces_time = {}\n",
    "for trace_id in traces:\n",
    "    _df = df[df['trace_id'] == trace_id]\n",
    "    if _df.shape[0] > 7:\n",
    "        traces_time[trace_id] = (_df['timestamp'].max() - _df['timestamp'].min()).total_seconds()\n",
    "traces_time = pd.DataFrame({'trace_id': list(traces_time.keys()), 'tt': list(traces_time.values())})\n",
    "traces_time.sort_values(by=['tt'], inplace=True)"
   ]
  },
  {
   "cell_type": "code",
   "execution_count": 5,
   "metadata": {},
   "outputs": [
    {
     "data": {
      "text/html": [
       "<div>\n",
       "<style scoped>\n",
       "    .dataframe tbody tr th:only-of-type {\n",
       "        vertical-align: middle;\n",
       "    }\n",
       "\n",
       "    .dataframe tbody tr th {\n",
       "        vertical-align: top;\n",
       "    }\n",
       "\n",
       "    .dataframe thead th {\n",
       "        text-align: right;\n",
       "    }\n",
       "</style>\n",
       "<table border=\"1\" class=\"dataframe\">\n",
       "  <thead>\n",
       "    <tr style=\"text-align: right;\">\n",
       "      <th></th>\n",
       "      <th>trace_id</th>\n",
       "      <th>tt</th>\n",
       "    </tr>\n",
       "  </thead>\n",
       "  <tbody>\n",
       "    <tr>\n",
       "      <th>2941</th>\n",
       "      <td>210755</td>\n",
       "      <td>507.914</td>\n",
       "    </tr>\n",
       "    <tr>\n",
       "      <th>3755</th>\n",
       "      <td>180547</td>\n",
       "      <td>708.375</td>\n",
       "    </tr>\n",
       "    <tr>\n",
       "      <th>4674</th>\n",
       "      <td>185461</td>\n",
       "      <td>789.907</td>\n",
       "    </tr>\n",
       "    <tr>\n",
       "      <th>2455</th>\n",
       "      <td>176392</td>\n",
       "      <td>896.478</td>\n",
       "    </tr>\n",
       "    <tr>\n",
       "      <th>6251</th>\n",
       "      <td>196428</td>\n",
       "      <td>953.681</td>\n",
       "    </tr>\n",
       "  </tbody>\n",
       "</table>\n",
       "</div>"
      ],
      "text/plain": [
       "      trace_id       tt\n",
       "2941    210755  507.914\n",
       "3755    180547  708.375\n",
       "4674    185461  789.907\n",
       "2455    176392  896.478\n",
       "6251    196428  953.681"
      ]
     },
     "execution_count": 5,
     "metadata": {},
     "output_type": "execute_result"
    }
   ],
   "source": [
    "traces_time.head()"
   ]
  },
  {
   "cell_type": "markdown",
   "metadata": {},
   "source": [
    "Let's calculate 4 equivalent quantiles 4 trace length distribution and sample 30% from each"
   ]
  },
  {
   "cell_type": "code",
   "execution_count": 6,
   "metadata": {},
   "outputs": [],
   "source": [
    "n_qs = 4\n",
    "sh = traces_time.shape[0]\n",
    "qs = [0.]\n",
    "qs.extend([traces_time[_i * sh // n_qs: (_i + 1) * sh // n_qs]['tt'].max() for _i in range(n_qs)])"
   ]
  },
  {
   "cell_type": "code",
   "execution_count": 7,
   "metadata": {},
   "outputs": [],
   "source": [
    "test_ids = []\n",
    "test_relative = 0.25\n",
    "for _i in range(n_qs):\n",
    "    _lb_cond = (traces_time['tt'] > qs[_i])\n",
    "    _rb_cond = (traces_time['tt'] <= qs[_i+1])\n",
    "    _cond = _lb_cond & _rb_cond\n",
    "    _pop = traces_time[_cond]['trace_id'].values.tolist()\n",
    "    test_ids.extend(random.sample(population=_pop,\n",
    "                                  k=int(len(_pop) * test_relative)\n",
    "                                 )\n",
    "                   )"
   ]
  },
  {
   "cell_type": "code",
   "execution_count": 8,
   "metadata": {},
   "outputs": [
    {
     "name": "stdout",
     "output_type": "stream",
     "text": [
      "There are 1568 traces for test\n"
     ]
    }
   ],
   "source": [
    "print(f'There are {len(test_ids)} traces for test')"
   ]
  },
  {
   "cell_type": "code",
   "execution_count": 9,
   "metadata": {},
   "outputs": [],
   "source": [
    "train_ids = traces\n",
    "for _test_id in test_ids:\n",
    "    train_ids.remove(_test_id)"
   ]
  },
  {
   "cell_type": "code",
   "execution_count": 10,
   "metadata": {},
   "outputs": [
    {
     "name": "stdout",
     "output_type": "stream",
     "text": [
      "There are 11519 traces for train\n"
     ]
    }
   ],
   "source": [
    "print(f'There are {len(train_ids)} traces for train')"
   ]
  },
  {
   "cell_type": "code",
   "execution_count": 11,
   "metadata": {},
   "outputs": [
    {
     "data": {
      "text/html": [
       "<div>\n",
       "<style scoped>\n",
       "    .dataframe tbody tr th:only-of-type {\n",
       "        vertical-align: middle;\n",
       "    }\n",
       "\n",
       "    .dataframe tbody tr th {\n",
       "        vertical-align: top;\n",
       "    }\n",
       "\n",
       "    .dataframe thead th {\n",
       "        text-align: right;\n",
       "    }\n",
       "</style>\n",
       "<table border=\"1\" class=\"dataframe\">\n",
       "  <thead>\n",
       "    <tr style=\"text-align: right;\">\n",
       "      <th></th>\n",
       "      <th>timestamp</th>\n",
       "      <th>trace_id</th>\n",
       "      <th>activity</th>\n",
       "    </tr>\n",
       "  </thead>\n",
       "  <tbody>\n",
       "    <tr>\n",
       "      <th>0</th>\n",
       "      <td>2011-10-01 00:38:44.546000+02:00</td>\n",
       "      <td>173688</td>\n",
       "      <td>A_SUBMITTED</td>\n",
       "    </tr>\n",
       "    <tr>\n",
       "      <th>1</th>\n",
       "      <td>2011-10-01 00:38:44.880000+02:00</td>\n",
       "      <td>173688</td>\n",
       "      <td>A_PARTLYSUBMITTED</td>\n",
       "    </tr>\n",
       "    <tr>\n",
       "      <th>2</th>\n",
       "      <td>2011-10-01 00:39:37.906000+02:00</td>\n",
       "      <td>173688</td>\n",
       "      <td>A_PREACCEPTED</td>\n",
       "    </tr>\n",
       "    <tr>\n",
       "      <th>3</th>\n",
       "      <td>2011-10-01 11:42:43.308000+02:00</td>\n",
       "      <td>173688</td>\n",
       "      <td>A_ACCEPTED</td>\n",
       "    </tr>\n",
       "    <tr>\n",
       "      <th>4</th>\n",
       "      <td>2011-10-01 11:45:09.243000+02:00</td>\n",
       "      <td>173688</td>\n",
       "      <td>O_SELECTED</td>\n",
       "    </tr>\n",
       "  </tbody>\n",
       "</table>\n",
       "</div>"
      ],
      "text/plain": [
       "                          timestamp  trace_id           activity\n",
       "0  2011-10-01 00:38:44.546000+02:00    173688        A_SUBMITTED\n",
       "1  2011-10-01 00:38:44.880000+02:00    173688  A_PARTLYSUBMITTED\n",
       "2  2011-10-01 00:39:37.906000+02:00    173688      A_PREACCEPTED\n",
       "3  2011-10-01 11:42:43.308000+02:00    173688         A_ACCEPTED\n",
       "4  2011-10-01 11:45:09.243000+02:00    173688         O_SELECTED"
      ]
     },
     "execution_count": 11,
     "metadata": {},
     "output_type": "execute_result"
    }
   ],
   "source": [
    "df.head()"
   ]
  },
  {
   "cell_type": "code",
   "execution_count": 14,
   "metadata": {},
   "outputs": [],
   "source": [
    "test_df = df[df['trace_id'].isin(test_ids)]\n",
    "train_df = df[df['trace_id'].isin(train_ids)]"
   ]
  },
  {
   "cell_type": "code",
   "execution_count": 15,
   "metadata": {},
   "outputs": [],
   "source": [
    "train_df.to_csv('datasets/train_df.csv')\n",
    "test_df.to_csv('datasets/test_df.csv')"
   ]
  }
 ],
 "metadata": {
  "kernelspec": {
   "display_name": "Python 3",
   "language": "python",
   "name": "python3"
  },
  "language_info": {
   "codemirror_mode": {
    "name": "ipython",
    "version": 3
   },
   "file_extension": ".py",
   "mimetype": "text/x-python",
   "name": "python",
   "nbconvert_exporter": "python",
   "pygments_lexer": "ipython3",
   "version": "3.8.6"
  }
 },
 "nbformat": 4,
 "nbformat_minor": 4
}
