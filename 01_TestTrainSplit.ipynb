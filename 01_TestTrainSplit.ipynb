{
 "cells": [
  {
   "cell_type": "markdown",
   "metadata": {},
   "source": [
    "Ok, let's check capabilities of SkLearn befere using NNs\n",
    "\n",
    "Which method to use? Of course ones that enlisted [here](https://github.com/lemikhovalex/DA_CV) (repo for ML classes at MIPT)\n",
    "## Preprocess data\n",
    "But before using data let's create features and labels\n",
    "\n",
    "The following features are to be created, accoarding to papers about LSTM:\n",
    "- $t_{w}$ - time passed between Sunday midnight and the event\n",
    "- $t_{e}$ - time passed between the completion of the given event and the completion of the previous one\n",
    "- $t_{t}$ - time passed between the start of the trace and the given event\n",
    "- one-hot-encoded labels\n",
    "- make smth like n-gramm, but for process and use it as features\n",
    "\n",
    "### Test train split\n",
    "Ok it seems to be rational not to take random transitions, but whole traces, cause `n-gramm` preprocessing will be conducted natively, if data is provided as a sequence"
   ]
  },
  {
   "cell_type": "code",
   "execution_count": 1,
   "metadata": {},
   "outputs": [],
   "source": [
    "import pandas as pd\n",
    "import datetime\n",
    "import random"
   ]
  },
  {
   "cell_type": "code",
   "execution_count": 2,
   "metadata": {},
   "outputs": [],
   "source": [
    "df = pd.read_csv('datasets/bpi_12.csv')\n",
    "df['timestamp'] = df['timestamp'].apply(lambda x: datetime.datetime.fromisoformat(x))"
   ]
  },
  {
   "cell_type": "code",
   "execution_count": 3,
   "metadata": {},
   "outputs": [
    {
     "data": {
      "text/html": [
       "<div>\n",
       "<style scoped>\n",
       "    .dataframe tbody tr th:only-of-type {\n",
       "        vertical-align: middle;\n",
       "    }\n",
       "\n",
       "    .dataframe tbody tr th {\n",
       "        vertical-align: top;\n",
       "    }\n",
       "\n",
       "    .dataframe thead th {\n",
       "        text-align: right;\n",
       "    }\n",
       "</style>\n",
       "<table border=\"1\" class=\"dataframe\">\n",
       "  <thead>\n",
       "    <tr style=\"text-align: right;\">\n",
       "      <th></th>\n",
       "      <th>timestamp</th>\n",
       "      <th>trace_id</th>\n",
       "      <th>activity</th>\n",
       "    </tr>\n",
       "  </thead>\n",
       "  <tbody>\n",
       "    <tr>\n",
       "      <th>0</th>\n",
       "      <td>2011-10-01 00:38:44.546000+02:00</td>\n",
       "      <td>173688</td>\n",
       "      <td>A_SUBMITTED</td>\n",
       "    </tr>\n",
       "    <tr>\n",
       "      <th>1</th>\n",
       "      <td>2011-10-01 00:38:44.880000+02:00</td>\n",
       "      <td>173688</td>\n",
       "      <td>A_PARTLYSUBMITTED</td>\n",
       "    </tr>\n",
       "    <tr>\n",
       "      <th>2</th>\n",
       "      <td>2011-10-01 00:39:37.906000+02:00</td>\n",
       "      <td>173688</td>\n",
       "      <td>A_PREACCEPTED</td>\n",
       "    </tr>\n",
       "    <tr>\n",
       "      <th>3</th>\n",
       "      <td>2011-10-01 00:39:38.875000+02:00</td>\n",
       "      <td>173688</td>\n",
       "      <td>W_Completeren aanvraag</td>\n",
       "    </tr>\n",
       "    <tr>\n",
       "      <th>4</th>\n",
       "      <td>2011-10-01 11:36:46.437000+02:00</td>\n",
       "      <td>173688</td>\n",
       "      <td>W_Completeren aanvraag</td>\n",
       "    </tr>\n",
       "    <tr>\n",
       "      <th>...</th>\n",
       "      <td>...</td>\n",
       "      <td>...</td>\n",
       "      <td>...</td>\n",
       "    </tr>\n",
       "    <tr>\n",
       "      <th>262195</th>\n",
       "      <td>2012-02-29 23:51:17.423000+01:00</td>\n",
       "      <td>214376</td>\n",
       "      <td>A_PARTLYSUBMITTED</td>\n",
       "    </tr>\n",
       "    <tr>\n",
       "      <th>262196</th>\n",
       "      <td>2012-02-29 23:52:01.287000+01:00</td>\n",
       "      <td>214376</td>\n",
       "      <td>W_Afhandelen leads</td>\n",
       "    </tr>\n",
       "    <tr>\n",
       "      <th>262197</th>\n",
       "      <td>2012-03-01 09:26:46.736000+01:00</td>\n",
       "      <td>214376</td>\n",
       "      <td>W_Afhandelen leads</td>\n",
       "    </tr>\n",
       "    <tr>\n",
       "      <th>262198</th>\n",
       "      <td>2012-03-01 09:27:37.118000+01:00</td>\n",
       "      <td>214376</td>\n",
       "      <td>A_DECLINED</td>\n",
       "    </tr>\n",
       "    <tr>\n",
       "      <th>262199</th>\n",
       "      <td>2012-03-01 09:27:41.325000+01:00</td>\n",
       "      <td>214376</td>\n",
       "      <td>W_Afhandelen leads</td>\n",
       "    </tr>\n",
       "  </tbody>\n",
       "</table>\n",
       "<p>262200 rows × 3 columns</p>\n",
       "</div>"
      ],
      "text/plain": [
       "                               timestamp  trace_id                activity\n",
       "0       2011-10-01 00:38:44.546000+02:00    173688             A_SUBMITTED\n",
       "1       2011-10-01 00:38:44.880000+02:00    173688       A_PARTLYSUBMITTED\n",
       "2       2011-10-01 00:39:37.906000+02:00    173688           A_PREACCEPTED\n",
       "3       2011-10-01 00:39:38.875000+02:00    173688  W_Completeren aanvraag\n",
       "4       2011-10-01 11:36:46.437000+02:00    173688  W_Completeren aanvraag\n",
       "...                                  ...       ...                     ...\n",
       "262195  2012-02-29 23:51:17.423000+01:00    214376       A_PARTLYSUBMITTED\n",
       "262196  2012-02-29 23:52:01.287000+01:00    214376      W_Afhandelen leads\n",
       "262197  2012-03-01 09:26:46.736000+01:00    214376      W_Afhandelen leads\n",
       "262198  2012-03-01 09:27:37.118000+01:00    214376              A_DECLINED\n",
       "262199  2012-03-01 09:27:41.325000+01:00    214376      W_Afhandelen leads\n",
       "\n",
       "[262200 rows x 3 columns]"
      ]
     },
     "execution_count": 3,
     "metadata": {},
     "output_type": "execute_result"
    }
   ],
   "source": [
    "df"
   ]
  },
  {
   "cell_type": "markdown",
   "metadata": {},
   "source": [
    "Also dont want to deal with short traces - composing features as window will fail it("
   ]
  },
  {
   "cell_type": "code",
   "execution_count": 4,
   "metadata": {},
   "outputs": [
    {
     "name": "stdout",
     "output_type": "stream",
     "text": [
      "There are 13087 traces\n"
     ]
    }
   ],
   "source": [
    "traces = list(set(df['trace_id']))\n",
    "print(f'There are {len(traces)} traces')\n",
    "traces_len = {trace_id: df[df['trace_id'] == trace_id].shape[0] for trace_id in traces}\n",
    "traces_time = {}\n",
    "for trace_id in traces:\n",
    "    _df = df[df['trace_id'] == trace_id]\n",
    "    if _df.shape[0] > 7:\n",
    "        traces_time[trace_id] = (_df['timestamp'].max() - _df['timestamp'].min()).total_seconds()\n",
    "traces_time = pd.DataFrame({'trace_id': list(traces_time.keys()), 'tt': list(traces_time.values())})\n",
    "traces_time.sort_values(by=['tt'], inplace=True)"
   ]
  },
  {
   "cell_type": "code",
   "execution_count": 5,
   "metadata": {},
   "outputs": [
    {
     "data": {
      "text/html": [
       "<div>\n",
       "<style scoped>\n",
       "    .dataframe tbody tr th:only-of-type {\n",
       "        vertical-align: middle;\n",
       "    }\n",
       "\n",
       "    .dataframe tbody tr th {\n",
       "        vertical-align: top;\n",
       "    }\n",
       "\n",
       "    .dataframe thead th {\n",
       "        text-align: right;\n",
       "    }\n",
       "</style>\n",
       "<table border=\"1\" class=\"dataframe\">\n",
       "  <thead>\n",
       "    <tr style=\"text-align: right;\">\n",
       "      <th></th>\n",
       "      <th>trace_id</th>\n",
       "      <th>tt</th>\n",
       "    </tr>\n",
       "  </thead>\n",
       "  <tbody>\n",
       "    <tr>\n",
       "      <th>3650</th>\n",
       "      <td>211188</td>\n",
       "      <td>220.789</td>\n",
       "    </tr>\n",
       "    <tr>\n",
       "      <th>6245</th>\n",
       "      <td>189775</td>\n",
       "      <td>238.710</td>\n",
       "    </tr>\n",
       "    <tr>\n",
       "      <th>5160</th>\n",
       "      <td>183043</td>\n",
       "      <td>287.825</td>\n",
       "    </tr>\n",
       "    <tr>\n",
       "      <th>6993</th>\n",
       "      <td>194025</td>\n",
       "      <td>289.006</td>\n",
       "    </tr>\n",
       "    <tr>\n",
       "      <th>3710</th>\n",
       "      <td>211378</td>\n",
       "      <td>293.403</td>\n",
       "    </tr>\n",
       "  </tbody>\n",
       "</table>\n",
       "</div>"
      ],
      "text/plain": [
       "      trace_id       tt\n",
       "3650    211188  220.789\n",
       "6245    189775  238.710\n",
       "5160    183043  287.825\n",
       "6993    194025  289.006\n",
       "3710    211378  293.403"
      ]
     },
     "execution_count": 5,
     "metadata": {},
     "output_type": "execute_result"
    }
   ],
   "source": [
    "traces_time.head()"
   ]
  },
  {
   "cell_type": "markdown",
   "metadata": {},
   "source": [
    "Let's calculate 4 equivalent quantiles 4 trace length distribution and sample 30% from each"
   ]
  },
  {
   "cell_type": "code",
   "execution_count": 6,
   "metadata": {},
   "outputs": [],
   "source": [
    "n_qs = 4\n",
    "sh = traces_time.shape[0]\n",
    "qs = [0.]\n",
    "qs.extend([traces_time[_i * sh // n_qs: (_i + 1) * sh // n_qs]['tt'].max() for _i in range(n_qs)])"
   ]
  },
  {
   "cell_type": "code",
   "execution_count": 7,
   "metadata": {},
   "outputs": [],
   "source": [
    "test_ids = []\n",
    "test_relative = 0.25\n",
    "for _i in range(n_qs):\n",
    "    _lb_cond = (traces_time['tt'] > qs[_i])\n",
    "    _rb_cond = (traces_time['tt'] <= qs[_i+1])\n",
    "    _cond = _lb_cond & _rb_cond\n",
    "    _pop = traces_time[_cond]['trace_id'].values.tolist()\n",
    "    test_ids.extend(random.sample(population=_pop,\n",
    "                                  k=int(len(_pop) * test_relative)\n",
    "                                 )\n",
    "                   )"
   ]
  },
  {
   "cell_type": "code",
   "execution_count": 8,
   "metadata": {},
   "outputs": [
    {
     "name": "stdout",
     "output_type": "stream",
     "text": [
      "There are 1872 traces for test\n"
     ]
    }
   ],
   "source": [
    "print(f'There are {len(test_ids)} traces for test')"
   ]
  },
  {
   "cell_type": "code",
   "execution_count": 9,
   "metadata": {},
   "outputs": [],
   "source": [
    "train_ids = traces\n",
    "for _test_id in test_ids:\n",
    "    train_ids.remove(_test_id)"
   ]
  },
  {
   "cell_type": "code",
   "execution_count": 10,
   "metadata": {},
   "outputs": [
    {
     "name": "stdout",
     "output_type": "stream",
     "text": [
      "There are 11215 traces for train\n"
     ]
    }
   ],
   "source": [
    "print(f'There are {len(train_ids)} traces for train')"
   ]
  },
  {
   "cell_type": "code",
   "execution_count": 11,
   "metadata": {},
   "outputs": [
    {
     "data": {
      "text/html": [
       "<div>\n",
       "<style scoped>\n",
       "    .dataframe tbody tr th:only-of-type {\n",
       "        vertical-align: middle;\n",
       "    }\n",
       "\n",
       "    .dataframe tbody tr th {\n",
       "        vertical-align: top;\n",
       "    }\n",
       "\n",
       "    .dataframe thead th {\n",
       "        text-align: right;\n",
       "    }\n",
       "</style>\n",
       "<table border=\"1\" class=\"dataframe\">\n",
       "  <thead>\n",
       "    <tr style=\"text-align: right;\">\n",
       "      <th></th>\n",
       "      <th>timestamp</th>\n",
       "      <th>trace_id</th>\n",
       "      <th>activity</th>\n",
       "    </tr>\n",
       "  </thead>\n",
       "  <tbody>\n",
       "    <tr>\n",
       "      <th>0</th>\n",
       "      <td>2011-10-01 00:38:44.546000+02:00</td>\n",
       "      <td>173688</td>\n",
       "      <td>A_SUBMITTED</td>\n",
       "    </tr>\n",
       "    <tr>\n",
       "      <th>1</th>\n",
       "      <td>2011-10-01 00:38:44.880000+02:00</td>\n",
       "      <td>173688</td>\n",
       "      <td>A_PARTLYSUBMITTED</td>\n",
       "    </tr>\n",
       "    <tr>\n",
       "      <th>2</th>\n",
       "      <td>2011-10-01 00:39:37.906000+02:00</td>\n",
       "      <td>173688</td>\n",
       "      <td>A_PREACCEPTED</td>\n",
       "    </tr>\n",
       "    <tr>\n",
       "      <th>3</th>\n",
       "      <td>2011-10-01 00:39:38.875000+02:00</td>\n",
       "      <td>173688</td>\n",
       "      <td>W_Completeren aanvraag</td>\n",
       "    </tr>\n",
       "    <tr>\n",
       "      <th>4</th>\n",
       "      <td>2011-10-01 11:36:46.437000+02:00</td>\n",
       "      <td>173688</td>\n",
       "      <td>W_Completeren aanvraag</td>\n",
       "    </tr>\n",
       "  </tbody>\n",
       "</table>\n",
       "</div>"
      ],
      "text/plain": [
       "                          timestamp  trace_id                activity\n",
       "0  2011-10-01 00:38:44.546000+02:00    173688             A_SUBMITTED\n",
       "1  2011-10-01 00:38:44.880000+02:00    173688       A_PARTLYSUBMITTED\n",
       "2  2011-10-01 00:39:37.906000+02:00    173688           A_PREACCEPTED\n",
       "3  2011-10-01 00:39:38.875000+02:00    173688  W_Completeren aanvraag\n",
       "4  2011-10-01 11:36:46.437000+02:00    173688  W_Completeren aanvraag"
      ]
     },
     "execution_count": 11,
     "metadata": {},
     "output_type": "execute_result"
    }
   ],
   "source": [
    "df.head()"
   ]
  },
  {
   "cell_type": "code",
   "execution_count": 12,
   "metadata": {},
   "outputs": [],
   "source": [
    "test_df = df.iloc[test_ids, :]"
   ]
  },
  {
   "cell_type": "code",
   "execution_count": 13,
   "metadata": {},
   "outputs": [],
   "source": [
    "test_df = df[df['trace_id'].isin(test_ids)]\n",
    "train_df = df[df['trace_id'].isin(train_ids)]"
   ]
  },
  {
   "cell_type": "code",
   "execution_count": 16,
   "metadata": {},
   "outputs": [],
   "source": [
    "train_df.to_csv('datasets/train_df.csv')\n",
    "test_df.to_csv('datasets/test_df.csv')"
   ]
  }
 ],
 "metadata": {
  "kernelspec": {
   "display_name": "Python 3",
   "language": "python",
   "name": "python3"
  },
  "language_info": {
   "codemirror_mode": {
    "name": "ipython",
    "version": 3
   },
   "file_extension": ".py",
   "mimetype": "text/x-python",
   "name": "python",
   "nbconvert_exporter": "python",
   "pygments_lexer": "ipython3",
   "version": "3.8.6"
  }
 },
 "nbformat": 4,
 "nbformat_minor": 4
}
