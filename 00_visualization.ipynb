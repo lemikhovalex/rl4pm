{
 "cells": [
  {
   "cell_type": "code",
   "execution_count": 1,
   "metadata": {
    "scrolled": true
   },
   "outputs": [
    {
     "name": "stdout",
     "output_type": "stream",
     "text": [
      "Requirement already satisfied: pm4py in c:\\users\\pc\\appdata\\local\\programs\\python\\python38\\lib\\site-packages (2.2.3)\n",
      "Requirement already satisfied: lxml in c:\\users\\pc\\appdata\\local\\programs\\python\\python38\\lib\\site-packages (from pm4py) (4.6.2)\n",
      "Requirement already satisfied: pulp<=2.1 in c:\\users\\pc\\appdata\\local\\programs\\python\\python38\\lib\\site-packages (from pm4py) (2.1)\n",
      "Requirement already satisfied: pandas in c:\\users\\pc\\appdata\\local\\programs\\python\\python38\\lib\\site-packages (from pm4py) (1.1.2)\n",
      "Requirement already satisfied: graphviz in c:\\users\\pc\\appdata\\local\\programs\\python\\python38\\lib\\site-packages (from pm4py) (0.16)\n",
      "Requirement already satisfied: tqdm in c:\\users\\pc\\appdata\\local\\programs\\python\\python38\\lib\\site-packages (from pm4py) (4.52.0)\n",
      "Requirement already satisfied: networkx in c:\\users\\pc\\appdata\\local\\programs\\python\\python38\\lib\\site-packages (from pm4py) (2.5)\n",
      "Requirement already satisfied: intervaltree in c:\\users\\pc\\appdata\\local\\programs\\python\\python38\\lib\\site-packages (from pm4py) (3.1.0)\n",
      "Requirement already satisfied: sympy in c:\\users\\pc\\appdata\\local\\programs\\python\\python38\\lib\\site-packages (from pm4py) (1.7.1)\n",
      "Requirement already satisfied: pydotplus in c:\\users\\pc\\appdata\\local\\programs\\python\\python38\\lib\\site-packages (from pm4py) (2.0.2)\n",
      "Requirement already satisfied: matplotlib in c:\\users\\pc\\appdata\\local\\programs\\python\\python38\\lib\\site-packages (from pm4py) (3.3.2)\n",
      "Requirement already satisfied: cvxopt in c:\\users\\pc\\appdata\\local\\programs\\python\\python38\\lib\\site-packages (from pm4py) (1.2.6)\n",
      "Requirement already satisfied: deprecation in c:\\users\\pc\\appdata\\local\\programs\\python\\python38\\lib\\site-packages (from pm4py) (2.1.0)\n",
      "Requirement already satisfied: scikit-learn in c:\\users\\pc\\appdata\\local\\programs\\python\\python38\\lib\\site-packages (from pm4py) (0.23.2)\n",
      "Requirement already satisfied: pyvis in c:\\users\\pc\\appdata\\local\\programs\\python\\python38\\lib\\site-packages (from pm4py) (0.1.9)\n",
      "Requirement already satisfied: pytz in c:\\users\\pc\\appdata\\local\\programs\\python\\python38\\lib\\site-packages (from pm4py) (2020.1)\n",
      "Requirement already satisfied: stringdist in c:\\users\\pc\\appdata\\local\\programs\\python\\python38\\lib\\site-packages (from pm4py) (1.0.9)\n",
      "Requirement already satisfied: numpy!=1.19.4 in c:\\users\\pc\\appdata\\roaming\\python\\python38\\site-packages (from pm4py) (1.18.5)\n",
      "Requirement already satisfied: scipy in c:\\users\\pc\\appdata\\roaming\\python\\python38\\site-packages (from pm4py) (1.5.4)\n",
      "Requirement already satisfied: jsonpickle in c:\\users\\pc\\appdata\\local\\programs\\python\\python38\\lib\\site-packages (from pm4py) (2.0.0)\n",
      "Requirement already satisfied: packaging in c:\\users\\pc\\appdata\\local\\programs\\python\\python38\\lib\\site-packages (from deprecation->pm4py) (20.4)\n",
      "Requirement already satisfied: sortedcontainers<3.0,>=2.0 in c:\\users\\pc\\appdata\\local\\programs\\python\\python38\\lib\\site-packages (from intervaltree->pm4py) (2.3.0)\n",
      "Requirement already satisfied: python-dateutil>=2.1 in c:\\users\\pc\\appdata\\local\\programs\\python\\python38\\lib\\site-packages (from matplotlib->pm4py) (2.8.1)\n",
      "Requirement already satisfied: cycler>=0.10 in c:\\users\\pc\\appdata\\local\\programs\\python\\python38\\lib\\site-packages (from matplotlib->pm4py) (0.10.0)\n",
      "Requirement already satisfied: pillow>=6.2.0 in c:\\users\\pc\\appdata\\local\\programs\\python\\python38\\lib\\site-packages (from matplotlib->pm4py) (7.2.0)\n",
      "Requirement already satisfied: numpy!=1.19.4 in c:\\users\\pc\\appdata\\roaming\\python\\python38\\site-packages (from pm4py) (1.18.5)\n",
      "Requirement already satisfied: pyparsing!=2.0.4,!=2.1.2,!=2.1.6,>=2.0.3 in c:\\users\\pc\\appdata\\local\\programs\\python\\python38\\lib\\site-packages (from matplotlib->pm4py) (2.4.7)\n",
      "Requirement already satisfied: kiwisolver>=1.0.1 in c:\\users\\pc\\appdata\\local\\programs\\python\\python38\\lib\\site-packages (from matplotlib->pm4py) (1.2.0)\n",
      "Requirement already satisfied: certifi>=2020.06.20 in c:\\users\\pc\\appdata\\local\\programs\\python\\python38\\lib\\site-packages (from matplotlib->pm4py) (2020.6.20)\n",
      "Requirement already satisfied: six in c:\\users\\pc\\appdata\\local\\programs\\python\\python38\\lib\\site-packages (from cycler>=0.10->matplotlib->pm4py) (1.15.0)\n",
      "Requirement already satisfied: decorator>=4.3.0 in c:\\users\\pc\\appdata\\local\\programs\\python\\python38\\lib\\site-packages (from networkx->pm4py) (4.4.2)\n",
      "Requirement already satisfied: pyparsing!=2.0.4,!=2.1.2,!=2.1.6,>=2.0.3 in c:\\users\\pc\\appdata\\local\\programs\\python\\python38\\lib\\site-packages (from matplotlib->pm4py) (2.4.7)\n",
      "Requirement already satisfied: six in c:\\users\\pc\\appdata\\local\\programs\\python\\python38\\lib\\site-packages (from cycler>=0.10->matplotlib->pm4py) (1.15.0)\n",
      "Requirement already satisfied: pytz in c:\\users\\pc\\appdata\\local\\programs\\python\\python38\\lib\\site-packages (from pm4py) (2020.1)\n",
      "Requirement already satisfied: numpy!=1.19.4 in c:\\users\\pc\\appdata\\roaming\\python\\python38\\site-packages (from pm4py) (1.18.5)\n",
      "Requirement already satisfied: python-dateutil>=2.1 in c:\\users\\pc\\appdata\\local\\programs\\python\\python38\\lib\\site-packages (from matplotlib->pm4py) (2.8.1)\n",
      "Requirement already satisfied: pyparsing!=2.0.4,!=2.1.2,!=2.1.6,>=2.0.3 in c:\\users\\pc\\appdata\\local\\programs\\python\\python38\\lib\\site-packages (from matplotlib->pm4py) (2.4.7)\n",
      "Requirement already satisfied: pyparsing!=2.0.4,!=2.1.2,!=2.1.6,>=2.0.3 in c:\\users\\pc\\appdata\\local\\programs\\python\\python38\\lib\\site-packages (from matplotlib->pm4py) (2.4.7)\n",
      "Requirement already satisfied: six in c:\\users\\pc\\appdata\\local\\programs\\python\\python38\\lib\\site-packages (from cycler>=0.10->matplotlib->pm4py) (1.15.0)\n",
      "Requirement already satisfied: ipython>=5.3.0 in c:\\users\\pc\\appdata\\local\\programs\\python\\python38\\lib\\site-packages (from pyvis->pm4py) (7.18.1)\n",
      "Requirement already satisfied: jinja2>=2.9.6 in c:\\users\\pc\\appdata\\local\\programs\\python\\python38\\lib\\site-packages (from pyvis->pm4py) (2.11.2)\n",
      "Requirement already satisfied: networkx in c:\\users\\pc\\appdata\\local\\programs\\python\\python38\\lib\\site-packages (from pm4py) (2.5)\n",
      "Requirement already satisfied: jsonpickle in c:\\users\\pc\\appdata\\local\\programs\\python\\python38\\lib\\site-packages (from pm4py) (2.0.0)\n",
      "Requirement already satisfied: jedi>=0.10 in c:\\users\\pc\\appdata\\local\\programs\\python\\python38\\lib\\site-packages (from ipython>=5.3.0->pyvis->pm4py) (0.17.2)\n",
      "Requirement already satisfied: backcall in c:\\users\\pc\\appdata\\local\\programs\\python\\python38\\lib\\site-packages (from ipython>=5.3.0->pyvis->pm4py) (0.2.0)\n",
      "Requirement already satisfied: decorator>=4.3.0 in c:\\users\\pc\\appdata\\local\\programs\\python\\python38\\lib\\site-packages (from networkx->pm4py) (4.4.2)\n",
      "Requirement already satisfied: setuptools>=18.5 in c:\\users\\pc\\appdata\\local\\programs\\python\\python38\\lib\\site-packages (from ipython>=5.3.0->pyvis->pm4py) (51.0.0)\n",
      "Requirement already satisfied: prompt-toolkit!=3.0.0,!=3.0.1,<3.1.0,>=2.0.0 in c:\\users\\pc\\appdata\\local\\programs\\python\\python38\\lib\\site-packages (from ipython>=5.3.0->pyvis->pm4py) (3.0.8)\n",
      "Requirement already satisfied: pickleshare in c:\\users\\pc\\appdata\\local\\programs\\python\\python38\\lib\\site-packages (from ipython>=5.3.0->pyvis->pm4py) (0.7.5)\n",
      "Requirement already satisfied: traitlets>=4.2 in c:\\users\\pc\\appdata\\local\\programs\\python\\python38\\lib\\site-packages (from ipython>=5.3.0->pyvis->pm4py) (5.0.5)\n",
      "Requirement already satisfied: colorama in c:\\users\\pc\\appdata\\local\\programs\\python\\python38\\lib\\site-packages (from ipython>=5.3.0->pyvis->pm4py) (0.4.4)\n",
      "Requirement already satisfied: pygments in c:\\users\\pc\\appdata\\local\\programs\\python\\python38\\lib\\site-packages (from ipython>=5.3.0->pyvis->pm4py) (2.7.1)\n",
      "Requirement already satisfied: parso<0.8.0,>=0.7.0 in c:\\users\\pc\\appdata\\local\\programs\\python\\python38\\lib\\site-packages (from jedi>=0.10->ipython>=5.3.0->pyvis->pm4py) (0.7.1)\n",
      "Requirement already satisfied: MarkupSafe>=0.23 in c:\\users\\pc\\appdata\\local\\programs\\python\\python38\\lib\\site-packages (from jinja2>=2.9.6->pyvis->pm4py) (1.1.1)\n",
      "Requirement already satisfied: wcwidth in c:\\users\\pc\\appdata\\local\\programs\\python\\python38\\lib\\site-packages (from prompt-toolkit!=3.0.0,!=3.0.1,<3.1.0,>=2.0.0->ipython>=5.3.0->pyvis->pm4py) (0.2.5)\n",
      "Requirement already satisfied: numpy!=1.19.4 in c:\\users\\pc\\appdata\\roaming\\python\\python38\\site-packages (from pm4py) (1.18.5)\n",
      "Requirement already satisfied: threadpoolctl>=2.0.0 in c:\\users\\pc\\appdata\\local\\programs\\python\\python38\\lib\\site-packages (from scikit-learn->pm4py) (2.1.0)\n",
      "Requirement already satisfied: joblib>=0.11 in c:\\users\\pc\\appdata\\local\\programs\\python\\python38\\lib\\site-packages (from scikit-learn->pm4py) (0.17.0)\n",
      "Requirement already satisfied: scipy in c:\\users\\pc\\appdata\\roaming\\python\\python38\\site-packages (from pm4py) (1.5.4)\n",
      "Requirement already satisfied: numpy!=1.19.4 in c:\\users\\pc\\appdata\\roaming\\python\\python38\\site-packages (from pm4py) (1.18.5)\n",
      "Requirement already satisfied: mpmath>=0.19 in c:\\users\\pc\\appdata\\local\\programs\\python\\python38\\lib\\site-packages (from sympy->pm4py) (1.2.1)\n",
      "Requirement already satisfied: ipython-genutils in c:\\users\\pc\\appdata\\local\\programs\\python\\python38\\lib\\site-packages (from traitlets>=4.2->ipython>=5.3.0->pyvis->pm4py) (0.2.0)\n"
     ]
    },
    {
     "name": "stderr",
     "output_type": "stream",
     "text": [
      "WARNING: You are using pip version 20.3.1; however, version 21.1.2 is available.\n",
      "You should consider upgrading via the 'c:\\users\\pc\\appdata\\local\\programs\\python\\python38\\python.exe -m pip install --upgrade pip' command.\n"
     ]
    },
    {
     "name": "stdout",
     "output_type": "stream",
     "text": [
      "Requirement already satisfied: seaborn in c:\\users\\pc\\appdata\\local\\programs\\python\\python38\\lib\\site-packages (0.11.0)\n",
      "Requirement already satisfied: pandas>=0.23 in c:\\users\\pc\\appdata\\local\\programs\\python\\python38\\lib\\site-packages (from seaborn) (1.1.2)\n",
      "Requirement already satisfied: numpy>=1.15 in c:\\users\\pc\\appdata\\roaming\\python\\python38\\site-packages (from seaborn) (1.18.5)\n",
      "Requirement already satisfied: matplotlib>=2.2 in c:\\users\\pc\\appdata\\local\\programs\\python\\python38\\lib\\site-packages (from seaborn) (3.3.2)\n",
      "Requirement already satisfied: scipy>=1.0 in c:\\users\\pc\\appdata\\roaming\\python\\python38\\site-packages (from seaborn) (1.5.4)\n",
      "Requirement already satisfied: pyparsing!=2.0.4,!=2.1.2,!=2.1.6,>=2.0.3 in c:\\users\\pc\\appdata\\local\\programs\\python\\python38\\lib\\site-packages (from matplotlib>=2.2->seaborn) (2.4.7)\n",
      "Requirement already satisfied: certifi>=2020.06.20 in c:\\users\\pc\\appdata\\local\\programs\\python\\python38\\lib\\site-packages (from matplotlib>=2.2->seaborn) (2020.6.20)\n",
      "Requirement already satisfied: kiwisolver>=1.0.1 in c:\\users\\pc\\appdata\\local\\programs\\python\\python38\\lib\\site-packages (from matplotlib>=2.2->seaborn) (1.2.0)\n",
      "Requirement already satisfied: numpy>=1.15 in c:\\users\\pc\\appdata\\roaming\\python\\python38\\site-packages (from seaborn) (1.18.5)\n",
      "Requirement already satisfied: python-dateutil>=2.1 in c:\\users\\pc\\appdata\\local\\programs\\python\\python38\\lib\\site-packages (from matplotlib>=2.2->seaborn) (2.8.1)\n",
      "Requirement already satisfied: pillow>=6.2.0 in c:\\users\\pc\\appdata\\local\\programs\\python\\python38\\lib\\site-packages (from matplotlib>=2.2->seaborn) (7.2.0)\n",
      "Requirement already satisfied: cycler>=0.10 in c:\\users\\pc\\appdata\\local\\programs\\python\\python38\\lib\\site-packages (from matplotlib>=2.2->seaborn) (0.10.0)\n",
      "Requirement already satisfied: six in c:\\users\\pc\\appdata\\local\\programs\\python\\python38\\lib\\site-packages (from cycler>=0.10->matplotlib>=2.2->seaborn) (1.15.0)\n",
      "Requirement already satisfied: python-dateutil>=2.1 in c:\\users\\pc\\appdata\\local\\programs\\python\\python38\\lib\\site-packages (from matplotlib>=2.2->seaborn) (2.8.1)\n",
      "Requirement already satisfied: pytz>=2017.2 in c:\\users\\pc\\appdata\\local\\programs\\python\\python38\\lib\\site-packages (from pandas>=0.23->seaborn) (2020.1)\n",
      "Requirement already satisfied: numpy>=1.15 in c:\\users\\pc\\appdata\\roaming\\python\\python38\\site-packages (from seaborn) (1.18.5)\n",
      "Requirement already satisfied: six in c:\\users\\pc\\appdata\\local\\programs\\python\\python38\\lib\\site-packages (from cycler>=0.10->matplotlib>=2.2->seaborn) (1.15.0)\n",
      "Requirement already satisfied: numpy>=1.15 in c:\\users\\pc\\appdata\\roaming\\python\\python38\\site-packages (from seaborn) (1.18.5)\n"
     ]
    },
    {
     "name": "stderr",
     "output_type": "stream",
     "text": [
      "WARNING: You are using pip version 20.3.1; however, version 21.1.2 is available.\n",
      "You should consider upgrading via the 'c:\\users\\pc\\appdata\\local\\programs\\python\\python38\\python.exe -m pip install --upgrade pip' command.\n"
     ]
    }
   ],
   "source": [
    "! pip install pm4py\n",
    "! pip install seaborn"
   ]
  },
  {
   "cell_type": "code",
   "execution_count": 2,
   "metadata": {},
   "outputs": [],
   "source": [
    "import pm4py\n",
    "import pandas as pd\n",
    "import datetime\n",
    "from math import ceil\n",
    "import matplotlib.pyplot as plt\n",
    "import numpy as np\n",
    "from importlib import reload\n",
    "import random\n",
    "import seaborn as sns\n",
    "from IPython import display"
   ]
  },
  {
   "cell_type": "markdown",
   "metadata": {},
   "source": [
    "# What is it about\n",
    "## Data\n",
    "We have data of processes - `bpi12`. It is a sequence of (`time_stamp`, `activity`,...) \n",
    "and other stuff which is not considered by community. Basicly here it is `BPI_Challenge_2012.xes`"
   ]
  },
  {
   "cell_type": "code",
   "execution_count": 3,
   "metadata": {},
   "outputs": [
    {
     "data": {
      "application/vnd.jupyter.widget-view+json": {
       "model_id": "cfdf89f006624f1297c73ef04d7f5605",
       "version_major": 2,
       "version_minor": 0
      },
      "text/plain": [
       "HBox(children=(HTML(value='parsing log, completed traces :: '), FloatProgress(value=0.0, max=13087.0), HTML(va…"
      ]
     },
     "metadata": {},
     "output_type": "display_data"
    },
    {
     "name": "stdout",
     "output_type": "stream",
     "text": [
      "\n"
     ]
    },
    {
     "data": {
      "text/html": [
       "<div>\n",
       "<style scoped>\n",
       "    .dataframe tbody tr th:only-of-type {\n",
       "        vertical-align: middle;\n",
       "    }\n",
       "\n",
       "    .dataframe tbody tr th {\n",
       "        vertical-align: top;\n",
       "    }\n",
       "\n",
       "    .dataframe thead th {\n",
       "        text-align: right;\n",
       "    }\n",
       "</style>\n",
       "<table border=\"1\" class=\"dataframe\">\n",
       "  <thead>\n",
       "    <tr style=\"text-align: right;\">\n",
       "      <th></th>\n",
       "      <th>org:resource</th>\n",
       "      <th>lifecycle:transition</th>\n",
       "      <th>concept:name</th>\n",
       "      <th>time:timestamp</th>\n",
       "      <th>case:REG_DATE</th>\n",
       "      <th>case:concept:name</th>\n",
       "      <th>case:AMOUNT_REQ</th>\n",
       "    </tr>\n",
       "  </thead>\n",
       "  <tbody>\n",
       "    <tr>\n",
       "      <th>0</th>\n",
       "      <td>112</td>\n",
       "      <td>COMPLETE</td>\n",
       "      <td>A_SUBMITTED</td>\n",
       "      <td>2011-10-01 00:38:44.546000+02:00</td>\n",
       "      <td>2011-10-01 00:38:44.546000+02:00</td>\n",
       "      <td>173688</td>\n",
       "      <td>20000</td>\n",
       "    </tr>\n",
       "    <tr>\n",
       "      <th>1</th>\n",
       "      <td>112</td>\n",
       "      <td>COMPLETE</td>\n",
       "      <td>A_PARTLYSUBMITTED</td>\n",
       "      <td>2011-10-01 00:38:44.880000+02:00</td>\n",
       "      <td>2011-10-01 00:38:44.546000+02:00</td>\n",
       "      <td>173688</td>\n",
       "      <td>20000</td>\n",
       "    </tr>\n",
       "    <tr>\n",
       "      <th>2</th>\n",
       "      <td>112</td>\n",
       "      <td>COMPLETE</td>\n",
       "      <td>A_PREACCEPTED</td>\n",
       "      <td>2011-10-01 00:39:37.906000+02:00</td>\n",
       "      <td>2011-10-01 00:38:44.546000+02:00</td>\n",
       "      <td>173688</td>\n",
       "      <td>20000</td>\n",
       "    </tr>\n",
       "    <tr>\n",
       "      <th>3</th>\n",
       "      <td>112</td>\n",
       "      <td>SCHEDULE</td>\n",
       "      <td>W_Completeren aanvraag</td>\n",
       "      <td>2011-10-01 00:39:38.875000+02:00</td>\n",
       "      <td>2011-10-01 00:38:44.546000+02:00</td>\n",
       "      <td>173688</td>\n",
       "      <td>20000</td>\n",
       "    </tr>\n",
       "    <tr>\n",
       "      <th>4</th>\n",
       "      <td>NaN</td>\n",
       "      <td>START</td>\n",
       "      <td>W_Completeren aanvraag</td>\n",
       "      <td>2011-10-01 11:36:46.437000+02:00</td>\n",
       "      <td>2011-10-01 00:38:44.546000+02:00</td>\n",
       "      <td>173688</td>\n",
       "      <td>20000</td>\n",
       "    </tr>\n",
       "    <tr>\n",
       "      <th>...</th>\n",
       "      <td>...</td>\n",
       "      <td>...</td>\n",
       "      <td>...</td>\n",
       "      <td>...</td>\n",
       "      <td>...</td>\n",
       "      <td>...</td>\n",
       "      <td>...</td>\n",
       "    </tr>\n",
       "    <tr>\n",
       "      <th>262195</th>\n",
       "      <td>112</td>\n",
       "      <td>COMPLETE</td>\n",
       "      <td>A_PARTLYSUBMITTED</td>\n",
       "      <td>2012-02-29 23:51:17.423000+01:00</td>\n",
       "      <td>2012-02-29 23:51:16.799000+01:00</td>\n",
       "      <td>214376</td>\n",
       "      <td>15000</td>\n",
       "    </tr>\n",
       "    <tr>\n",
       "      <th>262196</th>\n",
       "      <td>112</td>\n",
       "      <td>SCHEDULE</td>\n",
       "      <td>W_Afhandelen leads</td>\n",
       "      <td>2012-02-29 23:52:01.287000+01:00</td>\n",
       "      <td>2012-02-29 23:51:16.799000+01:00</td>\n",
       "      <td>214376</td>\n",
       "      <td>15000</td>\n",
       "    </tr>\n",
       "    <tr>\n",
       "      <th>262197</th>\n",
       "      <td>11169</td>\n",
       "      <td>START</td>\n",
       "      <td>W_Afhandelen leads</td>\n",
       "      <td>2012-03-01 09:26:46.736000+01:00</td>\n",
       "      <td>2012-02-29 23:51:16.799000+01:00</td>\n",
       "      <td>214376</td>\n",
       "      <td>15000</td>\n",
       "    </tr>\n",
       "    <tr>\n",
       "      <th>262198</th>\n",
       "      <td>11169</td>\n",
       "      <td>COMPLETE</td>\n",
       "      <td>A_DECLINED</td>\n",
       "      <td>2012-03-01 09:27:37.118000+01:00</td>\n",
       "      <td>2012-02-29 23:51:16.799000+01:00</td>\n",
       "      <td>214376</td>\n",
       "      <td>15000</td>\n",
       "    </tr>\n",
       "    <tr>\n",
       "      <th>262199</th>\n",
       "      <td>11169</td>\n",
       "      <td>COMPLETE</td>\n",
       "      <td>W_Afhandelen leads</td>\n",
       "      <td>2012-03-01 09:27:41.325000+01:00</td>\n",
       "      <td>2012-02-29 23:51:16.799000+01:00</td>\n",
       "      <td>214376</td>\n",
       "      <td>15000</td>\n",
       "    </tr>\n",
       "  </tbody>\n",
       "</table>\n",
       "<p>262200 rows × 7 columns</p>\n",
       "</div>"
      ],
      "text/plain": [
       "       org:resource lifecycle:transition            concept:name  \\\n",
       "0               112             COMPLETE             A_SUBMITTED   \n",
       "1               112             COMPLETE       A_PARTLYSUBMITTED   \n",
       "2               112             COMPLETE           A_PREACCEPTED   \n",
       "3               112             SCHEDULE  W_Completeren aanvraag   \n",
       "4               NaN                START  W_Completeren aanvraag   \n",
       "...             ...                  ...                     ...   \n",
       "262195          112             COMPLETE       A_PARTLYSUBMITTED   \n",
       "262196          112             SCHEDULE      W_Afhandelen leads   \n",
       "262197        11169                START      W_Afhandelen leads   \n",
       "262198        11169             COMPLETE              A_DECLINED   \n",
       "262199        11169             COMPLETE      W_Afhandelen leads   \n",
       "\n",
       "                          time:timestamp                     case:REG_DATE  \\\n",
       "0       2011-10-01 00:38:44.546000+02:00  2011-10-01 00:38:44.546000+02:00   \n",
       "1       2011-10-01 00:38:44.880000+02:00  2011-10-01 00:38:44.546000+02:00   \n",
       "2       2011-10-01 00:39:37.906000+02:00  2011-10-01 00:38:44.546000+02:00   \n",
       "3       2011-10-01 00:39:38.875000+02:00  2011-10-01 00:38:44.546000+02:00   \n",
       "4       2011-10-01 11:36:46.437000+02:00  2011-10-01 00:38:44.546000+02:00   \n",
       "...                                  ...                               ...   \n",
       "262195  2012-02-29 23:51:17.423000+01:00  2012-02-29 23:51:16.799000+01:00   \n",
       "262196  2012-02-29 23:52:01.287000+01:00  2012-02-29 23:51:16.799000+01:00   \n",
       "262197  2012-03-01 09:26:46.736000+01:00  2012-02-29 23:51:16.799000+01:00   \n",
       "262198  2012-03-01 09:27:37.118000+01:00  2012-02-29 23:51:16.799000+01:00   \n",
       "262199  2012-03-01 09:27:41.325000+01:00  2012-02-29 23:51:16.799000+01:00   \n",
       "\n",
       "       case:concept:name case:AMOUNT_REQ  \n",
       "0                 173688           20000  \n",
       "1                 173688           20000  \n",
       "2                 173688           20000  \n",
       "3                 173688           20000  \n",
       "4                 173688           20000  \n",
       "...                  ...             ...  \n",
       "262195            214376           15000  \n",
       "262196            214376           15000  \n",
       "262197            214376           15000  \n",
       "262198            214376           15000  \n",
       "262199            214376           15000  \n",
       "\n",
       "[262200 rows x 7 columns]"
      ]
     },
     "execution_count": 3,
     "metadata": {},
     "output_type": "execute_result"
    }
   ],
   "source": [
    "file_path = 'datasets/BPI_Challenge_2012.xes'\n",
    "event_log = pm4py.read_xes(file_path)\n",
    "df = pm4py.convert_to_dataframe(event_log)\n",
    "df"
   ]
  },
  {
   "cell_type": "markdown",
   "metadata": {},
   "source": [
    "We works only wuith activity (which is about completion of process) and time"
   ]
  },
  {
   "cell_type": "code",
   "execution_count": 4,
   "metadata": {},
   "outputs": [],
   "source": [
    "df = pm4py.convert_to_dataframe(event_log)"
   ]
  },
  {
   "cell_type": "code",
   "execution_count": 5,
   "metadata": {},
   "outputs": [],
   "source": [
    "df = pm4py.convert_to_dataframe(event_log)\n",
    "df = df[df['lifecycle:transition']=='COMPLETE']\n",
    "# work subprocess, starts with 'W_'\n",
    "is_work_sp = df['concept:name'].apply(lambda x: True if x[:2] == 'W_' else False)\n",
    "df = df[is_work_sp]\n",
    "\n",
    "df = df[['time:timestamp', 'case:concept:name', 'concept:name']]\n",
    "df = df.rename(columns={'time:timestamp': 'timestamp', 'case:concept:name': 'trace_id', 'concept:name': 'activity'})"
   ]
  },
  {
   "cell_type": "code",
   "execution_count": 6,
   "metadata": {},
   "outputs": [
    {
     "data": {
      "text/plain": [
       "{'W_Afhandelen leads',\n",
       " 'W_Beoordelen fraude',\n",
       " 'W_Completeren aanvraag',\n",
       " 'W_Nabellen incomplete dossiers',\n",
       " 'W_Nabellen offertes',\n",
       " 'W_Valideren aanvraag'}"
      ]
     },
     "execution_count": 6,
     "metadata": {},
     "output_type": "execute_result"
    }
   ],
   "source": [
    "set(df['activity'].values)"
   ]
  },
  {
   "cell_type": "code",
   "execution_count": 7,
   "metadata": {},
   "outputs": [],
   "source": [
    "taces_with_nans = []\n",
    "traces = set(df['trace_id'].values)\n",
    "l = len(traces)\n",
    "for _i, t_id in enumerate(traces):\n",
    "    if df[df['trace_id'] == t_id].isna().sum().sum() > 0:\n",
    "        taces_with_nans.append(t_id)"
   ]
  },
  {
   "cell_type": "code",
   "execution_count": 8,
   "metadata": {},
   "outputs": [
    {
     "data": {
      "text/plain": [
       "0"
      ]
     },
     "execution_count": 8,
     "metadata": {},
     "output_type": "execute_result"
    }
   ],
   "source": [
    "len(taces_with_nans)"
   ]
  },
  {
   "cell_type": "code",
   "execution_count": 9,
   "metadata": {},
   "outputs": [
    {
     "data": {
      "text/html": [
       "<div>\n",
       "<style scoped>\n",
       "    .dataframe tbody tr th:only-of-type {\n",
       "        vertical-align: middle;\n",
       "    }\n",
       "\n",
       "    .dataframe tbody tr th {\n",
       "        vertical-align: top;\n",
       "    }\n",
       "\n",
       "    .dataframe thead th {\n",
       "        text-align: right;\n",
       "    }\n",
       "</style>\n",
       "<table border=\"1\" class=\"dataframe\">\n",
       "  <thead>\n",
       "    <tr style=\"text-align: right;\">\n",
       "      <th></th>\n",
       "      <th>timestamp</th>\n",
       "      <th>trace_id</th>\n",
       "      <th>activity</th>\n",
       "    </tr>\n",
       "  </thead>\n",
       "  <tbody>\n",
       "    <tr>\n",
       "      <th>0</th>\n",
       "      <td>2011-10-01 11:45:13.917000+02:00</td>\n",
       "      <td>173688</td>\n",
       "      <td>W_Completeren aanvraag</td>\n",
       "    </tr>\n",
       "    <tr>\n",
       "      <th>1</th>\n",
       "      <td>2011-10-01 12:17:08.924000+02:00</td>\n",
       "      <td>173688</td>\n",
       "      <td>W_Nabellen offertes</td>\n",
       "    </tr>\n",
       "    <tr>\n",
       "      <th>2</th>\n",
       "      <td>2011-10-08 16:32:00.886000+02:00</td>\n",
       "      <td>173688</td>\n",
       "      <td>W_Nabellen offertes</td>\n",
       "    </tr>\n",
       "    <tr>\n",
       "      <th>3</th>\n",
       "      <td>2011-10-10 11:33:05.791000+02:00</td>\n",
       "      <td>173688</td>\n",
       "      <td>W_Nabellen offertes</td>\n",
       "    </tr>\n",
       "    <tr>\n",
       "      <th>4</th>\n",
       "      <td>2011-10-13 10:37:37.026000+02:00</td>\n",
       "      <td>173688</td>\n",
       "      <td>W_Valideren aanvraag</td>\n",
       "    </tr>\n",
       "    <tr>\n",
       "      <th>...</th>\n",
       "      <td>...</td>\n",
       "      <td>...</td>\n",
       "      <td>...</td>\n",
       "    </tr>\n",
       "    <tr>\n",
       "      <th>72408</th>\n",
       "      <td>2012-03-01 09:28:21.228000+01:00</td>\n",
       "      <td>214370</td>\n",
       "      <td>W_Afhandelen leads</td>\n",
       "    </tr>\n",
       "    <tr>\n",
       "      <th>72409</th>\n",
       "      <td>2012-03-01 09:27:52.388000+01:00</td>\n",
       "      <td>214373</td>\n",
       "      <td>W_Afhandelen leads</td>\n",
       "    </tr>\n",
       "    <tr>\n",
       "      <th>72410</th>\n",
       "      <td>2012-03-01 20:22:41.157000+01:00</td>\n",
       "      <td>214373</td>\n",
       "      <td>W_Completeren aanvraag</td>\n",
       "    </tr>\n",
       "    <tr>\n",
       "      <th>72411</th>\n",
       "      <td>2012-03-10 12:50:54.881000+01:00</td>\n",
       "      <td>214373</td>\n",
       "      <td>W_Nabellen offertes</td>\n",
       "    </tr>\n",
       "    <tr>\n",
       "      <th>72412</th>\n",
       "      <td>2012-03-01 09:27:41.325000+01:00</td>\n",
       "      <td>214376</td>\n",
       "      <td>W_Afhandelen leads</td>\n",
       "    </tr>\n",
       "  </tbody>\n",
       "</table>\n",
       "<p>72413 rows × 3 columns</p>\n",
       "</div>"
      ],
      "text/plain": [
       "                              timestamp  trace_id                activity\n",
       "0      2011-10-01 11:45:13.917000+02:00    173688  W_Completeren aanvraag\n",
       "1      2011-10-01 12:17:08.924000+02:00    173688     W_Nabellen offertes\n",
       "2      2011-10-08 16:32:00.886000+02:00    173688     W_Nabellen offertes\n",
       "3      2011-10-10 11:33:05.791000+02:00    173688     W_Nabellen offertes\n",
       "4      2011-10-13 10:37:37.026000+02:00    173688    W_Valideren aanvraag\n",
       "...                                 ...       ...                     ...\n",
       "72408  2012-03-01 09:28:21.228000+01:00    214370      W_Afhandelen leads\n",
       "72409  2012-03-01 09:27:52.388000+01:00    214373      W_Afhandelen leads\n",
       "72410  2012-03-01 20:22:41.157000+01:00    214373  W_Completeren aanvraag\n",
       "72411  2012-03-10 12:50:54.881000+01:00    214373     W_Nabellen offertes\n",
       "72412  2012-03-01 09:27:41.325000+01:00    214376      W_Afhandelen leads\n",
       "\n",
       "[72413 rows x 3 columns]"
      ]
     },
     "execution_count": 9,
     "metadata": {},
     "output_type": "execute_result"
    }
   ],
   "source": [
    "df['trace_id'] = df['trace_id'].apply(lambda x: int(x))\n",
    "df.reset_index(inplace=True)\n",
    "df.drop(columns='index', inplace=True)\n",
    "df.to_csv('datasets/bpi_12.csv', index=False)\n",
    "df"
   ]
  },
  {
   "cell_type": "markdown",
   "metadata": {},
   "source": [
    "Some defenitions must be mentioned:\n",
    "- event ($e_i$) - {`activity` ($a$), `time_stamp` ($t$)}\n",
    "- trace (t) - $[e_1,\\ e_2, \\dots]$"
   ]
  },
  {
   "cell_type": "markdown",
   "metadata": {},
   "source": [
    "## Purpose\n",
    "Main objective - predict next `time_stamp` and `activity`. \n",
    "\n",
    "For activity metric, used by community is accuracy, and in latest works `f1`. For `time_stamp` ussualy MAE, sometimes weighted MAE.\n",
    "\n",
    "Nevetheless some other objectives are discovered - whole trace prediction. The metric for activity prediction - Damerau-Levenshtein Similarity"
   ]
  },
  {
   "cell_type": "markdown",
   "metadata": {},
   "source": [
    "# Visualization\n",
    "## Activity transition\n",
    "Firstly let's take a look on all activities transition  and try to estimate $P(a_{i+1} | a_i)$. It is a square matrix, which worth to be presented as `sns.heatmap`"
   ]
  },
  {
   "cell_type": "code",
   "execution_count": 10,
   "metadata": {},
   "outputs": [],
   "source": [
    "activities = list(set(df['activity'].values))\n",
    "n_act = len(activities)\n",
    "traces = list(set(df['trace_id'].values))\n",
    "_df = df.copy()\n",
    "_df['activity_prev'] = _df['activity'].shift(1)\n",
    "_df['trace_id_prev'] = _df['trace_id'].shift(1)\n",
    "_df = _df.dropna()\n",
    "_df = _df[_df['trace_id_prev'] == _df['trace_id']]"
   ]
  },
  {
   "cell_type": "code",
   "execution_count": 11,
   "metadata": {},
   "outputs": [],
   "source": [
    "\n",
    "transitions_counts = np.zeros((n_act, n_act))\n",
    "nums_of_ac_next = []\n",
    "for _i_next, act_next in enumerate(activities):\n",
    "    _df_ac_next = _df[_df['activity'] == act_next]\n",
    "    nums_of_ac_next.append(_df_ac_next.shape[0])\n",
    "    for _i_prev, act_prev in enumerate(activities):\n",
    "        transitions_counts[ _i_prev, _i_next] += _df_ac_next[_df_ac_next['activity_prev'] == act_prev].shape[0]"
   ]
  },
  {
   "cell_type": "code",
   "execution_count": 12,
   "metadata": {},
   "outputs": [
    {
     "data": {
      "image/png": "[encoded data removed]",
      "text/plain": [
       "<Figure size 432x288 with 2 Axes>"
      ]
     },
     "metadata": {},
     "output_type": "display_data"
    }
   ],
   "source": [
    "transitions_counts[transitions_counts == 0] = np.nan\n",
    "sns.set(rc={'figure.facecolor':'white'})\n",
    "sns.heatmap(transitions_counts, xticklabels=list(activities), yticklabels=list(activities))\n",
    "plt.title('Total number of transition  $a_t -> a_{t+1}$')\n",
    "\n",
    "plt.xlabel('$a_i$')\n",
    "plt.ylabel('$a_{i+1}$')\n",
    "plt.show()"
   ]
  },
  {
   "cell_type": "code",
   "execution_count": 13,
   "metadata": {},
   "outputs": [
    {
     "name": "stdout",
     "output_type": "stream",
     "text": [
      "There are 17 not existing transitions\n"
     ]
    }
   ],
   "source": [
    "print(f'There are {np.isnan(transitions_counts).sum()} not existing transitions')"
   ]
  },
  {
   "cell_type": "code",
   "execution_count": 14,
   "metadata": {},
   "outputs": [
    {
     "name": "stderr",
     "output_type": "stream",
     "text": [
      "<ipython-input-14-6ef5bc085097>:1: RuntimeWarning: invalid value encountered in less\n",
      "  transitions_counts[transitions_counts < 10] = np.nan\n"
     ]
    }
   ],
   "source": [
    "transitions_counts[transitions_counts < 10] = np.nan"
   ]
  },
  {
   "cell_type": "code",
   "execution_count": 15,
   "metadata": {},
   "outputs": [
    {
     "data": {
      "image/png": "[encoded data removed]",
      "text/plain": [
       "<Figure size 432x288 with 2 Axes>"
      ]
     },
     "metadata": {},
     "output_type": "display_data"
    }
   ],
   "source": [
    "sns.set(rc={'figure.facecolor':'white'})\n",
    "sns.heatmap(transitions_counts\n",
    "            , xticklabels=list(activities), yticklabels=list(activities), annot=True)\n",
    "plt.title('Total number of transition  $a_t -> a_{t+1}$')\n",
    "\n",
    "plt.xlabel('$a_{i+1}$')\n",
    "plt.ylabel('$a_i$')\n",
    "plt.show()"
   ]
  },
  {
   "cell_type": "code",
   "execution_count": 23,
   "metadata": {},
   "outputs": [
    {
     "name": "stdout",
     "output_type": "stream",
     "text": [
      "There are 21 not existing transitions\n"
     ]
    }
   ],
   "source": [
    "print(f'There are {np.isnan(transitions_counts).sum()} not existing transitions')"
   ]
  },
  {
   "cell_type": "markdown",
   "metadata": {},
   "source": [
    "Cant say there are much rare transitions"
   ]
  },
  {
   "cell_type": "code",
   "execution_count": 24,
   "metadata": {},
   "outputs": [
    {
     "data": {
      "image/png": "[encoded data removed]",
      "text/plain": [
       "<Figure size 432x288 with 2 Axes>"
      ]
     },
     "metadata": {},
     "output_type": "display_data"
    }
   ],
   "source": [
    "prob_matrix = transitions_counts / np.nan_to_num(transitions_counts, 0).sum(axis=1).reshape(-1, 1)\n",
    "sns.set(rc={'figure.facecolor':'white'})\n",
    "sns.heatmap(prob_matrix,\n",
    "            xticklabels=list(activities), yticklabels=list(activities), \n",
    "            annot=True, fmt=\".2f\"\n",
    "           )\n",
    "plt.title('Probability of transition  $a_t -> a_{t+1}$')\n",
    "plt.xlabel('$a_{i+1}$')\n",
    "plt.ylabel('$a_i$')\n",
    "plt.show()"
   ]
  },
  {
   "cell_type": "code",
   "execution_count": 25,
   "metadata": {},
   "outputs": [
    {
     "name": "stdout",
     "output_type": "stream",
     "text": [
      "dull baseline 0.7644911945174915\n"
     ]
    }
   ],
   "source": [
    "filled = np.nan_to_num(transitions_counts, 0)\n",
    "print(f'dull baseline {np.diagonal(filled).sum() / filled.sum()}')"
   ]
  },
  {
   "cell_type": "code",
   "execution_count": null,
   "metadata": {},
   "outputs": [],
   "source": []
  },
  {
   "cell_type": "markdown",
   "metadata": {},
   "source": [
    "Can't say this dataset has uniform distribution."
   ]
  },
  {
   "cell_type": "markdown",
   "metadata": {},
   "source": [
    "## Time features\n",
    "For leveraging predictive models the following features are created:\n",
    "- $t_e$ - time since previous event\n",
    "- $t_w$ - time since the beginning of week\n",
    "- $t_t$ - time since the beginning of trace\n",
    "\n",
    "let's visualize all these features"
   ]
  },
  {
   "cell_type": "code",
   "execution_count": 26,
   "metadata": {},
   "outputs": [
    {
     "data": {
      "text/html": [
       "<div>\n",
       "<style scoped>\n",
       "    .dataframe tbody tr th:only-of-type {\n",
       "        vertical-align: middle;\n",
       "    }\n",
       "\n",
       "    .dataframe tbody tr th {\n",
       "        vertical-align: top;\n",
       "    }\n",
       "\n",
       "    .dataframe thead th {\n",
       "        text-align: right;\n",
       "    }\n",
       "</style>\n",
       "<table border=\"1\" class=\"dataframe\">\n",
       "  <thead>\n",
       "    <tr style=\"text-align: right;\">\n",
       "      <th></th>\n",
       "      <th>timestamp</th>\n",
       "      <th>trace_id</th>\n",
       "      <th>activity</th>\n",
       "    </tr>\n",
       "  </thead>\n",
       "  <tbody>\n",
       "    <tr>\n",
       "      <th>0</th>\n",
       "      <td>2011-10-01 11:45:13.917000+02:00</td>\n",
       "      <td>173688</td>\n",
       "      <td>W_Completeren aanvraag</td>\n",
       "    </tr>\n",
       "    <tr>\n",
       "      <th>1</th>\n",
       "      <td>2011-10-01 12:17:08.924000+02:00</td>\n",
       "      <td>173688</td>\n",
       "      <td>W_Nabellen offertes</td>\n",
       "    </tr>\n",
       "    <tr>\n",
       "      <th>2</th>\n",
       "      <td>2011-10-08 16:32:00.886000+02:00</td>\n",
       "      <td>173688</td>\n",
       "      <td>W_Nabellen offertes</td>\n",
       "    </tr>\n",
       "    <tr>\n",
       "      <th>3</th>\n",
       "      <td>2011-10-10 11:33:05.791000+02:00</td>\n",
       "      <td>173688</td>\n",
       "      <td>W_Nabellen offertes</td>\n",
       "    </tr>\n",
       "    <tr>\n",
       "      <th>4</th>\n",
       "      <td>2011-10-13 10:37:37.026000+02:00</td>\n",
       "      <td>173688</td>\n",
       "      <td>W_Valideren aanvraag</td>\n",
       "    </tr>\n",
       "    <tr>\n",
       "      <th>...</th>\n",
       "      <td>...</td>\n",
       "      <td>...</td>\n",
       "      <td>...</td>\n",
       "    </tr>\n",
       "    <tr>\n",
       "      <th>72408</th>\n",
       "      <td>2012-03-01 09:28:21.228000+01:00</td>\n",
       "      <td>214370</td>\n",
       "      <td>W_Afhandelen leads</td>\n",
       "    </tr>\n",
       "    <tr>\n",
       "      <th>72409</th>\n",
       "      <td>2012-03-01 09:27:52.388000+01:00</td>\n",
       "      <td>214373</td>\n",
       "      <td>W_Afhandelen leads</td>\n",
       "    </tr>\n",
       "    <tr>\n",
       "      <th>72410</th>\n",
       "      <td>2012-03-01 20:22:41.157000+01:00</td>\n",
       "      <td>214373</td>\n",
       "      <td>W_Completeren aanvraag</td>\n",
       "    </tr>\n",
       "    <tr>\n",
       "      <th>72411</th>\n",
       "      <td>2012-03-10 12:50:54.881000+01:00</td>\n",
       "      <td>214373</td>\n",
       "      <td>W_Nabellen offertes</td>\n",
       "    </tr>\n",
       "    <tr>\n",
       "      <th>72412</th>\n",
       "      <td>2012-03-01 09:27:41.325000+01:00</td>\n",
       "      <td>214376</td>\n",
       "      <td>W_Afhandelen leads</td>\n",
       "    </tr>\n",
       "  </tbody>\n",
       "</table>\n",
       "<p>72413 rows × 3 columns</p>\n",
       "</div>"
      ],
      "text/plain": [
       "                              timestamp  trace_id                activity\n",
       "0      2011-10-01 11:45:13.917000+02:00    173688  W_Completeren aanvraag\n",
       "1      2011-10-01 12:17:08.924000+02:00    173688     W_Nabellen offertes\n",
       "2      2011-10-08 16:32:00.886000+02:00    173688     W_Nabellen offertes\n",
       "3      2011-10-10 11:33:05.791000+02:00    173688     W_Nabellen offertes\n",
       "4      2011-10-13 10:37:37.026000+02:00    173688    W_Valideren aanvraag\n",
       "...                                 ...       ...                     ...\n",
       "72408  2012-03-01 09:28:21.228000+01:00    214370      W_Afhandelen leads\n",
       "72409  2012-03-01 09:27:52.388000+01:00    214373      W_Afhandelen leads\n",
       "72410  2012-03-01 20:22:41.157000+01:00    214373  W_Completeren aanvraag\n",
       "72411  2012-03-10 12:50:54.881000+01:00    214373     W_Nabellen offertes\n",
       "72412  2012-03-01 09:27:41.325000+01:00    214376      W_Afhandelen leads\n",
       "\n",
       "[72413 rows x 3 columns]"
      ]
     },
     "execution_count": 26,
     "metadata": {},
     "output_type": "execute_result"
    }
   ],
   "source": [
    "df"
   ]
  },
  {
   "cell_type": "code",
   "execution_count": 27,
   "metadata": {},
   "outputs": [],
   "source": [
    "import rl4pm_lib.preprocessing as preprocessing\n",
    "\n",
    "\n",
    "prepro = preprocessing.DfPreprocesser()\n",
    "prepro.fit(df)\n",
    "df_preprocessed = prepro.transform(df)\n",
    "df_preprocessed.to_csv('bpi_12_preprocessed.csv', index=False)"
   ]
  },
  {
   "cell_type": "code",
   "execution_count": 28,
   "metadata": {},
   "outputs": [
    {
     "data": {
      "text/html": [
       "<div>\n",
       "<style scoped>\n",
       "    .dataframe tbody tr th:only-of-type {\n",
       "        vertical-align: middle;\n",
       "    }\n",
       "\n",
       "    .dataframe tbody tr th {\n",
       "        vertical-align: top;\n",
       "    }\n",
       "\n",
       "    .dataframe thead th {\n",
       "        text-align: right;\n",
       "    }\n",
       "</style>\n",
       "<table border=\"1\" class=\"dataframe\">\n",
       "  <thead>\n",
       "    <tr style=\"text-align: right;\">\n",
       "      <th></th>\n",
       "      <th>tt</th>\n",
       "      <th>te</th>\n",
       "      <th>tw</th>\n",
       "      <th>timestamp</th>\n",
       "      <th>trace_id</th>\n",
       "      <th>W_Afhandelen leads</th>\n",
       "      <th>W_Beoordelen fraude</th>\n",
       "      <th>W_Completeren aanvraag</th>\n",
       "      <th>W_Nabellen incomplete dossiers</th>\n",
       "      <th>W_Nabellen offertes</th>\n",
       "      <th>W_Valideren aanvraag</th>\n",
       "    </tr>\n",
       "  </thead>\n",
       "  <tbody>\n",
       "    <tr>\n",
       "      <th>0</th>\n",
       "      <td>0.000</td>\n",
       "      <td>0.000</td>\n",
       "      <td>474313.917</td>\n",
       "      <td>2011-10-01 11:45:13.917000+02:00</td>\n",
       "      <td>173688</td>\n",
       "      <td>0</td>\n",
       "      <td>0</td>\n",
       "      <td>1</td>\n",
       "      <td>0</td>\n",
       "      <td>0</td>\n",
       "      <td>0</td>\n",
       "    </tr>\n",
       "    <tr>\n",
       "      <th>1</th>\n",
       "      <td>1915.007</td>\n",
       "      <td>1915.007</td>\n",
       "      <td>476228.924</td>\n",
       "      <td>2011-10-01 12:17:08.924000+02:00</td>\n",
       "      <td>173688</td>\n",
       "      <td>0</td>\n",
       "      <td>0</td>\n",
       "      <td>0</td>\n",
       "      <td>0</td>\n",
       "      <td>1</td>\n",
       "      <td>0</td>\n",
       "    </tr>\n",
       "    <tr>\n",
       "      <th>2</th>\n",
       "      <td>622006.969</td>\n",
       "      <td>620091.962</td>\n",
       "      <td>491520.886</td>\n",
       "      <td>2011-10-08 16:32:00.886000+02:00</td>\n",
       "      <td>173688</td>\n",
       "      <td>0</td>\n",
       "      <td>0</td>\n",
       "      <td>0</td>\n",
       "      <td>0</td>\n",
       "      <td>1</td>\n",
       "      <td>0</td>\n",
       "    </tr>\n",
       "    <tr>\n",
       "      <th>3</th>\n",
       "      <td>776871.874</td>\n",
       "      <td>154864.905</td>\n",
       "      <td>41585.791</td>\n",
       "      <td>2011-10-10 11:33:05.791000+02:00</td>\n",
       "      <td>173688</td>\n",
       "      <td>0</td>\n",
       "      <td>0</td>\n",
       "      <td>0</td>\n",
       "      <td>0</td>\n",
       "      <td>1</td>\n",
       "      <td>0</td>\n",
       "    </tr>\n",
       "    <tr>\n",
       "      <th>4</th>\n",
       "      <td>1032743.109</td>\n",
       "      <td>255871.235</td>\n",
       "      <td>297457.026</td>\n",
       "      <td>2011-10-13 10:37:37.026000+02:00</td>\n",
       "      <td>173688</td>\n",
       "      <td>0</td>\n",
       "      <td>0</td>\n",
       "      <td>0</td>\n",
       "      <td>0</td>\n",
       "      <td>0</td>\n",
       "      <td>1</td>\n",
       "    </tr>\n",
       "    <tr>\n",
       "      <th>...</th>\n",
       "      <td>...</td>\n",
       "      <td>...</td>\n",
       "      <td>...</td>\n",
       "      <td>...</td>\n",
       "      <td>...</td>\n",
       "      <td>...</td>\n",
       "      <td>...</td>\n",
       "      <td>...</td>\n",
       "      <td>...</td>\n",
       "      <td>...</td>\n",
       "      <td>...</td>\n",
       "    </tr>\n",
       "    <tr>\n",
       "      <th>72408</th>\n",
       "      <td>0.000</td>\n",
       "      <td>0.000</td>\n",
       "      <td>293301.228</td>\n",
       "      <td>2012-03-01 09:28:21.228000+01:00</td>\n",
       "      <td>214370</td>\n",
       "      <td>1</td>\n",
       "      <td>0</td>\n",
       "      <td>0</td>\n",
       "      <td>0</td>\n",
       "      <td>0</td>\n",
       "      <td>0</td>\n",
       "    </tr>\n",
       "    <tr>\n",
       "      <th>72409</th>\n",
       "      <td>0.000</td>\n",
       "      <td>0.000</td>\n",
       "      <td>293272.388</td>\n",
       "      <td>2012-03-01 09:27:52.388000+01:00</td>\n",
       "      <td>214373</td>\n",
       "      <td>1</td>\n",
       "      <td>0</td>\n",
       "      <td>0</td>\n",
       "      <td>0</td>\n",
       "      <td>0</td>\n",
       "      <td>0</td>\n",
       "    </tr>\n",
       "    <tr>\n",
       "      <th>72410</th>\n",
       "      <td>39288.769</td>\n",
       "      <td>39288.769</td>\n",
       "      <td>332561.157</td>\n",
       "      <td>2012-03-01 20:22:41.157000+01:00</td>\n",
       "      <td>214373</td>\n",
       "      <td>0</td>\n",
       "      <td>0</td>\n",
       "      <td>1</td>\n",
       "      <td>0</td>\n",
       "      <td>0</td>\n",
       "      <td>0</td>\n",
       "    </tr>\n",
       "    <tr>\n",
       "      <th>72411</th>\n",
       "      <td>789782.493</td>\n",
       "      <td>750493.724</td>\n",
       "      <td>478254.881</td>\n",
       "      <td>2012-03-10 12:50:54.881000+01:00</td>\n",
       "      <td>214373</td>\n",
       "      <td>0</td>\n",
       "      <td>0</td>\n",
       "      <td>0</td>\n",
       "      <td>0</td>\n",
       "      <td>1</td>\n",
       "      <td>0</td>\n",
       "    </tr>\n",
       "    <tr>\n",
       "      <th>72412</th>\n",
       "      <td>0.000</td>\n",
       "      <td>0.000</td>\n",
       "      <td>293261.325</td>\n",
       "      <td>2012-03-01 09:27:41.325000+01:00</td>\n",
       "      <td>214376</td>\n",
       "      <td>1</td>\n",
       "      <td>0</td>\n",
       "      <td>0</td>\n",
       "      <td>0</td>\n",
       "      <td>0</td>\n",
       "      <td>0</td>\n",
       "    </tr>\n",
       "  </tbody>\n",
       "</table>\n",
       "<p>72413 rows × 11 columns</p>\n",
       "</div>"
      ],
      "text/plain": [
       "                tt          te          tw                         timestamp  \\\n",
       "0            0.000       0.000  474313.917  2011-10-01 11:45:13.917000+02:00   \n",
       "1         1915.007    1915.007  476228.924  2011-10-01 12:17:08.924000+02:00   \n",
       "2       622006.969  620091.962  491520.886  2011-10-08 16:32:00.886000+02:00   \n",
       "3       776871.874  154864.905   41585.791  2011-10-10 11:33:05.791000+02:00   \n",
       "4      1032743.109  255871.235  297457.026  2011-10-13 10:37:37.026000+02:00   \n",
       "...            ...         ...         ...                               ...   \n",
       "72408        0.000       0.000  293301.228  2012-03-01 09:28:21.228000+01:00   \n",
       "72409        0.000       0.000  293272.388  2012-03-01 09:27:52.388000+01:00   \n",
       "72410    39288.769   39288.769  332561.157  2012-03-01 20:22:41.157000+01:00   \n",
       "72411   789782.493  750493.724  478254.881  2012-03-10 12:50:54.881000+01:00   \n",
       "72412        0.000       0.000  293261.325  2012-03-01 09:27:41.325000+01:00   \n",
       "\n",
       "       trace_id  W_Afhandelen leads  W_Beoordelen fraude  \\\n",
       "0        173688                   0                    0   \n",
       "1        173688                   0                    0   \n",
       "2        173688                   0                    0   \n",
       "3        173688                   0                    0   \n",
       "4        173688                   0                    0   \n",
       "...         ...                 ...                  ...   \n",
       "72408    214370                   1                    0   \n",
       "72409    214373                   1                    0   \n",
       "72410    214373                   0                    0   \n",
       "72411    214373                   0                    0   \n",
       "72412    214376                   1                    0   \n",
       "\n",
       "       W_Completeren aanvraag  W_Nabellen incomplete dossiers  \\\n",
       "0                           1                               0   \n",
       "1                           0                               0   \n",
       "2                           0                               0   \n",
       "3                           0                               0   \n",
       "4                           0                               0   \n",
       "...                       ...                             ...   \n",
       "72408                       0                               0   \n",
       "72409                       0                               0   \n",
       "72410                       1                               0   \n",
       "72411                       0                               0   \n",
       "72412                       0                               0   \n",
       "\n",
       "       W_Nabellen offertes  W_Valideren aanvraag  \n",
       "0                        0                     0  \n",
       "1                        1                     0  \n",
       "2                        1                     0  \n",
       "3                        1                     0  \n",
       "4                        0                     1  \n",
       "...                    ...                   ...  \n",
       "72408                    0                     0  \n",
       "72409                    0                     0  \n",
       "72410                    0                     0  \n",
       "72411                    1                     0  \n",
       "72412                    0                     0  \n",
       "\n",
       "[72413 rows x 11 columns]"
      ]
     },
     "execution_count": 28,
     "metadata": {},
     "output_type": "execute_result"
    }
   ],
   "source": [
    "df_preprocessed"
   ]
  },
  {
   "cell_type": "code",
   "execution_count": 29,
   "metadata": {},
   "outputs": [
    {
     "data": {
      "image/png": "[encoded data removed]",
      "text/plain": [
       "<Figure size 432x288 with 1 Axes>"
      ]
     },
     "metadata": {},
     "output_type": "display_data"
    }
   ],
   "source": [
    "tts = []\n",
    "for _tid in set(df_preprocessed['trace_id'].values):\n",
    "    tts.append(df_preprocessed[df_preprocessed['trace_id']==_tid]['tt'].values[-1])\n",
    "    \n",
    "plt.hist(np.array(tts) / 3600 / 24, bins=50)\n",
    "plt.title('$t_t$ distribution')\n",
    "plt.xlabel('$t_t$, days')\n",
    "plt.ylabel('count')\n",
    "plt.show()"
   ]
  },
  {
   "cell_type": "code",
   "execution_count": 33,
   "metadata": {},
   "outputs": [
    {
     "data": {
      "text/plain": [
       "1.5204848279682104"
      ]
     },
     "execution_count": 33,
     "metadata": {},
     "output_type": "execute_result"
    }
   ],
   "source": [
    "df_preprocessed['te'].mean()  /3600 / 24"
   ]
  },
  {
   "cell_type": "code",
   "execution_count": 34,
   "metadata": {},
   "outputs": [
    {
     "data": {
      "text/plain": [
       "0.12482668981481482"
      ]
     },
     "execution_count": 34,
     "metadata": {},
     "output_type": "execute_result"
    }
   ],
   "source": [
    "df_preprocessed['te'].median()  /3600 / 24"
   ]
  },
  {
   "cell_type": "code",
   "execution_count": 30,
   "metadata": {},
   "outputs": [
    {
     "data": {
      "image/png": "[encoded data removed]",
      "text/plain": [
       "<Figure size 432x288 with 1 Axes>"
      ]
     },
     "metadata": {},
     "output_type": "display_data"
    }
   ],
   "source": [
    "plt.hist(df_preprocessed['te'].values /3600 / 24, bins=50)\n",
    "plt.title('$t_e$ distribution')\n",
    "plt.xlabel('$t_e$, days')\n",
    "plt.ylabel('count')\n",
    "plt.show()"
   ]
  },
  {
   "cell_type": "code",
   "execution_count": 31,
   "metadata": {},
   "outputs": [
    {
     "data": {
      "image/png": "[encoded data removed]",
      "text/plain": [
       "<Figure size 432x288 with 1 Axes>"
      ]
     },
     "metadata": {},
     "output_type": "display_data"
    }
   ],
   "source": [
    "low_bond = 24 *  60 * 60\n",
    "plt.hist(df_preprocessed[df_preprocessed['te'] > low_bond]['te'].values  /3600 / 24, bins=50)\n",
    "plt.title(f'$t_e >$ {low_bond / 60 / 60: .1f} h distribution')\n",
    "plt.xlabel('$t_e$, days')\n",
    "plt.ylabel('count')\n",
    "plt.show()"
   ]
  },
  {
   "cell_type": "markdown",
   "metadata": {},
   "source": [
    "This distribution is far from uniform too"
   ]
  },
  {
   "cell_type": "code",
   "execution_count": 23,
   "metadata": {},
   "outputs": [
    {
     "name": "stdout",
     "output_type": "stream",
     "text": [
      "90.0 % of $te$ are less then  140.73 h\n",
      "95.0 % of $te$ are less then  173.25 h\n",
      "97.0 % of $te$ are less then  193.57 h\n",
      "99.0 % of $te$ are less then  307.72 h\n"
     ]
    }
   ],
   "source": [
    "for quant in [0.9, 0.95, 0.97, 0.99]:\n",
    "    print(f'{quant * 100} % of $te$ are less then {np.quantile(df_preprocessed[\"te\"].values, quant) / (60 * 60): .2f} h')"
   ]
  },
  {
   "cell_type": "markdown",
   "metadata": {},
   "source": [
    "## What is wrong with this visualization\n",
    "- transition matrix has a lot of `nan`\n",
    "- Whant to see which transitions lead to high $t_e$ \n",
    "### SberProcessMining\n",
    "Let's use [this](https://github.com/SberProcessMining/Sber_Process_Mining) repo to got a nice visualization"
   ]
  },
  {
   "cell_type": "code",
   "execution_count": 24,
   "metadata": {
    "scrolled": true
   },
   "outputs": [
    {
     "name": "stdout",
     "output_type": "stream",
     "text": [
      "Requirement already satisfied: sberpm in c:\\users\\pc\\appdata\\local\\programs\\python\\python38\\lib\\site-packages (1.1.0)\n",
      "Requirement already satisfied: matplotlib in c:\\users\\pc\\appdata\\local\\programs\\python\\python38\\lib\\site-packages (from sberpm) (3.3.2)\n",
      "Requirement already satisfied: graphviz>=0.13.2 in c:\\users\\pc\\appdata\\local\\programs\\python\\python38\\lib\\site-packages (from sberpm) (0.16)\n",
      "Requirement already satisfied: scipy>=1.4.1 in c:\\users\\pc\\appdata\\roaming\\python\\python38\\site-packages (from sberpm) (1.5.4)\n",
      "Requirement already satisfied: plotly>=4.9.0 in c:\\users\\pc\\appdata\\local\\programs\\python\\python38\\lib\\site-packages (from sberpm) (4.9.0)\n",
      "Requirement already satisfied: IPython in c:\\users\\pc\\appdata\\local\\programs\\python\\python38\\lib\\site-packages (from sberpm) (7.18.1)\n",
      "Requirement already satisfied: numpy>=1.18.1 in c:\\users\\pc\\appdata\\roaming\\python\\python38\\site-packages (from sberpm) (1.18.5)\n",
      "Requirement already satisfied: scikit-learn>=0.23.2 in c:\\users\\pc\\appdata\\local\\programs\\python\\python38\\lib\\site-packages (from sberpm) (0.23.2)\n",
      "Requirement already satisfied: pydotplus>=2.0.2 in c:\\users\\pc\\appdata\\local\\programs\\python\\python38\\lib\\site-packages (from sberpm) (2.0.2)\n",
      "Requirement already satisfied: pandas>=1.1.0 in c:\\users\\pc\\appdata\\local\\programs\\python\\python38\\lib\\site-packages (from sberpm) (1.1.2)\n",
      "Requirement already satisfied: nbformat>=4.2.0 in c:\\users\\pc\\appdata\\local\\programs\\python\\python38\\lib\\site-packages (from sberpm) (5.0.8)\n",
      "Requirement already satisfied: traitlets>=4.2 in c:\\users\\pc\\appdata\\local\\programs\\python\\python38\\lib\\site-packages (from IPython->sberpm) (5.0.5)\n",
      "Requirement already satisfied: decorator in c:\\users\\pc\\appdata\\local\\programs\\python\\python38\\lib\\site-packages (from IPython->sberpm) (4.4.2)\n",
      "Requirement already satisfied: backcall in c:\\users\\pc\\appdata\\local\\programs\\python\\python38\\lib\\site-packages (from IPython->sberpm) (0.2.0)\n",
      "Requirement already satisfied: colorama in c:\\users\\pc\\appdata\\local\\programs\\python\\python38\\lib\\site-packages (from IPython->sberpm) (0.4.4)\n",
      "Requirement already satisfied: prompt-toolkit!=3.0.0,!=3.0.1,<3.1.0,>=2.0.0 in c:\\users\\pc\\appdata\\local\\programs\\python\\python38\\lib\\site-packages (from IPython->sberpm) (3.0.8)\n",
      "Requirement already satisfied: pickleshare in c:\\users\\pc\\appdata\\local\\programs\\python\\python38\\lib\\site-packages (from IPython->sberpm) (0.7.5)\n",
      "Requirement already satisfied: pygments in c:\\users\\pc\\appdata\\local\\programs\\python\\python38\\lib\\site-packages (from IPython->sberpm) (2.7.1)\n",
      "Requirement already satisfied: jedi>=0.10 in c:\\users\\pc\\appdata\\local\\programs\\python\\python38\\lib\\site-packages (from IPython->sberpm) (0.17.2)\n",
      "Requirement already satisfied: setuptools>=18.5 in c:\\users\\pc\\appdata\\local\\programs\\python\\python38\\lib\\site-packages (from IPython->sberpm) (51.0.0)\n",
      "Requirement already satisfied: parso<0.8.0,>=0.7.0 in c:\\users\\pc\\appdata\\local\\programs\\python\\python38\\lib\\site-packages (from jedi>=0.10->IPython->sberpm) (0.7.1)\n",
      "Requirement already satisfied: pillow>=6.2.0 in c:\\users\\pc\\appdata\\local\\programs\\python\\python38\\lib\\site-packages (from matplotlib->sberpm) (7.2.0)\n",
      "Requirement already satisfied: numpy>=1.18.1 in c:\\users\\pc\\appdata\\roaming\\python\\python38\\site-packages (from sberpm) (1.18.5)\n",
      "Requirement already satisfied: certifi>=2020.06.20 in c:\\users\\pc\\appdata\\local\\programs\\python\\python38\\lib\\site-packages (from matplotlib->sberpm) (2020.6.20)\n",
      "Requirement already satisfied: pyparsing!=2.0.4,!=2.1.2,!=2.1.6,>=2.0.3 in c:\\users\\pc\\appdata\\local\\programs\\python\\python38\\lib\\site-packages (from matplotlib->sberpm) (2.4.7)\n",
      "Requirement already satisfied: cycler>=0.10 in c:\\users\\pc\\appdata\\local\\programs\\python\\python38\\lib\\site-packages (from matplotlib->sberpm) (0.10.0)\n",
      "Requirement already satisfied: python-dateutil>=2.1 in c:\\users\\pc\\appdata\\local\\programs\\python\\python38\\lib\\site-packages (from matplotlib->sberpm) (2.8.1)\n",
      "Requirement already satisfied: kiwisolver>=1.0.1 in c:\\users\\pc\\appdata\\local\\programs\\python\\python38\\lib\\site-packages (from matplotlib->sberpm) (1.2.0)\n",
      "Requirement already satisfied: six in c:\\users\\pc\\appdata\\local\\programs\\python\\python38\\lib\\site-packages (from cycler>=0.10->matplotlib->sberpm) (1.15.0)\n",
      "Requirement already satisfied: jupyter-core in c:\\users\\pc\\appdata\\local\\programs\\python\\python38\\lib\\site-packages (from nbformat>=4.2.0->sberpm) (4.6.3)\n",
      "Requirement already satisfied: ipython-genutils in c:\\users\\pc\\appdata\\local\\programs\\python\\python38\\lib\\site-packages (from nbformat>=4.2.0->sberpm) (0.2.0)\n",
      "Requirement already satisfied: jsonschema!=2.5.0,>=2.4 in c:\\users\\pc\\appdata\\local\\programs\\python\\python38\\lib\\site-packages (from nbformat>=4.2.0->sberpm) (3.2.0)\n",
      "Requirement already satisfied: traitlets>=4.2 in c:\\users\\pc\\appdata\\local\\programs\\python\\python38\\lib\\site-packages (from IPython->sberpm) (5.0.5)\n",
      "Requirement already satisfied: attrs>=17.4.0 in c:\\users\\pc\\appdata\\local\\programs\\python\\python38\\lib\\site-packages (from jsonschema!=2.5.0,>=2.4->nbformat>=4.2.0->sberpm) (20.2.0)\n",
      "Requirement already satisfied: setuptools>=18.5 in c:\\users\\pc\\appdata\\local\\programs\\python\\python38\\lib\\site-packages (from IPython->sberpm) (51.0.0)\n",
      "Requirement already satisfied: six in c:\\users\\pc\\appdata\\local\\programs\\python\\python38\\lib\\site-packages (from cycler>=0.10->matplotlib->sberpm) (1.15.0)\n",
      "Requirement already satisfied: pyrsistent>=0.14.0 in c:\\users\\pc\\appdata\\local\\programs\\python\\python38\\lib\\site-packages (from jsonschema!=2.5.0,>=2.4->nbformat>=4.2.0->sberpm) (0.17.3)\n",
      "Requirement already satisfied: pywin32>=1.0 in c:\\users\\pc\\appdata\\local\\programs\\python\\python38\\lib\\site-packages (from jupyter-core->nbformat>=4.2.0->sberpm) (228)\n",
      "Requirement already satisfied: traitlets>=4.2 in c:\\users\\pc\\appdata\\local\\programs\\python\\python38\\lib\\site-packages (from IPython->sberpm) (5.0.5)\n",
      "Requirement already satisfied: numpy>=1.18.1 in c:\\users\\pc\\appdata\\roaming\\python\\python38\\site-packages (from sberpm) (1.18.5)\n",
      "Requirement already satisfied: pytz>=2017.2 in c:\\users\\pc\\appdata\\local\\programs\\python\\python38\\lib\\site-packages (from pandas>=1.1.0->sberpm) (2020.1)\n",
      "Requirement already satisfied: python-dateutil>=2.1 in c:\\users\\pc\\appdata\\local\\programs\\python\\python38\\lib\\site-packages (from matplotlib->sberpm) (2.8.1)\n",
      "Requirement already satisfied: retrying>=1.3.3 in c:\\users\\pc\\appdata\\local\\programs\\python\\python38\\lib\\site-packages (from plotly>=4.9.0->sberpm) (1.3.3)\n",
      "Requirement already satisfied: six in c:\\users\\pc\\appdata\\local\\programs\\python\\python38\\lib\\site-packages (from cycler>=0.10->matplotlib->sberpm) (1.15.0)\n",
      "Requirement already satisfied: wcwidth in c:\\users\\pc\\appdata\\local\\programs\\python\\python38\\lib\\site-packages (from prompt-toolkit!=3.0.0,!=3.0.1,<3.1.0,>=2.0.0->IPython->sberpm) (0.2.5)\n",
      "Requirement already satisfied: pyparsing!=2.0.4,!=2.1.2,!=2.1.6,>=2.0.3 in c:\\users\\pc\\appdata\\local\\programs\\python\\python38\\lib\\site-packages (from matplotlib->sberpm) (2.4.7)\n",
      "Requirement already satisfied: six in c:\\users\\pc\\appdata\\local\\programs\\python\\python38\\lib\\site-packages (from cycler>=0.10->matplotlib->sberpm) (1.15.0)\n",
      "Requirement already satisfied: six in c:\\users\\pc\\appdata\\local\\programs\\python\\python38\\lib\\site-packages (from cycler>=0.10->matplotlib->sberpm) (1.15.0)\n",
      "Requirement already satisfied: threadpoolctl>=2.0.0 in c:\\users\\pc\\appdata\\local\\programs\\python\\python38\\lib\\site-packages (from scikit-learn>=0.23.2->sberpm) (2.1.0)\n",
      "Requirement already satisfied: joblib>=0.11 in c:\\users\\pc\\appdata\\local\\programs\\python\\python38\\lib\\site-packages (from scikit-learn>=0.23.2->sberpm) (0.17.0)\n",
      "Requirement already satisfied: scipy>=1.4.1 in c:\\users\\pc\\appdata\\roaming\\python\\python38\\site-packages (from sberpm) (1.5.4)\n",
      "Requirement already satisfied: numpy>=1.18.1 in c:\\users\\pc\\appdata\\roaming\\python\\python38\\site-packages (from sberpm) (1.18.5)\n",
      "Requirement already satisfied: numpy>=1.18.1 in c:\\users\\pc\\appdata\\roaming\\python\\python38\\site-packages (from sberpm) (1.18.5)\n",
      "Requirement already satisfied: ipython-genutils in c:\\users\\pc\\appdata\\local\\programs\\python\\python38\\lib\\site-packages (from nbformat>=4.2.0->sberpm) (0.2.0)\n"
     ]
    },
    {
     "name": "stderr",
     "output_type": "stream",
     "text": [
      "WARNING: You are using pip version 20.3.1; however, version 21.1.2 is available.\n",
      "You should consider upgrading via the 'c:\\users\\pc\\appdata\\local\\programs\\python\\python38\\python.exe -m pip install --upgrade pip' command.\n"
     ]
    }
   ],
   "source": [
    "! pip install sberpm"
   ]
  },
  {
   "cell_type": "code",
   "execution_count": 25,
   "metadata": {},
   "outputs": [],
   "source": [
    "from sberpm import DataHolder"
   ]
  },
  {
   "cell_type": "code",
   "execution_count": 26,
   "metadata": {},
   "outputs": [
    {
     "name": "stderr",
     "output_type": "stream",
     "text": [
      "c:\\users\\pc\\appdata\\local\\programs\\python\\python38\\lib\\site-packages\\sberpm\\_holder.py:307: UserWarning: DataHolder: 'time_format' is not set, recommended to specify it for correct time conversion, e.g., time_format='%d-%m-%Y %H:%M:%S'\n",
      "  warnings.warn(\"DataHolder: 'time_format' is not set, \"\n",
      "c:\\users\\pc\\appdata\\local\\programs\\python\\python38\\lib\\site-packages\\sberpm\\_holder.py:339: UserWarning: DataHolder: timestamp auto conversion will be done. 'dayfirst' is not set, in ambiguous cases it will be considered as False.\n",
      "  warnings.warn(f\"DataHolder: timestamp auto conversion will be done. '{argument}' \"\n",
      "c:\\users\\pc\\appdata\\local\\programs\\python\\python38\\lib\\site-packages\\sberpm\\_holder.py:339: UserWarning: DataHolder: timestamp auto conversion will be done. 'yearfirst' is not set, in ambiguous cases it will be considered as False.\n",
      "  warnings.warn(f\"DataHolder: timestamp auto conversion will be done. '{argument}' \"\n"
     ]
    }
   ],
   "source": [
    "data_holder = DataHolder(data=df, \n",
    "                         id_column='trace_id', \n",
    "                         activity_column='activity', \n",
    "                         start_timestamp_column='timestamp')"
   ]
  },
  {
   "cell_type": "markdown",
   "metadata": {},
   "source": [
    "Strange warnings. It read all right, enven pandas can read datetime with no additional formats, so why does it nedd it, dunno"
   ]
  },
  {
   "cell_type": "code",
   "execution_count": 27,
   "metadata": {},
   "outputs": [
    {
     "data": {
      "text/html": [
       "<div>\n",
       "<style scoped>\n",
       "    .dataframe tbody tr th:only-of-type {\n",
       "        vertical-align: middle;\n",
       "    }\n",
       "\n",
       "    .dataframe tbody tr th {\n",
       "        vertical-align: top;\n",
       "    }\n",
       "\n",
       "    .dataframe thead th {\n",
       "        text-align: right;\n",
       "    }\n",
       "</style>\n",
       "<table border=\"1\" class=\"dataframe\">\n",
       "  <thead>\n",
       "    <tr style=\"text-align: right;\">\n",
       "      <th></th>\n",
       "      <th>timestamp</th>\n",
       "      <th>trace_id</th>\n",
       "      <th>activity</th>\n",
       "    </tr>\n",
       "  </thead>\n",
       "  <tbody>\n",
       "    <tr>\n",
       "      <th>0</th>\n",
       "      <td>2011-10-01 09:45:13.917000+00:00</td>\n",
       "      <td>173688</td>\n",
       "      <td>W_Completeren aanvraag</td>\n",
       "    </tr>\n",
       "    <tr>\n",
       "      <th>1</th>\n",
       "      <td>2011-10-01 10:17:08.924000+00:00</td>\n",
       "      <td>173688</td>\n",
       "      <td>W_Nabellen offertes</td>\n",
       "    </tr>\n",
       "    <tr>\n",
       "      <th>2</th>\n",
       "      <td>2011-10-08 14:32:00.886000+00:00</td>\n",
       "      <td>173688</td>\n",
       "      <td>W_Nabellen offertes</td>\n",
       "    </tr>\n",
       "  </tbody>\n",
       "</table>\n",
       "</div>"
      ],
      "text/plain": [
       "                         timestamp trace_id                activity\n",
       "0 2011-10-01 09:45:13.917000+00:00   173688  W_Completeren aanvraag\n",
       "1 2011-10-01 10:17:08.924000+00:00   173688     W_Nabellen offertes\n",
       "2 2011-10-08 14:32:00.886000+00:00   173688     W_Nabellen offertes"
      ]
     },
     "execution_count": 27,
     "metadata": {},
     "output_type": "execute_result"
    }
   ],
   "source": [
    "data_holder.data.head(3)"
   ]
  },
  {
   "cell_type": "code",
   "execution_count": 28,
   "metadata": {},
   "outputs": [],
   "source": [
    "from sberpm.autoinsights import AutoInsights\n",
    "from sberpm.miners import SimpleMiner\n",
    "from sberpm.visual import GraphvizPainter"
   ]
  },
  {
   "cell_type": "markdown",
   "metadata": {},
   "source": [
    "the longest-lasting transitions are colored red"
   ]
  },
  {
   "cell_type": "code",
   "execution_count": 29,
   "metadata": {},
   "outputs": [
    {
     "name": "stdout",
     "output_type": "stream",
     "text": [
      "Requirement already satisfied: graphviz in c:\\users\\pc\\appdata\\local\\programs\\python\\python38\\lib\\site-packages (0.16)\n"
     ]
    },
    {
     "name": "stderr",
     "output_type": "stream",
     "text": [
      "WARNING: You are using pip version 20.3.1; however, version 21.1.2 is available.\n",
      "You should consider upgrading via the 'c:\\users\\pc\\appdata\\local\\programs\\python\\python38\\python.exe -m pip install --upgrade pip' command.\n"
     ]
    }
   ],
   "source": [
    "! pip install graphviz"
   ]
  },
  {
   "cell_type": "code",
   "execution_count": 30,
   "metadata": {
    "scrolled": false
   },
   "outputs": [
    {
     "data": {
      "text/html": [
       "<?xml version=\"1.0\" encoding=\"UTF-8\" standalone=\"no\"?>\r\n",
       "<!DOCTYPE svg PUBLIC \"-//W3C//DTD SVG 1.1//EN\"\r\n",
       " \"http://www.w3.org/Graphics/SVG/1.1/DTD/svg11.dtd\">\r\n",
       "<!-- Generated by graphviz version 2.47.1 (20210417.1919)\r\n",
       " -->\r\n",
       "<!-- Pages: 1 -->\r\n",
       "<svg width=\"694pt\" height=\"538pt\"\r\n",
       " viewBox=\"0.00 0.00 694.00 538.00\" xmlns=\"http://www.w3.org/2000/svg\" xmlns:xlink=\"http://www.w3.org/1999/xlink\">\r\n",
       "<g id=\"graph0\" class=\"graph\" transform=\"scale(1 1) rotate(0) translate(4 534)\">\r\n",
       "<polygon fill=\"white\" stroke=\"transparent\" points=\"-4,4 -4,-534 690,-534 690,4 -4,4\"/>\r\n",
       "<!-- W_Completeren aanvraag -->\r\n",
       "<g id=\"node1\" class=\"node\">\r\n",
       "<title>W_Completeren aanvraag</title>\r\n",
       "<polygon fill=\"red\" stroke=\"black\" points=\"286.5,-457 125.5,-457 125.5,-421 286.5,-421 286.5,-457\"/>\r\n",
       "<text text-anchor=\"middle\" x=\"206\" y=\"-435.3\" font-family=\"Times New Roman,serif\" font-size=\"14.00\">W_Completeren aanvraag</text>\r\n",
       "</g>\r\n",
       "<!-- W_Completeren aanvraag&#45;&gt;W_Completeren aanvraag -->\r\n",
       "<g id=\"edge14\" class=\"edge\">\r\n",
       "<title>W_Completeren aanvraag&#45;&gt;W_Completeren aanvraag</title>\r\n",
       "<path fill=\"none\" stroke=\"red\" stroke-width=\"5\" d=\"M286.77,-444.95C297.43,-443.94 304.5,-441.95 304.5,-439 304.5,-437.11 301.6,-435.61 296.71,-434.52\"/>\r\n",
       "<polygon fill=\"red\" stroke=\"red\" stroke-width=\"5\" points=\"297.3,-430.18 286.77,-433.05 296.02,-438.84 297.3,-430.18\"/>\r\n",
       "<text text-anchor=\"middle\" x=\"323.5\" y=\"-435.3\" font-family=\"Times New Roman,serif\" font-size=\"14.00\">1.2day</text>\r\n",
       "</g>\r\n",
       "<!-- W_Nabellen offertes -->\r\n",
       "<g id=\"node2\" class=\"node\">\r\n",
       "<title>W_Nabellen offertes</title>\r\n",
       "<polygon fill=\"grey\" stroke=\"black\" points=\"366,-370 234,-370 234,-334 366,-334 366,-370\"/>\r\n",
       "<text text-anchor=\"middle\" x=\"300\" y=\"-348.3\" font-family=\"Times New Roman,serif\" font-size=\"14.00\">W_Nabellen offertes</text>\r\n",
       "</g>\r\n",
       "<!-- W_Completeren aanvraag&#45;&gt;W_Nabellen offertes -->\r\n",
       "<g id=\"edge11\" class=\"edge\">\r\n",
       "<title>W_Completeren aanvraag&#45;&gt;W_Nabellen offertes</title>\r\n",
       "<path fill=\"none\" stroke=\"grey\" stroke-width=\"0.1\" d=\"M215.07,-420.83C221.15,-410.45 229.87,-397.45 240,-388 244.74,-383.57 250.15,-379.46 255.72,-375.73\"/>\r\n",
       "<polygon fill=\"grey\" stroke=\"grey\" stroke-width=\"0.1\" points=\"257.94,-378.46 264.54,-370.18 254.22,-372.54 257.94,-378.46\"/>\r\n",
       "<text text-anchor=\"middle\" x=\"259\" y=\"-391.8\" font-family=\"Times New Roman,serif\" font-size=\"14.00\">3.1day</text>\r\n",
       "</g>\r\n",
       "<!-- W_Beoordelen fraude -->\r\n",
       "<g id=\"node6\" class=\"node\">\r\n",
       "<title>W_Beoordelen fraude</title>\r\n",
       "<polygon fill=\"white\" stroke=\"black\" points=\"252,-196 112,-196 112,-160 252,-160 252,-196\"/>\r\n",
       "<text text-anchor=\"middle\" x=\"182\" y=\"-174.3\" font-family=\"Times New Roman,serif\" font-size=\"14.00\">W_Beoordelen fraude</text>\r\n",
       "</g>\r\n",
       "<!-- W_Completeren aanvraag&#45;&gt;W_Beoordelen fraude -->\r\n",
       "<g id=\"edge17\" class=\"edge\">\r\n",
       "<title>W_Completeren aanvraag&#45;&gt;W_Beoordelen fraude</title>\r\n",
       "<path fill=\"none\" stroke=\"grey\" stroke-width=\"0.1\" d=\"M194.34,-420.78C179.68,-397.99 155.3,-356 146,-316 136.98,-277.22 153.77,-232.69 167.33,-205.2\"/>\r\n",
       "<polygon fill=\"grey\" stroke=\"grey\" stroke-width=\"0.1\" points=\"170.49,-206.72 171.94,-196.22 164.26,-203.52 170.49,-206.72\"/>\r\n",
       "<text text-anchor=\"middle\" x=\"165\" y=\"-304.8\" font-family=\"Times New Roman,serif\" font-size=\"14.00\">0.2day</text>\r\n",
       "</g>\r\n",
       "<!-- endevent -->\r\n",
       "<g id=\"node8\" class=\"node\">\r\n",
       "<title>endevent</title>\r\n",
       "<ellipse fill=\"red\" stroke=\"black\" cx=\"400\" cy=\"-18\" rx=\"18\" ry=\"18\"/>\r\n",
       "</g>\r\n",
       "<!-- W_Completeren aanvraag&#45;&gt;endevent -->\r\n",
       "<g id=\"edge5\" class=\"edge\">\r\n",
       "<title>W_Completeren aanvraag&#45;&gt;endevent</title>\r\n",
       "<path fill=\"none\" stroke=\"black\" d=\"M286.61,-431.87C423.33,-420.37 686,-393.07 686,-353 686,-353 686,-353 686,-90 686,-37.32 500.94,-23.45 428.54,-20.04\"/>\r\n",
       "<polygon fill=\"black\" stroke=\"black\" points=\"428.47,-16.53 418.33,-19.59 428.16,-23.53 428.47,-16.53\"/>\r\n",
       "</g>\r\n",
       "<!-- W_Nabellen offertes&#45;&gt;W_Completeren aanvraag -->\r\n",
       "<g id=\"edge19\" class=\"edge\">\r\n",
       "<title>W_Nabellen offertes&#45;&gt;W_Completeren aanvraag</title>\r\n",
       "<path fill=\"none\" stroke=\"grey\" stroke-width=\"0.1\" d=\"M295.78,-370.01C292.43,-380.57 286.81,-393.85 278,-403 273.34,-407.84 267.87,-412.11 262.06,-415.84\"/>\r\n",
       "<polygon fill=\"grey\" stroke=\"grey\" stroke-width=\"0.1\" points=\"260.23,-412.85 253.36,-420.92 263.76,-418.89 260.23,-412.85\"/>\r\n",
       "<text text-anchor=\"middle\" x=\"308\" y=\"-391.8\" font-family=\"Times New Roman,serif\" font-size=\"14.00\">1.5day</text>\r\n",
       "</g>\r\n",
       "<!-- W_Nabellen offertes&#45;&gt;W_Nabellen offertes -->\r\n",
       "<g id=\"edge18\" class=\"edge\">\r\n",
       "<title>W_Nabellen offertes&#45;&gt;W_Nabellen offertes</title>\r\n",
       "<path fill=\"none\" stroke=\"red\" stroke-width=\"5\" d=\"M366.2,-359.25C376.77,-358.19 384,-355.77 384,-352 384,-349.58 381.03,-347.72 376.12,-346.42\"/>\r\n",
       "<polygon fill=\"red\" stroke=\"red\" stroke-width=\"5\" points=\"376.79,-342.09 366.2,-344.75 375.34,-350.72 376.79,-342.09\"/>\r\n",
       "<text text-anchor=\"middle\" x=\"403\" y=\"-348.3\" font-family=\"Times New Roman,serif\" font-size=\"14.00\">3.2day</text>\r\n",
       "</g>\r\n",
       "<!-- W_Valideren aanvraag -->\r\n",
       "<g id=\"node3\" class=\"node\">\r\n",
       "<title>W_Valideren aanvraag</title>\r\n",
       "<polygon fill=\"grey\" stroke=\"black\" points=\"407.5,-283 264.5,-283 264.5,-247 407.5,-247 407.5,-283\"/>\r\n",
       "<text text-anchor=\"middle\" x=\"336\" y=\"-261.3\" font-family=\"Times New Roman,serif\" font-size=\"14.00\">W_Valideren aanvraag</text>\r\n",
       "</g>\r\n",
       "<!-- W_Nabellen offertes&#45;&gt;W_Valideren aanvraag -->\r\n",
       "<g id=\"edge20\" class=\"edge\">\r\n",
       "<title>W_Nabellen offertes&#45;&gt;W_Valideren aanvraag</title>\r\n",
       "<path fill=\"none\" stroke=\"red\" stroke-width=\"1.73\" d=\"M313.54,-333.94C317.37,-328.46 321.25,-322.19 324,-316 327.19,-308.82 329.61,-300.67 331.4,-293.06\"/>\r\n",
       "<polygon fill=\"red\" stroke=\"red\" stroke-width=\"1.73\" points=\"334.85,-293.68 333.48,-283.17 328,-292.24 334.85,-293.68\"/>\r\n",
       "<text text-anchor=\"middle\" x=\"348\" y=\"-304.8\" font-family=\"Times New Roman,serif\" font-size=\"14.00\">2.6day</text>\r\n",
       "</g>\r\n",
       "<!-- W_Nabellen offertes&#45;&gt;endevent -->\r\n",
       "<g id=\"edge8\" class=\"edge\">\r\n",
       "<title>W_Nabellen offertes&#45;&gt;endevent</title>\r\n",
       "<path fill=\"none\" stroke=\"black\" d=\"M366.28,-348.24C467.24,-342.2 648,-323.37 648,-266 648,-266 648,-266 648,-90 648,-44.71 493.22,-26.67 428.22,-21.09\"/>\r\n",
       "<polygon fill=\"black\" stroke=\"black\" points=\"428.49,-17.6 418.24,-20.27 427.92,-24.57 428.49,-17.6\"/>\r\n",
       "</g>\r\n",
       "<!-- W_Valideren aanvraag&#45;&gt;W_Nabellen offertes -->\r\n",
       "<g id=\"edge24\" class=\"edge\">\r\n",
       "<title>W_Valideren aanvraag&#45;&gt;W_Nabellen offertes</title>\r\n",
       "<path fill=\"none\" stroke=\"black\" stroke-width=\"1.73\" d=\"M298.64,-283.1C291.96,-287.91 285.89,-293.83 282,-301 277.99,-308.38 279.11,-316.83 282.21,-324.66\"/>\r\n",
       "<polygon fill=\"black\" stroke=\"black\" stroke-width=\"1.73\" points=\"279.17,-326.4 286.77,-333.78 285.43,-323.27 279.17,-326.4\"/>\r\n",
       "<text text-anchor=\"middle\" x=\"301\" y=\"-304.8\" font-family=\"Times New Roman,serif\" font-size=\"14.00\">0.2day</text>\r\n",
       "</g>\r\n",
       "<!-- W_Valideren aanvraag&#45;&gt;W_Valideren aanvraag -->\r\n",
       "<g id=\"edge26\" class=\"edge\">\r\n",
       "<title>W_Valideren aanvraag&#45;&gt;W_Valideren aanvraag</title>\r\n",
       "<path fill=\"none\" stroke=\"grey\" stroke-width=\"0.1\" d=\"M407.63,-272.14C418.29,-271.03 425.5,-268.65 425.5,-265 425.5,-262.66 422.54,-260.84 417.61,-259.55\"/>\r\n",
       "<polygon fill=\"grey\" stroke=\"grey\" stroke-width=\"0.1\" points=\"418.07,-256.08 407.63,-257.86 416.9,-262.98 418.07,-256.08\"/>\r\n",
       "<text text-anchor=\"middle\" x=\"444.5\" y=\"-261.3\" font-family=\"Times New Roman,serif\" font-size=\"14.00\">0.5day</text>\r\n",
       "</g>\r\n",
       "<!-- W_Nabellen incomplete dossiers -->\r\n",
       "<g id=\"node5\" class=\"node\">\r\n",
       "<title>W_Nabellen incomplete dossiers</title>\r\n",
       "<polygon fill=\"red\" stroke=\"black\" points=\"564,-196 364,-196 364,-160 564,-160 564,-196\"/>\r\n",
       "<text text-anchor=\"middle\" x=\"464\" y=\"-174.3\" font-family=\"Times New Roman,serif\" font-size=\"14.00\">W_Nabellen incomplete dossiers</text>\r\n",
       "</g>\r\n",
       "<!-- W_Valideren aanvraag&#45;&gt;W_Nabellen incomplete dossiers -->\r\n",
       "<g id=\"edge10\" class=\"edge\">\r\n",
       "<title>W_Valideren aanvraag&#45;&gt;W_Nabellen incomplete dossiers</title>\r\n",
       "<path fill=\"none\" stroke=\"grey\" stroke-width=\"0.1\" d=\"M350.8,-246.69C360.36,-236.26 373.5,-223.26 387,-214 394.22,-209.05 402.24,-204.51 410.31,-200.46\"/>\r\n",
       "<polygon fill=\"grey\" stroke=\"grey\" stroke-width=\"0.1\" points=\"411.91,-203.58 419.4,-196.09 408.87,-197.27 411.91,-203.58\"/>\r\n",
       "<text text-anchor=\"middle\" x=\"406\" y=\"-217.8\" font-family=\"Times New Roman,serif\" font-size=\"14.00\">0.1day</text>\r\n",
       "</g>\r\n",
       "<!-- W_Valideren aanvraag&#45;&gt;W_Beoordelen fraude -->\r\n",
       "<g id=\"edge13\" class=\"edge\">\r\n",
       "<title>W_Valideren aanvraag&#45;&gt;W_Beoordelen fraude</title>\r\n",
       "<path fill=\"none\" stroke=\"grey\" stroke-width=\"0.1\" d=\"M264.4,-248.74C249.97,-243.81 235.44,-237.37 223,-229 213.4,-222.54 204.88,-213.18 198.14,-204.3\"/>\r\n",
       "<polygon fill=\"grey\" stroke=\"grey\" stroke-width=\"0.1\" points=\"200.89,-202.14 192.23,-196.04 195.2,-206.21 200.89,-202.14\"/>\r\n",
       "<text text-anchor=\"middle\" x=\"242\" y=\"-217.8\" font-family=\"Times New Roman,serif\" font-size=\"14.00\">0.1day</text>\r\n",
       "</g>\r\n",
       "<!-- W_Valideren aanvraag&#45;&gt;endevent -->\r\n",
       "<g id=\"edge4\" class=\"edge\">\r\n",
       "<title>W_Valideren aanvraag&#45;&gt;endevent</title>\r\n",
       "<path fill=\"none\" stroke=\"black\" d=\"M338.43,-246.92C341.54,-226.2 347.44,-190.27 355,-160 365.21,-119.15 380.79,-72.82 390.68,-44.77\"/>\r\n",
       "<polygon fill=\"black\" stroke=\"black\" points=\"393.99,-45.9 394.04,-35.3 387.39,-43.55 393.99,-45.9\"/>\r\n",
       "</g>\r\n",
       "<!-- W_Afhandelen leads -->\r\n",
       "<g id=\"node4\" class=\"node\">\r\n",
       "<title>W_Afhandelen leads</title>\r\n",
       "<polygon fill=\"white\" stroke=\"black\" points=\"187.5,-109 54.5,-109 54.5,-73 187.5,-73 187.5,-109\"/>\r\n",
       "<text text-anchor=\"middle\" x=\"121\" y=\"-87.3\" font-family=\"Times New Roman,serif\" font-size=\"14.00\">W_Afhandelen leads</text>\r\n",
       "</g>\r\n",
       "<!-- W_Afhandelen leads&#45;&gt;W_Completeren aanvraag -->\r\n",
       "<g id=\"edge15\" class=\"edge\">\r\n",
       "<title>W_Afhandelen leads&#45;&gt;W_Completeren aanvraag</title>\r\n",
       "<path fill=\"none\" stroke=\"grey\" stroke-width=\"0.1\" d=\"M108.47,-109.28C97.74,-125.82 84,-151.89 84,-177 84,-353 84,-353 84,-353 84,-383.15 109.39,-403.48 137.01,-416.68\"/>\r\n",
       "<polygon fill=\"grey\" stroke=\"grey\" stroke-width=\"0.1\" points=\"135.87,-420 146.43,-420.88 138.73,-413.61 135.87,-420\"/>\r\n",
       "<text text-anchor=\"middle\" x=\"103\" y=\"-261.3\" font-family=\"Times New Roman,serif\" font-size=\"14.00\">0.2day</text>\r\n",
       "</g>\r\n",
       "<!-- W_Afhandelen leads&#45;&gt;W_Afhandelen leads -->\r\n",
       "<g id=\"edge16\" class=\"edge\">\r\n",
       "<title>W_Afhandelen leads&#45;&gt;W_Afhandelen leads</title>\r\n",
       "<path fill=\"none\" stroke=\"grey\" stroke-width=\"0.1\" d=\"M187.6,-97.22C198.22,-96.31 205.5,-94.23 205.5,-91 205.5,-88.93 202.51,-87.33 197.57,-86.22\"/>\r\n",
       "<polygon fill=\"grey\" stroke=\"grey\" stroke-width=\"0.1\" points=\"197.99,-82.74 187.6,-84.78 197,-89.67 197.99,-82.74\"/>\r\n",
       "<text text-anchor=\"middle\" x=\"224.5\" y=\"-87.3\" font-family=\"Times New Roman,serif\" font-size=\"14.00\">0.0day</text>\r\n",
       "</g>\r\n",
       "<!-- W_Afhandelen leads&#45;&gt;W_Beoordelen fraude -->\r\n",
       "<g id=\"edge21\" class=\"edge\">\r\n",
       "<title>W_Afhandelen leads&#45;&gt;W_Beoordelen fraude</title>\r\n",
       "<path fill=\"none\" stroke=\"grey\" stroke-width=\"0.1\" d=\"M143.27,-109.06C149.23,-114.35 155.3,-120.52 160,-127 165.14,-134.1 169.44,-142.59 172.83,-150.54\"/>\r\n",
       "<polygon fill=\"grey\" stroke=\"grey\" stroke-width=\"0.1\" points=\"169.58,-151.83 176.51,-159.84 176.09,-149.26 169.58,-151.83\"/>\r\n",
       "<text text-anchor=\"middle\" x=\"188\" y=\"-130.8\" font-family=\"Times New Roman,serif\" font-size=\"14.00\">0.8day</text>\r\n",
       "</g>\r\n",
       "<!-- W_Afhandelen leads&#45;&gt;endevent -->\r\n",
       "<g id=\"edge7\" class=\"edge\">\r\n",
       "<title>W_Afhandelen leads&#45;&gt;endevent</title>\r\n",
       "<path fill=\"none\" stroke=\"black\" d=\"M187.83,-72.99C246.98,-57.94 330.31,-36.73 372.79,-25.92\"/>\r\n",
       "<polygon fill=\"black\" stroke=\"black\" points=\"373.84,-29.27 382.67,-23.41 372.12,-22.48 373.84,-29.27\"/>\r\n",
       "</g>\r\n",
       "<!-- W_Nabellen incomplete dossiers&#45;&gt;W_Valideren aanvraag -->\r\n",
       "<g id=\"edge22\" class=\"edge\">\r\n",
       "<title>W_Nabellen incomplete dossiers&#45;&gt;W_Valideren aanvraag</title>\r\n",
       "<path fill=\"none\" stroke=\"grey\" stroke-width=\"0.1\" d=\"M453.92,-196.23C446.95,-206.89 436.82,-220.17 425,-229 418.04,-234.2 410.21,-238.73 402.15,-242.66\"/>\r\n",
       "<polygon fill=\"grey\" stroke=\"grey\" stroke-width=\"0.1\" points=\"400.64,-239.5 393,-246.84 403.55,-245.87 400.64,-239.5\"/>\r\n",
       "<text text-anchor=\"middle\" x=\"459\" y=\"-217.8\" font-family=\"Times New Roman,serif\" font-size=\"14.00\">0.4day</text>\r\n",
       "</g>\r\n",
       "<!-- W_Nabellen incomplete dossiers&#45;&gt;W_Nabellen incomplete dossiers -->\r\n",
       "<g id=\"edge27\" class=\"edge\">\r\n",
       "<title>W_Nabellen incomplete dossiers&#45;&gt;W_Nabellen incomplete dossiers</title>\r\n",
       "<path fill=\"none\" stroke=\"red\" stroke-width=\"5\" d=\"M564.29,-184.58C575.07,-183.31 582,-181.12 582,-178 582,-176 579.15,-174.39 574.28,-173.15\"/>\r\n",
       "<polygon fill=\"red\" stroke=\"red\" stroke-width=\"5\" points=\"574.89,-168.81 564.29,-171.42 573.4,-177.44 574.89,-168.81\"/>\r\n",
       "<text text-anchor=\"middle\" x=\"601\" y=\"-174.3\" font-family=\"Times New Roman,serif\" font-size=\"14.00\">0.7day</text>\r\n",
       "</g>\r\n",
       "<!-- W_Nabellen incomplete dossiers&#45;&gt;endevent -->\r\n",
       "<g id=\"edge6\" class=\"edge\">\r\n",
       "<title>W_Nabellen incomplete dossiers&#45;&gt;endevent</title>\r\n",
       "<path fill=\"none\" stroke=\"black\" d=\"M457.03,-159.79C445.75,-131.96 423.46,-76.92 410.33,-44.51\"/>\r\n",
       "<polygon fill=\"black\" stroke=\"black\" points=\"413.58,-43.19 406.58,-35.24 407.09,-45.82 413.58,-43.19\"/>\r\n",
       "</g>\r\n",
       "<!-- W_Beoordelen fraude&#45;&gt;W_Completeren aanvraag -->\r\n",
       "<g id=\"edge25\" class=\"edge\">\r\n",
       "<title>W_Beoordelen fraude&#45;&gt;W_Completeren aanvraag</title>\r\n",
       "<path fill=\"none\" stroke=\"black\" stroke-width=\"1.73\" d=\"M183.6,-196.32C187.69,-240.38 198.49,-357.01 203.45,-410.49\"/>\r\n",
       "<polygon fill=\"black\" stroke=\"black\" stroke-width=\"1.73\" points=\"199.98,-410.97 204.39,-420.6 206.95,-410.32 199.98,-410.97\"/>\r\n",
       "<text text-anchor=\"middle\" x=\"214\" y=\"-304.8\" font-family=\"Times New Roman,serif\" font-size=\"14.00\">0.0day</text>\r\n",
       "</g>\r\n",
       "<!-- W_Beoordelen fraude&#45;&gt;W_Valideren aanvraag -->\r\n",
       "<g id=\"edge28\" class=\"edge\">\r\n",
       "<title>W_Beoordelen fraude&#45;&gt;W_Valideren aanvraag</title>\r\n",
       "<path fill=\"none\" stroke=\"grey\" stroke-width=\"0.1\" d=\"M224.06,-196.04C236.19,-201.38 249.3,-207.57 261,-214 263.27,-215.25 283.34,-228.64 302.14,-241.24\"/>\r\n",
       "<polygon fill=\"grey\" stroke=\"grey\" stroke-width=\"0.1\" points=\"300.37,-244.27 310.62,-246.93 304.27,-238.45 300.37,-244.27\"/>\r\n",
       "<text text-anchor=\"middle\" x=\"303\" y=\"-217.8\" font-family=\"Times New Roman,serif\" font-size=\"14.00\">0.0day</text>\r\n",
       "</g>\r\n",
       "<!-- W_Beoordelen fraude&#45;&gt;W_Afhandelen leads -->\r\n",
       "<g id=\"edge23\" class=\"edge\">\r\n",
       "<title>W_Beoordelen fraude&#45;&gt;W_Afhandelen leads</title>\r\n",
       "<path fill=\"none\" stroke=\"red\" stroke-width=\"1.73\" d=\"M135.93,-159.87C128.77,-155.17 122.33,-149.3 118,-142 114.04,-135.31 113.21,-127.2 113.8,-119.48\"/>\r\n",
       "<polygon fill=\"red\" stroke=\"red\" stroke-width=\"1.73\" points=\"117.3,-119.76 115.35,-109.35 110.38,-118.71 117.3,-119.76\"/>\r\n",
       "<text text-anchor=\"middle\" x=\"137\" y=\"-130.8\" font-family=\"Times New Roman,serif\" font-size=\"14.00\">0.0day</text>\r\n",
       "</g>\r\n",
       "<!-- W_Beoordelen fraude&#45;&gt;W_Beoordelen fraude -->\r\n",
       "<g id=\"edge12\" class=\"edge\">\r\n",
       "<title>W_Beoordelen fraude&#45;&gt;W_Beoordelen fraude</title>\r\n",
       "<path fill=\"none\" stroke=\"grey\" stroke-width=\"0.1\" d=\"M252.07,-185.18C262.75,-184.09 270,-181.69 270,-178 270,-175.64 267.02,-173.8 262.08,-172.5\"/>\r\n",
       "<polygon fill=\"grey\" stroke=\"grey\" stroke-width=\"0.1\" points=\"262.51,-169.03 252.07,-170.82 261.35,-175.93 262.51,-169.03\"/>\r\n",
       "<text text-anchor=\"middle\" x=\"289\" y=\"-174.3\" font-family=\"Times New Roman,serif\" font-size=\"14.00\">0.5day</text>\r\n",
       "</g>\r\n",
       "<!-- W_Beoordelen fraude&#45;&gt;endevent -->\r\n",
       "<g id=\"edge9\" class=\"edge\">\r\n",
       "<title>W_Beoordelen fraude&#45;&gt;endevent</title>\r\n",
       "<path fill=\"none\" stroke=\"black\" d=\"M200.21,-159.77C231.89,-130.01 296.21,-70.58 322,-54 338.18,-43.6 357.97,-34.76 373.57,-28.56\"/>\r\n",
       "<polygon fill=\"black\" stroke=\"black\" points=\"375.06,-31.74 383.13,-24.89 372.54,-25.21 375.06,-31.74\"/>\r\n",
       "</g>\r\n",
       "<!-- startevent -->\r\n",
       "<g id=\"node7\" class=\"node\">\r\n",
       "<title>startevent</title>\r\n",
       "<ellipse fill=\"green\" stroke=\"black\" cx=\"38\" cy=\"-512\" rx=\"18\" ry=\"18\"/>\r\n",
       "</g>\r\n",
       "<!-- startevent&#45;&gt;W_Completeren aanvraag -->\r\n",
       "<g id=\"edge1\" class=\"edge\">\r\n",
       "<title>startevent&#45;&gt;W_Completeren aanvraag</title>\r\n",
       "<path fill=\"none\" stroke=\"black\" d=\"M54.41,-504.06C77.73,-494.21 121.46,-475.73 155.97,-461.14\"/>\r\n",
       "<polygon fill=\"black\" stroke=\"black\" points=\"157.59,-464.26 165.44,-457.14 154.87,-457.81 157.59,-464.26\"/>\r\n",
       "</g>\r\n",
       "<!-- startevent&#45;&gt;W_Afhandelen leads -->\r\n",
       "<g id=\"edge2\" class=\"edge\">\r\n",
       "<title>startevent&#45;&gt;W_Afhandelen leads</title>\r\n",
       "<path fill=\"none\" stroke=\"black\" d=\"M25.98,-497.97C14.84,-484.51 0,-462.37 0,-440 0,-440 0,-440 0,-177 0,-146.9 25.38,-126.54 52.89,-113.32\"/>\r\n",
       "<polygon fill=\"black\" stroke=\"black\" points=\"54.59,-116.39 62.27,-109.1 51.72,-110.01 54.59,-116.39\"/>\r\n",
       "</g>\r\n",
       "<!-- startevent&#45;&gt;W_Beoordelen fraude -->\r\n",
       "<g id=\"edge3\" class=\"edge\">\r\n",
       "<title>startevent&#45;&gt;W_Beoordelen fraude</title>\r\n",
       "<path fill=\"none\" stroke=\"black\" d=\"M38,-493.78C38,-479.41 38,-458.37 38,-440 38,-440 38,-440 38,-264 38,-229.65 68.76,-208.9 101.85,-196.51\"/>\r\n",
       "<polygon fill=\"black\" stroke=\"black\" points=\"103.4,-199.67 111.69,-193.08 101.09,-193.06 103.4,-199.67\"/>\r\n",
       "</g>\r\n",
       "</g>\r\n",
       "</svg>\r\n"
      ],
      "text/plain": [
       "<IPython.core.display.HTML object>"
      ]
     },
     "execution_count": 30,
     "metadata": {},
     "output_type": "execute_result"
    }
   ],
   "source": [
    "auto_i = AutoInsights(data_holder, time_unit='day')\n",
    "simple_miner = SimpleMiner(data_holder)\n",
    "simple_miner.apply()\n",
    "auto_i.apply(miner=simple_miner, mode='time')\n",
    "graph = auto_i.get_graph()\n",
    "\n",
    "painter = GraphvizPainter()\n",
    "painter.apply_insights(graph)\n",
    "painter.show()"
   ]
  },
  {
   "cell_type": "markdown",
   "metadata": {},
   "source": [
    "all transitions are given a status:\n",
    "- Optimal (positive insights)\n",
    "- (negative insights)"
   ]
  },
  {
   "cell_type": "code",
   "execution_count": 31,
   "metadata": {},
   "outputs": [
    {
     "data": {
      "text/html": [
       "<?xml version=\"1.0\" encoding=\"UTF-8\" standalone=\"no\"?>\r\n",
       "<!DOCTYPE svg PUBLIC \"-//W3C//DTD SVG 1.1//EN\"\r\n",
       " \"http://www.w3.org/Graphics/SVG/1.1/DTD/svg11.dtd\">\r\n",
       "<!-- Generated by graphviz version 2.47.1 (20210417.1919)\r\n",
       " -->\r\n",
       "<!-- Pages: 1 -->\r\n",
       "<svg width=\"966pt\" height=\"527pt\"\r\n",
       " viewBox=\"0.00 0.00 965.50 527.00\" xmlns=\"http://www.w3.org/2000/svg\" xmlns:xlink=\"http://www.w3.org/1999/xlink\">\r\n",
       "<g id=\"graph0\" class=\"graph\" transform=\"scale(1 1) rotate(0) translate(4 523)\">\r\n",
       "<polygon fill=\"white\" stroke=\"transparent\" points=\"-4,4 -4,-523 961.5,-523 961.5,4 -4,4\"/>\r\n",
       "<!-- W_Completeren aanvraag -->\r\n",
       "<g id=\"node1\" class=\"node\">\r\n",
       "<title>W_Completeren aanvraag</title>\r\n",
       "<polygon fill=\"red\" stroke=\"black\" points=\"517.5,-429 356.5,-429 356.5,-393 517.5,-393 517.5,-429\"/>\r\n",
       "<text text-anchor=\"middle\" x=\"437\" y=\"-407.3\" font-family=\"Times New Roman,serif\" font-size=\"14.00\">W_Completeren aanvraag</text>\r\n",
       "</g>\r\n",
       "<!-- W_Completeren aanvraag&#45;&gt;W_Completeren aanvraag -->\r\n",
       "<g id=\"edge14\" class=\"edge\">\r\n",
       "<title>W_Completeren aanvraag&#45;&gt;W_Completeren aanvraag</title>\r\n",
       "<path fill=\"none\" stroke=\"red\" stroke-width=\"5\" d=\"M517.77,-416.95C528.43,-415.94 535.5,-413.95 535.5,-411 535.5,-409.11 532.6,-407.61 527.71,-406.52\"/>\r\n",
       "<polygon fill=\"red\" stroke=\"red\" stroke-width=\"5\" points=\"528.3,-402.18 517.77,-405.05 527.02,-410.84 528.3,-402.18\"/>\r\n",
       "<text text-anchor=\"middle\" x=\"573\" y=\"-407.3\" font-family=\"Times New Roman,serif\" font-size=\"14.00\">1.2day, cycle</text>\r\n",
       "</g>\r\n",
       "<!-- W_Nabellen offertes -->\r\n",
       "<g id=\"node2\" class=\"node\">\r\n",
       "<title>W_Nabellen offertes</title>\r\n",
       "<polygon fill=\"grey\" stroke=\"black\" points=\"355,-356 223,-356 223,-320 355,-320 355,-356\"/>\r\n",
       "<text text-anchor=\"middle\" x=\"289\" y=\"-334.3\" font-family=\"Times New Roman,serif\" font-size=\"14.00\">W_Nabellen offertes</text>\r\n",
       "</g>\r\n",
       "<!-- W_Completeren aanvraag&#45;&gt;W_Nabellen offertes -->\r\n",
       "<g id=\"edge11\" class=\"edge\">\r\n",
       "<title>W_Completeren aanvraag&#45;&gt;W_Nabellen offertes</title>\r\n",
       "<path fill=\"none\" stroke=\"grey\" stroke-width=\"0.1\" d=\"M395.69,-392.99C374.49,-383.32 348.88,-371.1 328.02,-360.73\"/>\r\n",
       "<polygon fill=\"grey\" stroke=\"grey\" stroke-width=\"0.1\" points=\"329.31,-357.46 318.8,-356.11 326.18,-363.72 329.31,-357.46\"/>\r\n",
       "</g>\r\n",
       "<!-- W_Beoordelen fraude -->\r\n",
       "<g id=\"node6\" class=\"node\">\r\n",
       "<title>W_Beoordelen fraude</title>\r\n",
       "<polygon fill=\"white\" stroke=\"black\" points=\"555,-196 415,-196 415,-160 555,-160 555,-196\"/>\r\n",
       "<text text-anchor=\"middle\" x=\"485\" y=\"-174.3\" font-family=\"Times New Roman,serif\" font-size=\"14.00\">W_Beoordelen fraude</text>\r\n",
       "</g>\r\n",
       "<!-- W_Completeren aanvraag&#45;&gt;W_Beoordelen fraude -->\r\n",
       "<g id=\"edge17\" class=\"edge\">\r\n",
       "<title>W_Completeren aanvraag&#45;&gt;W_Beoordelen fraude</title>\r\n",
       "<path fill=\"none\" stroke=\"grey\" stroke-width=\"0.1\" d=\"M436.55,-392.77C439.61,-382.3 444.71,-368.57 448,-356 461.66,-303.76 469.67,-241.01 476.21,-206\"/>\r\n",
       "<polygon fill=\"grey\" stroke=\"grey\" stroke-width=\"0.1\" points=\"479.67,-206.56 478.2,-196.07 472.81,-205.19 479.67,-206.56\"/>\r\n",
       "</g>\r\n",
       "<!-- endevent -->\r\n",
       "<g id=\"node8\" class=\"node\">\r\n",
       "<title>endevent</title>\r\n",
       "<ellipse fill=\"red\" stroke=\"black\" cx=\"368\" cy=\"-18\" rx=\"18\" ry=\"18\"/>\r\n",
       "</g>\r\n",
       "<!-- W_Completeren aanvraag&#45;&gt;endevent -->\r\n",
       "<g id=\"edge5\" class=\"edge\">\r\n",
       "<title>W_Completeren aanvraag&#45;&gt;endevent</title>\r\n",
       "<path fill=\"none\" stroke=\"black\" d=\"M356.34,-404.96C230.07,-395.97 0,-374.69 0,-339 0,-339 0,-339 0,-90 0,-20.82 253.93,-17.58 339.92,-18.47\"/>\r\n",
       "<polygon fill=\"black\" stroke=\"black\" points=\"339.96,-21.97 350,-18.6 340.05,-14.97 339.96,-21.97\"/>\r\n",
       "</g>\r\n",
       "<!-- W_Nabellen offertes&#45;&gt;W_Completeren aanvraag -->\r\n",
       "<g id=\"edge19\" class=\"edge\">\r\n",
       "<title>W_Nabellen offertes&#45;&gt;W_Completeren aanvraag</title>\r\n",
       "<path fill=\"none\" stroke=\"grey\" stroke-width=\"0.1\" d=\"M330.54,-356.11C351.77,-365.81 377.39,-378.03 398.21,-388.38\"/>\r\n",
       "<polygon fill=\"grey\" stroke=\"grey\" stroke-width=\"0.1\" points=\"396.9,-391.64 407.41,-392.99 400.04,-385.38 396.9,-391.64\"/>\r\n",
       "</g>\r\n",
       "<!-- W_Nabellen offertes&#45;&gt;W_Nabellen offertes -->\r\n",
       "<g id=\"edge18\" class=\"edge\">\r\n",
       "<title>W_Nabellen offertes&#45;&gt;W_Nabellen offertes</title>\r\n",
       "<path fill=\"none\" stroke=\"red\" stroke-width=\"5\" d=\"M355.2,-344.22C365.77,-343.31 373,-341.23 373,-338 373,-335.93 370.03,-334.33 365.12,-333.22\"/>\r\n",
       "<polygon fill=\"red\" stroke=\"red\" stroke-width=\"5\" points=\"365.72,-328.88 355.2,-331.78 364.47,-337.54 365.72,-328.88\"/>\r\n",
       "<text text-anchor=\"middle\" x=\"410.5\" y=\"-334.3\" font-family=\"Times New Roman,serif\" font-size=\"14.00\">3.2day, cycle</text>\r\n",
       "</g>\r\n",
       "<!-- W_Valideren aanvraag -->\r\n",
       "<g id=\"node3\" class=\"node\">\r\n",
       "<title>W_Valideren aanvraag</title>\r\n",
       "<polygon fill=\"grey\" stroke=\"black\" points=\"340.5,-269 197.5,-269 197.5,-233 340.5,-233 340.5,-269\"/>\r\n",
       "<text text-anchor=\"middle\" x=\"269\" y=\"-247.3\" font-family=\"Times New Roman,serif\" font-size=\"14.00\">W_Valideren aanvraag</text>\r\n",
       "</g>\r\n",
       "<!-- W_Nabellen offertes&#45;&gt;W_Valideren aanvraag -->\r\n",
       "<g id=\"edge20\" class=\"edge\">\r\n",
       "<title>W_Nabellen offertes&#45;&gt;W_Valideren aanvraag</title>\r\n",
       "<path fill=\"none\" stroke=\"red\" stroke-width=\"1.73\" d=\"M265.94,-319.97C260.71,-314.83 255.85,-308.74 253,-302 249.86,-294.56 250.81,-286.28 253.39,-278.64\"/>\r\n",
       "<polygon fill=\"red\" stroke=\"red\" stroke-width=\"1.73\" points=\"256.63,-279.97 257.35,-269.4 250.19,-277.21 256.63,-279.97\"/>\r\n",
       "<text text-anchor=\"middle\" x=\"272\" y=\"-290.8\" font-family=\"Times New Roman,serif\" font-size=\"14.00\">2.6day</text>\r\n",
       "</g>\r\n",
       "<!-- W_Nabellen offertes&#45;&gt;endevent -->\r\n",
       "<g id=\"edge8\" class=\"edge\">\r\n",
       "<title>W_Nabellen offertes&#45;&gt;endevent</title>\r\n",
       "<path fill=\"none\" stroke=\"black\" d=\"M331.13,-319.88C357.69,-306 387,-283.53 387,-252 387,-252 387,-252 387,-90 387,-74.44 382.69,-57.6 378.18,-44.22\"/>\r\n",
       "<polygon fill=\"black\" stroke=\"black\" points=\"381.44,-42.97 374.75,-34.75 374.86,-45.34 381.44,-42.97\"/>\r\n",
       "</g>\r\n",
       "<!-- W_Valideren aanvraag&#45;&gt;W_Nabellen offertes -->\r\n",
       "<g id=\"edge24\" class=\"edge\">\r\n",
       "<title>W_Valideren aanvraag&#45;&gt;W_Nabellen offertes</title>\r\n",
       "<path fill=\"none\" stroke=\"black\" stroke-width=\"1.73\" d=\"M282.5,-269.23C285.96,-274.62 289.21,-280.79 291,-287 293.06,-294.15 293.52,-302.11 293.22,-309.54\"/>\r\n",
       "<polygon fill=\"black\" stroke=\"black\" stroke-width=\"1.73\" points=\"289.72,-309.29 292.37,-319.55 296.7,-309.88 289.72,-309.29\"/>\r\n",
       "</g>\r\n",
       "<!-- W_Valideren aanvraag&#45;&gt;W_Valideren aanvraag -->\r\n",
       "<g id=\"edge26\" class=\"edge\">\r\n",
       "<title>W_Valideren aanvraag&#45;&gt;W_Valideren aanvraag</title>\r\n",
       "<path fill=\"none\" stroke=\"grey\" stroke-width=\"0.1\" d=\"M340.63,-257.12C351.29,-256.17 358.5,-254.13 358.5,-251 358.5,-249 355.54,-247.44 350.61,-246.33\"/>\r\n",
       "<polygon fill=\"grey\" stroke=\"grey\" stroke-width=\"0.1\" points=\"351.03,-242.85 340.63,-244.88 350.02,-249.78 351.03,-242.85\"/>\r\n",
       "</g>\r\n",
       "<!-- W_Nabellen incomplete dossiers -->\r\n",
       "<g id=\"node5\" class=\"node\">\r\n",
       "<title>W_Nabellen incomplete dossiers</title>\r\n",
       "<polygon fill=\"red\" stroke=\"black\" points=\"228,-196 28,-196 28,-160 228,-160 228,-196\"/>\r\n",
       "<text text-anchor=\"middle\" x=\"128\" y=\"-174.3\" font-family=\"Times New Roman,serif\" font-size=\"14.00\">W_Nabellen incomplete dossiers</text>\r\n",
       "</g>\r\n",
       "<!-- W_Valideren aanvraag&#45;&gt;W_Nabellen incomplete dossiers -->\r\n",
       "<g id=\"edge10\" class=\"edge\">\r\n",
       "<title>W_Valideren aanvraag&#45;&gt;W_Nabellen incomplete dossiers</title>\r\n",
       "<path fill=\"none\" stroke=\"grey\" stroke-width=\"0.1\" d=\"M229.37,-232.99C209.22,-223.36 184.94,-211.21 165.15,-200.87\"/>\r\n",
       "<polygon fill=\"grey\" stroke=\"grey\" stroke-width=\"0.1\" points=\"166.59,-197.68 156.12,-196.11 163.33,-203.87 166.59,-197.68\"/>\r\n",
       "</g>\r\n",
       "<!-- W_Valideren aanvraag&#45;&gt;W_Beoordelen fraude -->\r\n",
       "<g id=\"edge13\" class=\"edge\">\r\n",
       "<title>W_Valideren aanvraag&#45;&gt;W_Beoordelen fraude</title>\r\n",
       "<path fill=\"none\" stroke=\"grey\" stroke-width=\"0.1\" d=\"M314.88,-232.99C344.7,-222.84 384.02,-209.88 417.38,-199.2\"/>\r\n",
       "<polygon fill=\"grey\" stroke=\"grey\" stroke-width=\"0.1\" points=\"418.6,-202.49 427.07,-196.11 416.47,-195.82 418.6,-202.49\"/>\r\n",
       "</g>\r\n",
       "<!-- W_Valideren aanvraag&#45;&gt;endevent -->\r\n",
       "<g id=\"edge4\" class=\"edge\">\r\n",
       "<title>W_Valideren aanvraag&#45;&gt;endevent</title>\r\n",
       "<path fill=\"none\" stroke=\"black\" d=\"M295.11,-232.88C307.5,-223.44 321.44,-210.65 330,-196 357.81,-148.41 365.35,-82.97 367.34,-46.46\"/>\r\n",
       "<polygon fill=\"black\" stroke=\"black\" points=\"370.85,-46.25 367.8,-36.11 363.86,-45.95 370.85,-46.25\"/>\r\n",
       "</g>\r\n",
       "<!-- W_Afhandelen leads -->\r\n",
       "<g id=\"node4\" class=\"node\">\r\n",
       "<title>W_Afhandelen leads</title>\r\n",
       "<polygon fill=\"white\" stroke=\"black\" points=\"586.5,-109 453.5,-109 453.5,-73 586.5,-73 586.5,-109\"/>\r\n",
       "<text text-anchor=\"middle\" x=\"520\" y=\"-87.3\" font-family=\"Times New Roman,serif\" font-size=\"14.00\">W_Afhandelen leads</text>\r\n",
       "</g>\r\n",
       "<!-- W_Afhandelen leads&#45;&gt;W_Completeren aanvraag -->\r\n",
       "<g id=\"edge15\" class=\"edge\">\r\n",
       "<title>W_Afhandelen leads&#45;&gt;W_Completeren aanvraag</title>\r\n",
       "<path fill=\"none\" stroke=\"grey\" stroke-width=\"0.1\" d=\"M560.83,-109.03C569,-113.89 576.92,-119.85 583,-127 598.3,-144.99 601,-153.38 601,-177 601,-339 601,-339 601,-339 601,-375.88 565.64,-393.82 527.75,-402.46\"/>\r\n",
       "<polygon fill=\"grey\" stroke=\"grey\" stroke-width=\"0.1\" points=\"526.65,-399.11 517.56,-404.56 528.06,-405.97 526.65,-399.11\"/>\r\n",
       "</g>\r\n",
       "<!-- W_Afhandelen leads&#45;&gt;W_Afhandelen leads -->\r\n",
       "<g id=\"edge16\" class=\"edge\">\r\n",
       "<title>W_Afhandelen leads&#45;&gt;W_Afhandelen leads</title>\r\n",
       "<path fill=\"none\" stroke=\"grey\" stroke-width=\"0.1\" d=\"M586.6,-97.22C597.22,-96.31 604.5,-94.23 604.5,-91 604.5,-88.93 601.51,-87.33 596.57,-86.22\"/>\r\n",
       "<polygon fill=\"grey\" stroke=\"grey\" stroke-width=\"0.1\" points=\"596.99,-82.74 586.6,-84.78 596,-89.67 596.99,-82.74\"/>\r\n",
       "</g>\r\n",
       "<!-- W_Afhandelen leads&#45;&gt;W_Beoordelen fraude -->\r\n",
       "<g id=\"edge21\" class=\"edge\">\r\n",
       "<title>W_Afhandelen leads&#45;&gt;W_Beoordelen fraude</title>\r\n",
       "<path fill=\"none\" stroke=\"grey\" stroke-width=\"0.1\" d=\"M503.15,-109.31C498.87,-114.61 494.71,-120.71 492,-127 488.98,-134 487.21,-142.02 486.18,-149.56\"/>\r\n",
       "<polygon fill=\"grey\" stroke=\"grey\" stroke-width=\"0.1\" points=\"482.67,-149.43 485.17,-159.73 489.64,-150.12 482.67,-149.43\"/>\r\n",
       "</g>\r\n",
       "<!-- W_Afhandelen leads&#45;&gt;endevent -->\r\n",
       "<g id=\"edge7\" class=\"edge\">\r\n",
       "<title>W_Afhandelen leads&#45;&gt;endevent</title>\r\n",
       "<path fill=\"none\" stroke=\"black\" d=\"M483.59,-72.99C455.68,-59.96 417.88,-42.3 393.22,-30.78\"/>\r\n",
       "<polygon fill=\"black\" stroke=\"black\" points=\"394.7,-27.61 384.15,-26.55 391.73,-33.95 394.7,-27.61\"/>\r\n",
       "</g>\r\n",
       "<!-- W_Nabellen incomplete dossiers&#45;&gt;W_Valideren aanvraag -->\r\n",
       "<g id=\"edge22\" class=\"edge\">\r\n",
       "<title>W_Nabellen incomplete dossiers&#45;&gt;W_Valideren aanvraag</title>\r\n",
       "<path fill=\"none\" stroke=\"grey\" stroke-width=\"0.1\" d=\"M167.86,-196.11C188.04,-205.77 212.32,-217.92 232.07,-228.24\"/>\r\n",
       "<polygon fill=\"grey\" stroke=\"grey\" stroke-width=\"0.1\" points=\"230.61,-231.43 241.09,-232.99 233.87,-225.24 230.61,-231.43\"/>\r\n",
       "</g>\r\n",
       "<!-- W_Nabellen incomplete dossiers&#45;&gt;W_Nabellen incomplete dossiers -->\r\n",
       "<g id=\"edge27\" class=\"edge\">\r\n",
       "<title>W_Nabellen incomplete dossiers&#45;&gt;W_Nabellen incomplete dossiers</title>\r\n",
       "<path fill=\"none\" stroke=\"red\" stroke-width=\"5\" d=\"M228.29,-183.64C239.07,-182.55 246,-180.67 246,-178 246,-176.29 243.15,-174.9 238.28,-173.84\"/>\r\n",
       "<polygon fill=\"red\" stroke=\"red\" stroke-width=\"5\" points=\"238.82,-169.5 228.29,-172.36 237.54,-178.16 238.82,-169.5\"/>\r\n",
       "<text text-anchor=\"middle\" x=\"283.5\" y=\"-174.3\" font-family=\"Times New Roman,serif\" font-size=\"14.00\">0.7day, cycle</text>\r\n",
       "</g>\r\n",
       "<!-- W_Nabellen incomplete dossiers&#45;&gt;endevent -->\r\n",
       "<g id=\"edge6\" class=\"edge\">\r\n",
       "<title>W_Nabellen incomplete dossiers&#45;&gt;endevent</title>\r\n",
       "<path fill=\"none\" stroke=\"black\" d=\"M154.14,-159.79C201.31,-128.74 299.92,-63.82 344.83,-34.26\"/>\r\n",
       "<polygon fill=\"black\" stroke=\"black\" points=\"346.88,-37.09 353.31,-28.67 343.03,-31.25 346.88,-37.09\"/>\r\n",
       "</g>\r\n",
       "<!-- W_Beoordelen fraude&#45;&gt;W_Completeren aanvraag -->\r\n",
       "<g id=\"edge25\" class=\"edge\">\r\n",
       "<title>W_Beoordelen fraude&#45;&gt;W_Completeren aanvraag</title>\r\n",
       "<path fill=\"none\" stroke=\"black\" stroke-width=\"1.73\" d=\"M488.67,-196.07C489.26,-227.91 481.07,-298.36 466,-356 463.61,-365.14 460.26,-374.88 456.53,-383.54\"/>\r\n",
       "<polygon fill=\"black\" stroke=\"black\" stroke-width=\"1.73\" points=\"453.28,-382.23 452.2,-392.77 459.62,-385.21 453.28,-382.23\"/>\r\n",
       "</g>\r\n",
       "<!-- W_Beoordelen fraude&#45;&gt;W_Valideren aanvraag -->\r\n",
       "<g id=\"edge28\" class=\"edge\">\r\n",
       "<title>W_Beoordelen fraude&#45;&gt;W_Valideren aanvraag</title>\r\n",
       "<path fill=\"none\" stroke=\"grey\" stroke-width=\"0.1\" d=\"M438.81,-196.11C408.92,-206.29 369.59,-219.25 336.27,-229.91\"/>\r\n",
       "<polygon fill=\"grey\" stroke=\"grey\" stroke-width=\"0.1\" points=\"335.06,-226.62 326.6,-232.99 337.19,-233.29 335.06,-226.62\"/>\r\n",
       "</g>\r\n",
       "<!-- W_Beoordelen fraude&#45;&gt;W_Afhandelen leads -->\r\n",
       "<g id=\"edge23\" class=\"edge\">\r\n",
       "<title>W_Beoordelen fraude&#45;&gt;W_Afhandelen leads</title>\r\n",
       "<path fill=\"none\" stroke=\"red\" stroke-width=\"1.73\" d=\"M492.08,-159.8C496.97,-147.93 503.56,-131.93 509.11,-118.45\"/>\r\n",
       "<polygon fill=\"red\" stroke=\"red\" stroke-width=\"1.73\" points=\"512.36,-119.75 512.93,-109.18 505.88,-117.09 512.36,-119.75\"/>\r\n",
       "<text text-anchor=\"middle\" x=\"541.5\" y=\"-130.8\" font-family=\"Times New Roman,serif\" font-size=\"14.00\">0.0day, cycle</text>\r\n",
       "</g>\r\n",
       "<!-- W_Beoordelen fraude&#45;&gt;W_Beoordelen fraude -->\r\n",
       "<g id=\"edge12\" class=\"edge\">\r\n",
       "<title>W_Beoordelen fraude&#45;&gt;W_Beoordelen fraude</title>\r\n",
       "<path fill=\"none\" stroke=\"grey\" stroke-width=\"0.1\" d=\"M555.07,-184.16C565.75,-183.22 573,-181.16 573,-178 573,-175.97 570.02,-174.4 565.08,-173.29\"/>\r\n",
       "<polygon fill=\"grey\" stroke=\"grey\" stroke-width=\"0.1\" points=\"565.47,-169.81 555.07,-171.84 564.47,-176.74 565.47,-169.81\"/>\r\n",
       "</g>\r\n",
       "<!-- W_Beoordelen fraude&#45;&gt;endevent -->\r\n",
       "<g id=\"edge9\" class=\"edge\">\r\n",
       "<title>W_Beoordelen fraude&#45;&gt;endevent</title>\r\n",
       "<path fill=\"none\" stroke=\"black\" d=\"M474.39,-159.69C459.19,-135.32 429.86,-89.86 401,-54 396.81,-48.79 392.01,-43.42 387.4,-38.49\"/>\r\n",
       "<polygon fill=\"black\" stroke=\"black\" points=\"389.86,-36 380.41,-31.2 384.81,-40.84 389.86,-36\"/>\r\n",
       "</g>\r\n",
       "<!-- startevent -->\r\n",
       "<g id=\"node7\" class=\"node\">\r\n",
       "<title>startevent</title>\r\n",
       "<ellipse fill=\"green\" stroke=\"black\" cx=\"639\" cy=\"-492.5\" rx=\"18\" ry=\"18\"/>\r\n",
       "</g>\r\n",
       "<!-- startevent&#45;&gt;W_Completeren aanvraag -->\r\n",
       "<g id=\"edge1\" class=\"edge\">\r\n",
       "<title>startevent&#45;&gt;W_Completeren aanvraag</title>\r\n",
       "<path fill=\"none\" stroke=\"black\" d=\"M622.47,-484.99C593.85,-473.73 533.92,-450.15 489.9,-432.82\"/>\r\n",
       "<polygon fill=\"black\" stroke=\"black\" points=\"491.07,-429.52 480.49,-429.11 488.51,-436.03 491.07,-429.52\"/>\r\n",
       "</g>\r\n",
       "<!-- startevent&#45;&gt;W_Afhandelen leads -->\r\n",
       "<g id=\"edge2\" class=\"edge\">\r\n",
       "<title>startevent&#45;&gt;W_Afhandelen leads</title>\r\n",
       "<path fill=\"none\" stroke=\"black\" d=\"M649.99,-478.07C661.21,-462.97 677,-437.24 677,-412 677,-412 677,-412 677,-177 677,-136.63 636.35,-115.33 596.42,-104.15\"/>\r\n",
       "<polygon fill=\"black\" stroke=\"black\" points=\"597.14,-100.72 586.58,-101.59 595.38,-107.5 597.14,-100.72\"/>\r\n",
       "</g>\r\n",
       "<!-- startevent&#45;&gt;W_Beoordelen fraude -->\r\n",
       "<g id=\"edge3\" class=\"edge\">\r\n",
       "<title>startevent&#45;&gt;W_Beoordelen fraude</title>\r\n",
       "<path fill=\"none\" stroke=\"black\" d=\"M639,-474.44C639,-458.34 639,-433.53 639,-412 639,-412 639,-412 639,-250 639,-213.38 602.64,-195.58 565.26,-186.97\"/>\r\n",
       "<polygon fill=\"black\" stroke=\"black\" points=\"565.75,-183.49 555.24,-184.87 564.31,-190.34 565.75,-183.49\"/>\r\n",
       "</g>\r\n",
       "<!-- legend_good -->\r\n",
       "<g id=\"node9\" class=\"node\">\r\n",
       "<title>legend_good</title>\r\n",
       "<polygon fill=\"white\" stroke=\"black\" points=\"818.5,-519 675.5,-519 675.5,-466 818.5,-466 818.5,-519\"/>\r\n",
       "<text text-anchor=\"middle\" x=\"747\" y=\"-503.8\" font-family=\"Times New Roman,serif\" font-size=\"14.00\">good insights</text>\r\n",
       "<text text-anchor=\"middle\" x=\"747\" y=\"-488.8\" font-family=\"Times New Roman,serif\" font-size=\"14.00\">mean_duration: 0.1day</text>\r\n",
       "<text text-anchor=\"middle\" x=\"747\" y=\"-473.8\" font-family=\"Times New Roman,serif\" font-size=\"14.00\">cycle %: 0.0%</text>\r\n",
       "</g>\r\n",
       "<!-- legend_bad -->\r\n",
       "<g id=\"node10\" class=\"node\">\r\n",
       "<title>legend_bad</title>\r\n",
       "<polygon fill=\"red\" stroke=\"black\" points=\"957.5,-519 836.5,-519 836.5,-466 957.5,-466 957.5,-519\"/>\r\n",
       "<text text-anchor=\"middle\" x=\"897\" y=\"-503.8\" font-family=\"Times New Roman,serif\" font-size=\"14.00\">bad insights</text>\r\n",
       "<text text-anchor=\"middle\" x=\"897\" y=\"-488.8\" font-family=\"Times New Roman,serif\" font-size=\"14.00\">mean_time: 1.5day</text>\r\n",
       "<text text-anchor=\"middle\" x=\"897\" y=\"-473.8\" font-family=\"Times New Roman,serif\" font-size=\"14.00\">cycle %: 80.0%</text>\r\n",
       "</g>\r\n",
       "</g>\r\n",
       "</svg>\r\n"
      ],
      "text/plain": [
       "<IPython.core.display.HTML object>"
      ]
     },
     "execution_count": 31,
     "metadata": {},
     "output_type": "execute_result"
    }
   ],
   "source": [
    "auto_i = AutoInsights(data_holder, time_unit='day')\n",
    "simple_miner = SimpleMiner(data_holder)\n",
    "simple_miner.apply()\n",
    "auto_i.apply(miner=simple_miner, mode='overall')\n",
    "graph = auto_i.get_graph()\n",
    "\n",
    "painter = GraphvizPainter()\n",
    "painter.apply_insights(graph)\n",
    "painter.show()"
   ]
  },
  {
   "cell_type": "markdown",
   "metadata": {},
   "source": [
    "## Max $t_e$ & trace len"
   ]
  },
  {
   "cell_type": "code",
   "execution_count": 32,
   "metadata": {},
   "outputs": [
    {
     "data": {
      "text/html": [
       "<div>\n",
       "<style scoped>\n",
       "    .dataframe tbody tr th:only-of-type {\n",
       "        vertical-align: middle;\n",
       "    }\n",
       "\n",
       "    .dataframe tbody tr th {\n",
       "        vertical-align: top;\n",
       "    }\n",
       "\n",
       "    .dataframe thead th {\n",
       "        text-align: right;\n",
       "    }\n",
       "</style>\n",
       "<table border=\"1\" class=\"dataframe\">\n",
       "  <thead>\n",
       "    <tr style=\"text-align: right;\">\n",
       "      <th></th>\n",
       "      <th>tt</th>\n",
       "      <th>te</th>\n",
       "      <th>tw</th>\n",
       "      <th>timestamp</th>\n",
       "      <th>trace_id</th>\n",
       "      <th>W_Afhandelen leads</th>\n",
       "      <th>W_Beoordelen fraude</th>\n",
       "      <th>W_Completeren aanvraag</th>\n",
       "      <th>W_Nabellen incomplete dossiers</th>\n",
       "      <th>W_Nabellen offertes</th>\n",
       "      <th>W_Valideren aanvraag</th>\n",
       "    </tr>\n",
       "  </thead>\n",
       "  <tbody>\n",
       "    <tr>\n",
       "      <th>0</th>\n",
       "      <td>0.000</td>\n",
       "      <td>0.000</td>\n",
       "      <td>474313.917</td>\n",
       "      <td>2011-10-01 11:45:13.917000+02:00</td>\n",
       "      <td>173688</td>\n",
       "      <td>0</td>\n",
       "      <td>0</td>\n",
       "      <td>1</td>\n",
       "      <td>0</td>\n",
       "      <td>0</td>\n",
       "      <td>0</td>\n",
       "    </tr>\n",
       "    <tr>\n",
       "      <th>1</th>\n",
       "      <td>1915.007</td>\n",
       "      <td>1915.007</td>\n",
       "      <td>476228.924</td>\n",
       "      <td>2011-10-01 12:17:08.924000+02:00</td>\n",
       "      <td>173688</td>\n",
       "      <td>0</td>\n",
       "      <td>0</td>\n",
       "      <td>0</td>\n",
       "      <td>0</td>\n",
       "      <td>1</td>\n",
       "      <td>0</td>\n",
       "    </tr>\n",
       "    <tr>\n",
       "      <th>2</th>\n",
       "      <td>622006.969</td>\n",
       "      <td>620091.962</td>\n",
       "      <td>491520.886</td>\n",
       "      <td>2011-10-08 16:32:00.886000+02:00</td>\n",
       "      <td>173688</td>\n",
       "      <td>0</td>\n",
       "      <td>0</td>\n",
       "      <td>0</td>\n",
       "      <td>0</td>\n",
       "      <td>1</td>\n",
       "      <td>0</td>\n",
       "    </tr>\n",
       "    <tr>\n",
       "      <th>3</th>\n",
       "      <td>776871.874</td>\n",
       "      <td>154864.905</td>\n",
       "      <td>41585.791</td>\n",
       "      <td>2011-10-10 11:33:05.791000+02:00</td>\n",
       "      <td>173688</td>\n",
       "      <td>0</td>\n",
       "      <td>0</td>\n",
       "      <td>0</td>\n",
       "      <td>0</td>\n",
       "      <td>1</td>\n",
       "      <td>0</td>\n",
       "    </tr>\n",
       "    <tr>\n",
       "      <th>4</th>\n",
       "      <td>1032743.109</td>\n",
       "      <td>255871.235</td>\n",
       "      <td>297457.026</td>\n",
       "      <td>2011-10-13 10:37:37.026000+02:00</td>\n",
       "      <td>173688</td>\n",
       "      <td>0</td>\n",
       "      <td>0</td>\n",
       "      <td>0</td>\n",
       "      <td>0</td>\n",
       "      <td>0</td>\n",
       "      <td>1</td>\n",
       "    </tr>\n",
       "    <tr>\n",
       "      <th>...</th>\n",
       "      <td>...</td>\n",
       "      <td>...</td>\n",
       "      <td>...</td>\n",
       "      <td>...</td>\n",
       "      <td>...</td>\n",
       "      <td>...</td>\n",
       "      <td>...</td>\n",
       "      <td>...</td>\n",
       "      <td>...</td>\n",
       "      <td>...</td>\n",
       "      <td>...</td>\n",
       "    </tr>\n",
       "    <tr>\n",
       "      <th>72408</th>\n",
       "      <td>0.000</td>\n",
       "      <td>0.000</td>\n",
       "      <td>293301.228</td>\n",
       "      <td>2012-03-01 09:28:21.228000+01:00</td>\n",
       "      <td>214370</td>\n",
       "      <td>1</td>\n",
       "      <td>0</td>\n",
       "      <td>0</td>\n",
       "      <td>0</td>\n",
       "      <td>0</td>\n",
       "      <td>0</td>\n",
       "    </tr>\n",
       "    <tr>\n",
       "      <th>72409</th>\n",
       "      <td>0.000</td>\n",
       "      <td>0.000</td>\n",
       "      <td>293272.388</td>\n",
       "      <td>2012-03-01 09:27:52.388000+01:00</td>\n",
       "      <td>214373</td>\n",
       "      <td>1</td>\n",
       "      <td>0</td>\n",
       "      <td>0</td>\n",
       "      <td>0</td>\n",
       "      <td>0</td>\n",
       "      <td>0</td>\n",
       "    </tr>\n",
       "    <tr>\n",
       "      <th>72410</th>\n",
       "      <td>39288.769</td>\n",
       "      <td>39288.769</td>\n",
       "      <td>332561.157</td>\n",
       "      <td>2012-03-01 20:22:41.157000+01:00</td>\n",
       "      <td>214373</td>\n",
       "      <td>0</td>\n",
       "      <td>0</td>\n",
       "      <td>1</td>\n",
       "      <td>0</td>\n",
       "      <td>0</td>\n",
       "      <td>0</td>\n",
       "    </tr>\n",
       "    <tr>\n",
       "      <th>72411</th>\n",
       "      <td>789782.493</td>\n",
       "      <td>750493.724</td>\n",
       "      <td>478254.881</td>\n",
       "      <td>2012-03-10 12:50:54.881000+01:00</td>\n",
       "      <td>214373</td>\n",
       "      <td>0</td>\n",
       "      <td>0</td>\n",
       "      <td>0</td>\n",
       "      <td>0</td>\n",
       "      <td>1</td>\n",
       "      <td>0</td>\n",
       "    </tr>\n",
       "    <tr>\n",
       "      <th>72412</th>\n",
       "      <td>0.000</td>\n",
       "      <td>0.000</td>\n",
       "      <td>293261.325</td>\n",
       "      <td>2012-03-01 09:27:41.325000+01:00</td>\n",
       "      <td>214376</td>\n",
       "      <td>1</td>\n",
       "      <td>0</td>\n",
       "      <td>0</td>\n",
       "      <td>0</td>\n",
       "      <td>0</td>\n",
       "      <td>0</td>\n",
       "    </tr>\n",
       "  </tbody>\n",
       "</table>\n",
       "<p>72413 rows × 11 columns</p>\n",
       "</div>"
      ],
      "text/plain": [
       "                tt          te          tw                         timestamp  \\\n",
       "0            0.000       0.000  474313.917  2011-10-01 11:45:13.917000+02:00   \n",
       "1         1915.007    1915.007  476228.924  2011-10-01 12:17:08.924000+02:00   \n",
       "2       622006.969  620091.962  491520.886  2011-10-08 16:32:00.886000+02:00   \n",
       "3       776871.874  154864.905   41585.791  2011-10-10 11:33:05.791000+02:00   \n",
       "4      1032743.109  255871.235  297457.026  2011-10-13 10:37:37.026000+02:00   \n",
       "...            ...         ...         ...                               ...   \n",
       "72408        0.000       0.000  293301.228  2012-03-01 09:28:21.228000+01:00   \n",
       "72409        0.000       0.000  293272.388  2012-03-01 09:27:52.388000+01:00   \n",
       "72410    39288.769   39288.769  332561.157  2012-03-01 20:22:41.157000+01:00   \n",
       "72411   789782.493  750493.724  478254.881  2012-03-10 12:50:54.881000+01:00   \n",
       "72412        0.000       0.000  293261.325  2012-03-01 09:27:41.325000+01:00   \n",
       "\n",
       "       trace_id  W_Afhandelen leads  W_Beoordelen fraude  \\\n",
       "0        173688                   0                    0   \n",
       "1        173688                   0                    0   \n",
       "2        173688                   0                    0   \n",
       "3        173688                   0                    0   \n",
       "4        173688                   0                    0   \n",
       "...         ...                 ...                  ...   \n",
       "72408    214370                   1                    0   \n",
       "72409    214373                   1                    0   \n",
       "72410    214373                   0                    0   \n",
       "72411    214373                   0                    0   \n",
       "72412    214376                   1                    0   \n",
       "\n",
       "       W_Completeren aanvraag  W_Nabellen incomplete dossiers  \\\n",
       "0                           1                               0   \n",
       "1                           0                               0   \n",
       "2                           0                               0   \n",
       "3                           0                               0   \n",
       "4                           0                               0   \n",
       "...                       ...                             ...   \n",
       "72408                       0                               0   \n",
       "72409                       0                               0   \n",
       "72410                       1                               0   \n",
       "72411                       0                               0   \n",
       "72412                       0                               0   \n",
       "\n",
       "       W_Nabellen offertes  W_Valideren aanvraag  \n",
       "0                        0                     0  \n",
       "1                        1                     0  \n",
       "2                        1                     0  \n",
       "3                        1                     0  \n",
       "4                        0                     1  \n",
       "...                    ...                   ...  \n",
       "72408                    0                     0  \n",
       "72409                    0                     0  \n",
       "72410                    0                     0  \n",
       "72411                    1                     0  \n",
       "72412                    0                     0  \n",
       "\n",
       "[72413 rows x 11 columns]"
      ]
     },
     "execution_count": 32,
     "metadata": {},
     "output_type": "execute_result"
    }
   ],
   "source": [
    "df_preprocessed"
   ]
  },
  {
   "cell_type": "code",
   "execution_count": 33,
   "metadata": {},
   "outputs": [],
   "source": [
    "traces_te_max = {}\n",
    "traces_len = {}\n",
    "for t_id in set(df_preprocessed['trace_id'].values):\n",
    "    _d = df_preprocessed[df_preprocessed['trace_id'] == t_id]\n",
    "    traces_len[t_id] = _d.shape[0]\n",
    "    traces_te_max[t_id] = _d['te'].max()"
   ]
  },
  {
   "cell_type": "code",
   "execution_count": 34,
   "metadata": {},
   "outputs": [
    {
     "data": {
      "image/png": "[encoded data removed]",
      "text/plain": [
       "<Figure size 432x288 with 1 Axes>"
      ]
     },
     "metadata": {},
     "output_type": "display_data"
    }
   ],
   "source": [
    "plt.scatter(np.array(list(traces_te_max.values())) / 3600 / 24, traces_len.values(), s=0.1)\n",
    "plt.xlabel('max $t_e, days$')\n",
    "plt.ylabel('max trace length')\n",
    "plt.show()"
   ]
  },
  {
   "cell_type": "markdown",
   "metadata": {},
   "source": [
    "# Loops\n",
    "На рисунке были видны циклы.\n",
    "Это плохо. Если мы использаем для обучения окна длиннйо 2, то возникает проблема:\n",
    "\n",
    "$A \\rightarrow B \\rightarrow A \\rightarrow B \\rightarrow A \\dots A \\rightarrow B \\rightarrow C$\n",
    "\n",
    "сформируют признаки\n",
    "\n",
    "$$[A,\\ B],\\ [A]$$\n",
    "$$[B,\\ A],\\ [B]$$\n",
    "$$[A,\\ B],\\ [A]$$\n",
    "$$\\dots$$\n",
    "\n",
    "и не получится обучить что после $[A,\\ B]$ идёт $[C]$"
   ]
  },
  {
   "cell_type": "markdown",
   "metadata": {},
   "source": [
    "## Какие циклы?\n",
    "Чтобы сильно не париться, будем искать циклы $A \\rightarrow B \\rightarrow A$. Отметим `trace_id` с циклами"
   ]
  },
  {
   "cell_type": "code",
   "execution_count": 35,
   "metadata": {},
   "outputs": [],
   "source": [
    "from rl4pm_lib.preprocessing import is_there_cycle, number_of_cycles"
   ]
  },
  {
   "cell_type": "code",
   "execution_count": 36,
   "metadata": {},
   "outputs": [],
   "source": [
    "assert is_there_cycle([1, 2, 3, 2]) == True\n",
    "assert is_there_cycle([1, 2, 3]) == False\n",
    "assert is_there_cycle([1, 2, 3, 3, 5, 6]) == True\n",
    "assert is_there_cycle([1, 2, 3, 4, 5, 6]) == False"
   ]
  },
  {
   "cell_type": "code",
   "execution_count": 37,
   "metadata": {},
   "outputs": [],
   "source": [
    "traces_is_cycle = {}\n",
    "traces_num_cycles = {}\n",
    "for t_id in set(df_preprocessed['trace_id'].values):\n",
    "    _d = df[df['trace_id'] == t_id]\n",
    "    traces_is_cycle[t_id] = is_there_cycle(_d['activity'].values)\n",
    "    traces_num_cycles[t_id] = number_of_cycles(_d['activity'].values)"
   ]
  },
  {
   "cell_type": "code",
   "execution_count": 38,
   "metadata": {},
   "outputs": [
    {
     "name": "stdout",
     "output_type": "stream",
     "text": [
      " 64.57% of all traces got cycles\n"
     ]
    }
   ],
   "source": [
    "print(f'{np.array(list(traces_is_cycle.values())).sum() / len(traces_is_cycle) * 100: .2f}% of all traces got cycles')"
   ]
  },
  {
   "cell_type": "markdown",
   "metadata": {},
   "source": [
    "Хотелось бы както это исправить"
   ]
  },
  {
   "cell_type": "code",
   "execution_count": 39,
   "metadata": {},
   "outputs": [
    {
     "data": {
      "image/png": "[encoded data removed]",
      "text/plain": [
       "<Figure size 432x288 with 1 Axes>"
      ]
     },
     "metadata": {},
     "output_type": "display_data"
    }
   ],
   "source": [
    "plt.scatter(np.array(list(traces_te_max.values())) / 3600 / 24, traces_num_cycles.values(), s=0.1)\n",
    "plt.xlabel('max $t_e, days$')\n",
    "plt.ylabel('number of cycles len 2 or 1 ')\n",
    "plt.title('Max te vs number of cycles')\n",
    "plt.show()"
   ]
  },
  {
   "cell_type": "code",
   "execution_count": 40,
   "metadata": {},
   "outputs": [
    {
     "data": {
      "image/png": "[encoded data removed]",
      "text/plain": [
       "<Figure size 432x288 with 1 Axes>"
      ]
     },
     "metadata": {},
     "output_type": "display_data"
    }
   ],
   "source": [
    "plt.scatter(list(traces_len.values()), traces_num_cycles.values(), s=0.2)\n",
    "plt.xlabel('length of trace')\n",
    "plt.ylabel('number of cycles, len 2 or 1 ')\n",
    "plt.title('Trace length vs number of cycles')\n",
    "plt.show()"
   ]
  },
  {
   "cell_type": "markdown",
   "metadata": {},
   "source": [
    "тоесть если есть цикл, то он занимает $\\frac{2}{3}$ процесса. Ужс"
   ]
  }
 ],
 "metadata": {
  "kernelspec": {
   "display_name": "Python 3",
   "language": "python",
   "name": "python3"
  },
  "language_info": {
   "codemirror_mode": {
    "name": "ipython",
    "version": 3
   },
   "file_extension": ".py",
   "mimetype": "text/x-python",
   "name": "python",
   "nbconvert_exporter": "python",
   "pygments_lexer": "ipython3",
   "version": "3.8.6"
  }
 },
 "nbformat": 4,
 "nbformat_minor": 4
}
