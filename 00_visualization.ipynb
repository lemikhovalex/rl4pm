{
 "cells": [
  {
   "cell_type": "code",
   "execution_count": 1,
   "metadata": {
    "scrolled": true
   },
   "outputs": [
    {
     "name": "stdout",
     "output_type": "stream",
     "text": [
      "Looking in indexes: https://pypi.org/simple, http://gitlab.moscow-ru0927.slb.com:8000/simple/\n",
      "Requirement already satisfied: pm4py in /usr/local/lib/python3.6/dist-packages (2.2.7.2)\n",
      "Requirement already satisfied: scipy in /usr/local/lib/python3.6/dist-packages (from pm4py) (1.5.4)\n",
      "Requirement already satisfied: deprecation in /usr/local/lib/python3.6/dist-packages (from pm4py) (2.1.0)\n",
      "Requirement already satisfied: pandas in /usr/local/lib/python3.6/dist-packages (from pm4py) (1.1.5)\n",
      "Requirement already satisfied: pyvis in /usr/local/lib/python3.6/dist-packages (from pm4py) (0.1.9)\n",
      "Requirement already satisfied: pytz in /usr/local/lib/python3.6/dist-packages (from pm4py) (2021.1)\n",
      "Requirement already satisfied: tqdm in /usr/local/lib/python3.6/dist-packages (from pm4py) (4.61.0)\n",
      "Requirement already satisfied: matplotlib in /usr/local/lib/python3.6/dist-packages (from pm4py) (3.3.4)\n",
      "Requirement already satisfied: pydotplus in /usr/local/lib/python3.6/dist-packages (from pm4py) (2.0.2)\n",
      "Requirement already satisfied: sympy in /usr/local/lib/python3.6/dist-packages (from pm4py) (1.8)\n",
      "Requirement already satisfied: stringdist in /usr/local/lib/python3.6/dist-packages (from pm4py) (1.0.9)\n",
      "Requirement already satisfied: intervaltree in /usr/local/lib/python3.6/dist-packages (from pm4py) (3.1.0)\n",
      "Requirement already satisfied: networkx in /usr/local/lib/python3.6/dist-packages (from pm4py) (2.5.1)\n",
      "Requirement already satisfied: numpy!=1.19.4 in /usr/local/lib/python3.6/dist-packages (from pm4py) (1.19.5)\n",
      "Requirement already satisfied: jsonpickle in /usr/local/lib/python3.6/dist-packages (from pm4py) (2.0.0)\n",
      "Requirement already satisfied: cvxopt in /usr/local/lib/python3.6/dist-packages (from pm4py) (1.2.6)\n",
      "Requirement already satisfied: pulp<=2.1 in /usr/local/lib/python3.6/dist-packages (from pm4py) (2.1)\n",
      "Requirement already satisfied: scikit-learn in /usr/local/lib/python3.6/dist-packages (from pm4py) (0.24.2)\n",
      "Requirement already satisfied: lxml in /usr/local/lib/python3.6/dist-packages (from pm4py) (4.6.3)\n",
      "Requirement already satisfied: graphviz in /usr/local/lib/python3.6/dist-packages (from pm4py) (0.16)\n",
      "Requirement already satisfied: ciso8601; python_version < \"3.7\" in /usr/local/lib/python3.6/dist-packages (from pm4py) (2.1.3)\n",
      "Requirement already satisfied: packaging in /usr/local/lib/python3.6/dist-packages (from deprecation->pm4py) (20.9)\n",
      "Requirement already satisfied: python-dateutil>=2.7.3 in /usr/local/lib/python3.6/dist-packages (from pandas->pm4py) (2.8.1)\n",
      "Requirement already satisfied: jinja2>=2.9.6 in /usr/local/lib/python3.6/dist-packages (from pyvis->pm4py) (2.11.3)\n",
      "Requirement already satisfied: ipython>=5.3.0 in /usr/local/lib/python3.6/dist-packages (from pyvis->pm4py) (7.16.1)\n",
      "Requirement already satisfied: pyparsing!=2.0.4,!=2.1.2,!=2.1.6,>=2.0.3 in /usr/local/lib/python3.6/dist-packages (from matplotlib->pm4py) (2.4.7)\n",
      "Requirement already satisfied: pillow>=6.2.0 in /usr/local/lib/python3.6/dist-packages (from matplotlib->pm4py) (8.2.0)\n",
      "Requirement already satisfied: kiwisolver>=1.0.1 in /usr/local/lib/python3.6/dist-packages (from matplotlib->pm4py) (1.3.1)\n",
      "Requirement already satisfied: cycler>=0.10 in /usr/local/lib/python3.6/dist-packages (from matplotlib->pm4py) (0.10.0)\n",
      "Requirement already satisfied: mpmath>=0.19 in /usr/local/lib/python3.6/dist-packages (from sympy->pm4py) (1.2.1)\n",
      "Requirement already satisfied: sortedcontainers<3.0,>=2.0 in /usr/local/lib/python3.6/dist-packages (from intervaltree->pm4py) (2.4.0)\n",
      "Requirement already satisfied: decorator<5,>=4.3 in /usr/local/lib/python3.6/dist-packages (from networkx->pm4py) (4.4.2)\n",
      "Requirement already satisfied: importlib-metadata; python_version < \"3.8\" in /usr/local/lib/python3.6/dist-packages (from jsonpickle->pm4py) (4.0.1)\n",
      "Requirement already satisfied: threadpoolctl>=2.0.0 in /usr/local/lib/python3.6/dist-packages (from scikit-learn->pm4py) (2.1.0)\n",
      "Requirement already satisfied: joblib>=0.11 in /usr/local/lib/python3.6/dist-packages (from scikit-learn->pm4py) (1.0.1)\n",
      "Requirement already satisfied: six>=1.5 in /usr/local/lib/python3.6/dist-packages (from python-dateutil>=2.7.3->pandas->pm4py) (1.15.0)\n",
      "Requirement already satisfied: MarkupSafe>=0.23 in /usr/local/lib/python3.6/dist-packages (from jinja2>=2.9.6->pyvis->pm4py) (1.1.1)\n",
      "Requirement already satisfied: setuptools>=18.5 in /usr/local/lib/python3.6/dist-packages (from ipython>=5.3.0->pyvis->pm4py) (56.2.0)\n",
      "Requirement already satisfied: jedi>=0.10 in /usr/local/lib/python3.6/dist-packages (from ipython>=5.3.0->pyvis->pm4py) (0.17.2)\n",
      "Requirement already satisfied: pygments in /usr/local/lib/python3.6/dist-packages (from ipython>=5.3.0->pyvis->pm4py) (2.9.0)\n",
      "Requirement already satisfied: backcall in /usr/local/lib/python3.6/dist-packages (from ipython>=5.3.0->pyvis->pm4py) (0.2.0)\n",
      "Requirement already satisfied: traitlets>=4.2 in /usr/local/lib/python3.6/dist-packages (from ipython>=5.3.0->pyvis->pm4py) (4.3.3)\n",
      "Requirement already satisfied: pexpect; sys_platform != \"win32\" in /usr/local/lib/python3.6/dist-packages (from ipython>=5.3.0->pyvis->pm4py) (4.8.0)\n",
      "Requirement already satisfied: prompt-toolkit!=3.0.0,!=3.0.1,<3.1.0,>=2.0.0 in /usr/local/lib/python3.6/dist-packages (from ipython>=5.3.0->pyvis->pm4py) (3.0.18)\n",
      "Requirement already satisfied: pickleshare in /usr/local/lib/python3.6/dist-packages (from ipython>=5.3.0->pyvis->pm4py) (0.7.5)\n",
      "Requirement already satisfied: typing-extensions>=3.6.4; python_version < \"3.8\" in /usr/local/lib/python3.6/dist-packages (from importlib-metadata; python_version < \"3.8\"->jsonpickle->pm4py) (3.7.4.3)\n",
      "Requirement already satisfied: zipp>=0.5 in /usr/local/lib/python3.6/dist-packages (from importlib-metadata; python_version < \"3.8\"->jsonpickle->pm4py) (3.4.1)\n",
      "Requirement already satisfied: parso<0.8.0,>=0.7.0 in /usr/local/lib/python3.6/dist-packages (from jedi>=0.10->ipython>=5.3.0->pyvis->pm4py) (0.7.1)\n",
      "Requirement already satisfied: ipython-genutils in /usr/local/lib/python3.6/dist-packages (from traitlets>=4.2->ipython>=5.3.0->pyvis->pm4py) (0.2.0)\n",
      "Requirement already satisfied: ptyprocess>=0.5 in /usr/local/lib/python3.6/dist-packages (from pexpect; sys_platform != \"win32\"->ipython>=5.3.0->pyvis->pm4py) (0.7.0)\n",
      "Requirement already satisfied: wcwidth in /usr/local/lib/python3.6/dist-packages (from prompt-toolkit!=3.0.0,!=3.0.1,<3.1.0,>=2.0.0->ipython>=5.3.0->pyvis->pm4py) (0.2.5)\n",
      "\u001b[33mWARNING: You are using pip version 19.3.1; however, version 21.1.2 is available.\n",
      "You should consider upgrading via the 'pip install --upgrade pip' command.\u001b[0m\n",
      "Looking in indexes: https://pypi.org/simple, http://gitlab.moscow-ru0927.slb.com:8000/simple/\n",
      "Requirement already satisfied: seaborn in /usr/local/lib/python3.6/dist-packages (0.11.1)\n",
      "Requirement already satisfied: numpy>=1.15 in /usr/local/lib/python3.6/dist-packages (from seaborn) (1.19.5)\n",
      "Requirement already satisfied: matplotlib>=2.2 in /usr/local/lib/python3.6/dist-packages (from seaborn) (3.3.4)\n",
      "Requirement already satisfied: scipy>=1.0 in /usr/local/lib/python3.6/dist-packages (from seaborn) (1.5.4)\n",
      "Requirement already satisfied: pandas>=0.23 in /usr/local/lib/python3.6/dist-packages (from seaborn) (1.1.5)\n",
      "Requirement already satisfied: pillow>=6.2.0 in /usr/local/lib/python3.6/dist-packages (from matplotlib>=2.2->seaborn) (8.2.0)\n",
      "Requirement already satisfied: python-dateutil>=2.1 in /usr/local/lib/python3.6/dist-packages (from matplotlib>=2.2->seaborn) (2.8.1)\n",
      "Requirement already satisfied: cycler>=0.10 in /usr/local/lib/python3.6/dist-packages (from matplotlib>=2.2->seaborn) (0.10.0)\n",
      "Requirement already satisfied: kiwisolver>=1.0.1 in /usr/local/lib/python3.6/dist-packages (from matplotlib>=2.2->seaborn) (1.3.1)\n",
      "Requirement already satisfied: pyparsing!=2.0.4,!=2.1.2,!=2.1.6,>=2.0.3 in /usr/local/lib/python3.6/dist-packages (from matplotlib>=2.2->seaborn) (2.4.7)\n",
      "Requirement already satisfied: pytz>=2017.2 in /usr/local/lib/python3.6/dist-packages (from pandas>=0.23->seaborn) (2021.1)\n",
      "Requirement already satisfied: six>=1.5 in /usr/local/lib/python3.6/dist-packages (from python-dateutil>=2.1->matplotlib>=2.2->seaborn) (1.15.0)\n",
      "\u001b[33mWARNING: You are using pip version 19.3.1; however, version 21.1.2 is available.\n",
      "You should consider upgrading via the 'pip install --upgrade pip' command.\u001b[0m\n"
     ]
    }
   ],
   "source": [
    "! pip install pm4py\n",
    "! pip install seaborn"
   ]
  },
  {
   "cell_type": "code",
   "execution_count": 2,
   "metadata": {},
   "outputs": [],
   "source": [
    "import pm4py\n",
    "import pandas as pd\n",
    "import datetime\n",
    "from math import ceil\n",
    "import matplotlib.pyplot as plt\n",
    "import numpy as np\n",
    "from importlib import reload\n",
    "import random\n",
    "import seaborn as sns\n",
    "from IPython import display"
   ]
  },
  {
   "cell_type": "markdown",
   "metadata": {},
   "source": [
    "# What is it about\n",
    "## Data\n",
    "We have data of processes - `bpi12`. It is a sequence of (`time_stamp`, `activity`,...) \n",
    "and other stuff which is not considered by community. Basicly here it is `BPI_Challenge_2012.xes`"
   ]
  },
  {
   "cell_type": "code",
   "execution_count": 3,
   "metadata": {},
   "outputs": [
    {
     "data": {
      "application/vnd.jupyter.widget-view+json": {
       "model_id": "d193d27867ad482692684ad05a03399d",
       "version_major": 2,
       "version_minor": 0
      },
      "text/plain": [
       "parsing log, completed traces ::   0%|          | 0/13087 [00:00<?, ?it/s]"
      ]
     },
     "metadata": {},
     "output_type": "display_data"
    },
    {
     "data": {
      "text/html": [
       "<div>\n",
       "<style scoped>\n",
       "    .dataframe tbody tr th:only-of-type {\n",
       "        vertical-align: middle;\n",
       "    }\n",
       "\n",
       "    .dataframe tbody tr th {\n",
       "        vertical-align: top;\n",
       "    }\n",
       "\n",
       "    .dataframe thead th {\n",
       "        text-align: right;\n",
       "    }\n",
       "</style>\n",
       "<table border=\"1\" class=\"dataframe\">\n",
       "  <thead>\n",
       "    <tr style=\"text-align: right;\">\n",
       "      <th></th>\n",
       "      <th>org:resource</th>\n",
       "      <th>lifecycle:transition</th>\n",
       "      <th>concept:name</th>\n",
       "      <th>time:timestamp</th>\n",
       "      <th>case:REG_DATE</th>\n",
       "      <th>case:concept:name</th>\n",
       "      <th>case:AMOUNT_REQ</th>\n",
       "    </tr>\n",
       "  </thead>\n",
       "  <tbody>\n",
       "    <tr>\n",
       "      <th>0</th>\n",
       "      <td>112</td>\n",
       "      <td>COMPLETE</td>\n",
       "      <td>A_SUBMITTED</td>\n",
       "      <td>2011-10-01 00:38:44.546000+02:00</td>\n",
       "      <td>2011-10-01 00:38:44.546000+02:00</td>\n",
       "      <td>173688</td>\n",
       "      <td>20000</td>\n",
       "    </tr>\n",
       "    <tr>\n",
       "      <th>1</th>\n",
       "      <td>112</td>\n",
       "      <td>COMPLETE</td>\n",
       "      <td>A_PARTLYSUBMITTED</td>\n",
       "      <td>2011-10-01 00:38:44.880000+02:00</td>\n",
       "      <td>2011-10-01 00:38:44.546000+02:00</td>\n",
       "      <td>173688</td>\n",
       "      <td>20000</td>\n",
       "    </tr>\n",
       "    <tr>\n",
       "      <th>2</th>\n",
       "      <td>112</td>\n",
       "      <td>COMPLETE</td>\n",
       "      <td>A_PREACCEPTED</td>\n",
       "      <td>2011-10-01 00:39:37.906000+02:00</td>\n",
       "      <td>2011-10-01 00:38:44.546000+02:00</td>\n",
       "      <td>173688</td>\n",
       "      <td>20000</td>\n",
       "    </tr>\n",
       "    <tr>\n",
       "      <th>3</th>\n",
       "      <td>112</td>\n",
       "      <td>SCHEDULE</td>\n",
       "      <td>W_Completeren aanvraag</td>\n",
       "      <td>2011-10-01 00:39:38.875000+02:00</td>\n",
       "      <td>2011-10-01 00:38:44.546000+02:00</td>\n",
       "      <td>173688</td>\n",
       "      <td>20000</td>\n",
       "    </tr>\n",
       "    <tr>\n",
       "      <th>4</th>\n",
       "      <td>NaN</td>\n",
       "      <td>START</td>\n",
       "      <td>W_Completeren aanvraag</td>\n",
       "      <td>2011-10-01 11:36:46.437000+02:00</td>\n",
       "      <td>2011-10-01 00:38:44.546000+02:00</td>\n",
       "      <td>173688</td>\n",
       "      <td>20000</td>\n",
       "    </tr>\n",
       "    <tr>\n",
       "      <th>...</th>\n",
       "      <td>...</td>\n",
       "      <td>...</td>\n",
       "      <td>...</td>\n",
       "      <td>...</td>\n",
       "      <td>...</td>\n",
       "      <td>...</td>\n",
       "      <td>...</td>\n",
       "    </tr>\n",
       "    <tr>\n",
       "      <th>262195</th>\n",
       "      <td>112</td>\n",
       "      <td>COMPLETE</td>\n",
       "      <td>A_PARTLYSUBMITTED</td>\n",
       "      <td>2012-02-29 23:51:17.423000+01:00</td>\n",
       "      <td>2012-02-29 23:51:16.799000+01:00</td>\n",
       "      <td>214376</td>\n",
       "      <td>15000</td>\n",
       "    </tr>\n",
       "    <tr>\n",
       "      <th>262196</th>\n",
       "      <td>112</td>\n",
       "      <td>SCHEDULE</td>\n",
       "      <td>W_Afhandelen leads</td>\n",
       "      <td>2012-02-29 23:52:01.287000+01:00</td>\n",
       "      <td>2012-02-29 23:51:16.799000+01:00</td>\n",
       "      <td>214376</td>\n",
       "      <td>15000</td>\n",
       "    </tr>\n",
       "    <tr>\n",
       "      <th>262197</th>\n",
       "      <td>11169</td>\n",
       "      <td>START</td>\n",
       "      <td>W_Afhandelen leads</td>\n",
       "      <td>2012-03-01 09:26:46.736000+01:00</td>\n",
       "      <td>2012-02-29 23:51:16.799000+01:00</td>\n",
       "      <td>214376</td>\n",
       "      <td>15000</td>\n",
       "    </tr>\n",
       "    <tr>\n",
       "      <th>262198</th>\n",
       "      <td>11169</td>\n",
       "      <td>COMPLETE</td>\n",
       "      <td>A_DECLINED</td>\n",
       "      <td>2012-03-01 09:27:37.118000+01:00</td>\n",
       "      <td>2012-02-29 23:51:16.799000+01:00</td>\n",
       "      <td>214376</td>\n",
       "      <td>15000</td>\n",
       "    </tr>\n",
       "    <tr>\n",
       "      <th>262199</th>\n",
       "      <td>11169</td>\n",
       "      <td>COMPLETE</td>\n",
       "      <td>W_Afhandelen leads</td>\n",
       "      <td>2012-03-01 09:27:41.325000+01:00</td>\n",
       "      <td>2012-02-29 23:51:16.799000+01:00</td>\n",
       "      <td>214376</td>\n",
       "      <td>15000</td>\n",
       "    </tr>\n",
       "  </tbody>\n",
       "</table>\n",
       "<p>262200 rows × 7 columns</p>\n",
       "</div>"
      ],
      "text/plain": [
       "       org:resource lifecycle:transition            concept:name  \\\n",
       "0               112             COMPLETE             A_SUBMITTED   \n",
       "1               112             COMPLETE       A_PARTLYSUBMITTED   \n",
       "2               112             COMPLETE           A_PREACCEPTED   \n",
       "3               112             SCHEDULE  W_Completeren aanvraag   \n",
       "4               NaN                START  W_Completeren aanvraag   \n",
       "...             ...                  ...                     ...   \n",
       "262195          112             COMPLETE       A_PARTLYSUBMITTED   \n",
       "262196          112             SCHEDULE      W_Afhandelen leads   \n",
       "262197        11169                START      W_Afhandelen leads   \n",
       "262198        11169             COMPLETE              A_DECLINED   \n",
       "262199        11169             COMPLETE      W_Afhandelen leads   \n",
       "\n",
       "                          time:timestamp                     case:REG_DATE  \\\n",
       "0       2011-10-01 00:38:44.546000+02:00  2011-10-01 00:38:44.546000+02:00   \n",
       "1       2011-10-01 00:38:44.880000+02:00  2011-10-01 00:38:44.546000+02:00   \n",
       "2       2011-10-01 00:39:37.906000+02:00  2011-10-01 00:38:44.546000+02:00   \n",
       "3       2011-10-01 00:39:38.875000+02:00  2011-10-01 00:38:44.546000+02:00   \n",
       "4       2011-10-01 11:36:46.437000+02:00  2011-10-01 00:38:44.546000+02:00   \n",
       "...                                  ...                               ...   \n",
       "262195  2012-02-29 23:51:17.423000+01:00  2012-02-29 23:51:16.799000+01:00   \n",
       "262196  2012-02-29 23:52:01.287000+01:00  2012-02-29 23:51:16.799000+01:00   \n",
       "262197  2012-03-01 09:26:46.736000+01:00  2012-02-29 23:51:16.799000+01:00   \n",
       "262198  2012-03-01 09:27:37.118000+01:00  2012-02-29 23:51:16.799000+01:00   \n",
       "262199  2012-03-01 09:27:41.325000+01:00  2012-02-29 23:51:16.799000+01:00   \n",
       "\n",
       "       case:concept:name case:AMOUNT_REQ  \n",
       "0                 173688           20000  \n",
       "1                 173688           20000  \n",
       "2                 173688           20000  \n",
       "3                 173688           20000  \n",
       "4                 173688           20000  \n",
       "...                  ...             ...  \n",
       "262195            214376           15000  \n",
       "262196            214376           15000  \n",
       "262197            214376           15000  \n",
       "262198            214376           15000  \n",
       "262199            214376           15000  \n",
       "\n",
       "[262200 rows x 7 columns]"
      ]
     },
     "execution_count": 3,
     "metadata": {},
     "output_type": "execute_result"
    }
   ],
   "source": [
    "file_path = 'datasets/BPI_Challenge_2012.xes'\n",
    "event_log = pm4py.read_xes(file_path)\n",
    "df = pm4py.convert_to_dataframe(event_log)\n",
    "df"
   ]
  },
  {
   "cell_type": "markdown",
   "metadata": {},
   "source": [
    "We works only wuith activity (which is about completion of process) and time"
   ]
  },
  {
   "cell_type": "code",
   "execution_count": 4,
   "metadata": {},
   "outputs": [],
   "source": [
    "df = pm4py.convert_to_dataframe(event_log)\n",
    "df = df[df['lifecycle:transition']=='COMPLETE']\n",
    "# work subprocess, starts with 'W_'\n",
    "is_work_sp = df['concept:name'].apply(lambda x: True if x[:2] == 'W_' else False)\n",
    "df = df[is_work_sp]\n",
    "\n",
    "df = df[['time:timestamp', 'case:concept:name', 'concept:name']]\n",
    "df = df.rename(columns={'time:timestamp': 'timestamp', 'case:concept:name': 'trace_id', 'concept:name': 'activity'})"
   ]
  },
  {
   "cell_type": "code",
   "execution_count": 5,
   "metadata": {},
   "outputs": [],
   "source": [
    "taces_with_nans = []\n",
    "traces = set(df['trace_id'].values)\n",
    "l = len(traces)\n",
    "for _i, t_id in enumerate(traces):\n",
    "    if df[df['trace_id'] == t_id].isna().sum().sum() > 0:\n",
    "        taces_with_nans.append(t_id)"
   ]
  },
  {
   "cell_type": "code",
   "execution_count": 6,
   "metadata": {},
   "outputs": [
    {
     "data": {
      "text/plain": [
       "0"
      ]
     },
     "execution_count": 6,
     "metadata": {},
     "output_type": "execute_result"
    }
   ],
   "source": [
    "len(taces_with_nans)"
   ]
  },
  {
   "cell_type": "code",
   "execution_count": 7,
   "metadata": {},
   "outputs": [
    {
     "data": {
      "text/html": [
       "<div>\n",
       "<style scoped>\n",
       "    .dataframe tbody tr th:only-of-type {\n",
       "        vertical-align: middle;\n",
       "    }\n",
       "\n",
       "    .dataframe tbody tr th {\n",
       "        vertical-align: top;\n",
       "    }\n",
       "\n",
       "    .dataframe thead th {\n",
       "        text-align: right;\n",
       "    }\n",
       "</style>\n",
       "<table border=\"1\" class=\"dataframe\">\n",
       "  <thead>\n",
       "    <tr style=\"text-align: right;\">\n",
       "      <th></th>\n",
       "      <th>timestamp</th>\n",
       "      <th>trace_id</th>\n",
       "      <th>activity</th>\n",
       "    </tr>\n",
       "  </thead>\n",
       "  <tbody>\n",
       "    <tr>\n",
       "      <th>0</th>\n",
       "      <td>2011-10-01 11:45:13.917000+02:00</td>\n",
       "      <td>173688</td>\n",
       "      <td>W_Completeren aanvraag</td>\n",
       "    </tr>\n",
       "    <tr>\n",
       "      <th>1</th>\n",
       "      <td>2011-10-01 12:17:08.924000+02:00</td>\n",
       "      <td>173688</td>\n",
       "      <td>W_Nabellen offertes</td>\n",
       "    </tr>\n",
       "    <tr>\n",
       "      <th>2</th>\n",
       "      <td>2011-10-08 16:32:00.886000+02:00</td>\n",
       "      <td>173688</td>\n",
       "      <td>W_Nabellen offertes</td>\n",
       "    </tr>\n",
       "    <tr>\n",
       "      <th>3</th>\n",
       "      <td>2011-10-10 11:33:05.791000+02:00</td>\n",
       "      <td>173688</td>\n",
       "      <td>W_Nabellen offertes</td>\n",
       "    </tr>\n",
       "    <tr>\n",
       "      <th>4</th>\n",
       "      <td>2011-10-13 10:37:37.026000+02:00</td>\n",
       "      <td>173688</td>\n",
       "      <td>W_Valideren aanvraag</td>\n",
       "    </tr>\n",
       "    <tr>\n",
       "      <th>...</th>\n",
       "      <td>...</td>\n",
       "      <td>...</td>\n",
       "      <td>...</td>\n",
       "    </tr>\n",
       "    <tr>\n",
       "      <th>72408</th>\n",
       "      <td>2012-03-01 09:28:21.228000+01:00</td>\n",
       "      <td>214370</td>\n",
       "      <td>W_Afhandelen leads</td>\n",
       "    </tr>\n",
       "    <tr>\n",
       "      <th>72409</th>\n",
       "      <td>2012-03-01 09:27:52.388000+01:00</td>\n",
       "      <td>214373</td>\n",
       "      <td>W_Afhandelen leads</td>\n",
       "    </tr>\n",
       "    <tr>\n",
       "      <th>72410</th>\n",
       "      <td>2012-03-01 20:22:41.157000+01:00</td>\n",
       "      <td>214373</td>\n",
       "      <td>W_Completeren aanvraag</td>\n",
       "    </tr>\n",
       "    <tr>\n",
       "      <th>72411</th>\n",
       "      <td>2012-03-10 12:50:54.881000+01:00</td>\n",
       "      <td>214373</td>\n",
       "      <td>W_Nabellen offertes</td>\n",
       "    </tr>\n",
       "    <tr>\n",
       "      <th>72412</th>\n",
       "      <td>2012-03-01 09:27:41.325000+01:00</td>\n",
       "      <td>214376</td>\n",
       "      <td>W_Afhandelen leads</td>\n",
       "    </tr>\n",
       "  </tbody>\n",
       "</table>\n",
       "<p>72413 rows × 3 columns</p>\n",
       "</div>"
      ],
      "text/plain": [
       "                              timestamp  trace_id                activity\n",
       "0      2011-10-01 11:45:13.917000+02:00    173688  W_Completeren aanvraag\n",
       "1      2011-10-01 12:17:08.924000+02:00    173688     W_Nabellen offertes\n",
       "2      2011-10-08 16:32:00.886000+02:00    173688     W_Nabellen offertes\n",
       "3      2011-10-10 11:33:05.791000+02:00    173688     W_Nabellen offertes\n",
       "4      2011-10-13 10:37:37.026000+02:00    173688    W_Valideren aanvraag\n",
       "...                                 ...       ...                     ...\n",
       "72408  2012-03-01 09:28:21.228000+01:00    214370      W_Afhandelen leads\n",
       "72409  2012-03-01 09:27:52.388000+01:00    214373      W_Afhandelen leads\n",
       "72410  2012-03-01 20:22:41.157000+01:00    214373  W_Completeren aanvraag\n",
       "72411  2012-03-10 12:50:54.881000+01:00    214373     W_Nabellen offertes\n",
       "72412  2012-03-01 09:27:41.325000+01:00    214376      W_Afhandelen leads\n",
       "\n",
       "[72413 rows x 3 columns]"
      ]
     },
     "execution_count": 7,
     "metadata": {},
     "output_type": "execute_result"
    }
   ],
   "source": [
    "df['trace_id'] = df['trace_id'].apply(lambda x: int(x))\n",
    "df.reset_index(inplace=True)\n",
    "df.drop(columns='index', inplace=True)\n",
    "df.to_csv('datasets/bpi_12.csv', index=False)\n",
    "df"
   ]
  },
  {
   "cell_type": "markdown",
   "metadata": {},
   "source": [
    "Some defenitions must be mentioned:\n",
    "- event ($e_i$) - {`activity` ($a$), `time_stamp` ($t$)}\n",
    "- trace (t) - $[e_1,\\ e_2, \\dots]$"
   ]
  },
  {
   "cell_type": "markdown",
   "metadata": {},
   "source": [
    "## Purpose\n",
    "Main objective - predict next `time_stamp` and `activity`. \n",
    "\n",
    "For activity metric, used by community is accuracy, and in latest works `f1`. For `time_stamp` ussualy MAE, sometimes weighted MAE.\n",
    "\n",
    "Nevetheless some other objectives are discovered - whole trace prediction. The metric for activity prediction - Damerau-Levenshtein Similarity"
   ]
  },
  {
   "cell_type": "markdown",
   "metadata": {},
   "source": [
    "# Visualization\n",
    "## Activity transition\n",
    "Firstly let's take a look on all activities transition  and try to estimate $P(a_{i+1} | a_i)$. It is a square matrix, which worth to be presented as `sns.heatmap`"
   ]
  },
  {
   "cell_type": "code",
   "execution_count": 8,
   "metadata": {},
   "outputs": [],
   "source": [
    "activities = list(set(df['activity'].values))\n",
    "n_act = len(activities)\n",
    "traces = list(set(df['trace_id'].values))\n",
    "_df = df.copy()\n",
    "_df['activity_prev'] = _df['activity'].shift(1)\n",
    "_df['trace_id_prev'] = _df['trace_id'].shift(1)\n",
    "_df = _df.dropna()\n",
    "_df = _df[_df['trace_id_prev'] == _df['trace_id']]"
   ]
  },
  {
   "cell_type": "code",
   "execution_count": 9,
   "metadata": {},
   "outputs": [],
   "source": [
    "\n",
    "transitions_counts = np.zeros((n_act, n_act))\n",
    "nums_of_ac_next = []\n",
    "for _i_next, act_next in enumerate(activities):\n",
    "    _df_ac_next = _df[_df['activity'] == act_next]\n",
    "    nums_of_ac_next.append(_df_ac_next.shape[0])\n",
    "    for _i_prev, act_prev in enumerate(activities):\n",
    "        transitions_counts[ _i_prev, _i_next] += _df_ac_next[_df_ac_next['activity_prev'] == act_prev].shape[0]"
   ]
  },
  {
   "cell_type": "code",
   "execution_count": 10,
   "metadata": {},
   "outputs": [
    {
     "data": {
      "image/png": "[encoded data removed]",
      "text/plain": [
       "<Figure size 432x288 with 2 Axes>"
      ]
     },
     "metadata": {},
     "output_type": "display_data"
    }
   ],
   "source": [
    "transitions_counts[transitions_counts == 0] = np.nan\n",
    "sns.set(rc={'figure.facecolor':'white'})\n",
    "sns.heatmap(transitions_counts, xticklabels=list(activities), yticklabels=list(activities))\n",
    "plt.title('Total number of transition  $a_t -> a_{t+1}$')\n",
    "\n",
    "plt.xlabel('$a_i$')\n",
    "plt.ylabel('$a_{i+1}$')\n",
    "plt.show()"
   ]
  },
  {
   "cell_type": "code",
   "execution_count": 11,
   "metadata": {},
   "outputs": [
    {
     "name": "stdout",
     "output_type": "stream",
     "text": [
      "There are 17 not existing transitions\n"
     ]
    }
   ],
   "source": [
    "print(f'There are {np.isnan(transitions_counts).sum()} not existing transitions')"
   ]
  },
  {
   "cell_type": "code",
   "execution_count": 12,
   "metadata": {},
   "outputs": [],
   "source": [
    "transitions_counts[transitions_counts < 10] = np.nan"
   ]
  },
  {
   "cell_type": "code",
   "execution_count": 13,
   "metadata": {},
   "outputs": [
    {
     "data": {
      "image/png": "[encoded data removed]",
      "text/plain": [
       "<Figure size 432x288 with 2 Axes>"
      ]
     },
     "metadata": {},
     "output_type": "display_data"
    }
   ],
   "source": [
    "sns.set(rc={'figure.facecolor':'white'})\n",
    "sns.heatmap(transitions_counts\n",
    "            , xticklabels=list(activities), yticklabels=list(activities))\n",
    "plt.title('Total number of transition  $a_t -> a_{t+1}$')\n",
    "\n",
    "plt.xlabel('$a_i$')\n",
    "plt.ylabel('$a_{i+1}$')\n",
    "plt.show()"
   ]
  },
  {
   "cell_type": "code",
   "execution_count": 14,
   "metadata": {},
   "outputs": [
    {
     "name": "stdout",
     "output_type": "stream",
     "text": [
      "There are 21 not existing transitions\n"
     ]
    }
   ],
   "source": [
    "print(f'There are {np.isnan(transitions_counts).sum()} not existing transitions')"
   ]
  },
  {
   "cell_type": "markdown",
   "metadata": {},
   "source": [
    "Cant say there are much rare transitions"
   ]
  },
  {
   "cell_type": "code",
   "execution_count": 15,
   "metadata": {},
   "outputs": [
    {
     "data": {
      "image/png": "[encoded data removed]",
      "text/plain": [
       "<Figure size 432x288 with 2 Axes>"
      ]
     },
     "metadata": {},
     "output_type": "display_data"
    }
   ],
   "source": [
    "prob_matrix = transitions_counts / np.nan_to_num(transitions_counts, 0).sum(axis=1).reshape(-1, 1)\n",
    "sns.set(rc={'figure.facecolor':'white'})\n",
    "sns.heatmap(prob_matrix,\n",
    "            xticklabels=list(activities), yticklabels=list(activities), \n",
    "            annot=True, fmt=\".2f\"\n",
    "           )\n",
    "plt.title('Probability of transition  $a_t -> a_{t+1}$')\n",
    "plt.xlabel('$a_{i+1}$')\n",
    "plt.ylabel('$a_i$')\n",
    "plt.show()"
   ]
  },
  {
   "cell_type": "code",
   "execution_count": 16,
   "metadata": {},
   "outputs": [
    {
     "name": "stdout",
     "output_type": "stream",
     "text": [
      "dull baseline 0.7644911945174915\n"
     ]
    }
   ],
   "source": [
    "filled = np.nan_to_num(transitions_counts, 0)\n",
    "print(f'dull baseline {np.diagonal(filled).sum() / filled.sum()}')"
   ]
  },
  {
   "cell_type": "code",
   "execution_count": null,
   "metadata": {},
   "outputs": [],
   "source": []
  },
  {
   "cell_type": "markdown",
   "metadata": {},
   "source": [
    "Can't say this dataset has uniform distribution."
   ]
  },
  {
   "cell_type": "markdown",
   "metadata": {},
   "source": [
    "## Time features\n",
    "For leveraging predictive models the following features are created:\n",
    "- $t_e$ - time since previous event\n",
    "- $t_w$ - time since the beginning of week\n",
    "- $t_t$ - time since the beginning of trace\n",
    "\n",
    "let's visualize all these features"
   ]
  },
  {
   "cell_type": "code",
   "execution_count": 17,
   "metadata": {},
   "outputs": [
    {
     "data": {
      "text/html": [
       "<div>\n",
       "<style scoped>\n",
       "    .dataframe tbody tr th:only-of-type {\n",
       "        vertical-align: middle;\n",
       "    }\n",
       "\n",
       "    .dataframe tbody tr th {\n",
       "        vertical-align: top;\n",
       "    }\n",
       "\n",
       "    .dataframe thead th {\n",
       "        text-align: right;\n",
       "    }\n",
       "</style>\n",
       "<table border=\"1\" class=\"dataframe\">\n",
       "  <thead>\n",
       "    <tr style=\"text-align: right;\">\n",
       "      <th></th>\n",
       "      <th>timestamp</th>\n",
       "      <th>trace_id</th>\n",
       "      <th>activity</th>\n",
       "    </tr>\n",
       "  </thead>\n",
       "  <tbody>\n",
       "    <tr>\n",
       "      <th>0</th>\n",
       "      <td>2011-10-01 11:45:13.917000+02:00</td>\n",
       "      <td>173688</td>\n",
       "      <td>W_Completeren aanvraag</td>\n",
       "    </tr>\n",
       "    <tr>\n",
       "      <th>1</th>\n",
       "      <td>2011-10-01 12:17:08.924000+02:00</td>\n",
       "      <td>173688</td>\n",
       "      <td>W_Nabellen offertes</td>\n",
       "    </tr>\n",
       "    <tr>\n",
       "      <th>2</th>\n",
       "      <td>2011-10-08 16:32:00.886000+02:00</td>\n",
       "      <td>173688</td>\n",
       "      <td>W_Nabellen offertes</td>\n",
       "    </tr>\n",
       "    <tr>\n",
       "      <th>3</th>\n",
       "      <td>2011-10-10 11:33:05.791000+02:00</td>\n",
       "      <td>173688</td>\n",
       "      <td>W_Nabellen offertes</td>\n",
       "    </tr>\n",
       "    <tr>\n",
       "      <th>4</th>\n",
       "      <td>2011-10-13 10:37:37.026000+02:00</td>\n",
       "      <td>173688</td>\n",
       "      <td>W_Valideren aanvraag</td>\n",
       "    </tr>\n",
       "    <tr>\n",
       "      <th>...</th>\n",
       "      <td>...</td>\n",
       "      <td>...</td>\n",
       "      <td>...</td>\n",
       "    </tr>\n",
       "    <tr>\n",
       "      <th>72408</th>\n",
       "      <td>2012-03-01 09:28:21.228000+01:00</td>\n",
       "      <td>214370</td>\n",
       "      <td>W_Afhandelen leads</td>\n",
       "    </tr>\n",
       "    <tr>\n",
       "      <th>72409</th>\n",
       "      <td>2012-03-01 09:27:52.388000+01:00</td>\n",
       "      <td>214373</td>\n",
       "      <td>W_Afhandelen leads</td>\n",
       "    </tr>\n",
       "    <tr>\n",
       "      <th>72410</th>\n",
       "      <td>2012-03-01 20:22:41.157000+01:00</td>\n",
       "      <td>214373</td>\n",
       "      <td>W_Completeren aanvraag</td>\n",
       "    </tr>\n",
       "    <tr>\n",
       "      <th>72411</th>\n",
       "      <td>2012-03-10 12:50:54.881000+01:00</td>\n",
       "      <td>214373</td>\n",
       "      <td>W_Nabellen offertes</td>\n",
       "    </tr>\n",
       "    <tr>\n",
       "      <th>72412</th>\n",
       "      <td>2012-03-01 09:27:41.325000+01:00</td>\n",
       "      <td>214376</td>\n",
       "      <td>W_Afhandelen leads</td>\n",
       "    </tr>\n",
       "  </tbody>\n",
       "</table>\n",
       "<p>72413 rows × 3 columns</p>\n",
       "</div>"
      ],
      "text/plain": [
       "                              timestamp  trace_id                activity\n",
       "0      2011-10-01 11:45:13.917000+02:00    173688  W_Completeren aanvraag\n",
       "1      2011-10-01 12:17:08.924000+02:00    173688     W_Nabellen offertes\n",
       "2      2011-10-08 16:32:00.886000+02:00    173688     W_Nabellen offertes\n",
       "3      2011-10-10 11:33:05.791000+02:00    173688     W_Nabellen offertes\n",
       "4      2011-10-13 10:37:37.026000+02:00    173688    W_Valideren aanvraag\n",
       "...                                 ...       ...                     ...\n",
       "72408  2012-03-01 09:28:21.228000+01:00    214370      W_Afhandelen leads\n",
       "72409  2012-03-01 09:27:52.388000+01:00    214373      W_Afhandelen leads\n",
       "72410  2012-03-01 20:22:41.157000+01:00    214373  W_Completeren aanvraag\n",
       "72411  2012-03-10 12:50:54.881000+01:00    214373     W_Nabellen offertes\n",
       "72412  2012-03-01 09:27:41.325000+01:00    214376      W_Afhandelen leads\n",
       "\n",
       "[72413 rows x 3 columns]"
      ]
     },
     "execution_count": 17,
     "metadata": {},
     "output_type": "execute_result"
    }
   ],
   "source": [
    "df"
   ]
  },
  {
   "cell_type": "code",
   "execution_count": 40,
   "metadata": {},
   "outputs": [],
   "source": [
    "import rl4pm_lib.preprocessing as preprocessing\n",
    "\n",
    "\n",
    "prepro = preprocessing.DfPreprocesser()\n",
    "prepro.fit(df)\n",
    "df_preprocessed = prepro.transform(df)\n",
    "df_preprocessed.to_csv('bpi_12_preprocessed.csv', index=False)"
   ]
  },
  {
   "cell_type": "code",
   "execution_count": 41,
   "metadata": {},
   "outputs": [
    {
     "data": {
      "text/html": [
       "<div>\n",
       "<style scoped>\n",
       "    .dataframe tbody tr th:only-of-type {\n",
       "        vertical-align: middle;\n",
       "    }\n",
       "\n",
       "    .dataframe tbody tr th {\n",
       "        vertical-align: top;\n",
       "    }\n",
       "\n",
       "    .dataframe thead th {\n",
       "        text-align: right;\n",
       "    }\n",
       "</style>\n",
       "<table border=\"1\" class=\"dataframe\">\n",
       "  <thead>\n",
       "    <tr style=\"text-align: right;\">\n",
       "      <th></th>\n",
       "      <th>tt</th>\n",
       "      <th>te</th>\n",
       "      <th>tw</th>\n",
       "      <th>trace_id</th>\n",
       "      <th>W_Afhandelen leads</th>\n",
       "      <th>W_Beoordelen fraude</th>\n",
       "      <th>W_Completeren aanvraag</th>\n",
       "      <th>W_Nabellen incomplete dossiers</th>\n",
       "      <th>W_Nabellen offertes</th>\n",
       "      <th>W_Valideren aanvraag</th>\n",
       "    </tr>\n",
       "  </thead>\n",
       "  <tbody>\n",
       "    <tr>\n",
       "      <th>0</th>\n",
       "      <td>0.000</td>\n",
       "      <td>0.000</td>\n",
       "      <td>474313.917</td>\n",
       "      <td>173688</td>\n",
       "      <td>0</td>\n",
       "      <td>0</td>\n",
       "      <td>1</td>\n",
       "      <td>0</td>\n",
       "      <td>0</td>\n",
       "      <td>0</td>\n",
       "    </tr>\n",
       "    <tr>\n",
       "      <th>1</th>\n",
       "      <td>1915.007</td>\n",
       "      <td>1915.007</td>\n",
       "      <td>476228.924</td>\n",
       "      <td>173688</td>\n",
       "      <td>0</td>\n",
       "      <td>0</td>\n",
       "      <td>0</td>\n",
       "      <td>0</td>\n",
       "      <td>1</td>\n",
       "      <td>0</td>\n",
       "    </tr>\n",
       "    <tr>\n",
       "      <th>2</th>\n",
       "      <td>622006.969</td>\n",
       "      <td>620091.962</td>\n",
       "      <td>491520.886</td>\n",
       "      <td>173688</td>\n",
       "      <td>0</td>\n",
       "      <td>0</td>\n",
       "      <td>0</td>\n",
       "      <td>0</td>\n",
       "      <td>1</td>\n",
       "      <td>0</td>\n",
       "    </tr>\n",
       "    <tr>\n",
       "      <th>3</th>\n",
       "      <td>776871.874</td>\n",
       "      <td>154864.905</td>\n",
       "      <td>41585.791</td>\n",
       "      <td>173688</td>\n",
       "      <td>0</td>\n",
       "      <td>0</td>\n",
       "      <td>0</td>\n",
       "      <td>0</td>\n",
       "      <td>1</td>\n",
       "      <td>0</td>\n",
       "    </tr>\n",
       "    <tr>\n",
       "      <th>4</th>\n",
       "      <td>1032743.109</td>\n",
       "      <td>255871.235</td>\n",
       "      <td>297457.026</td>\n",
       "      <td>173688</td>\n",
       "      <td>0</td>\n",
       "      <td>0</td>\n",
       "      <td>0</td>\n",
       "      <td>0</td>\n",
       "      <td>0</td>\n",
       "      <td>1</td>\n",
       "    </tr>\n",
       "    <tr>\n",
       "      <th>...</th>\n",
       "      <td>...</td>\n",
       "      <td>...</td>\n",
       "      <td>...</td>\n",
       "      <td>...</td>\n",
       "      <td>...</td>\n",
       "      <td>...</td>\n",
       "      <td>...</td>\n",
       "      <td>...</td>\n",
       "      <td>...</td>\n",
       "      <td>...</td>\n",
       "    </tr>\n",
       "    <tr>\n",
       "      <th>72408</th>\n",
       "      <td>0.000</td>\n",
       "      <td>0.000</td>\n",
       "      <td>293301.228</td>\n",
       "      <td>214370</td>\n",
       "      <td>1</td>\n",
       "      <td>0</td>\n",
       "      <td>0</td>\n",
       "      <td>0</td>\n",
       "      <td>0</td>\n",
       "      <td>0</td>\n",
       "    </tr>\n",
       "    <tr>\n",
       "      <th>72409</th>\n",
       "      <td>0.000</td>\n",
       "      <td>0.000</td>\n",
       "      <td>293272.388</td>\n",
       "      <td>214373</td>\n",
       "      <td>1</td>\n",
       "      <td>0</td>\n",
       "      <td>0</td>\n",
       "      <td>0</td>\n",
       "      <td>0</td>\n",
       "      <td>0</td>\n",
       "    </tr>\n",
       "    <tr>\n",
       "      <th>72410</th>\n",
       "      <td>39288.769</td>\n",
       "      <td>39288.769</td>\n",
       "      <td>332561.157</td>\n",
       "      <td>214373</td>\n",
       "      <td>0</td>\n",
       "      <td>0</td>\n",
       "      <td>1</td>\n",
       "      <td>0</td>\n",
       "      <td>0</td>\n",
       "      <td>0</td>\n",
       "    </tr>\n",
       "    <tr>\n",
       "      <th>72411</th>\n",
       "      <td>789782.493</td>\n",
       "      <td>750493.724</td>\n",
       "      <td>478254.881</td>\n",
       "      <td>214373</td>\n",
       "      <td>0</td>\n",
       "      <td>0</td>\n",
       "      <td>0</td>\n",
       "      <td>0</td>\n",
       "      <td>1</td>\n",
       "      <td>0</td>\n",
       "    </tr>\n",
       "    <tr>\n",
       "      <th>72412</th>\n",
       "      <td>0.000</td>\n",
       "      <td>0.000</td>\n",
       "      <td>293261.325</td>\n",
       "      <td>214376</td>\n",
       "      <td>1</td>\n",
       "      <td>0</td>\n",
       "      <td>0</td>\n",
       "      <td>0</td>\n",
       "      <td>0</td>\n",
       "      <td>0</td>\n",
       "    </tr>\n",
       "  </tbody>\n",
       "</table>\n",
       "<p>72413 rows × 10 columns</p>\n",
       "</div>"
      ],
      "text/plain": [
       "                tt          te          tw  trace_id  W_Afhandelen leads  \\\n",
       "0            0.000       0.000  474313.917    173688                   0   \n",
       "1         1915.007    1915.007  476228.924    173688                   0   \n",
       "2       622006.969  620091.962  491520.886    173688                   0   \n",
       "3       776871.874  154864.905   41585.791    173688                   0   \n",
       "4      1032743.109  255871.235  297457.026    173688                   0   \n",
       "...            ...         ...         ...       ...                 ...   \n",
       "72408        0.000       0.000  293301.228    214370                   1   \n",
       "72409        0.000       0.000  293272.388    214373                   1   \n",
       "72410    39288.769   39288.769  332561.157    214373                   0   \n",
       "72411   789782.493  750493.724  478254.881    214373                   0   \n",
       "72412        0.000       0.000  293261.325    214376                   1   \n",
       "\n",
       "       W_Beoordelen fraude  W_Completeren aanvraag  \\\n",
       "0                        0                       1   \n",
       "1                        0                       0   \n",
       "2                        0                       0   \n",
       "3                        0                       0   \n",
       "4                        0                       0   \n",
       "...                    ...                     ...   \n",
       "72408                    0                       0   \n",
       "72409                    0                       0   \n",
       "72410                    0                       1   \n",
       "72411                    0                       0   \n",
       "72412                    0                       0   \n",
       "\n",
       "       W_Nabellen incomplete dossiers  W_Nabellen offertes  \\\n",
       "0                                   0                    0   \n",
       "1                                   0                    1   \n",
       "2                                   0                    1   \n",
       "3                                   0                    1   \n",
       "4                                   0                    0   \n",
       "...                               ...                  ...   \n",
       "72408                               0                    0   \n",
       "72409                               0                    0   \n",
       "72410                               0                    0   \n",
       "72411                               0                    1   \n",
       "72412                               0                    0   \n",
       "\n",
       "       W_Valideren aanvraag  \n",
       "0                         0  \n",
       "1                         0  \n",
       "2                         0  \n",
       "3                         0  \n",
       "4                         1  \n",
       "...                     ...  \n",
       "72408                     0  \n",
       "72409                     0  \n",
       "72410                     0  \n",
       "72411                     0  \n",
       "72412                     0  \n",
       "\n",
       "[72413 rows x 10 columns]"
      ]
     },
     "execution_count": 41,
     "metadata": {},
     "output_type": "execute_result"
    }
   ],
   "source": [
    "df_preprocessed"
   ]
  },
  {
   "cell_type": "code",
   "execution_count": 20,
   "metadata": {},
   "outputs": [
    {
     "data": {
      "image/png": "[encoded data removed]",
      "text/plain": [
       "<Figure size 432x288 with 1 Axes>"
      ]
     },
     "metadata": {},
     "output_type": "display_data"
    }
   ],
   "source": [
    "plt.hist(df_preprocessed['te'].values, bins=50)\n",
    "plt.title('$t_e$ distribution')\n",
    "plt.xlabel('$t_e$, s')\n",
    "plt.ylabel('count')\n",
    "plt.show()"
   ]
  },
  {
   "cell_type": "code",
   "execution_count": 21,
   "metadata": {},
   "outputs": [
    {
     "data": {
      "image/png": "[encoded data removed]",
      "text/plain": [
       "<Figure size 432x288 with 1 Axes>"
      ]
     },
     "metadata": {},
     "output_type": "display_data"
    }
   ],
   "source": [
    "low_bond = 24 *  60 * 60\n",
    "plt.hist(df_preprocessed[df_preprocessed['te'] > low_bond]['te'].values, bins=50)\n",
    "plt.title(f'$t_e >$ {low_bond / 60 / 60: .1f} h distribution')\n",
    "plt.xlabel('$t_e$, s')\n",
    "plt.ylabel('count')\n",
    "plt.show()"
   ]
  },
  {
   "cell_type": "markdown",
   "metadata": {},
   "source": [
    "This distribution is far from uniform too"
   ]
  },
  {
   "cell_type": "code",
   "execution_count": 22,
   "metadata": {},
   "outputs": [
    {
     "name": "stdout",
     "output_type": "stream",
     "text": [
      "90.0 % of $te$ are less then  140.73 h\n",
      "95.0 % of $te$ are less then  173.25 h\n",
      "97.0 % of $te$ are less then  193.57 h\n",
      "99.0 % of $te$ are less then  307.72 h\n"
     ]
    }
   ],
   "source": [
    "for quant in [0.9, 0.95, 0.97, 0.99]:\n",
    "    print(f'{quant * 100} % of $te$ are less then {np.quantile(df_preprocessed[\"te\"].values, quant) / (60 * 60): .2f} h')"
   ]
  },
  {
   "cell_type": "markdown",
   "metadata": {},
   "source": [
    "## What is wrong with this visualization\n",
    "- transition matrix has a lot of `nan`\n",
    "- Whant to see which transitions lead to high $t_e$ \n",
    "### SberProcessMining\n",
    "Let's use [this](https://github.com/SberProcessMining/Sber_Process_Mining) repo to got a nice visualization"
   ]
  },
  {
   "cell_type": "code",
   "execution_count": 23,
   "metadata": {
    "scrolled": true
   },
   "outputs": [
    {
     "name": "stdout",
     "output_type": "stream",
     "text": [
      "Looking in indexes: https://pypi.org/simple, http://gitlab.moscow-ru0927.slb.com:8000/simple/\n",
      "Requirement already satisfied: sberpm in /usr/local/lib/python3.6/dist-packages (1.1.0)\n",
      "Requirement already satisfied: pandas>=1.1.0 in /usr/local/lib/python3.6/dist-packages (from sberpm) (1.1.5)\n",
      "Requirement already satisfied: IPython in /usr/local/lib/python3.6/dist-packages (from sberpm) (7.16.1)\n",
      "Requirement already satisfied: numpy>=1.18.1 in /usr/local/lib/python3.6/dist-packages (from sberpm) (1.19.5)\n",
      "Requirement already satisfied: plotly>=4.9.0 in /usr/local/lib/python3.6/dist-packages (from sberpm) (4.14.3)\n",
      "Requirement already satisfied: pydotplus>=2.0.2 in /usr/local/lib/python3.6/dist-packages (from sberpm) (2.0.2)\n",
      "Requirement already satisfied: graphviz>=0.13.2 in /usr/local/lib/python3.6/dist-packages (from sberpm) (0.16)\n",
      "Requirement already satisfied: nbformat>=4.2.0 in /usr/local/lib/python3.6/dist-packages (from sberpm) (5.1.3)\n",
      "Requirement already satisfied: scipy>=1.4.1 in /usr/local/lib/python3.6/dist-packages (from sberpm) (1.5.4)\n",
      "Requirement already satisfied: matplotlib in /usr/local/lib/python3.6/dist-packages (from sberpm) (3.3.4)\n",
      "Requirement already satisfied: scikit-learn>=0.23.2 in /usr/local/lib/python3.6/dist-packages (from sberpm) (0.24.2)\n",
      "Requirement already satisfied: pytz>=2017.2 in /usr/local/lib/python3.6/dist-packages (from pandas>=1.1.0->sberpm) (2021.1)\n",
      "Requirement already satisfied: python-dateutil>=2.7.3 in /usr/local/lib/python3.6/dist-packages (from pandas>=1.1.0->sberpm) (2.8.1)\n",
      "Requirement already satisfied: pygments in /usr/local/lib/python3.6/dist-packages (from IPython->sberpm) (2.9.0)\n",
      "Requirement already satisfied: prompt-toolkit!=3.0.0,!=3.0.1,<3.1.0,>=2.0.0 in /usr/local/lib/python3.6/dist-packages (from IPython->sberpm) (3.0.18)\n",
      "Requirement already satisfied: pickleshare in /usr/local/lib/python3.6/dist-packages (from IPython->sberpm) (0.7.5)\n",
      "Requirement already satisfied: setuptools>=18.5 in /usr/local/lib/python3.6/dist-packages (from IPython->sberpm) (56.2.0)\n",
      "Requirement already satisfied: decorator in /usr/local/lib/python3.6/dist-packages (from IPython->sberpm) (4.4.2)\n",
      "Requirement already satisfied: backcall in /usr/local/lib/python3.6/dist-packages (from IPython->sberpm) (0.2.0)\n",
      "Requirement already satisfied: pexpect; sys_platform != \"win32\" in /usr/local/lib/python3.6/dist-packages (from IPython->sberpm) (4.8.0)\n",
      "Requirement already satisfied: jedi>=0.10 in /usr/local/lib/python3.6/dist-packages (from IPython->sberpm) (0.17.2)\n",
      "Requirement already satisfied: traitlets>=4.2 in /usr/local/lib/python3.6/dist-packages (from IPython->sberpm) (4.3.3)\n",
      "Requirement already satisfied: six in /usr/local/lib/python3.6/dist-packages (from plotly>=4.9.0->sberpm) (1.15.0)\n",
      "Requirement already satisfied: retrying>=1.3.3 in /usr/local/lib/python3.6/dist-packages (from plotly>=4.9.0->sberpm) (1.3.3)\n",
      "Requirement already satisfied: pyparsing>=2.0.1 in /usr/local/lib/python3.6/dist-packages (from pydotplus>=2.0.2->sberpm) (2.4.7)\n",
      "Requirement already satisfied: ipython-genutils in /usr/local/lib/python3.6/dist-packages (from nbformat>=4.2.0->sberpm) (0.2.0)\n",
      "Requirement already satisfied: jupyter-core in /usr/local/lib/python3.6/dist-packages (from nbformat>=4.2.0->sberpm) (4.7.1)\n",
      "Requirement already satisfied: jsonschema!=2.5.0,>=2.4 in /usr/local/lib/python3.6/dist-packages (from nbformat>=4.2.0->sberpm) (3.2.0)\n",
      "Requirement already satisfied: cycler>=0.10 in /usr/local/lib/python3.6/dist-packages (from matplotlib->sberpm) (0.10.0)\n",
      "Requirement already satisfied: pillow>=6.2.0 in /usr/local/lib/python3.6/dist-packages (from matplotlib->sberpm) (8.2.0)\n",
      "Requirement already satisfied: kiwisolver>=1.0.1 in /usr/local/lib/python3.6/dist-packages (from matplotlib->sberpm) (1.3.1)\n",
      "Requirement already satisfied: threadpoolctl>=2.0.0 in /usr/local/lib/python3.6/dist-packages (from scikit-learn>=0.23.2->sberpm) (2.1.0)\n",
      "Requirement already satisfied: joblib>=0.11 in /usr/local/lib/python3.6/dist-packages (from scikit-learn>=0.23.2->sberpm) (1.0.1)\n",
      "Requirement already satisfied: wcwidth in /usr/local/lib/python3.6/dist-packages (from prompt-toolkit!=3.0.0,!=3.0.1,<3.1.0,>=2.0.0->IPython->sberpm) (0.2.5)\n",
      "Requirement already satisfied: ptyprocess>=0.5 in /usr/local/lib/python3.6/dist-packages (from pexpect; sys_platform != \"win32\"->IPython->sberpm) (0.7.0)\n",
      "Requirement already satisfied: parso<0.8.0,>=0.7.0 in /usr/local/lib/python3.6/dist-packages (from jedi>=0.10->IPython->sberpm) (0.7.1)\n",
      "Requirement already satisfied: pyrsistent>=0.14.0 in /usr/local/lib/python3.6/dist-packages (from jsonschema!=2.5.0,>=2.4->nbformat>=4.2.0->sberpm) (0.17.3)\n",
      "Requirement already satisfied: importlib-metadata; python_version < \"3.8\" in /usr/local/lib/python3.6/dist-packages (from jsonschema!=2.5.0,>=2.4->nbformat>=4.2.0->sberpm) (4.0.1)\n",
      "Requirement already satisfied: attrs>=17.4.0 in /usr/local/lib/python3.6/dist-packages (from jsonschema!=2.5.0,>=2.4->nbformat>=4.2.0->sberpm) (21.2.0)\n",
      "Requirement already satisfied: zipp>=0.5 in /usr/local/lib/python3.6/dist-packages (from importlib-metadata; python_version < \"3.8\"->jsonschema!=2.5.0,>=2.4->nbformat>=4.2.0->sberpm) (3.4.1)\n",
      "Requirement already satisfied: typing-extensions>=3.6.4; python_version < \"3.8\" in /usr/local/lib/python3.6/dist-packages (from importlib-metadata; python_version < \"3.8\"->jsonschema!=2.5.0,>=2.4->nbformat>=4.2.0->sberpm) (3.7.4.3)\n",
      "\u001b[33mWARNING: You are using pip version 19.3.1; however, version 21.1.2 is available.\n",
      "You should consider upgrading via the 'pip install --upgrade pip' command.\u001b[0m\n"
     ]
    }
   ],
   "source": [
    "! pip install sberpm"
   ]
  },
  {
   "cell_type": "code",
   "execution_count": 24,
   "metadata": {},
   "outputs": [],
   "source": [
    "from sberpm import DataHolder"
   ]
  },
  {
   "cell_type": "code",
   "execution_count": 25,
   "metadata": {},
   "outputs": [],
   "source": [
    "# data_holder = DataHolder(data=df, \n",
    "#                          id_column='trace_id', \n",
    "#                          activity_column='activity', \n",
    "#                          start_timestamp_column='timestamp')"
   ]
  },
  {
   "cell_type": "markdown",
   "metadata": {},
   "source": [
    "Strange warnings. It read all right, enven pandas can read datetime with no additional formats, so why does it nedd it, dunno"
   ]
  },
  {
   "cell_type": "code",
   "execution_count": 26,
   "metadata": {},
   "outputs": [],
   "source": [
    "# data_holder.data.head(3)"
   ]
  },
  {
   "cell_type": "code",
   "execution_count": 27,
   "metadata": {},
   "outputs": [],
   "source": [
    "# from sberpm.autoinsights import AutoInsights\n",
    "# from sberpm.miners import SimpleMiner\n",
    "# from sberpm.visual import GraphvizPainter"
   ]
  },
  {
   "cell_type": "markdown",
   "metadata": {},
   "source": [
    "the longest-lasting transitions are colored red"
   ]
  },
  {
   "cell_type": "code",
   "execution_count": 28,
   "metadata": {},
   "outputs": [],
   "source": [
    "# ! pip install graphviz"
   ]
  },
  {
   "cell_type": "code",
   "execution_count": 29,
   "metadata": {
    "scrolled": true
   },
   "outputs": [],
   "source": [
    "# auto_i = AutoInsights(data_holder, time_unit='day')\n",
    "# simple_miner = SimpleMiner(data_holder)\n",
    "# simple_miner.apply()\n",
    "# auto_i.apply(miner=simple_miner, mode='time')\n",
    "# graph = auto_i.get_graph()\n",
    "\n",
    "# painter = GraphvizPainter()\n",
    "# painter.apply_insights(graph)\n",
    "# painter.show()"
   ]
  },
  {
   "cell_type": "markdown",
   "metadata": {},
   "source": [
    "all transitions are given a status:\n",
    "- Optimal (positive insights)\n",
    "- (negative insights)"
   ]
  },
  {
   "cell_type": "code",
   "execution_count": 30,
   "metadata": {},
   "outputs": [],
   "source": [
    "# auto_i = AutoInsights(data_holder, time_unit='day')\n",
    "# simple_miner = SimpleMiner(data_holder)\n",
    "# simple_miner.apply()\n",
    "# auto_i.apply(miner=simple_miner, mode='overall')\n",
    "# graph = auto_i.get_graph()\n",
    "\n",
    "# painter = GraphvizPainter()\n",
    "# painter.apply_insights(graph)\n",
    "# painter.show()"
   ]
  },
  {
   "cell_type": "markdown",
   "metadata": {},
   "source": [
    "## Max $t_e$ & trace len"
   ]
  },
  {
   "cell_type": "code",
   "execution_count": 31,
   "metadata": {},
   "outputs": [
    {
     "data": {
      "text/html": [
       "<div>\n",
       "<style scoped>\n",
       "    .dataframe tbody tr th:only-of-type {\n",
       "        vertical-align: middle;\n",
       "    }\n",
       "\n",
       "    .dataframe tbody tr th {\n",
       "        vertical-align: top;\n",
       "    }\n",
       "\n",
       "    .dataframe thead th {\n",
       "        text-align: right;\n",
       "    }\n",
       "</style>\n",
       "<table border=\"1\" class=\"dataframe\">\n",
       "  <thead>\n",
       "    <tr style=\"text-align: right;\">\n",
       "      <th></th>\n",
       "      <th>tt</th>\n",
       "      <th>te</th>\n",
       "      <th>tw</th>\n",
       "      <th>trace_id</th>\n",
       "      <th>W_Afhandelen leads</th>\n",
       "      <th>W_Beoordelen fraude</th>\n",
       "      <th>W_Completeren aanvraag</th>\n",
       "      <th>W_Nabellen incomplete dossiers</th>\n",
       "      <th>W_Nabellen offertes</th>\n",
       "      <th>W_Valideren aanvraag</th>\n",
       "    </tr>\n",
       "  </thead>\n",
       "  <tbody>\n",
       "    <tr>\n",
       "      <th>0</th>\n",
       "      <td>0.000</td>\n",
       "      <td>0.000</td>\n",
       "      <td>474313.917</td>\n",
       "      <td>173688</td>\n",
       "      <td>0</td>\n",
       "      <td>0</td>\n",
       "      <td>1</td>\n",
       "      <td>0</td>\n",
       "      <td>0</td>\n",
       "      <td>0</td>\n",
       "    </tr>\n",
       "    <tr>\n",
       "      <th>1</th>\n",
       "      <td>1915.007</td>\n",
       "      <td>1915.007</td>\n",
       "      <td>476228.924</td>\n",
       "      <td>173688</td>\n",
       "      <td>0</td>\n",
       "      <td>0</td>\n",
       "      <td>0</td>\n",
       "      <td>0</td>\n",
       "      <td>1</td>\n",
       "      <td>0</td>\n",
       "    </tr>\n",
       "    <tr>\n",
       "      <th>2</th>\n",
       "      <td>622006.969</td>\n",
       "      <td>620091.962</td>\n",
       "      <td>491520.886</td>\n",
       "      <td>173688</td>\n",
       "      <td>0</td>\n",
       "      <td>0</td>\n",
       "      <td>0</td>\n",
       "      <td>0</td>\n",
       "      <td>1</td>\n",
       "      <td>0</td>\n",
       "    </tr>\n",
       "    <tr>\n",
       "      <th>3</th>\n",
       "      <td>776871.874</td>\n",
       "      <td>154864.905</td>\n",
       "      <td>41585.791</td>\n",
       "      <td>173688</td>\n",
       "      <td>0</td>\n",
       "      <td>0</td>\n",
       "      <td>0</td>\n",
       "      <td>0</td>\n",
       "      <td>1</td>\n",
       "      <td>0</td>\n",
       "    </tr>\n",
       "    <tr>\n",
       "      <th>4</th>\n",
       "      <td>1032743.109</td>\n",
       "      <td>255871.235</td>\n",
       "      <td>297457.026</td>\n",
       "      <td>173688</td>\n",
       "      <td>0</td>\n",
       "      <td>0</td>\n",
       "      <td>0</td>\n",
       "      <td>0</td>\n",
       "      <td>0</td>\n",
       "      <td>1</td>\n",
       "    </tr>\n",
       "    <tr>\n",
       "      <th>...</th>\n",
       "      <td>...</td>\n",
       "      <td>...</td>\n",
       "      <td>...</td>\n",
       "      <td>...</td>\n",
       "      <td>...</td>\n",
       "      <td>...</td>\n",
       "      <td>...</td>\n",
       "      <td>...</td>\n",
       "      <td>...</td>\n",
       "      <td>...</td>\n",
       "    </tr>\n",
       "    <tr>\n",
       "      <th>72408</th>\n",
       "      <td>0.000</td>\n",
       "      <td>0.000</td>\n",
       "      <td>293301.228</td>\n",
       "      <td>214370</td>\n",
       "      <td>1</td>\n",
       "      <td>0</td>\n",
       "      <td>0</td>\n",
       "      <td>0</td>\n",
       "      <td>0</td>\n",
       "      <td>0</td>\n",
       "    </tr>\n",
       "    <tr>\n",
       "      <th>72409</th>\n",
       "      <td>0.000</td>\n",
       "      <td>0.000</td>\n",
       "      <td>293272.388</td>\n",
       "      <td>214373</td>\n",
       "      <td>1</td>\n",
       "      <td>0</td>\n",
       "      <td>0</td>\n",
       "      <td>0</td>\n",
       "      <td>0</td>\n",
       "      <td>0</td>\n",
       "    </tr>\n",
       "    <tr>\n",
       "      <th>72410</th>\n",
       "      <td>39288.769</td>\n",
       "      <td>39288.769</td>\n",
       "      <td>332561.157</td>\n",
       "      <td>214373</td>\n",
       "      <td>0</td>\n",
       "      <td>0</td>\n",
       "      <td>1</td>\n",
       "      <td>0</td>\n",
       "      <td>0</td>\n",
       "      <td>0</td>\n",
       "    </tr>\n",
       "    <tr>\n",
       "      <th>72411</th>\n",
       "      <td>789782.493</td>\n",
       "      <td>750493.724</td>\n",
       "      <td>478254.881</td>\n",
       "      <td>214373</td>\n",
       "      <td>0</td>\n",
       "      <td>0</td>\n",
       "      <td>0</td>\n",
       "      <td>0</td>\n",
       "      <td>1</td>\n",
       "      <td>0</td>\n",
       "    </tr>\n",
       "    <tr>\n",
       "      <th>72412</th>\n",
       "      <td>0.000</td>\n",
       "      <td>0.000</td>\n",
       "      <td>293261.325</td>\n",
       "      <td>214376</td>\n",
       "      <td>1</td>\n",
       "      <td>0</td>\n",
       "      <td>0</td>\n",
       "      <td>0</td>\n",
       "      <td>0</td>\n",
       "      <td>0</td>\n",
       "    </tr>\n",
       "  </tbody>\n",
       "</table>\n",
       "<p>72413 rows × 10 columns</p>\n",
       "</div>"
      ],
      "text/plain": [
       "                tt          te          tw  trace_id  W_Afhandelen leads  \\\n",
       "0            0.000       0.000  474313.917    173688                   0   \n",
       "1         1915.007    1915.007  476228.924    173688                   0   \n",
       "2       622006.969  620091.962  491520.886    173688                   0   \n",
       "3       776871.874  154864.905   41585.791    173688                   0   \n",
       "4      1032743.109  255871.235  297457.026    173688                   0   \n",
       "...            ...         ...         ...       ...                 ...   \n",
       "72408        0.000       0.000  293301.228    214370                   1   \n",
       "72409        0.000       0.000  293272.388    214373                   1   \n",
       "72410    39288.769   39288.769  332561.157    214373                   0   \n",
       "72411   789782.493  750493.724  478254.881    214373                   0   \n",
       "72412        0.000       0.000  293261.325    214376                   1   \n",
       "\n",
       "       W_Beoordelen fraude  W_Completeren aanvraag  \\\n",
       "0                        0                       1   \n",
       "1                        0                       0   \n",
       "2                        0                       0   \n",
       "3                        0                       0   \n",
       "4                        0                       0   \n",
       "...                    ...                     ...   \n",
       "72408                    0                       0   \n",
       "72409                    0                       0   \n",
       "72410                    0                       1   \n",
       "72411                    0                       0   \n",
       "72412                    0                       0   \n",
       "\n",
       "       W_Nabellen incomplete dossiers  W_Nabellen offertes  \\\n",
       "0                                   0                    0   \n",
       "1                                   0                    1   \n",
       "2                                   0                    1   \n",
       "3                                   0                    1   \n",
       "4                                   0                    0   \n",
       "...                               ...                  ...   \n",
       "72408                               0                    0   \n",
       "72409                               0                    0   \n",
       "72410                               0                    0   \n",
       "72411                               0                    1   \n",
       "72412                               0                    0   \n",
       "\n",
       "       W_Valideren aanvraag  \n",
       "0                         0  \n",
       "1                         0  \n",
       "2                         0  \n",
       "3                         0  \n",
       "4                         1  \n",
       "...                     ...  \n",
       "72408                     0  \n",
       "72409                     0  \n",
       "72410                     0  \n",
       "72411                     0  \n",
       "72412                     0  \n",
       "\n",
       "[72413 rows x 10 columns]"
      ]
     },
     "execution_count": 31,
     "metadata": {},
     "output_type": "execute_result"
    }
   ],
   "source": [
    "df_preprocessed"
   ]
  },
  {
   "cell_type": "code",
   "execution_count": 32,
   "metadata": {},
   "outputs": [],
   "source": [
    "traces_te_max = {}\n",
    "traces_len = {}\n",
    "for t_id in set(df_preprocessed['trace_id'].values):\n",
    "    _d = df_preprocessed[df_preprocessed['trace_id'] == t_id]\n",
    "    traces_len[t_id] = _d.shape[0]\n",
    "    traces_te_max[t_id] = _d['te'].max()"
   ]
  },
  {
   "cell_type": "code",
   "execution_count": 33,
   "metadata": {},
   "outputs": [
    {
     "data": {
      "image/png": "[encoded data removed]",
      "text/plain": [
       "<Figure size 432x288 with 1 Axes>"
      ]
     },
     "metadata": {},
     "output_type": "display_data"
    }
   ],
   "source": [
    "plt.scatter(np.array(list(traces_te_max.values())) / 3600 / 24, traces_len.values(), s=0.1)\n",
    "plt.xlabel('max $t_e, days$')\n",
    "plt.ylabel('max trace length')\n",
    "plt.show()"
   ]
  },
  {
   "cell_type": "markdown",
   "metadata": {},
   "source": [
    "# Loops\n",
    "На рисунке были видны циклы.\n",
    "Это плохо. Если мы использаем для обучения окна длиннйо 2, то возникает проблема:\n",
    "\n",
    "$A \\rightarrow B \\rightarrow A \\rightarrow B \\rightarrow A \\dots A \\rightarrow B \\rightarrow C$\n",
    "\n",
    "сформируют признаки\n",
    "\n",
    "$$[A,\\ B],\\ [A]$$\n",
    "$$[B,\\ A],\\ [B]$$\n",
    "$$[A,\\ B],\\ [A]$$\n",
    "$$\\dots$$\n",
    "\n",
    "и не получится обучить что после $[A,\\ B]$ идёт $[C]$"
   ]
  },
  {
   "cell_type": "markdown",
   "metadata": {},
   "source": [
    "## Какие циклы?\n",
    "Чтобы сильно не париться, будем искать циклы $A \\rightarrow B \\rightarrow A$. Отметим `trace_id` с циклами"
   ]
  },
  {
   "cell_type": "code",
   "execution_count": 34,
   "metadata": {},
   "outputs": [],
   "source": [
    "from rl4pm_lib.preprocessing import is_there_cycle, number_of_cycles"
   ]
  },
  {
   "cell_type": "code",
   "execution_count": 35,
   "metadata": {},
   "outputs": [],
   "source": [
    "assert is_there_cycle([1, 2, 3, 2]) == True\n",
    "assert is_there_cycle([1, 2, 3]) == False\n",
    "assert is_there_cycle([1, 2, 3, 3, 5, 6]) == True\n",
    "assert is_there_cycle([1, 2, 3, 4, 5, 6]) == False"
   ]
  },
  {
   "cell_type": "code",
   "execution_count": 36,
   "metadata": {},
   "outputs": [],
   "source": [
    "traces_is_cycle = {}\n",
    "traces_num_cycles = {}\n",
    "for t_id in set(df_preprocessed['trace_id'].values):\n",
    "    _d = df[df['trace_id'] == t_id]\n",
    "    traces_is_cycle[t_id] = is_there_cycle(_d['activity'].values)\n",
    "    traces_num_cycles[t_id] = number_of_cycles(_d['activity'].values)"
   ]
  },
  {
   "cell_type": "code",
   "execution_count": 37,
   "metadata": {},
   "outputs": [
    {
     "name": "stdout",
     "output_type": "stream",
     "text": [
      " 64.57% of all traces got cycles\n"
     ]
    }
   ],
   "source": [
    "print(f'{np.array(list(traces_is_cycle.values())).sum() / len(traces_is_cycle) * 100: .2f}% of all traces got cycles')"
   ]
  },
  {
   "cell_type": "markdown",
   "metadata": {},
   "source": [
    "Хотелось бы както это исправить"
   ]
  },
  {
   "cell_type": "code",
   "execution_count": 38,
   "metadata": {},
   "outputs": [
    {
     "data": {
      "image/png": "[encoded data removed]",
      "text/plain": [
       "<Figure size 432x288 with 1 Axes>"
      ]
     },
     "metadata": {},
     "output_type": "display_data"
    }
   ],
   "source": [
    "plt.scatter(np.array(list(traces_te_max.values())) / 3600 / 24, traces_num_cycles.values(), s=0.1)\n",
    "plt.xlabel('max $t_e, days$')\n",
    "plt.ylabel('number of cycles len 2 or 1 ')\n",
    "plt.title('Max te vs number of cycles')\n",
    "plt.show()"
   ]
  },
  {
   "cell_type": "code",
   "execution_count": 39,
   "metadata": {},
   "outputs": [
    {
     "data": {
      "image/png": "[encoded data removed]",
      "text/plain": [
       "<Figure size 432x288 with 1 Axes>"
      ]
     },
     "metadata": {},
     "output_type": "display_data"
    }
   ],
   "source": [
    "plt.scatter(list(traces_len.values()), traces_num_cycles.values(), s=0.2)\n",
    "plt.xlabel('length of trace')\n",
    "plt.ylabel('number of cycles, len 2 or 1 ')\n",
    "plt.title('Trace length vs number of cycles')\n",
    "plt.show()"
   ]
  },
  {
   "cell_type": "code",
   "execution_count": null,
   "metadata": {},
   "outputs": [],
   "source": []
  },
  {
   "cell_type": "markdown",
   "metadata": {},
   "source": [
    "тоесть если есть цикл, то он занимает $\\frac{2}{3}$ процесса. Ужс"
   ]
  }
 ],
 "metadata": {
  "kernelspec": {
   "display_name": "Python 3",
   "language": "python",
   "name": "python3"
  },
  "language_info": {
   "codemirror_mode": {
    "name": "ipython",
    "version": 3
   },
   "file_extension": ".py",
   "mimetype": "text/x-python",
   "name": "python",
   "nbconvert_exporter": "python",
   "pygments_lexer": "ipython3",
   "version": "3.6.9"
  }
 },
 "nbformat": 4,
 "nbformat_minor": 4
}
