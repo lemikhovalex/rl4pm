{
 "cells": [
  {
   "cell_type": "code",
   "execution_count": null,
   "metadata": {},
   "outputs": [],
   "source": [
    "import pm4py\n",
    "import pandas as pd\n",
    "import datetime\n",
    "from math import ceil\n",
    "import matplotlib.pyplot as plt\n",
    "import numpy as np\n",
    "from importlib import reload\n",
    "import random\n",
    "import seaborn as sns\n",
    "from IPython import display"
   ]
  },
  {
   "cell_type": "markdown",
   "metadata": {},
   "source": [
    "# What is it about\n",
    "## Data\n",
    "We have data of processes - `bpi12`. It is a sequence of (`time_stamp`, `activity`,...) \n",
    "and other stuff which is not considered by community. Basicly here it is `BPI_Challenge_2012.xes`"
   ]
  },
  {
   "cell_type": "code",
   "execution_count": null,
   "metadata": {},
   "outputs": [],
   "source": [
    "file_path = 'datasets/BPI_Challenge_2012.xes'\n",
    "event_log = pm4py.read_xes(file_path)\n",
    "df = pm4py.convert_to_dataframe(event_log)\n",
    "df = df.dropna()\n",
    "df"
   ]
  },
  {
   "cell_type": "markdown",
   "metadata": {},
   "source": [
    "We works only wuith activity adn time"
   ]
  },
  {
   "cell_type": "code",
   "execution_count": null,
   "metadata": {},
   "outputs": [],
   "source": [
    "df = pm4py.convert_to_dataframe(event_log)\n",
    "df = df[df['lifecycle:transition']=='COMPLETE']\n",
    "df = df[['time:timestamp', 'case:concept:name', 'concept:name']]\n",
    "df = df.rename(columns={'time:timestamp': 'timestamp', 'case:concept:name': 'trace_id', 'concept:name': 'activity'})\n",
    "df['trace_id'] = df['trace_id'].apply(lambda x: int(x))\n",
    "df.reset_index(inplace=True)\n",
    "df.to_csv('datasets/bpi_12.csv', index=False)\n",
    "df"
   ]
  },
  {
   "cell_type": "markdown",
   "metadata": {},
   "source": [
    "Some defenitions must be mentioned:\n",
    "- event ($e_i$) - {`activity` ($a$), `time_stamp` ($t$)}\n",
    "- trace (t) - $[e_1,\\ e_2, \\dots]$"
   ]
  },
  {
   "cell_type": "markdown",
   "metadata": {},
   "source": [
    "## Purpose\n",
    "Main objective - predict next `time_stamp` and `activity`. \n",
    "\n",
    "For activity metric, used by community is accuracy, and in latest works `f1`. For `time_stamp` ussualy MAE, sometimes weighted MAE.\n",
    "\n",
    "Nevetheless some other objectives are discovered - whole trace prediction. The metric for activity prediction - Damerau-Levenshtein Similarity"
   ]
  },
  {
   "cell_type": "markdown",
   "metadata": {},
   "source": [
    "# Visualization\n",
    "## Activity transition\n",
    "Firstly let's take a look on all activities transition  and try to estimate $P(a_{i+1} | a_i)$. It is a square matrix, which worth to be presented as `sns.heatmap`"
   ]
  },
  {
   "cell_type": "code",
   "execution_count": null,
   "metadata": {},
   "outputs": [],
   "source": [
    "activities = list(set(df['activity'].values))\n",
    "n_act = len(activities)\n",
    "traces = list(set(df['trace_id'].values))\n",
    "_df = df.copy()\n",
    "_df['activity_next'] = _df['activity'].shift(1)\n",
    "_df['trace_id_next'] = _df['trace_id'].shift(1)\n",
    "_df = _df.dropna()\n",
    "_df = _df[_df['trace_id_next'] == _df['trace_id']]"
   ]
  },
  {
   "cell_type": "code",
   "execution_count": null,
   "metadata": {},
   "outputs": [],
   "source": [
    "_df[_df['trace_id']==214373]"
   ]
  },
  {
   "cell_type": "code",
   "execution_count": null,
   "metadata": {},
   "outputs": [],
   "source": [
    "\n",
    "transitions_counts = np.zeros((n_act, n_act))\n",
    "nums_of_ac_next = []\n",
    "for _i_next, act_next in enumerate(activities):\n",
    "    _df_ac_next = _df[_df['activity_next'] == act_next]\n",
    "    nums_of_ac_next.append(_df_ac_next.shape[0])\n",
    "    for _i, act in enumerate(activities):\n",
    "        transitions_counts[_i_next, _i] += _df_ac_next[_df_ac_next['activity'] == act].shape[0]"
   ]
  },
  {
   "cell_type": "code",
   "execution_count": null,
   "metadata": {},
   "outputs": [],
   "source": [
    "transitions_counts[transitions_counts == 0] = np.nan\n",
    "sns.set(rc={'figure.facecolor':'white'})\n",
    "sns.heatmap(transitions_counts, xticklabels=list(activities), yticklabels=list(activities))\n",
    "plt.title('Total number of transition  $a_t -> a_{t+1}$')\n",
    "\n",
    "plt.xlabel('$a_i$')\n",
    "plt.ylabel('$a_{i+1}$')\n",
    "plt.show()"
   ]
  },
  {
   "cell_type": "code",
   "execution_count": null,
   "metadata": {},
   "outputs": [],
   "source": [
    "print(f'There are {np.isnan(transitions_counts).sum()} not existing transitions')"
   ]
  },
  {
   "cell_type": "code",
   "execution_count": null,
   "metadata": {},
   "outputs": [],
   "source": [
    "transitions_counts[transitions_counts < 10] = np.nan"
   ]
  },
  {
   "cell_type": "code",
   "execution_count": null,
   "metadata": {},
   "outputs": [],
   "source": [
    "sns.set(rc={'figure.facecolor':'white'})\n",
    "sns.heatmap(transitions_counts, xticklabels=list(activities), yticklabels=list(activities))\n",
    "plt.title('Total number of transition  $a_t -> a_{t+1}$')\n",
    "\n",
    "plt.xlabel('$a_i$')\n",
    "plt.ylabel('$a_{i+1}$')\n",
    "plt.show()"
   ]
  },
  {
   "cell_type": "code",
   "execution_count": null,
   "metadata": {},
   "outputs": [],
   "source": [
    "print(f'There are {np.isnan(transitions_counts).sum()} not existing transitions')"
   ]
  },
  {
   "cell_type": "markdown",
   "metadata": {},
   "source": [
    "Cant say there are much rare transitions"
   ]
  },
  {
   "cell_type": "code",
   "execution_count": null,
   "metadata": {},
   "outputs": [],
   "source": [
    "sns.set(rc={'figure.facecolor':'white'})\n",
    "sns.heatmap(transitions_counts / np.array(nums_of_ac_next).reshape((-1, 1)),\n",
    "            xticklabels=list(activities), yticklabels=list(activities))\n",
    "plt.title('Probability of transition  $a_t -> a_{t+1}$')\n",
    "plt.xlabel('$a_i$')\n",
    "plt.ylabel('$a_{i+1}$')\n",
    "plt.show()"
   ]
  },
  {
   "cell_type": "markdown",
   "metadata": {},
   "source": [
    "Can't say this dataset has uniform distribution."
   ]
  },
  {
   "cell_type": "markdown",
   "metadata": {},
   "source": [
    "## Time features\n",
    "For leveraging predictive models the following features are created:\n",
    "- $t_e$ - time since previous event\n",
    "- $t_w$ - time since the beginning of week\n",
    "- $t_t$ - time since the beginning of trace\n",
    "\n",
    "let's visualize all these features"
   ]
  },
  {
   "cell_type": "code",
   "execution_count": null,
   "metadata": {},
   "outputs": [],
   "source": [
    "df"
   ]
  },
  {
   "cell_type": "code",
   "execution_count": null,
   "metadata": {},
   "outputs": [],
   "source": [
    "import rl4pm_lib.preprocessing as preprocessing\n",
    "\n",
    "\n",
    "prepro = preprocessing.DfPreprocesser()\n",
    "prepro.fit(df)\n",
    "df_preprocessed = prepro.transform(df)\n",
    "df_preprocessed.to_csv('bpi_12_preprocessed.csv', index=False)"
   ]
  },
  {
   "cell_type": "code",
   "execution_count": null,
   "metadata": {},
   "outputs": [],
   "source": [
    "df_preprocessed"
   ]
  },
  {
   "cell_type": "code",
   "execution_count": null,
   "metadata": {},
   "outputs": [],
   "source": [
    "plt.hist(df_preprocessed['te'].values, bins=50)\n",
    "plt.title('$t_e$ distribution')\n",
    "plt.xlabel('$t_e$, s')\n",
    "plt.ylabel('count')\n",
    "plt.show()"
   ]
  },
  {
   "cell_type": "code",
   "execution_count": null,
   "metadata": {},
   "outputs": [],
   "source": [
    "low_bond = 24 *  60 * 60\n",
    "plt.hist(df_preprocessed[df_preprocessed['te'] > low_bond]['te'].values, bins=50)\n",
    "plt.title(f'$t_e >$ {low_bond / 60 / 60: .1f} h distribution')\n",
    "plt.xlabel('$t_e$, s')\n",
    "plt.ylabel('count')\n",
    "plt.show()"
   ]
  },
  {
   "cell_type": "markdown",
   "metadata": {},
   "source": [
    "This distribution is far from uniform too"
   ]
  },
  {
   "cell_type": "code",
   "execution_count": null,
   "metadata": {},
   "outputs": [],
   "source": [
    "for quant in [0.9, 0.95, 0.97, 0.99]:\n",
    "    print(f'{quant * 100} % of $te$ are less then {np.quantile(df_preprocessed[\"te\"].values, quant) / (60 * 60): .2f} h')"
   ]
  },
  {
   "cell_type": "markdown",
   "metadata": {},
   "source": [
    "## What is wrong with this visualization\n",
    "- transition matrix has a lot of `nan`\n",
    "- Whant to see which transitions lead to high $t_e$ \n",
    "### SberProcessMining\n",
    "Let's use [this](https://github.com/SberProcessMining/Sber_Process_Mining) repo to got a nice visualization"
   ]
  },
  {
   "cell_type": "code",
   "execution_count": null,
   "metadata": {
    "scrolled": true
   },
   "outputs": [],
   "source": [
    "! pip install sberpm"
   ]
  },
  {
   "cell_type": "code",
   "execution_count": null,
   "metadata": {},
   "outputs": [],
   "source": [
    "from sberpm import DataHolder"
   ]
  },
  {
   "cell_type": "code",
   "execution_count": null,
   "metadata": {},
   "outputs": [],
   "source": [
    "data_holder = DataHolder(data=df, \n",
    "                         id_column='trace_id', \n",
    "                         activity_column='activity', \n",
    "                         start_timestamp_column='timestamp')"
   ]
  },
  {
   "cell_type": "markdown",
   "metadata": {},
   "source": [
    "Strange warnings. It read all right, enven pandas can read datetime with no additional formats, so why does it nedd it, dunno"
   ]
  },
  {
   "cell_type": "code",
   "execution_count": null,
   "metadata": {},
   "outputs": [],
   "source": [
    "data_holder.data.head(3)"
   ]
  },
  {
   "cell_type": "code",
   "execution_count": null,
   "metadata": {},
   "outputs": [],
   "source": [
    "from sberpm.autoinsights import AutoInsights\n",
    "from sberpm.miners import SimpleMiner\n",
    "from sberpm.visual import GraphvizPainter"
   ]
  },
  {
   "cell_type": "markdown",
   "metadata": {},
   "source": [
    "the longest-lasting transitions are colored red"
   ]
  },
  {
   "cell_type": "code",
   "execution_count": null,
   "metadata": {},
   "outputs": [],
   "source": [
    "! pip install graphviz"
   ]
  },
  {
   "cell_type": "code",
   "execution_count": null,
   "metadata": {
    "scrolled": false
   },
   "outputs": [],
   "source": [
    "auto_i = AutoInsights(data_holder, time_unit='day')\n",
    "simple_miner = SimpleMiner(data_holder)\n",
    "simple_miner.apply()\n",
    "auto_i.apply(miner=simple_miner, mode='time')\n",
    "graph = auto_i.get_graph()\n",
    "\n",
    "painter = GraphvizPainter()\n",
    "painter.apply_insights(graph)\n",
    "painter.show()"
   ]
  },
  {
   "cell_type": "markdown",
   "metadata": {},
   "source": [
    "all transitions are given a status:\n",
    "- Optimal (positive insights)\n",
    "- (negative insights)"
   ]
  },
  {
   "cell_type": "code",
   "execution_count": null,
   "metadata": {},
   "outputs": [],
   "source": [
    "auto_i = AutoInsights(data_holder, time_unit='day')\n",
    "simple_miner = SimpleMiner(data_holder)\n",
    "simple_miner.apply()\n",
    "auto_i.apply(miner=simple_miner, mode='overall')\n",
    "graph = auto_i.get_graph()\n",
    "\n",
    "painter = GraphvizPainter()\n",
    "painter.apply_insights(graph)\n",
    "painter.show()"
   ]
  },
  {
   "cell_type": "markdown",
   "metadata": {},
   "source": [
    "## Max $t_e$ & trace len"
   ]
  },
  {
   "cell_type": "code",
   "execution_count": null,
   "metadata": {},
   "outputs": [],
   "source": [
    "df_preprocessed"
   ]
  },
  {
   "cell_type": "code",
   "execution_count": null,
   "metadata": {},
   "outputs": [],
   "source": [
    "traces_te_max = {}\n",
    "traces_len = {}\n",
    "for t_id in df_preprocessed['trace_id'].values:\n",
    "    _d = df_preprocessed[df_preprocessed['trace_id'] == t_id]\n",
    "    traces_len[t_id] = _d.shape[0]\n",
    "    traces_te_max[t_id] = _d['te'].max()"
   ]
  },
  {
   "cell_type": "code",
   "execution_count": null,
   "metadata": {},
   "outputs": [],
   "source": [
    "plt.scatter(np.array(list(traces_te_max.values())) / 3600 / 24, traces_len.values(), s=0.1)\n",
    "plt.xlabel('max $t_e, days$')\n",
    "plt.ylabel('max trace length')"
   ]
  },
  {
   "cell_type": "markdown",
   "metadata": {},
   "source": [
    "Можно убрать все `trace` в которых есть $t_e$ длиннее `33`дней и которые в себе насчитывают более `100` процессов \n",
    "\n",
    "Ожидаются следующие улучшения:\n",
    "- улучшится масштабирование времени и улучшется качество\n",
    "- меньше ресурсов в нейросетевых подходах"
   ]
  },
  {
   "cell_type": "code",
   "execution_count": null,
   "metadata": {},
   "outputs": [],
   "source": [
    "MAX_TE = 33 * 24 * 60 * 60\n",
    "MAX_TRACE_LEN = 100"
   ]
  },
  {
   "cell_type": "markdown",
   "metadata": {},
   "source": [
    "# Loops\n",
    "На рисунке были видны циклы.\n",
    "Это плохо. Если мы использаем для обучения окна длиннйо 2, то возникает проблема:\n",
    "\n",
    "$A \\rightarrow B \\rightarrow A \\rightarrow B \\rightarrow A \\dots A \\rightarrow B \\rightarrow C$\n",
    "\n",
    "сформируют признаки\n",
    "\n",
    "$$[A,\\ B],\\ [A]$$\n",
    "$$[B,\\ A],\\ [B]$$\n",
    "$$[A,\\ B],\\ [A]$$\n",
    "$$\\dots$$\n",
    "\n",
    "и не получится обучить что после $[A,\\ B]$ идёт $[C]$"
   ]
  },
  {
   "cell_type": "markdown",
   "metadata": {},
   "source": [
    "## Какие циклы?\n",
    "Чтобы сильно не париться, будем искать циклы $A \\rightarrow B \\rightarrow A$. Отметим `trace_id` с циклами"
   ]
  },
  {
   "cell_type": "code",
   "execution_count": null,
   "metadata": {},
   "outputs": [],
   "source": [
    "def is_there_cycle(x) -> bool:\n",
    "    out = None\n",
    "    if len(x) < 3:\n",
    "        out = False\n",
    "    else:\n",
    "        out = False\n",
    "        _i = 0\n",
    "        l = len(x)\n",
    "        while (not out) and (_i + 2 <= l - 1):\n",
    "            if (x[_i] == x[_i+2]) or (x[_i] == x[_i+1]):\n",
    "                out = True\n",
    "            _i += 1\n",
    "    return out"
   ]
  },
  {
   "cell_type": "code",
   "execution_count": null,
   "metadata": {},
   "outputs": [],
   "source": [
    "def number_of_cycles(x) -> int:\n",
    "    out = 0\n",
    "    if len(x) < 3:\n",
    "        out = 0\n",
    "    else:\n",
    "        out = 0\n",
    "        _i = 0\n",
    "        l = len(x)\n",
    "        while (_i + 2 <= l - 1):\n",
    "            if (x[_i] == x[_i+2]) or (x[_i] == x[_i+1]):\n",
    "                out += 1\n",
    "            _i += 1\n",
    "    return out"
   ]
  },
  {
   "cell_type": "code",
   "execution_count": null,
   "metadata": {},
   "outputs": [],
   "source": [
    "assert is_there_cycle([1, 2, 3, 2]) == True\n",
    "assert is_there_cycle([1, 2, 3]) == False\n",
    "assert is_there_cycle([1, 2, 3, 3, 5, 6]) == True\n",
    "assert is_there_cycle([1, 2, 3, 4, 5, 6]) == False"
   ]
  },
  {
   "cell_type": "code",
   "execution_count": null,
   "metadata": {},
   "outputs": [],
   "source": [
    "traces_is_cycle = {}\n",
    "for t_id in df_preprocessed['trace_id'].values:\n",
    "    _d = df[df['trace_id'] == t_id]\n",
    "    traces_is_cycle[t_id] = is_there_cycle(_d['activity'].values)"
   ]
  },
  {
   "cell_type": "code",
   "execution_count": null,
   "metadata": {},
   "outputs": [],
   "source": [
    "print(f'{np.array(list(traces_is_cycle.values())).sum() / len(traces_is_cycle) * 100: .2f}% of all traces got cycles')"
   ]
  },
  {
   "cell_type": "markdown",
   "metadata": {},
   "source": [
    "Хотелось бы както это исправить"
   ]
  },
  {
   "cell_type": "code",
   "execution_count": null,
   "metadata": {},
   "outputs": [],
   "source": [
    "traces_num_cycles = {}\n",
    "for t_id in df_preprocessed['trace_id'].values:\n",
    "    _d = df[df['trace_id'] == t_id]\n",
    "    traces_num_cycles[t_id] = number_of_cycles(_d['activity'].values)"
   ]
  },
  {
   "cell_type": "code",
   "execution_count": null,
   "metadata": {},
   "outputs": [],
   "source": [
    "plt.scatter(np.array(list(traces_te_max.values())) / 3600 / 24, traces_num_cycles.values(), s=0.1)\n",
    "plt.xlabel('max $t_e, days$')\n",
    "plt.ylabel('number of cycles len 2 or 1 ')\n",
    "plt.title('Max te vs number of cycles')\n",
    "plt.show()"
   ]
  },
  {
   "cell_type": "code",
   "execution_count": null,
   "metadata": {},
   "outputs": [],
   "source": [
    "plt.scatter(list(traces_len.values()), traces_num_cycles.values(), s=0.2)\n",
    "plt.xlabel('length of trace')\n",
    "plt.ylabel('number of cycles, len 2 or 1 ')\n",
    "plt.title('Trace length vs number of cycles')\n",
    "plt.show()"
   ]
  },
  {
   "cell_type": "markdown",
   "metadata": {},
   "source": [
    "тоесть если есть цикл, то он занимает пол процесса. Ужс"
   ]
  }
 ],
 "metadata": {
  "kernelspec": {
   "display_name": "Python 3",
   "language": "python",
   "name": "python3"
  },
  "language_info": {
   "codemirror_mode": {
    "name": "ipython",
    "version": 3
   },
   "file_extension": ".py",
   "mimetype": "text/x-python",
   "name": "python",
   "nbconvert_exporter": "python",
   "pygments_lexer": "ipython3",
   "version": "3.6.8"
  }
 },
 "nbformat": 4,
 "nbformat_minor": 4
}
